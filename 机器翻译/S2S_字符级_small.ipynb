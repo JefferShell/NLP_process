{
 "cells": [
  {
   "cell_type": "code",
   "execution_count": 1,
   "id": "inner-condition",
   "metadata": {},
   "outputs": [],
   "source": [
    "import torch\n",
    "import torch.utils.data as da\n",
    "import torch.nn as nn\n",
    "import torch.optim as optim\n",
    "import jieba\n",
    "import argparse\n",
    "import matplotlib.pyplot as plt\n",
    "from collections import Counter\n",
    "import random\n",
    "import time\n",
    "from tqdm import tqdm\n",
    "import torch.nn.functional as F"
   ]
  },
  {
   "cell_type": "code",
   "execution_count": null,
   "id": "jewish-hundred",
   "metadata": {},
   "outputs": [],
   "source": [
    "#数据集小型中英数据集\n",
    "!wget http://www.manythings.org/anki/cmn-eng.zip\n",
    "!unzip -d ./cmn-eng cmn-eng.zip"
   ]
  },
  {
   "cell_type": "code",
   "execution_count": 2,
   "id": "alpha-tower",
   "metadata": {},
   "outputs": [
    {
     "data": {
      "text/plain": [
       "True"
      ]
     },
     "execution_count": 2,
     "metadata": {},
     "output_type": "execute_result"
    }
   ],
   "source": [
    "torch.cuda.is_available()"
   ]
  },
  {
   "cell_type": "code",
   "execution_count": 3,
   "id": "future-restoration",
   "metadata": {},
   "outputs": [],
   "source": [
    "device = torch.device(\"cuda:4\" if torch.cuda.is_available() else \"cpu\")\n",
    "parser = argparse.ArgumentParser()\n",
    "\n",
    "parser.add_argument('--en_path', type=str, default='data/news-commentary-v13.zh-en.en',\n",
    "                   help='英文数据集路径')\n",
    "parser.add_argument('--zh_path', type=str, default='data/news-commentary-v13.zh-en.zh',\n",
    "                   help='中文数据集路径')\n",
    "parser.add_argument('--seq_len', type=int, default=60,\n",
    "                   help='句子最大的长度，多则截断，少则补<unk>')\n",
    "parser.add_argument('--pad', type=str, default='<unk>',\n",
    "                   help='填充词')\n",
    "parser.add_argument('--batch_size',type=int,default=512,\n",
    "                   help='每轮批次')\n",
    "parser.add_argument('--en_embedding_dim',type=int,default=256,\n",
    "                   help='编码器词向量的长度')\n",
    "parser.add_argument('--en_hidden_dim',type=int,default=512,\n",
    "                   help='编码器深度')\n",
    "parser.add_argument('--en_n_layers',type=int,default=2,\n",
    "                   help='编码器LSTM的层数')\n",
    "parser.add_argument('--de_embedding_dim',type=int,default=256,\n",
    "                   help='解码器词向量的长度')\n",
    "parser.add_argument('--de_hidden_dim',type=int,default=512,\n",
    "                   help='解码器深度')\n",
    "parser.add_argument('--de_n_layers',type=int,default=2,\n",
    "                   help='解码器LSTM的层数')\n",
    "parser.add_argument('--dropout',type=int,default=0.5,\n",
    "                   help='droput')\n",
    "parser.add_argument('--lr',type=int,default=0.0001,\n",
    "                   help='学习率')\n",
    "parser.add_argument('--weight_decay',type=int,default=0.1,\n",
    "                   help='权重衰减/L2范式')\n",
    "parser.add_argument('--clip',type=int,default=1,\n",
    "                   help='梯度剪切')\n",
    "parser.add_argument('--epochs',type=int,default=200,\n",
    "                   help='训练轮数')\n",
    "parser.add_argument('--attention',type=bool,default=False,\n",
    "                   help='是否启用注意力机制')\n",
    "\n",
    "#kwargs = parser.parse_args()\n",
    "kwargs = parser.parse_known_args()[0]\n"
   ]
  },
  {
   "cell_type": "code",
   "execution_count": 4,
   "id": "antique-awareness",
   "metadata": {},
   "outputs": [],
   "source": [
    "# with open(kwargs.en_path, 'r') as f_en:\n",
    "#     data_en = f_en.readlines()\n",
    "# with open(kwargs.zh_path, 'r') as f_zh:\n",
    "#     data_zh = f_zh.readlines()"
   ]
  },
  {
   "cell_type": "code",
   "execution_count": 5,
   "id": "meaning-compound",
   "metadata": {},
   "outputs": [],
   "source": [
    "#用一个小数据集合先玩玩\n",
    "with open('./cmn-eng/cmn.txt', 'r', encoding='utf-8') as f:\n",
    "    data = f.read()\n",
    "data = data.strip()\n",
    "data = data.split('\\n')\n",
    "# 分割英文数据和中文数据\n",
    "data_en = [line.split('\\t')[0] for line in data]\n",
    "data_zh = [line.split('\\t')[1] for line in data]"
   ]
  },
  {
   "cell_type": "code",
   "execution_count": 6,
   "id": "roman-queen",
   "metadata": {},
   "outputs": [],
   "source": [
    "#特殊处理\n",
    "def data_process(text):\n",
    "    text = text.lower()\n",
    "    # 特殊数据处理，该地方可以各种替换缩略词等\n",
    "    # 去除标点等\n",
    "    return text"
   ]
  },
  {
   "cell_type": "code",
   "execution_count": 7,
   "id": "facial-heaven",
   "metadata": {},
   "outputs": [],
   "source": [
    "#对单句话进行分词\n",
    "def get_token_text(text_en,text_zh):\n",
    "    #简单的句子处理\n",
    "    text_en=text_en.replace('.',' .').replace('?',' ?').replace('!',' !').replace(',',' , ')\n",
    "    text_zh=text_zh.strip('\\n')\n",
    "    #英文以空格分割\n",
    "    token_data_en = [data_process(st) for st in text_en.split()]\n",
    "    #中文一般用jieba\n",
    "    token_data_zh = [data_process(st) for st in jieba.cut(text_zh)]\n",
    "    return [token_data_en,token_data_zh]"
   ]
  },
  {
   "cell_type": "code",
   "execution_count": 8,
   "id": "vocational-superior",
   "metadata": {},
   "outputs": [],
   "source": [
    "#对两个数据集的每句话进行分词\n",
    "def get_token_data(data_en,data_zh):\n",
    "    data_token_en = []\n",
    "    data_token_zh = []\n",
    "    for en,zh in zip(data_en,data_zh):\n",
    "        en,zh=get_token_text(en,zh)\n",
    "        data_token_en.append(en)\n",
    "        data_token_zh.append(zh)\n",
    "    return data_token_en,data_token_zh"
   ]
  },
  {
   "cell_type": "code",
   "execution_count": 9,
   "id": "bigger-polish",
   "metadata": {},
   "outputs": [],
   "source": [
    "def get_vocab(data):\n",
    "    data=[j for i in data for j in i]\n",
    "    top_1000 = Counter(data).most_common(100000)\n",
    "    vocab = {x[0]:x[1] for x in top_1000}\n",
    "    word_to_idx = {word: i + 4 for i, word in enumerate(vocab)}\n",
    "    word_to_idx['<pad>'] = 0\n",
    "    word_to_idx['<sos>'] = 1\n",
    "    word_to_idx['<eos>'] = 2\n",
    "    word_to_idx['<unk>'] = 3\n",
    "    idx_to_word = {i + 4: word for i, word in enumerate(vocab)}\n",
    "    idx_to_word[0] = '<pad>'\n",
    "    idx_to_word[1] = '<sos>'\n",
    "    idx_to_word[2] = '<eos>'\n",
    "    idx_to_word[3] = '<unk>'\n",
    "    vocab_size=len(idx_to_word)\n",
    "    return vocab, vocab_size, word_to_idx, idx_to_word"
   ]
  },
  {
   "cell_type": "code",
   "execution_count": 11,
   "id": "white-blood",
   "metadata": {},
   "outputs": [],
   "source": [
    "# 转化为索引\n",
    "def encode_st(token_data, word_to_idx):\n",
    "    features = []\n",
    "    for sample in token_data:\n",
    "        feature = []\n",
    "        feature.append(1)\n",
    "        for token in sample:\n",
    "            if token in word_to_idx:\n",
    "                feature.append(word_to_idx[token])\n",
    "            else:#如果是词库中不存在的，认为是<unk>，即0\n",
    "                feature.append(0)\n",
    "        feature.append(2)\n",
    "        features.append(feature)\n",
    "    \n",
    "    return features"
   ]
  },
  {
   "cell_type": "code",
   "execution_count": 12,
   "id": "personalized-block",
   "metadata": {},
   "outputs": [],
   "source": [
    "#此时为二维数组，每个数组是之前每句话的分词结果，词级别\n",
    "#en_data,zh_data=get_token_data(data_en,data_zh)\n",
    "#字符级\n",
    "en_data = [[char for char in line] for line in data_en]\n",
    "zh_data = [[char for char in line] for line in data_zh]"
   ]
  },
  {
   "cell_type": "code",
   "execution_count": 13,
   "id": "leading-guard",
   "metadata": {},
   "outputs": [
    {
     "name": "stdout",
     "output_type": "stream",
     "text": [
      "[['H', 'i', '.'], ['H', 'i', '.']] [['嗨', '。'], ['你', '好', '。']]\n"
     ]
    }
   ],
   "source": [
    "print(en_data[0:2],zh_data[0:2])"
   ]
  },
  {
   "cell_type": "code",
   "execution_count": 14,
   "id": "adult-thinking",
   "metadata": {},
   "outputs": [],
   "source": [
    "vocab_en,vocab_size_en, word_to_idx_en, idx_to_word_en=get_vocab(en_data)\n",
    "vocab_zh,vocab_size_zh, word_to_idx_zh, idx_to_word_zh=get_vocab(zh_data)\n"
   ]
  },
  {
   "cell_type": "code",
   "execution_count": 15,
   "id": "swedish-serial",
   "metadata": {},
   "outputs": [
    {
     "name": "stdout",
     "output_type": "stream",
     "text": [
      "79 3534\n"
     ]
    }
   ],
   "source": [
    "kwargs.vocab_size_en=vocab_size_en#记录vocab大小\n",
    "kwargs.vocab_size_zh=vocab_size_zh#记录vocab大小\n",
    "print(vocab_size_en,vocab_size_zh)"
   ]
  },
  {
   "cell_type": "code",
   "execution_count": 16,
   "id": "removable-cornell",
   "metadata": {},
   "outputs": [
    {
     "data": {
      "image/png": "[encoded data removed]",
      "text/plain": [
       "<Figure size 432x288 with 1 Axes>"
      ]
     },
     "metadata": {
      "needs_background": "light"
     },
     "output_type": "display_data"
    },
    {
     "data": {
      "image/png": "[encoded data removed]",
      "text/plain": [
       "<Figure size 432x288 with 1 Axes>"
      ]
     },
     "metadata": {
      "needs_background": "light"
     },
     "output_type": "display_data"
    }
   ],
   "source": [
    "#看一下预料的长度分布，然后选择一个合适的seq_len\n",
    "en_data_length=[]\n",
    "for i in en_data:\n",
    "    en_data_length.append(len(i))\n",
    "n, bins, patches = plt.hist(en_data_length, bins=10, edgecolor='None',facecolor='red') \n",
    "plt.show()\n",
    "zh_data_length=[]\n",
    "for i in zh_data:\n",
    "    zh_data_length.append(len(i))\n",
    "n, bins, patches = plt.hist(zh_data_length, bins=10, edgecolor='None',facecolor='red') \n",
    "plt.show()"
   ]
  },
  {
   "cell_type": "code",
   "execution_count": 17,
   "id": "wicked-cambodia",
   "metadata": {},
   "outputs": [
    {
     "name": "stdout",
     "output_type": "stream",
     "text": [
      "[2, 3, 5, 3, 4, 3, 3, 4, 4, 3]\n"
     ]
    }
   ],
   "source": [
    "print(zh_data_length[0:10])"
   ]
  },
  {
   "cell_type": "code",
   "execution_count": 18,
   "id": "generous-reputation",
   "metadata": {},
   "outputs": [],
   "source": [
    "en_data_id=encode_st((en_data),word_to_idx_en)\n",
    "zh_data_id=encode_st((zh_data),word_to_idx_zh)"
   ]
  },
  {
   "cell_type": "code",
   "execution_count": 19,
   "id": "maritime-ballet",
   "metadata": {},
   "outputs": [
    {
     "name": "stdout",
     "output_type": "stream",
     "text": [
      "[[1, 32, 10, 15, 2], [1, 32, 10, 15, 2], [1, 61, 17, 11, 15, 2]]\n"
     ]
    }
   ],
   "source": [
    "print(en_data_id[0:3])"
   ]
  },
  {
   "cell_type": "code",
   "execution_count": 20,
   "id": "infectious-oxford",
   "metadata": {},
   "outputs": [],
   "source": [
    "from torch.utils.data import Dataset, DataLoader\n",
    "class TranslationDataset(Dataset):\n",
    "    def __init__(self, src_data, trg_data):\n",
    "        self.src_data = src_data\n",
    "        self.trg_data = trg_data\n",
    "\n",
    "        assert len(src_data) == len(trg_data), \\\n",
    "            \"numbers of src_data  and trg_data must be equal!\"\n",
    "\n",
    "    def __len__(self):\n",
    "        return len(self.src_data)\n",
    "\n",
    "    def __getitem__(self, idx):\n",
    "        src_sample =self.src_data[idx]\n",
    "        src_len = len(self.src_data[idx])\n",
    "        trg_sample = self.trg_data[idx]\n",
    "        trg_len = len(self.trg_data[idx])\n",
    "        return {\"src\": src_sample, \"src_len\": src_len, \"trg\": trg_sample, \"trg_len\": trg_len}"
   ]
  },
  {
   "cell_type": "code",
   "execution_count": 21,
   "id": "boolean-vinyl",
   "metadata": {},
   "outputs": [],
   "source": [
    "def padding_batch(batch):\n",
    "    \"\"\"\n",
    "    input: -> list of dict\n",
    "        [{'src': [1, 2, 3], 'trg': [1, 2, 3]}, {'src': [1, 2, 2, 3], 'trg': [1, 2, 2, 3]}]\n",
    "    output: -> dict of tensor \n",
    "        {\n",
    "            \"src\": [[1, 2, 3, 0], [1, 2, 2, 3]].T\n",
    "            \"trg\": [[1, 2, 3, 0], [1, 2, 2, 3]].T\n",
    "        }\n",
    "    \"\"\"\n",
    "    src_lens = [d[\"src_len\"] for d in batch]\n",
    "    trg_lens = [d[\"trg_len\"] for d in batch]\n",
    "    \n",
    "    src_max = max([d[\"src_len\"] for d in batch])\n",
    "    trg_max = max([d[\"trg_len\"] for d in batch])\n",
    "    for d in batch:\n",
    "        word_to_idx_en\n",
    "        d[\"src\"].extend([word_to_idx_en[\"<pad>\"]]*(src_max-d[\"src_len\"]))\n",
    "        d[\"trg\"].extend([word_to_idx_zh[\"<pad>\"]]*(trg_max-d[\"trg_len\"]))\n",
    "    srcs = torch.tensor([pair[\"src\"] for pair in batch], dtype=torch.long, device=device)\n",
    "    trgs = torch.tensor([pair[\"trg\"] for pair in batch], dtype=torch.long, device=device)\n",
    "    \n",
    "    batch = {\"src\":srcs.T, \"src_len\":src_lens, \"trg\":trgs.T, \"trg_len\":trg_lens}\n",
    "    return batch"
   ]
  },
  {
   "cell_type": "code",
   "execution_count": 29,
   "id": "animated-banner",
   "metadata": {},
   "outputs": [],
   "source": [
    "# 数据集\n",
    "train_set = TranslationDataset(en_data_id, zh_data_id)\n",
    "train_iter = DataLoader(train_set, batch_size=kwargs.batch_size, collate_fn=padding_batch)"
   ]
  },
  {
   "cell_type": "code",
   "execution_count": 24,
   "id": "wanted-customs",
   "metadata": {},
   "outputs": [],
   "source": [
    "#开始模型部分\n",
    "class Encoder(nn.Module):\n",
    "    def __init__(self, args):\n",
    "        super().__init__()\n",
    "        self.input_dim = args.vocab_size_en\n",
    "        self.emb_dim = args.en_embedding_dim\n",
    "        self.hid_dim = args.en_hidden_dim\n",
    "        self.n_layers = args.en_n_layers\n",
    "        self.dropout = args.dropout\n",
    "        self.embedding = nn.Embedding(self.input_dim, self.emb_dim)   \n",
    "        self.rnn = nn.LSTM(input_size=self.emb_dim, hidden_size=self.hid_dim, num_layers=self.n_layers,\n",
    "                           dropout=self.dropout,bidirectional=True)\n",
    "\n",
    "        \n",
    "    def forward(self, x,input_lengths):\n",
    "        embedded = (self.embedding(x))\n",
    "        packed = torch.nn.utils.rnn.pack_padded_sequence(embedded, input_lengths, enforce_sorted=False)\n",
    "        outputs, (hidden, cell) = self.rnn(packed)\n",
    "        outputs, output_lengths = torch.nn.utils.rnn.pad_packed_sequence(sequence=outputs)\n",
    "        return outputs,hidden, cell\n",
    "class Decoder(nn.Module):\n",
    "    def __init__(self, args):\n",
    "        super().__init__()\n",
    "        self.emb_dim = args.de_embedding_dim\n",
    "        self.hid_dim = args.de_hidden_dim\n",
    "        self.output_dim = args.vocab_size_zh\n",
    "        self.n_layers = args.de_n_layers\n",
    "        self.dropout = args.dropout\n",
    "        self.embedding = nn.Embedding(self.output_dim, self.emb_dim)\n",
    "        self.rnn = nn.LSTM(input_size=self.emb_dim, hidden_size=self.hid_dim,num_layers= self.n_layers,\n",
    "                           dropout=self.dropout,bidirectional=True)\n",
    "        bidirectional=True\n",
    "        if bidirectional==True:\n",
    "            self.out = nn.Linear(self.hid_dim*2, self.output_dim)\n",
    "        else:\n",
    "            self.out = nn.Linear(self.hid_dim, self.output_dim)\n",
    "        self.dropout = nn.Dropout(self.dropout)\n",
    "        self.softmax = nn.LogSoftmax(dim=1)\n",
    "        \n",
    "    def forward(self, x, hidden, cell):\n",
    "        batch_size = x.size(0)\n",
    "        embedded = self.dropout(self.embedding(x).view(1, batch_size, -1))\n",
    "        output, (hidden, cell) = self.rnn(embedded, (hidden, cell))       \n",
    "        output = self.out(output.squeeze(0))\n",
    "        prediction = self.softmax(output)\n",
    "        return prediction, hidden, cell\n",
    "\n",
    "class Seq2Seq(nn.Module):\n",
    "    def __init__(self, args,device):\n",
    "        super().__init__()\n",
    "        self.attention=args.attention\n",
    "        self.encoder = Encoder(args)\n",
    "        if self.attention==True:\n",
    "            self.decoder = DecoderAtten(args)\n",
    "        else:\n",
    "            self.decoder = Decoder(args)\n",
    "        self.device = device\n",
    "        \n",
    "        assert self.encoder.hid_dim == self.decoder.hid_dim, \\\n",
    "            \"Hidden dimensions of encoder and decoder must be equal!\"\n",
    "        assert self.encoder.n_layers == self.decoder.n_layers, \\\n",
    "            \"Encoder and decoder must have equal number of layers!\"\n",
    "        \n",
    "    def forward(self, src, trg, src_length,trg_length,teacher_forcing_ratio = 0.5):\n",
    "        batch_size = trg.shape[1]\n",
    "        trg_vocab_size = self.decoder.output_dim\n",
    "        max_target_length = max(trg_length)\n",
    "        outputs = torch.zeros(max_target_length, batch_size, trg_vocab_size).to(self.device)\n",
    "        en_outputs,hidden, cell = self.encoder(src,src_length)   \n",
    "        #输入到Decoder网络的第一个字符是<sos>（句子开始标记）\n",
    "        de_input = trg[0]\n",
    "        \n",
    "        for t in range(max_target_length):\n",
    "            #注意前面的hidden、cell和后面的是不同的\n",
    "#             if self.attention==True:\n",
    "#                 output, hidden, cell = self.decoder(de_input, hidden, cell,en_outputs)\n",
    "#             else:\n",
    "#                 output, hidden, cell = self.decoder(de_input, hidden, cell)\n",
    "#             outputs[t] = output\n",
    "            use_teacher_forcing = True if random.random() < teacher_forcing_ratio else False\n",
    "            if use_teacher_forcing:\n",
    "                    # decoder_output = [batch, output_dim]\n",
    "                    # decoder_hidden = [n_layers*n_directions, batch, hid_dim]\n",
    "                    output, hidden, cell = self.decoder(de_input, hidden, cell)\n",
    "                    outputs[t] = output\n",
    "                    output = trg[t]  # 下一个输入来自训练数据\n",
    "            else:\n",
    "                    output, decoder_hidden, cell = self.decoder(de_input, hidden, cell)\n",
    "                    # [batch, 1]\n",
    "                    topv, topi = output.topk(1)\n",
    "                    outputs[t] = output\n",
    "                    output = topi.squeeze(1)  # \n",
    "        return outputs"
   ]
  },
  {
   "cell_type": "code",
   "execution_count": 31,
   "id": "hybrid-wilderness",
   "metadata": {},
   "outputs": [],
   "source": [
    "def train(args,device,model,train_iter):\n",
    "    moedel=model.to(device)\n",
    "    loss_function = nn.NLLLoss(ignore_index = 0)\n",
    "    #optimizer = optim.Adam(model.parameters(), lr=args.lr, weight_decay=args.weight_decay)\n",
    "    optimizer = optim.Adam(model.parameters(), lr=args.lr)\n",
    "    print(\"模型开始训练\")\n",
    "    for epoch in range(args.epochs):\n",
    "        start = time.time()\n",
    "        train_loss, train_acc = 0, 0\n",
    "        n= 0\n",
    "        model.train()\n",
    "        for i,(batch) in enumerate(tqdm(train_iter)):\n",
    "            n += 1\n",
    "            input_batchs = batch[\"src\"].to(device)\n",
    "            target_batchs = batch[\"trg\"].to(device)\n",
    "            # list\n",
    "            input_lens = batch[\"src_len\"]\n",
    "            target_lens = batch[\"trg_len\"]\n",
    "            optimizer.zero_grad()\n",
    "            output = model(input_batchs, target_batchs,input_lens,target_lens)\n",
    "            #print(output.is_contiguous(),trg.is_contiguous())\n",
    "#             output = output.contiguous().view(-1, output.shape[-1])\n",
    "#             target_batchs = target_batchs.contiguous().view(-1)\n",
    "            loss = loss_function(output.reshape(-1,output.shape[-1] ), target_batchs.reshape(-1))\n",
    "            loss.backward()\n",
    "            \n",
    "            torch.nn.utils.clip_grad_norm_(model.parameters(), args.clip)\n",
    "            optimizer.step()\n",
    "            train_loss += loss\n",
    "        end = time.time()\n",
    "        runtime = end - start\n",
    "        print(\n",
    "            'epoch: %d, train loss: %.4f,time: %.4f \\n' % (epoch, train_loss.data / n,runtime)\n",
    "        )"
   ]
  },
  {
   "cell_type": "code",
   "execution_count": 26,
   "id": "through-atmosphere",
   "metadata": {},
   "outputs": [
    {
     "name": "stdout",
     "output_type": "stream",
     "text": [
      "Seq2Seq(\n",
      "  (encoder): Encoder(\n",
      "    (embedding): Embedding(79, 256)\n",
      "    (rnn): LSTM(256, 512, num_layers=2, dropout=0.5, bidirectional=True)\n",
      "  )\n",
      "  (decoder): Decoder(\n",
      "    (embedding): Embedding(3534, 256)\n",
      "    (rnn): LSTM(256, 512, num_layers=2, dropout=0.5, bidirectional=True)\n",
      "    (out): Linear(in_features=1024, out_features=3534, bias=True)\n",
      "    (dropout): Dropout(p=0.5, inplace=False)\n",
      "    (softmax): LogSoftmax(dim=1)\n",
      "  )\n",
      ")\n"
     ]
    }
   ],
   "source": [
    "model=Seq2Seq(kwargs,device)\n",
    "print(model)"
   ]
  },
  {
   "cell_type": "code",
   "execution_count": 36,
   "id": "intelligent-singapore",
   "metadata": {},
   "outputs": [
    {
     "name": "stderr",
     "output_type": "stream",
     "text": [
      "\r",
      "  0%|          | 0/48 [00:00<?, ?it/s]"
     ]
    },
    {
     "name": "stdout",
     "output_type": "stream",
     "text": [
      "模型开始训练\n"
     ]
    },
    {
     "name": "stderr",
     "output_type": "stream",
     "text": [
      "100%|██████████| 48/48 [00:17<00:00,  2.68it/s]\n",
      "  0%|          | 0/48 [00:00<?, ?it/s]"
     ]
    },
    {
     "name": "stdout",
     "output_type": "stream",
     "text": [
      "epoch: 0, train loss: 0.6755,time: 17.9027 \n",
      "\n"
     ]
    },
    {
     "name": "stderr",
     "output_type": "stream",
     "text": [
      "100%|██████████| 48/48 [00:17<00:00,  2.70it/s]\n",
      "  0%|          | 0/48 [00:00<?, ?it/s]"
     ]
    },
    {
     "name": "stdout",
     "output_type": "stream",
     "text": [
      "epoch: 1, train loss: 0.6620,time: 17.8078 \n",
      "\n"
     ]
    },
    {
     "name": "stderr",
     "output_type": "stream",
     "text": [
      "100%|██████████| 48/48 [00:17<00:00,  2.70it/s]\n",
      "  0%|          | 0/48 [00:00<?, ?it/s]"
     ]
    },
    {
     "name": "stdout",
     "output_type": "stream",
     "text": [
      "epoch: 2, train loss: 0.6630,time: 17.7908 \n",
      "\n"
     ]
    },
    {
     "name": "stderr",
     "output_type": "stream",
     "text": [
      "100%|██████████| 48/48 [00:17<00:00,  2.70it/s]\n",
      "  0%|          | 0/48 [00:00<?, ?it/s]"
     ]
    },
    {
     "name": "stdout",
     "output_type": "stream",
     "text": [
      "epoch: 3, train loss: 0.6600,time: 17.7947 \n",
      "\n"
     ]
    },
    {
     "name": "stderr",
     "output_type": "stream",
     "text": [
      "100%|██████████| 48/48 [00:17<00:00,  2.68it/s]\n",
      "  0%|          | 0/48 [00:00<?, ?it/s]"
     ]
    },
    {
     "name": "stdout",
     "output_type": "stream",
     "text": [
      "epoch: 4, train loss: 0.6494,time: 17.9183 \n",
      "\n"
     ]
    },
    {
     "name": "stderr",
     "output_type": "stream",
     "text": [
      "100%|██████████| 48/48 [00:17<00:00,  2.68it/s]\n",
      "  0%|          | 0/48 [00:00<?, ?it/s]"
     ]
    },
    {
     "name": "stdout",
     "output_type": "stream",
     "text": [
      "epoch: 5, train loss: 0.6298,time: 17.9115 \n",
      "\n"
     ]
    },
    {
     "name": "stderr",
     "output_type": "stream",
     "text": [
      "100%|██████████| 48/48 [00:17<00:00,  2.68it/s]\n",
      "  0%|          | 0/48 [00:00<?, ?it/s]"
     ]
    },
    {
     "name": "stdout",
     "output_type": "stream",
     "text": [
      "epoch: 6, train loss: 0.6310,time: 17.9454 \n",
      "\n"
     ]
    },
    {
     "name": "stderr",
     "output_type": "stream",
     "text": [
      "100%|██████████| 48/48 [00:17<00:00,  2.69it/s]\n",
      "  0%|          | 0/48 [00:00<?, ?it/s]"
     ]
    },
    {
     "name": "stdout",
     "output_type": "stream",
     "text": [
      "epoch: 7, train loss: 0.6438,time: 17.8366 \n",
      "\n"
     ]
    },
    {
     "name": "stderr",
     "output_type": "stream",
     "text": [
      "100%|██████████| 48/48 [00:17<00:00,  2.69it/s]\n",
      "  0%|          | 0/48 [00:00<?, ?it/s]"
     ]
    },
    {
     "name": "stdout",
     "output_type": "stream",
     "text": [
      "epoch: 8, train loss: 0.6347,time: 17.8645 \n",
      "\n"
     ]
    },
    {
     "name": "stderr",
     "output_type": "stream",
     "text": [
      "100%|██████████| 48/48 [00:17<00:00,  2.67it/s]\n",
      "  0%|          | 0/48 [00:00<?, ?it/s]"
     ]
    },
    {
     "name": "stdout",
     "output_type": "stream",
     "text": [
      "epoch: 9, train loss: 0.6261,time: 17.9821 \n",
      "\n"
     ]
    },
    {
     "name": "stderr",
     "output_type": "stream",
     "text": [
      "100%|██████████| 48/48 [00:17<00:00,  2.69it/s]\n",
      "  0%|          | 0/48 [00:00<?, ?it/s]"
     ]
    },
    {
     "name": "stdout",
     "output_type": "stream",
     "text": [
      "epoch: 10, train loss: 0.6183,time: 17.8759 \n",
      "\n"
     ]
    },
    {
     "name": "stderr",
     "output_type": "stream",
     "text": [
      "100%|██████████| 48/48 [00:17<00:00,  2.68it/s]\n",
      "  0%|          | 0/48 [00:00<?, ?it/s]"
     ]
    },
    {
     "name": "stdout",
     "output_type": "stream",
     "text": [
      "epoch: 11, train loss: 0.6065,time: 17.9256 \n",
      "\n"
     ]
    },
    {
     "name": "stderr",
     "output_type": "stream",
     "text": [
      "100%|██████████| 48/48 [00:17<00:00,  2.69it/s]\n",
      "  0%|          | 0/48 [00:00<?, ?it/s]"
     ]
    },
    {
     "name": "stdout",
     "output_type": "stream",
     "text": [
      "epoch: 12, train loss: 0.6113,time: 17.8381 \n",
      "\n"
     ]
    },
    {
     "name": "stderr",
     "output_type": "stream",
     "text": [
      "100%|██████████| 48/48 [00:17<00:00,  2.68it/s]\n",
      "  0%|          | 0/48 [00:00<?, ?it/s]"
     ]
    },
    {
     "name": "stdout",
     "output_type": "stream",
     "text": [
      "epoch: 13, train loss: 0.6010,time: 17.9255 \n",
      "\n"
     ]
    },
    {
     "name": "stderr",
     "output_type": "stream",
     "text": [
      "100%|██████████| 48/48 [00:17<00:00,  2.67it/s]\n",
      "  0%|          | 0/48 [00:00<?, ?it/s]"
     ]
    },
    {
     "name": "stdout",
     "output_type": "stream",
     "text": [
      "epoch: 14, train loss: 0.6036,time: 17.9690 \n",
      "\n"
     ]
    },
    {
     "name": "stderr",
     "output_type": "stream",
     "text": [
      "100%|██████████| 48/48 [00:17<00:00,  2.68it/s]\n",
      "  0%|          | 0/48 [00:00<?, ?it/s]"
     ]
    },
    {
     "name": "stdout",
     "output_type": "stream",
     "text": [
      "epoch: 15, train loss: 0.5951,time: 17.9065 \n",
      "\n"
     ]
    },
    {
     "name": "stderr",
     "output_type": "stream",
     "text": [
      "100%|██████████| 48/48 [00:17<00:00,  2.69it/s]\n",
      "  0%|          | 0/48 [00:00<?, ?it/s]"
     ]
    },
    {
     "name": "stdout",
     "output_type": "stream",
     "text": [
      "epoch: 16, train loss: 0.5950,time: 17.8854 \n",
      "\n"
     ]
    },
    {
     "name": "stderr",
     "output_type": "stream",
     "text": [
      "100%|██████████| 48/48 [00:17<00:00,  2.70it/s]\n",
      "  0%|          | 0/48 [00:00<?, ?it/s]"
     ]
    },
    {
     "name": "stdout",
     "output_type": "stream",
     "text": [
      "epoch: 17, train loss: 0.5866,time: 17.8174 \n",
      "\n"
     ]
    },
    {
     "name": "stderr",
     "output_type": "stream",
     "text": [
      "100%|██████████| 48/48 [00:17<00:00,  2.69it/s]\n",
      "  0%|          | 0/48 [00:00<?, ?it/s]"
     ]
    },
    {
     "name": "stdout",
     "output_type": "stream",
     "text": [
      "epoch: 18, train loss: 0.5765,time: 17.8247 \n",
      "\n"
     ]
    },
    {
     "name": "stderr",
     "output_type": "stream",
     "text": [
      "100%|██████████| 48/48 [00:17<00:00,  2.68it/s]\n",
      "  0%|          | 0/48 [00:00<?, ?it/s]"
     ]
    },
    {
     "name": "stdout",
     "output_type": "stream",
     "text": [
      "epoch: 19, train loss: 0.5885,time: 17.9497 \n",
      "\n"
     ]
    },
    {
     "name": "stderr",
     "output_type": "stream",
     "text": [
      "100%|██████████| 48/48 [00:17<00:00,  2.67it/s]\n",
      "  0%|          | 0/48 [00:00<?, ?it/s]"
     ]
    },
    {
     "name": "stdout",
     "output_type": "stream",
     "text": [
      "epoch: 20, train loss: 0.5709,time: 18.0074 \n",
      "\n"
     ]
    },
    {
     "name": "stderr",
     "output_type": "stream",
     "text": [
      "100%|██████████| 48/48 [00:17<00:00,  2.68it/s]\n",
      "  0%|          | 0/48 [00:00<?, ?it/s]"
     ]
    },
    {
     "name": "stdout",
     "output_type": "stream",
     "text": [
      "epoch: 21, train loss: 0.5554,time: 17.9359 \n",
      "\n"
     ]
    },
    {
     "name": "stderr",
     "output_type": "stream",
     "text": [
      "100%|██████████| 48/48 [00:17<00:00,  2.71it/s]\n",
      "  0%|          | 0/48 [00:00<?, ?it/s]"
     ]
    },
    {
     "name": "stdout",
     "output_type": "stream",
     "text": [
      "epoch: 22, train loss: 0.5480,time: 17.7544 \n",
      "\n"
     ]
    },
    {
     "name": "stderr",
     "output_type": "stream",
     "text": [
      "100%|██████████| 48/48 [00:17<00:00,  2.69it/s]\n",
      "  0%|          | 0/48 [00:00<?, ?it/s]"
     ]
    },
    {
     "name": "stdout",
     "output_type": "stream",
     "text": [
      "epoch: 23, train loss: 0.5558,time: 17.8590 \n",
      "\n"
     ]
    },
    {
     "name": "stderr",
     "output_type": "stream",
     "text": [
      "100%|██████████| 48/48 [00:17<00:00,  2.68it/s]\n",
      "  0%|          | 0/48 [00:00<?, ?it/s]"
     ]
    },
    {
     "name": "stdout",
     "output_type": "stream",
     "text": [
      "epoch: 24, train loss: 0.5519,time: 17.8951 \n",
      "\n"
     ]
    },
    {
     "name": "stderr",
     "output_type": "stream",
     "text": [
      "100%|██████████| 48/48 [00:18<00:00,  2.66it/s]\n",
      "  0%|          | 0/48 [00:00<?, ?it/s]"
     ]
    },
    {
     "name": "stdout",
     "output_type": "stream",
     "text": [
      "epoch: 25, train loss: 0.5611,time: 18.0401 \n",
      "\n"
     ]
    },
    {
     "name": "stderr",
     "output_type": "stream",
     "text": [
      "100%|██████████| 48/48 [00:17<00:00,  2.68it/s]\n",
      "  0%|          | 0/48 [00:00<?, ?it/s]"
     ]
    },
    {
     "name": "stdout",
     "output_type": "stream",
     "text": [
      "epoch: 26, train loss: 0.5685,time: 17.9180 \n",
      "\n"
     ]
    },
    {
     "name": "stderr",
     "output_type": "stream",
     "text": [
      "100%|██████████| 48/48 [00:18<00:00,  2.66it/s]\n",
      "  0%|          | 0/48 [00:00<?, ?it/s]"
     ]
    },
    {
     "name": "stdout",
     "output_type": "stream",
     "text": [
      "epoch: 27, train loss: 0.5588,time: 18.0254 \n",
      "\n"
     ]
    },
    {
     "name": "stderr",
     "output_type": "stream",
     "text": [
      "100%|██████████| 48/48 [00:17<00:00,  2.67it/s]\n",
      "  0%|          | 0/48 [00:00<?, ?it/s]"
     ]
    },
    {
     "name": "stdout",
     "output_type": "stream",
     "text": [
      "epoch: 28, train loss: 0.5722,time: 17.9731 \n",
      "\n"
     ]
    },
    {
     "name": "stderr",
     "output_type": "stream",
     "text": [
      "100%|██████████| 48/48 [00:17<00:00,  2.69it/s]\n",
      "  0%|          | 0/48 [00:00<?, ?it/s]"
     ]
    },
    {
     "name": "stdout",
     "output_type": "stream",
     "text": [
      "epoch: 29, train loss: 0.5479,time: 17.8397 \n",
      "\n"
     ]
    },
    {
     "name": "stderr",
     "output_type": "stream",
     "text": [
      "100%|██████████| 48/48 [00:17<00:00,  2.69it/s]\n",
      "  0%|          | 0/48 [00:00<?, ?it/s]"
     ]
    },
    {
     "name": "stdout",
     "output_type": "stream",
     "text": [
      "epoch: 30, train loss: 0.5286,time: 17.8438 \n",
      "\n"
     ]
    },
    {
     "name": "stderr",
     "output_type": "stream",
     "text": [
      "100%|██████████| 48/48 [00:17<00:00,  2.68it/s]\n",
      "  0%|          | 0/48 [00:00<?, ?it/s]"
     ]
    },
    {
     "name": "stdout",
     "output_type": "stream",
     "text": [
      "epoch: 31, train loss: 0.5486,time: 17.9188 \n",
      "\n"
     ]
    },
    {
     "name": "stderr",
     "output_type": "stream",
     "text": [
      "100%|██████████| 48/48 [00:17<00:00,  2.68it/s]\n",
      "  0%|          | 0/48 [00:00<?, ?it/s]"
     ]
    },
    {
     "name": "stdout",
     "output_type": "stream",
     "text": [
      "epoch: 32, train loss: 0.5447,time: 17.9116 \n",
      "\n"
     ]
    },
    {
     "name": "stderr",
     "output_type": "stream",
     "text": [
      "100%|██████████| 48/48 [00:17<00:00,  2.68it/s]\n",
      "  0%|          | 0/48 [00:00<?, ?it/s]"
     ]
    },
    {
     "name": "stdout",
     "output_type": "stream",
     "text": [
      "epoch: 33, train loss: 0.5347,time: 17.9285 \n",
      "\n"
     ]
    },
    {
     "name": "stderr",
     "output_type": "stream",
     "text": [
      "100%|██████████| 48/48 [00:17<00:00,  2.68it/s]\n",
      "  0%|          | 0/48 [00:00<?, ?it/s]"
     ]
    },
    {
     "name": "stdout",
     "output_type": "stream",
     "text": [
      "epoch: 34, train loss: 0.5239,time: 17.9323 \n",
      "\n"
     ]
    },
    {
     "name": "stderr",
     "output_type": "stream",
     "text": [
      "100%|██████████| 48/48 [00:17<00:00,  2.68it/s]\n",
      "  0%|          | 0/48 [00:00<?, ?it/s]"
     ]
    },
    {
     "name": "stdout",
     "output_type": "stream",
     "text": [
      "epoch: 35, train loss: 0.5118,time: 17.9234 \n",
      "\n"
     ]
    },
    {
     "name": "stderr",
     "output_type": "stream",
     "text": [
      "100%|██████████| 48/48 [00:17<00:00,  2.68it/s]\n",
      "  0%|          | 0/48 [00:00<?, ?it/s]"
     ]
    },
    {
     "name": "stdout",
     "output_type": "stream",
     "text": [
      "epoch: 36, train loss: 0.5214,time: 17.8931 \n",
      "\n"
     ]
    },
    {
     "name": "stderr",
     "output_type": "stream",
     "text": [
      "100%|██████████| 48/48 [00:17<00:00,  2.67it/s]\n",
      "  0%|          | 0/48 [00:00<?, ?it/s]"
     ]
    },
    {
     "name": "stdout",
     "output_type": "stream",
     "text": [
      "epoch: 37, train loss: 0.5143,time: 17.9696 \n",
      "\n"
     ]
    },
    {
     "name": "stderr",
     "output_type": "stream",
     "text": [
      "100%|██████████| 48/48 [00:17<00:00,  2.67it/s]\n",
      "  0%|          | 0/48 [00:00<?, ?it/s]"
     ]
    },
    {
     "name": "stdout",
     "output_type": "stream",
     "text": [
      "epoch: 38, train loss: 0.5243,time: 17.9760 \n",
      "\n"
     ]
    },
    {
     "name": "stderr",
     "output_type": "stream",
     "text": [
      "100%|██████████| 48/48 [00:17<00:00,  2.67it/s]\n",
      "  0%|          | 0/48 [00:00<?, ?it/s]"
     ]
    },
    {
     "name": "stdout",
     "output_type": "stream",
     "text": [
      "epoch: 39, train loss: 0.5486,time: 17.9857 \n",
      "\n"
     ]
    },
    {
     "name": "stderr",
     "output_type": "stream",
     "text": [
      "100%|██████████| 48/48 [00:17<00:00,  2.67it/s]\n",
      "  0%|          | 0/48 [00:00<?, ?it/s]"
     ]
    },
    {
     "name": "stdout",
     "output_type": "stream",
     "text": [
      "epoch: 40, train loss: 0.5548,time: 17.9983 \n",
      "\n"
     ]
    },
    {
     "name": "stderr",
     "output_type": "stream",
     "text": [
      "100%|██████████| 48/48 [00:18<00:00,  2.66it/s]\n",
      "  0%|          | 0/48 [00:00<?, ?it/s]"
     ]
    },
    {
     "name": "stdout",
     "output_type": "stream",
     "text": [
      "epoch: 41, train loss: 0.5563,time: 18.0473 \n",
      "\n"
     ]
    },
    {
     "name": "stderr",
     "output_type": "stream",
     "text": [
      "100%|██████████| 48/48 [00:17<00:00,  2.67it/s]\n",
      "  0%|          | 0/48 [00:00<?, ?it/s]"
     ]
    },
    {
     "name": "stdout",
     "output_type": "stream",
     "text": [
      "epoch: 42, train loss: 0.6113,time: 17.9870 \n",
      "\n"
     ]
    },
    {
     "name": "stderr",
     "output_type": "stream",
     "text": [
      "100%|██████████| 48/48 [00:18<00:00,  2.67it/s]\n",
      "  0%|          | 0/48 [00:00<?, ?it/s]"
     ]
    },
    {
     "name": "stdout",
     "output_type": "stream",
     "text": [
      "epoch: 43, train loss: 0.6346,time: 18.0128 \n",
      "\n"
     ]
    },
    {
     "name": "stderr",
     "output_type": "stream",
     "text": [
      "100%|██████████| 48/48 [00:17<00:00,  2.67it/s]\n",
      "  0%|          | 0/48 [00:00<?, ?it/s]"
     ]
    },
    {
     "name": "stdout",
     "output_type": "stream",
     "text": [
      "epoch: 44, train loss: 0.6237,time: 17.9965 \n",
      "\n"
     ]
    },
    {
     "name": "stderr",
     "output_type": "stream",
     "text": [
      "100%|██████████| 48/48 [00:17<00:00,  2.67it/s]\n",
      "  0%|          | 0/48 [00:00<?, ?it/s]"
     ]
    },
    {
     "name": "stdout",
     "output_type": "stream",
     "text": [
      "epoch: 45, train loss: 0.6108,time: 17.9776 \n",
      "\n"
     ]
    },
    {
     "name": "stderr",
     "output_type": "stream",
     "text": [
      "100%|██████████| 48/48 [00:17<00:00,  2.67it/s]\n",
      "  0%|          | 0/48 [00:00<?, ?it/s]"
     ]
    },
    {
     "name": "stdout",
     "output_type": "stream",
     "text": [
      "epoch: 46, train loss: 0.5568,time: 17.9745 \n",
      "\n"
     ]
    },
    {
     "name": "stderr",
     "output_type": "stream",
     "text": [
      "100%|██████████| 48/48 [00:17<00:00,  2.68it/s]\n",
      "  0%|          | 0/48 [00:00<?, ?it/s]"
     ]
    },
    {
     "name": "stdout",
     "output_type": "stream",
     "text": [
      "epoch: 47, train loss: 0.5406,time: 17.9509 \n",
      "\n"
     ]
    },
    {
     "name": "stderr",
     "output_type": "stream",
     "text": [
      "100%|██████████| 48/48 [00:17<00:00,  2.68it/s]\n",
      "  0%|          | 0/48 [00:00<?, ?it/s]"
     ]
    },
    {
     "name": "stdout",
     "output_type": "stream",
     "text": [
      "epoch: 48, train loss: 0.5292,time: 17.9492 \n",
      "\n"
     ]
    },
    {
     "name": "stderr",
     "output_type": "stream",
     "text": [
      "100%|██████████| 48/48 [00:17<00:00,  2.68it/s]\n",
      "  0%|          | 0/48 [00:00<?, ?it/s]"
     ]
    },
    {
     "name": "stdout",
     "output_type": "stream",
     "text": [
      "epoch: 49, train loss: 0.4966,time: 17.9250 \n",
      "\n"
     ]
    },
    {
     "name": "stderr",
     "output_type": "stream",
     "text": [
      "100%|██████████| 48/48 [00:17<00:00,  2.68it/s]\n",
      "  0%|          | 0/48 [00:00<?, ?it/s]"
     ]
    },
    {
     "name": "stdout",
     "output_type": "stream",
     "text": [
      "epoch: 50, train loss: 0.5139,time: 17.9107 \n",
      "\n"
     ]
    },
    {
     "name": "stderr",
     "output_type": "stream",
     "text": [
      "100%|██████████| 48/48 [00:17<00:00,  2.68it/s]\n",
      "  0%|          | 0/48 [00:00<?, ?it/s]"
     ]
    },
    {
     "name": "stdout",
     "output_type": "stream",
     "text": [
      "epoch: 51, train loss: 0.5050,time: 17.9020 \n",
      "\n"
     ]
    },
    {
     "name": "stderr",
     "output_type": "stream",
     "text": [
      "100%|██████████| 48/48 [00:17<00:00,  2.67it/s]\n",
      "  0%|          | 0/48 [00:00<?, ?it/s]"
     ]
    },
    {
     "name": "stdout",
     "output_type": "stream",
     "text": [
      "epoch: 52, train loss: 0.5094,time: 17.9950 \n",
      "\n"
     ]
    },
    {
     "name": "stderr",
     "output_type": "stream",
     "text": [
      "100%|██████████| 48/48 [00:17<00:00,  2.67it/s]\n",
      "  0%|          | 0/48 [00:00<?, ?it/s]"
     ]
    },
    {
     "name": "stdout",
     "output_type": "stream",
     "text": [
      "epoch: 53, train loss: 0.5132,time: 18.0014 \n",
      "\n"
     ]
    },
    {
     "name": "stderr",
     "output_type": "stream",
     "text": [
      "100%|██████████| 48/48 [00:17<00:00,  2.68it/s]\n",
      "  0%|          | 0/48 [00:00<?, ?it/s]"
     ]
    },
    {
     "name": "stdout",
     "output_type": "stream",
     "text": [
      "epoch: 54, train loss: 0.5247,time: 17.9242 \n",
      "\n"
     ]
    },
    {
     "name": "stderr",
     "output_type": "stream",
     "text": [
      "100%|██████████| 48/48 [00:17<00:00,  2.67it/s]\n",
      "  0%|          | 0/48 [00:00<?, ?it/s]"
     ]
    },
    {
     "name": "stdout",
     "output_type": "stream",
     "text": [
      "epoch: 55, train loss: 0.5116,time: 17.9625 \n",
      "\n"
     ]
    },
    {
     "name": "stderr",
     "output_type": "stream",
     "text": [
      "100%|██████████| 48/48 [00:17<00:00,  2.67it/s]\n",
      "  0%|          | 0/48 [00:00<?, ?it/s]"
     ]
    },
    {
     "name": "stdout",
     "output_type": "stream",
     "text": [
      "epoch: 56, train loss: 0.5172,time: 17.9694 \n",
      "\n"
     ]
    },
    {
     "name": "stderr",
     "output_type": "stream",
     "text": [
      "100%|██████████| 48/48 [00:17<00:00,  2.67it/s]\n",
      "  0%|          | 0/48 [00:00<?, ?it/s]"
     ]
    },
    {
     "name": "stdout",
     "output_type": "stream",
     "text": [
      "epoch: 57, train loss: 0.5036,time: 17.9695 \n",
      "\n"
     ]
    },
    {
     "name": "stderr",
     "output_type": "stream",
     "text": [
      "100%|██████████| 48/48 [00:17<00:00,  2.67it/s]\n",
      "  0%|          | 0/48 [00:00<?, ?it/s]"
     ]
    },
    {
     "name": "stdout",
     "output_type": "stream",
     "text": [
      "epoch: 58, train loss: 0.5171,time: 17.9888 \n",
      "\n"
     ]
    },
    {
     "name": "stderr",
     "output_type": "stream",
     "text": [
      "100%|██████████| 48/48 [00:17<00:00,  2.68it/s]\n",
      "  0%|          | 0/48 [00:00<?, ?it/s]"
     ]
    },
    {
     "name": "stdout",
     "output_type": "stream",
     "text": [
      "epoch: 59, train loss: 0.5025,time: 17.8976 \n",
      "\n"
     ]
    },
    {
     "name": "stderr",
     "output_type": "stream",
     "text": [
      "100%|██████████| 48/48 [00:17<00:00,  2.67it/s]\n",
      "  0%|          | 0/48 [00:00<?, ?it/s]"
     ]
    },
    {
     "name": "stdout",
     "output_type": "stream",
     "text": [
      "epoch: 60, train loss: 0.5284,time: 17.9569 \n",
      "\n"
     ]
    },
    {
     "name": "stderr",
     "output_type": "stream",
     "text": [
      "100%|██████████| 48/48 [00:17<00:00,  2.68it/s]\n",
      "  0%|          | 0/48 [00:00<?, ?it/s]"
     ]
    },
    {
     "name": "stdout",
     "output_type": "stream",
     "text": [
      "epoch: 61, train loss: 0.5352,time: 17.9088 \n",
      "\n"
     ]
    },
    {
     "name": "stderr",
     "output_type": "stream",
     "text": [
      "100%|██████████| 48/48 [00:17<00:00,  2.67it/s]\n",
      "  0%|          | 0/48 [00:00<?, ?it/s]"
     ]
    },
    {
     "name": "stdout",
     "output_type": "stream",
     "text": [
      "epoch: 62, train loss: 0.5045,time: 17.9632 \n",
      "\n"
     ]
    },
    {
     "name": "stderr",
     "output_type": "stream",
     "text": [
      "100%|██████████| 48/48 [00:17<00:00,  2.67it/s]\n",
      "  0%|          | 0/48 [00:00<?, ?it/s]"
     ]
    },
    {
     "name": "stdout",
     "output_type": "stream",
     "text": [
      "epoch: 63, train loss: 0.5000,time: 17.9865 \n",
      "\n"
     ]
    },
    {
     "name": "stderr",
     "output_type": "stream",
     "text": [
      "100%|██████████| 48/48 [00:17<00:00,  2.68it/s]\n",
      "  0%|          | 0/48 [00:00<?, ?it/s]"
     ]
    },
    {
     "name": "stdout",
     "output_type": "stream",
     "text": [
      "epoch: 64, train loss: 0.4799,time: 17.9165 \n",
      "\n"
     ]
    },
    {
     "name": "stderr",
     "output_type": "stream",
     "text": [
      "100%|██████████| 48/48 [00:17<00:00,  2.68it/s]\n",
      "  0%|          | 0/48 [00:00<?, ?it/s]"
     ]
    },
    {
     "name": "stdout",
     "output_type": "stream",
     "text": [
      "epoch: 65, train loss: 0.4896,time: 17.9043 \n",
      "\n"
     ]
    },
    {
     "name": "stderr",
     "output_type": "stream",
     "text": [
      "100%|██████████| 48/48 [00:17<00:00,  2.68it/s]\n",
      "  0%|          | 0/48 [00:00<?, ?it/s]"
     ]
    },
    {
     "name": "stdout",
     "output_type": "stream",
     "text": [
      "epoch: 66, train loss: 0.4953,time: 17.9530 \n",
      "\n"
     ]
    },
    {
     "name": "stderr",
     "output_type": "stream",
     "text": [
      "100%|██████████| 48/48 [00:17<00:00,  2.67it/s]\n",
      "  0%|          | 0/48 [00:00<?, ?it/s]"
     ]
    },
    {
     "name": "stdout",
     "output_type": "stream",
     "text": [
      "epoch: 67, train loss: 0.4722,time: 17.9700 \n",
      "\n"
     ]
    },
    {
     "name": "stderr",
     "output_type": "stream",
     "text": [
      "100%|██████████| 48/48 [00:18<00:00,  2.66it/s]\n",
      "  0%|          | 0/48 [00:00<?, ?it/s]"
     ]
    },
    {
     "name": "stdout",
     "output_type": "stream",
     "text": [
      "epoch: 68, train loss: 0.4814,time: 18.0619 \n",
      "\n"
     ]
    },
    {
     "name": "stderr",
     "output_type": "stream",
     "text": [
      "100%|██████████| 48/48 [00:18<00:00,  2.66it/s]\n",
      "  0%|          | 0/48 [00:00<?, ?it/s]"
     ]
    },
    {
     "name": "stdout",
     "output_type": "stream",
     "text": [
      "epoch: 69, train loss: 0.5047,time: 18.0512 \n",
      "\n"
     ]
    },
    {
     "name": "stderr",
     "output_type": "stream",
     "text": [
      "100%|██████████| 48/48 [00:17<00:00,  2.67it/s]\n",
      "  0%|          | 0/48 [00:00<?, ?it/s]"
     ]
    },
    {
     "name": "stdout",
     "output_type": "stream",
     "text": [
      "epoch: 70, train loss: 0.4920,time: 17.9754 \n",
      "\n"
     ]
    },
    {
     "name": "stderr",
     "output_type": "stream",
     "text": [
      "100%|██████████| 48/48 [00:17<00:00,  2.67it/s]\n",
      "  0%|          | 0/48 [00:00<?, ?it/s]"
     ]
    },
    {
     "name": "stdout",
     "output_type": "stream",
     "text": [
      "epoch: 71, train loss: 0.4723,time: 17.9575 \n",
      "\n"
     ]
    },
    {
     "name": "stderr",
     "output_type": "stream",
     "text": [
      "100%|██████████| 48/48 [00:17<00:00,  2.68it/s]\n",
      "  0%|          | 0/48 [00:00<?, ?it/s]"
     ]
    },
    {
     "name": "stdout",
     "output_type": "stream",
     "text": [
      "epoch: 72, train loss: 0.4664,time: 17.9538 \n",
      "\n"
     ]
    },
    {
     "name": "stderr",
     "output_type": "stream",
     "text": [
      "100%|██████████| 48/48 [00:17<00:00,  2.69it/s]\n",
      "  0%|          | 0/48 [00:00<?, ?it/s]"
     ]
    },
    {
     "name": "stdout",
     "output_type": "stream",
     "text": [
      "epoch: 73, train loss: 0.4528,time: 17.8805 \n",
      "\n"
     ]
    },
    {
     "name": "stderr",
     "output_type": "stream",
     "text": [
      "100%|██████████| 48/48 [00:17<00:00,  2.68it/s]\n",
      "  0%|          | 0/48 [00:00<?, ?it/s]"
     ]
    },
    {
     "name": "stdout",
     "output_type": "stream",
     "text": [
      "epoch: 74, train loss: 0.4679,time: 17.8878 \n",
      "\n"
     ]
    },
    {
     "name": "stderr",
     "output_type": "stream",
     "text": [
      "100%|██████████| 48/48 [00:17<00:00,  2.67it/s]\n",
      "  0%|          | 0/48 [00:00<?, ?it/s]"
     ]
    },
    {
     "name": "stdout",
     "output_type": "stream",
     "text": [
      "epoch: 75, train loss: 0.4524,time: 17.9793 \n",
      "\n"
     ]
    },
    {
     "name": "stderr",
     "output_type": "stream",
     "text": [
      "100%|██████████| 48/48 [00:17<00:00,  2.67it/s]\n",
      "  0%|          | 0/48 [00:00<?, ?it/s]"
     ]
    },
    {
     "name": "stdout",
     "output_type": "stream",
     "text": [
      "epoch: 76, train loss: 0.4689,time: 17.9927 \n",
      "\n"
     ]
    },
    {
     "name": "stderr",
     "output_type": "stream",
     "text": [
      "100%|██████████| 48/48 [00:17<00:00,  2.67it/s]\n",
      "  0%|          | 0/48 [00:00<?, ?it/s]"
     ]
    },
    {
     "name": "stdout",
     "output_type": "stream",
     "text": [
      "epoch: 77, train loss: 0.5075,time: 17.9835 \n",
      "\n"
     ]
    },
    {
     "name": "stderr",
     "output_type": "stream",
     "text": [
      "100%|██████████| 48/48 [00:17<00:00,  2.68it/s]\n",
      "  0%|          | 0/48 [00:00<?, ?it/s]"
     ]
    },
    {
     "name": "stdout",
     "output_type": "stream",
     "text": [
      "epoch: 78, train loss: 0.4659,time: 17.9139 \n",
      "\n"
     ]
    },
    {
     "name": "stderr",
     "output_type": "stream",
     "text": [
      "100%|██████████| 48/48 [00:17<00:00,  2.68it/s]\n",
      "  0%|          | 0/48 [00:00<?, ?it/s]"
     ]
    },
    {
     "name": "stdout",
     "output_type": "stream",
     "text": [
      "epoch: 79, train loss: 0.4558,time: 17.9435 \n",
      "\n"
     ]
    },
    {
     "name": "stderr",
     "output_type": "stream",
     "text": [
      "100%|██████████| 48/48 [00:17<00:00,  2.67it/s]\n",
      "  0%|          | 0/48 [00:00<?, ?it/s]"
     ]
    },
    {
     "name": "stdout",
     "output_type": "stream",
     "text": [
      "epoch: 80, train loss: 0.4600,time: 17.9565 \n",
      "\n"
     ]
    },
    {
     "name": "stderr",
     "output_type": "stream",
     "text": [
      "100%|██████████| 48/48 [00:17<00:00,  2.69it/s]\n",
      "  0%|          | 0/48 [00:00<?, ?it/s]"
     ]
    },
    {
     "name": "stdout",
     "output_type": "stream",
     "text": [
      "epoch: 81, train loss: 0.4507,time: 17.8282 \n",
      "\n"
     ]
    },
    {
     "name": "stderr",
     "output_type": "stream",
     "text": [
      "100%|██████████| 48/48 [00:18<00:00,  2.65it/s]\n",
      "  0%|          | 0/48 [00:00<?, ?it/s]"
     ]
    },
    {
     "name": "stdout",
     "output_type": "stream",
     "text": [
      "epoch: 82, train loss: 0.4421,time: 18.1163 \n",
      "\n"
     ]
    },
    {
     "name": "stderr",
     "output_type": "stream",
     "text": [
      "100%|██████████| 48/48 [00:17<00:00,  2.67it/s]\n",
      "  0%|          | 0/48 [00:00<?, ?it/s]"
     ]
    },
    {
     "name": "stdout",
     "output_type": "stream",
     "text": [
      "epoch: 83, train loss: 0.4646,time: 17.9911 \n",
      "\n"
     ]
    },
    {
     "name": "stderr",
     "output_type": "stream",
     "text": [
      "100%|██████████| 48/48 [00:17<00:00,  2.67it/s]\n",
      "  0%|          | 0/48 [00:00<?, ?it/s]"
     ]
    },
    {
     "name": "stdout",
     "output_type": "stream",
     "text": [
      "epoch: 84, train loss: 0.4477,time: 18.0076 \n",
      "\n"
     ]
    },
    {
     "name": "stderr",
     "output_type": "stream",
     "text": [
      "100%|██████████| 48/48 [00:17<00:00,  2.67it/s]\n",
      "  0%|          | 0/48 [00:00<?, ?it/s]"
     ]
    },
    {
     "name": "stdout",
     "output_type": "stream",
     "text": [
      "epoch: 85, train loss: 0.4564,time: 18.0020 \n",
      "\n"
     ]
    },
    {
     "name": "stderr",
     "output_type": "stream",
     "text": [
      "100%|██████████| 48/48 [00:18<00:00,  2.66it/s]\n",
      "  0%|          | 0/48 [00:00<?, ?it/s]"
     ]
    },
    {
     "name": "stdout",
     "output_type": "stream",
     "text": [
      "epoch: 86, train loss: 0.4617,time: 18.0254 \n",
      "\n"
     ]
    },
    {
     "name": "stderr",
     "output_type": "stream",
     "text": [
      "100%|██████████| 48/48 [00:17<00:00,  2.67it/s]\n",
      "  0%|          | 0/48 [00:00<?, ?it/s]"
     ]
    },
    {
     "name": "stdout",
     "output_type": "stream",
     "text": [
      "epoch: 87, train loss: 0.4462,time: 17.9619 \n",
      "\n"
     ]
    },
    {
     "name": "stderr",
     "output_type": "stream",
     "text": [
      "100%|██████████| 48/48 [00:17<00:00,  2.67it/s]\n",
      "  0%|          | 0/48 [00:00<?, ?it/s]"
     ]
    },
    {
     "name": "stdout",
     "output_type": "stream",
     "text": [
      "epoch: 88, train loss: 0.4601,time: 17.9723 \n",
      "\n"
     ]
    },
    {
     "name": "stderr",
     "output_type": "stream",
     "text": [
      "100%|██████████| 48/48 [00:18<00:00,  2.66it/s]\n",
      "  0%|          | 0/48 [00:00<?, ?it/s]"
     ]
    },
    {
     "name": "stdout",
     "output_type": "stream",
     "text": [
      "epoch: 89, train loss: 0.4652,time: 18.0759 \n",
      "\n"
     ]
    },
    {
     "name": "stderr",
     "output_type": "stream",
     "text": [
      "100%|██████████| 48/48 [00:17<00:00,  2.68it/s]\n",
      "  0%|          | 0/48 [00:00<?, ?it/s]"
     ]
    },
    {
     "name": "stdout",
     "output_type": "stream",
     "text": [
      "epoch: 90, train loss: 0.4705,time: 17.9397 \n",
      "\n"
     ]
    },
    {
     "name": "stderr",
     "output_type": "stream",
     "text": [
      "100%|██████████| 48/48 [00:18<00:00,  2.67it/s]\n",
      "  0%|          | 0/48 [00:00<?, ?it/s]"
     ]
    },
    {
     "name": "stdout",
     "output_type": "stream",
     "text": [
      "epoch: 91, train loss: 0.4613,time: 18.0220 \n",
      "\n"
     ]
    },
    {
     "name": "stderr",
     "output_type": "stream",
     "text": [
      "100%|██████████| 48/48 [00:17<00:00,  2.67it/s]\n",
      "  0%|          | 0/48 [00:00<?, ?it/s]"
     ]
    },
    {
     "name": "stdout",
     "output_type": "stream",
     "text": [
      "epoch: 92, train loss: 0.4333,time: 17.9882 \n",
      "\n"
     ]
    },
    {
     "name": "stderr",
     "output_type": "stream",
     "text": [
      "100%|██████████| 48/48 [00:17<00:00,  2.67it/s]\n",
      "  0%|          | 0/48 [00:00<?, ?it/s]"
     ]
    },
    {
     "name": "stdout",
     "output_type": "stream",
     "text": [
      "epoch: 93, train loss: 0.4700,time: 17.9922 \n",
      "\n"
     ]
    },
    {
     "name": "stderr",
     "output_type": "stream",
     "text": [
      "100%|██████████| 48/48 [00:17<00:00,  2.69it/s]\n",
      "  0%|          | 0/48 [00:00<?, ?it/s]"
     ]
    },
    {
     "name": "stdout",
     "output_type": "stream",
     "text": [
      "epoch: 94, train loss: 0.4706,time: 17.8502 \n",
      "\n"
     ]
    },
    {
     "name": "stderr",
     "output_type": "stream",
     "text": [
      "100%|██████████| 48/48 [00:17<00:00,  2.69it/s]\n",
      "  0%|          | 0/48 [00:00<?, ?it/s]"
     ]
    },
    {
     "name": "stdout",
     "output_type": "stream",
     "text": [
      "epoch: 95, train loss: 0.4515,time: 17.8246 \n",
      "\n"
     ]
    },
    {
     "name": "stderr",
     "output_type": "stream",
     "text": [
      "100%|██████████| 48/48 [00:17<00:00,  2.68it/s]\n",
      "  0%|          | 0/48 [00:00<?, ?it/s]"
     ]
    },
    {
     "name": "stdout",
     "output_type": "stream",
     "text": [
      "epoch: 96, train loss: 0.4442,time: 17.9390 \n",
      "\n"
     ]
    },
    {
     "name": "stderr",
     "output_type": "stream",
     "text": [
      "100%|██████████| 48/48 [00:17<00:00,  2.68it/s]\n",
      "  0%|          | 0/48 [00:00<?, ?it/s]"
     ]
    },
    {
     "name": "stdout",
     "output_type": "stream",
     "text": [
      "epoch: 97, train loss: 0.4503,time: 17.9044 \n",
      "\n"
     ]
    },
    {
     "name": "stderr",
     "output_type": "stream",
     "text": [
      "100%|██████████| 48/48 [00:18<00:00,  2.66it/s]\n",
      "  0%|          | 0/48 [00:00<?, ?it/s]"
     ]
    },
    {
     "name": "stdout",
     "output_type": "stream",
     "text": [
      "epoch: 98, train loss: 0.4301,time: 18.0237 \n",
      "\n"
     ]
    },
    {
     "name": "stderr",
     "output_type": "stream",
     "text": [
      "100%|██████████| 48/48 [00:17<00:00,  2.69it/s]\n",
      "  0%|          | 0/48 [00:00<?, ?it/s]"
     ]
    },
    {
     "name": "stdout",
     "output_type": "stream",
     "text": [
      "epoch: 99, train loss: 0.4321,time: 17.8404 \n",
      "\n"
     ]
    },
    {
     "name": "stderr",
     "output_type": "stream",
     "text": [
      "100%|██████████| 48/48 [00:17<00:00,  2.68it/s]\n",
      "  0%|          | 0/48 [00:00<?, ?it/s]"
     ]
    },
    {
     "name": "stdout",
     "output_type": "stream",
     "text": [
      "epoch: 100, train loss: 0.4182,time: 17.9142 \n",
      "\n"
     ]
    },
    {
     "name": "stderr",
     "output_type": "stream",
     "text": [
      "100%|██████████| 48/48 [00:17<00:00,  2.67it/s]\n",
      "  0%|          | 0/48 [00:00<?, ?it/s]"
     ]
    },
    {
     "name": "stdout",
     "output_type": "stream",
     "text": [
      "epoch: 101, train loss: 0.4110,time: 17.9612 \n",
      "\n"
     ]
    },
    {
     "name": "stderr",
     "output_type": "stream",
     "text": [
      "100%|██████████| 48/48 [00:17<00:00,  2.68it/s]\n",
      "  0%|          | 0/48 [00:00<?, ?it/s]"
     ]
    },
    {
     "name": "stdout",
     "output_type": "stream",
     "text": [
      "epoch: 102, train loss: 0.4264,time: 17.9218 \n",
      "\n"
     ]
    },
    {
     "name": "stderr",
     "output_type": "stream",
     "text": [
      "100%|██████████| 48/48 [00:17<00:00,  2.67it/s]\n",
      "  0%|          | 0/48 [00:00<?, ?it/s]"
     ]
    },
    {
     "name": "stdout",
     "output_type": "stream",
     "text": [
      "epoch: 103, train loss: 0.4100,time: 17.9805 \n",
      "\n"
     ]
    },
    {
     "name": "stderr",
     "output_type": "stream",
     "text": [
      "100%|██████████| 48/48 [00:17<00:00,  2.70it/s]\n",
      "  0%|          | 0/48 [00:00<?, ?it/s]"
     ]
    },
    {
     "name": "stdout",
     "output_type": "stream",
     "text": [
      "epoch: 104, train loss: 0.4096,time: 17.8186 \n",
      "\n"
     ]
    },
    {
     "name": "stderr",
     "output_type": "stream",
     "text": [
      "100%|██████████| 48/48 [00:17<00:00,  2.67it/s]\n",
      "  0%|          | 0/48 [00:00<?, ?it/s]"
     ]
    },
    {
     "name": "stdout",
     "output_type": "stream",
     "text": [
      "epoch: 105, train loss: 0.4072,time: 17.9740 \n",
      "\n"
     ]
    },
    {
     "name": "stderr",
     "output_type": "stream",
     "text": [
      "100%|██████████| 48/48 [00:17<00:00,  2.70it/s]\n",
      "  0%|          | 0/48 [00:00<?, ?it/s]"
     ]
    },
    {
     "name": "stdout",
     "output_type": "stream",
     "text": [
      "epoch: 106, train loss: 0.4302,time: 17.8189 \n",
      "\n"
     ]
    },
    {
     "name": "stderr",
     "output_type": "stream",
     "text": [
      "100%|██████████| 48/48 [00:17<00:00,  2.69it/s]\n",
      "  0%|          | 0/48 [00:00<?, ?it/s]"
     ]
    },
    {
     "name": "stdout",
     "output_type": "stream",
     "text": [
      "epoch: 107, train loss: 0.3959,time: 17.8466 \n",
      "\n"
     ]
    },
    {
     "name": "stderr",
     "output_type": "stream",
     "text": [
      "100%|██████████| 48/48 [00:17<00:00,  2.69it/s]\n",
      "  0%|          | 0/48 [00:00<?, ?it/s]"
     ]
    },
    {
     "name": "stdout",
     "output_type": "stream",
     "text": [
      "epoch: 108, train loss: 0.4104,time: 17.8856 \n",
      "\n"
     ]
    },
    {
     "name": "stderr",
     "output_type": "stream",
     "text": [
      "100%|██████████| 48/48 [00:17<00:00,  2.68it/s]\n",
      "  0%|          | 0/48 [00:00<?, ?it/s]"
     ]
    },
    {
     "name": "stdout",
     "output_type": "stream",
     "text": [
      "epoch: 109, train loss: 0.4216,time: 17.9520 \n",
      "\n"
     ]
    },
    {
     "name": "stderr",
     "output_type": "stream",
     "text": [
      "100%|██████████| 48/48 [00:17<00:00,  2.67it/s]\n",
      "  0%|          | 0/48 [00:00<?, ?it/s]"
     ]
    },
    {
     "name": "stdout",
     "output_type": "stream",
     "text": [
      "epoch: 110, train loss: 0.4017,time: 17.9602 \n",
      "\n"
     ]
    },
    {
     "name": "stderr",
     "output_type": "stream",
     "text": [
      "100%|██████████| 48/48 [00:18<00:00,  2.66it/s]\n",
      "  0%|          | 0/48 [00:00<?, ?it/s]"
     ]
    },
    {
     "name": "stdout",
     "output_type": "stream",
     "text": [
      "epoch: 111, train loss: 0.4147,time: 18.0335 \n",
      "\n"
     ]
    },
    {
     "name": "stderr",
     "output_type": "stream",
     "text": [
      "100%|██████████| 48/48 [00:17<00:00,  2.68it/s]\n",
      "  0%|          | 0/48 [00:00<?, ?it/s]"
     ]
    },
    {
     "name": "stdout",
     "output_type": "stream",
     "text": [
      "epoch: 112, train loss: 0.4333,time: 17.9541 \n",
      "\n"
     ]
    },
    {
     "name": "stderr",
     "output_type": "stream",
     "text": [
      "100%|██████████| 48/48 [00:17<00:00,  2.68it/s]\n",
      "  0%|          | 0/48 [00:00<?, ?it/s]"
     ]
    },
    {
     "name": "stdout",
     "output_type": "stream",
     "text": [
      "epoch: 113, train loss: 0.4106,time: 17.9060 \n",
      "\n"
     ]
    },
    {
     "name": "stderr",
     "output_type": "stream",
     "text": [
      "100%|██████████| 48/48 [00:17<00:00,  2.67it/s]\n",
      "  0%|          | 0/48 [00:00<?, ?it/s]"
     ]
    },
    {
     "name": "stdout",
     "output_type": "stream",
     "text": [
      "epoch: 114, train loss: 0.4394,time: 17.9779 \n",
      "\n"
     ]
    },
    {
     "name": "stderr",
     "output_type": "stream",
     "text": [
      "100%|██████████| 48/48 [00:18<00:00,  2.66it/s]\n",
      "  0%|          | 0/48 [00:00<?, ?it/s]"
     ]
    },
    {
     "name": "stdout",
     "output_type": "stream",
     "text": [
      "epoch: 115, train loss: 0.4462,time: 18.0312 \n",
      "\n"
     ]
    },
    {
     "name": "stderr",
     "output_type": "stream",
     "text": [
      "100%|██████████| 48/48 [00:17<00:00,  2.69it/s]\n",
      "  0%|          | 0/48 [00:00<?, ?it/s]"
     ]
    },
    {
     "name": "stdout",
     "output_type": "stream",
     "text": [
      "epoch: 116, train loss: 0.4299,time: 17.8899 \n",
      "\n"
     ]
    },
    {
     "name": "stderr",
     "output_type": "stream",
     "text": [
      "100%|██████████| 48/48 [00:17<00:00,  2.68it/s]\n",
      "  0%|          | 0/48 [00:00<?, ?it/s]"
     ]
    },
    {
     "name": "stdout",
     "output_type": "stream",
     "text": [
      "epoch: 117, train loss: 0.4172,time: 17.9096 \n",
      "\n"
     ]
    },
    {
     "name": "stderr",
     "output_type": "stream",
     "text": [
      "100%|██████████| 48/48 [00:17<00:00,  2.69it/s]\n",
      "  0%|          | 0/48 [00:00<?, ?it/s]"
     ]
    },
    {
     "name": "stdout",
     "output_type": "stream",
     "text": [
      "epoch: 118, train loss: 0.4293,time: 17.8774 \n",
      "\n"
     ]
    },
    {
     "name": "stderr",
     "output_type": "stream",
     "text": [
      "100%|██████████| 48/48 [00:17<00:00,  2.68it/s]\n",
      "  0%|          | 0/48 [00:00<?, ?it/s]"
     ]
    },
    {
     "name": "stdout",
     "output_type": "stream",
     "text": [
      "epoch: 119, train loss: 0.4023,time: 17.9474 \n",
      "\n"
     ]
    },
    {
     "name": "stderr",
     "output_type": "stream",
     "text": [
      "100%|██████████| 48/48 [00:17<00:00,  2.67it/s]\n",
      "  0%|          | 0/48 [00:00<?, ?it/s]"
     ]
    },
    {
     "name": "stdout",
     "output_type": "stream",
     "text": [
      "epoch: 120, train loss: 0.4064,time: 17.9689 \n",
      "\n"
     ]
    },
    {
     "name": "stderr",
     "output_type": "stream",
     "text": [
      "100%|██████████| 48/48 [00:17<00:00,  2.67it/s]\n",
      "  0%|          | 0/48 [00:00<?, ?it/s]"
     ]
    },
    {
     "name": "stdout",
     "output_type": "stream",
     "text": [
      "epoch: 121, train loss: 0.4055,time: 17.9741 \n",
      "\n"
     ]
    },
    {
     "name": "stderr",
     "output_type": "stream",
     "text": [
      "100%|██████████| 48/48 [00:17<00:00,  2.68it/s]\n",
      "  0%|          | 0/48 [00:00<?, ?it/s]"
     ]
    },
    {
     "name": "stdout",
     "output_type": "stream",
     "text": [
      "epoch: 122, train loss: 0.4029,time: 17.9288 \n",
      "\n"
     ]
    },
    {
     "name": "stderr",
     "output_type": "stream",
     "text": [
      "100%|██████████| 48/48 [00:18<00:00,  2.66it/s]\n",
      "  0%|          | 0/48 [00:00<?, ?it/s]"
     ]
    },
    {
     "name": "stdout",
     "output_type": "stream",
     "text": [
      "epoch: 123, train loss: 0.3851,time: 18.0610 \n",
      "\n"
     ]
    },
    {
     "name": "stderr",
     "output_type": "stream",
     "text": [
      "100%|██████████| 48/48 [00:17<00:00,  2.67it/s]\n",
      "  0%|          | 0/48 [00:00<?, ?it/s]"
     ]
    },
    {
     "name": "stdout",
     "output_type": "stream",
     "text": [
      "epoch: 124, train loss: 0.3860,time: 18.0026 \n",
      "\n"
     ]
    },
    {
     "name": "stderr",
     "output_type": "stream",
     "text": [
      "100%|██████████| 48/48 [00:17<00:00,  2.68it/s]\n",
      "  0%|          | 0/48 [00:00<?, ?it/s]"
     ]
    },
    {
     "name": "stdout",
     "output_type": "stream",
     "text": [
      "epoch: 125, train loss: 0.3912,time: 17.9516 \n",
      "\n"
     ]
    },
    {
     "name": "stderr",
     "output_type": "stream",
     "text": [
      "100%|██████████| 48/48 [00:17<00:00,  2.67it/s]\n",
      "  0%|          | 0/48 [00:00<?, ?it/s]"
     ]
    },
    {
     "name": "stdout",
     "output_type": "stream",
     "text": [
      "epoch: 126, train loss: 0.4161,time: 17.9819 \n",
      "\n"
     ]
    },
    {
     "name": "stderr",
     "output_type": "stream",
     "text": [
      "100%|██████████| 48/48 [00:17<00:00,  2.68it/s]\n",
      "  0%|          | 0/48 [00:00<?, ?it/s]"
     ]
    },
    {
     "name": "stdout",
     "output_type": "stream",
     "text": [
      "epoch: 127, train loss: 0.3946,time: 17.9532 \n",
      "\n"
     ]
    },
    {
     "name": "stderr",
     "output_type": "stream",
     "text": [
      "100%|██████████| 48/48 [00:17<00:00,  2.68it/s]\n",
      "  0%|          | 0/48 [00:00<?, ?it/s]"
     ]
    },
    {
     "name": "stdout",
     "output_type": "stream",
     "text": [
      "epoch: 128, train loss: 0.3845,time: 17.9242 \n",
      "\n"
     ]
    },
    {
     "name": "stderr",
     "output_type": "stream",
     "text": [
      "100%|██████████| 48/48 [00:17<00:00,  2.68it/s]\n",
      "  0%|          | 0/48 [00:00<?, ?it/s]"
     ]
    },
    {
     "name": "stdout",
     "output_type": "stream",
     "text": [
      "epoch: 129, train loss: 0.4050,time: 17.9191 \n",
      "\n"
     ]
    },
    {
     "name": "stderr",
     "output_type": "stream",
     "text": [
      "100%|██████████| 48/48 [00:18<00:00,  2.66it/s]\n",
      "  0%|          | 0/48 [00:00<?, ?it/s]"
     ]
    },
    {
     "name": "stdout",
     "output_type": "stream",
     "text": [
      "epoch: 130, train loss: 0.4623,time: 18.0217 \n",
      "\n"
     ]
    },
    {
     "name": "stderr",
     "output_type": "stream",
     "text": [
      "100%|██████████| 48/48 [00:17<00:00,  2.67it/s]\n",
      "  0%|          | 0/48 [00:00<?, ?it/s]"
     ]
    },
    {
     "name": "stdout",
     "output_type": "stream",
     "text": [
      "epoch: 131, train loss: 0.4605,time: 17.9756 \n",
      "\n"
     ]
    },
    {
     "name": "stderr",
     "output_type": "stream",
     "text": [
      "100%|██████████| 48/48 [00:17<00:00,  2.68it/s]\n",
      "  0%|          | 0/48 [00:00<?, ?it/s]"
     ]
    },
    {
     "name": "stdout",
     "output_type": "stream",
     "text": [
      "epoch: 132, train loss: 0.4765,time: 17.9090 \n",
      "\n"
     ]
    },
    {
     "name": "stderr",
     "output_type": "stream",
     "text": [
      "100%|██████████| 48/48 [00:17<00:00,  2.68it/s]\n",
      "  0%|          | 0/48 [00:00<?, ?it/s]"
     ]
    },
    {
     "name": "stdout",
     "output_type": "stream",
     "text": [
      "epoch: 133, train loss: 0.4361,time: 17.9287 \n",
      "\n"
     ]
    },
    {
     "name": "stderr",
     "output_type": "stream",
     "text": [
      "100%|██████████| 48/48 [00:17<00:00,  2.68it/s]\n",
      "  0%|          | 0/48 [00:00<?, ?it/s]"
     ]
    },
    {
     "name": "stdout",
     "output_type": "stream",
     "text": [
      "epoch: 134, train loss: 0.3977,time: 17.9268 \n",
      "\n"
     ]
    },
    {
     "name": "stderr",
     "output_type": "stream",
     "text": [
      "100%|██████████| 48/48 [00:17<00:00,  2.68it/s]\n",
      "  0%|          | 0/48 [00:00<?, ?it/s]"
     ]
    },
    {
     "name": "stdout",
     "output_type": "stream",
     "text": [
      "epoch: 135, train loss: 0.3764,time: 17.9095 \n",
      "\n"
     ]
    },
    {
     "name": "stderr",
     "output_type": "stream",
     "text": [
      "100%|██████████| 48/48 [00:17<00:00,  2.68it/s]\n",
      "  0%|          | 0/48 [00:00<?, ?it/s]"
     ]
    },
    {
     "name": "stdout",
     "output_type": "stream",
     "text": [
      "epoch: 136, train loss: 0.3763,time: 17.9153 \n",
      "\n"
     ]
    },
    {
     "name": "stderr",
     "output_type": "stream",
     "text": [
      "100%|██████████| 48/48 [00:17<00:00,  2.68it/s]\n",
      "  0%|          | 0/48 [00:00<?, ?it/s]"
     ]
    },
    {
     "name": "stdout",
     "output_type": "stream",
     "text": [
      "epoch: 137, train loss: 0.3799,time: 17.9479 \n",
      "\n"
     ]
    },
    {
     "name": "stderr",
     "output_type": "stream",
     "text": [
      "100%|██████████| 48/48 [00:17<00:00,  2.69it/s]\n",
      "  0%|          | 0/48 [00:00<?, ?it/s]"
     ]
    },
    {
     "name": "stdout",
     "output_type": "stream",
     "text": [
      "epoch: 138, train loss: 0.3628,time: 17.8869 \n",
      "\n"
     ]
    },
    {
     "name": "stderr",
     "output_type": "stream",
     "text": [
      "100%|██████████| 48/48 [00:17<00:00,  2.68it/s]\n",
      "  0%|          | 0/48 [00:00<?, ?it/s]"
     ]
    },
    {
     "name": "stdout",
     "output_type": "stream",
     "text": [
      "epoch: 139, train loss: 0.3717,time: 17.9285 \n",
      "\n"
     ]
    },
    {
     "name": "stderr",
     "output_type": "stream",
     "text": [
      "100%|██████████| 48/48 [00:17<00:00,  2.69it/s]\n",
      "  0%|          | 0/48 [00:00<?, ?it/s]"
     ]
    },
    {
     "name": "stdout",
     "output_type": "stream",
     "text": [
      "epoch: 140, train loss: 0.3680,time: 17.8554 \n",
      "\n"
     ]
    },
    {
     "name": "stderr",
     "output_type": "stream",
     "text": [
      "100%|██████████| 48/48 [00:17<00:00,  2.67it/s]\n",
      "  0%|          | 0/48 [00:00<?, ?it/s]"
     ]
    },
    {
     "name": "stdout",
     "output_type": "stream",
     "text": [
      "epoch: 141, train loss: 0.3524,time: 18.0093 \n",
      "\n"
     ]
    },
    {
     "name": "stderr",
     "output_type": "stream",
     "text": [
      "100%|██████████| 48/48 [00:17<00:00,  2.68it/s]\n",
      "  0%|          | 0/48 [00:00<?, ?it/s]"
     ]
    },
    {
     "name": "stdout",
     "output_type": "stream",
     "text": [
      "epoch: 142, train loss: 0.3728,time: 17.9439 \n",
      "\n"
     ]
    },
    {
     "name": "stderr",
     "output_type": "stream",
     "text": [
      "100%|██████████| 48/48 [00:17<00:00,  2.67it/s]\n",
      "  0%|          | 0/48 [00:00<?, ?it/s]"
     ]
    },
    {
     "name": "stdout",
     "output_type": "stream",
     "text": [
      "epoch: 143, train loss: 0.3758,time: 17.9685 \n",
      "\n"
     ]
    },
    {
     "name": "stderr",
     "output_type": "stream",
     "text": [
      "100%|██████████| 48/48 [00:18<00:00,  2.66it/s]\n",
      "  0%|          | 0/48 [00:00<?, ?it/s]"
     ]
    },
    {
     "name": "stdout",
     "output_type": "stream",
     "text": [
      "epoch: 144, train loss: 0.3642,time: 18.0650 \n",
      "\n"
     ]
    },
    {
     "name": "stderr",
     "output_type": "stream",
     "text": [
      "100%|██████████| 48/48 [00:17<00:00,  2.68it/s]\n",
      "  0%|          | 0/48 [00:00<?, ?it/s]"
     ]
    },
    {
     "name": "stdout",
     "output_type": "stream",
     "text": [
      "epoch: 145, train loss: 0.3765,time: 17.8937 \n",
      "\n"
     ]
    },
    {
     "name": "stderr",
     "output_type": "stream",
     "text": [
      "100%|██████████| 48/48 [00:17<00:00,  2.67it/s]\n",
      "  0%|          | 0/48 [00:00<?, ?it/s]"
     ]
    },
    {
     "name": "stdout",
     "output_type": "stream",
     "text": [
      "epoch: 146, train loss: 0.3762,time: 17.9692 \n",
      "\n"
     ]
    },
    {
     "name": "stderr",
     "output_type": "stream",
     "text": [
      "100%|██████████| 48/48 [00:17<00:00,  2.68it/s]\n",
      "  0%|          | 0/48 [00:00<?, ?it/s]"
     ]
    },
    {
     "name": "stdout",
     "output_type": "stream",
     "text": [
      "epoch: 147, train loss: 0.3874,time: 17.9069 \n",
      "\n"
     ]
    },
    {
     "name": "stderr",
     "output_type": "stream",
     "text": [
      "100%|██████████| 48/48 [00:17<00:00,  2.67it/s]\n",
      "  0%|          | 0/48 [00:00<?, ?it/s]"
     ]
    },
    {
     "name": "stdout",
     "output_type": "stream",
     "text": [
      "epoch: 148, train loss: 0.3930,time: 17.9771 \n",
      "\n"
     ]
    },
    {
     "name": "stderr",
     "output_type": "stream",
     "text": [
      "100%|██████████| 48/48 [00:18<00:00,  2.66it/s]\n",
      "  0%|          | 0/48 [00:00<?, ?it/s]"
     ]
    },
    {
     "name": "stdout",
     "output_type": "stream",
     "text": [
      "epoch: 149, train loss: 0.3690,time: 18.0635 \n",
      "\n"
     ]
    },
    {
     "name": "stderr",
     "output_type": "stream",
     "text": [
      "100%|██████████| 48/48 [00:17<00:00,  2.68it/s]\n",
      "  0%|          | 0/48 [00:00<?, ?it/s]"
     ]
    },
    {
     "name": "stdout",
     "output_type": "stream",
     "text": [
      "epoch: 150, train loss: 0.3677,time: 17.9354 \n",
      "\n"
     ]
    },
    {
     "name": "stderr",
     "output_type": "stream",
     "text": [
      "100%|██████████| 48/48 [00:18<00:00,  2.66it/s]\n",
      "  0%|          | 0/48 [00:00<?, ?it/s]"
     ]
    },
    {
     "name": "stdout",
     "output_type": "stream",
     "text": [
      "epoch: 151, train loss: 0.3650,time: 18.0514 \n",
      "\n"
     ]
    },
    {
     "name": "stderr",
     "output_type": "stream",
     "text": [
      "100%|██████████| 48/48 [00:18<00:00,  2.66it/s]\n",
      "  0%|          | 0/48 [00:00<?, ?it/s]"
     ]
    },
    {
     "name": "stdout",
     "output_type": "stream",
     "text": [
      "epoch: 152, train loss: 0.3970,time: 18.0528 \n",
      "\n"
     ]
    },
    {
     "name": "stderr",
     "output_type": "stream",
     "text": [
      "100%|██████████| 48/48 [00:17<00:00,  2.68it/s]\n",
      "  0%|          | 0/48 [00:00<?, ?it/s]"
     ]
    },
    {
     "name": "stdout",
     "output_type": "stream",
     "text": [
      "epoch: 153, train loss: 0.3798,time: 17.9325 \n",
      "\n"
     ]
    },
    {
     "name": "stderr",
     "output_type": "stream",
     "text": [
      "100%|██████████| 48/48 [00:17<00:00,  2.67it/s]\n",
      "  0%|          | 0/48 [00:00<?, ?it/s]"
     ]
    },
    {
     "name": "stdout",
     "output_type": "stream",
     "text": [
      "epoch: 154, train loss: 0.3930,time: 17.9558 \n",
      "\n"
     ]
    },
    {
     "name": "stderr",
     "output_type": "stream",
     "text": [
      "100%|██████████| 48/48 [00:18<00:00,  2.66it/s]\n",
      "  0%|          | 0/48 [00:00<?, ?it/s]"
     ]
    },
    {
     "name": "stdout",
     "output_type": "stream",
     "text": [
      "epoch: 155, train loss: 0.3847,time: 18.0459 \n",
      "\n"
     ]
    },
    {
     "name": "stderr",
     "output_type": "stream",
     "text": [
      "100%|██████████| 48/48 [00:18<00:00,  2.66it/s]\n",
      "  0%|          | 0/48 [00:00<?, ?it/s]"
     ]
    },
    {
     "name": "stdout",
     "output_type": "stream",
     "text": [
      "epoch: 156, train loss: 0.3708,time: 18.0316 \n",
      "\n"
     ]
    },
    {
     "name": "stderr",
     "output_type": "stream",
     "text": [
      "100%|██████████| 48/48 [00:17<00:00,  2.68it/s]\n",
      "  0%|          | 0/48 [00:00<?, ?it/s]"
     ]
    },
    {
     "name": "stdout",
     "output_type": "stream",
     "text": [
      "epoch: 157, train loss: 0.3918,time: 17.9309 \n",
      "\n"
     ]
    },
    {
     "name": "stderr",
     "output_type": "stream",
     "text": [
      "100%|██████████| 48/48 [00:17<00:00,  2.69it/s]\n",
      "  0%|          | 0/48 [00:00<?, ?it/s]"
     ]
    },
    {
     "name": "stdout",
     "output_type": "stream",
     "text": [
      "epoch: 158, train loss: 0.3785,time: 17.8587 \n",
      "\n"
     ]
    },
    {
     "name": "stderr",
     "output_type": "stream",
     "text": [
      "100%|██████████| 48/48 [00:17<00:00,  2.69it/s]\n",
      "  0%|          | 0/48 [00:00<?, ?it/s]"
     ]
    },
    {
     "name": "stdout",
     "output_type": "stream",
     "text": [
      "epoch: 159, train loss: 0.3758,time: 17.8643 \n",
      "\n"
     ]
    },
    {
     "name": "stderr",
     "output_type": "stream",
     "text": [
      "100%|██████████| 48/48 [00:17<00:00,  2.67it/s]\n",
      "  0%|          | 0/48 [00:00<?, ?it/s]"
     ]
    },
    {
     "name": "stdout",
     "output_type": "stream",
     "text": [
      "epoch: 160, train loss: 0.4010,time: 17.9776 \n",
      "\n"
     ]
    },
    {
     "name": "stderr",
     "output_type": "stream",
     "text": [
      "100%|██████████| 48/48 [00:17<00:00,  2.67it/s]\n",
      "  0%|          | 0/48 [00:00<?, ?it/s]"
     ]
    },
    {
     "name": "stdout",
     "output_type": "stream",
     "text": [
      "epoch: 161, train loss: 0.4224,time: 18.0100 \n",
      "\n"
     ]
    },
    {
     "name": "stderr",
     "output_type": "stream",
     "text": [
      "100%|██████████| 48/48 [00:18<00:00,  2.66it/s]\n",
      "  0%|          | 0/48 [00:00<?, ?it/s]"
     ]
    },
    {
     "name": "stdout",
     "output_type": "stream",
     "text": [
      "epoch: 162, train loss: 0.3797,time: 18.0655 \n",
      "\n"
     ]
    },
    {
     "name": "stderr",
     "output_type": "stream",
     "text": [
      "100%|██████████| 48/48 [00:18<00:00,  2.66it/s]\n",
      "  0%|          | 0/48 [00:00<?, ?it/s]"
     ]
    },
    {
     "name": "stdout",
     "output_type": "stream",
     "text": [
      "epoch: 163, train loss: 0.4247,time: 18.0804 \n",
      "\n"
     ]
    },
    {
     "name": "stderr",
     "output_type": "stream",
     "text": [
      "100%|██████████| 48/48 [00:17<00:00,  2.68it/s]\n",
      "  0%|          | 0/48 [00:00<?, ?it/s]"
     ]
    },
    {
     "name": "stdout",
     "output_type": "stream",
     "text": [
      "epoch: 164, train loss: 0.4084,time: 17.9496 \n",
      "\n"
     ]
    },
    {
     "name": "stderr",
     "output_type": "stream",
     "text": [
      "100%|██████████| 48/48 [00:17<00:00,  2.67it/s]\n",
      "  0%|          | 0/48 [00:00<?, ?it/s]"
     ]
    },
    {
     "name": "stdout",
     "output_type": "stream",
     "text": [
      "epoch: 165, train loss: 0.4199,time: 17.9958 \n",
      "\n"
     ]
    },
    {
     "name": "stderr",
     "output_type": "stream",
     "text": [
      "100%|██████████| 48/48 [00:17<00:00,  2.67it/s]\n",
      "  0%|          | 0/48 [00:00<?, ?it/s]"
     ]
    },
    {
     "name": "stdout",
     "output_type": "stream",
     "text": [
      "epoch: 166, train loss: 0.4228,time: 17.9952 \n",
      "\n"
     ]
    },
    {
     "name": "stderr",
     "output_type": "stream",
     "text": [
      "100%|██████████| 48/48 [00:17<00:00,  2.69it/s]\n",
      "  0%|          | 0/48 [00:00<?, ?it/s]"
     ]
    },
    {
     "name": "stdout",
     "output_type": "stream",
     "text": [
      "epoch: 167, train loss: 0.3979,time: 17.8772 \n",
      "\n"
     ]
    },
    {
     "name": "stderr",
     "output_type": "stream",
     "text": [
      "100%|██████████| 48/48 [00:17<00:00,  2.67it/s]\n",
      "  0%|          | 0/48 [00:00<?, ?it/s]"
     ]
    },
    {
     "name": "stdout",
     "output_type": "stream",
     "text": [
      "epoch: 168, train loss: 0.4336,time: 17.9995 \n",
      "\n"
     ]
    },
    {
     "name": "stderr",
     "output_type": "stream",
     "text": [
      "100%|██████████| 48/48 [00:18<00:00,  2.66it/s]\n",
      "  0%|          | 0/48 [00:00<?, ?it/s]"
     ]
    },
    {
     "name": "stdout",
     "output_type": "stream",
     "text": [
      "epoch: 169, train loss: 0.4440,time: 18.0451 \n",
      "\n"
     ]
    },
    {
     "name": "stderr",
     "output_type": "stream",
     "text": [
      "100%|██████████| 48/48 [00:18<00:00,  2.66it/s]\n",
      "  0%|          | 0/48 [00:00<?, ?it/s]"
     ]
    },
    {
     "name": "stdout",
     "output_type": "stream",
     "text": [
      "epoch: 170, train loss: 0.4018,time: 18.0336 \n",
      "\n"
     ]
    },
    {
     "name": "stderr",
     "output_type": "stream",
     "text": [
      "100%|██████████| 48/48 [00:17<00:00,  2.67it/s]\n",
      "  0%|          | 0/48 [00:00<?, ?it/s]"
     ]
    },
    {
     "name": "stdout",
     "output_type": "stream",
     "text": [
      "epoch: 171, train loss: 0.3920,time: 17.9778 \n",
      "\n"
     ]
    },
    {
     "name": "stderr",
     "output_type": "stream",
     "text": [
      "100%|██████████| 48/48 [00:18<00:00,  2.66it/s]\n",
      "  0%|          | 0/48 [00:00<?, ?it/s]"
     ]
    },
    {
     "name": "stdout",
     "output_type": "stream",
     "text": [
      "epoch: 172, train loss: 0.3779,time: 18.0259 \n",
      "\n"
     ]
    },
    {
     "name": "stderr",
     "output_type": "stream",
     "text": [
      "100%|██████████| 48/48 [00:17<00:00,  2.69it/s]\n",
      "  0%|          | 0/48 [00:00<?, ?it/s]"
     ]
    },
    {
     "name": "stdout",
     "output_type": "stream",
     "text": [
      "epoch: 173, train loss: 0.3661,time: 17.8783 \n",
      "\n"
     ]
    },
    {
     "name": "stderr",
     "output_type": "stream",
     "text": [
      "100%|██████████| 48/48 [00:17<00:00,  2.67it/s]\n",
      "  0%|          | 0/48 [00:00<?, ?it/s]"
     ]
    },
    {
     "name": "stdout",
     "output_type": "stream",
     "text": [
      "epoch: 174, train loss: 0.3506,time: 17.9875 \n",
      "\n"
     ]
    },
    {
     "name": "stderr",
     "output_type": "stream",
     "text": [
      "100%|██████████| 48/48 [00:18<00:00,  2.66it/s]\n",
      "  0%|          | 0/48 [00:00<?, ?it/s]"
     ]
    },
    {
     "name": "stdout",
     "output_type": "stream",
     "text": [
      "epoch: 175, train loss: 0.3606,time: 18.0236 \n",
      "\n"
     ]
    },
    {
     "name": "stderr",
     "output_type": "stream",
     "text": [
      "100%|██████████| 48/48 [00:17<00:00,  2.68it/s]\n",
      "  0%|          | 0/48 [00:00<?, ?it/s]"
     ]
    },
    {
     "name": "stdout",
     "output_type": "stream",
     "text": [
      "epoch: 176, train loss: 0.3467,time: 17.8933 \n",
      "\n"
     ]
    },
    {
     "name": "stderr",
     "output_type": "stream",
     "text": [
      "100%|██████████| 48/48 [00:17<00:00,  2.67it/s]\n",
      "  0%|          | 0/48 [00:00<?, ?it/s]"
     ]
    },
    {
     "name": "stdout",
     "output_type": "stream",
     "text": [
      "epoch: 177, train loss: 0.3401,time: 17.9628 \n",
      "\n"
     ]
    },
    {
     "name": "stderr",
     "output_type": "stream",
     "text": [
      "100%|██████████| 48/48 [00:18<00:00,  2.66it/s]\n",
      "  0%|          | 0/48 [00:00<?, ?it/s]"
     ]
    },
    {
     "name": "stdout",
     "output_type": "stream",
     "text": [
      "epoch: 178, train loss: 0.3407,time: 18.0399 \n",
      "\n"
     ]
    },
    {
     "name": "stderr",
     "output_type": "stream",
     "text": [
      "100%|██████████| 48/48 [00:17<00:00,  2.67it/s]\n",
      "  0%|          | 0/48 [00:00<?, ?it/s]"
     ]
    },
    {
     "name": "stdout",
     "output_type": "stream",
     "text": [
      "epoch: 179, train loss: 0.3507,time: 18.0016 \n",
      "\n"
     ]
    },
    {
     "name": "stderr",
     "output_type": "stream",
     "text": [
      "100%|██████████| 48/48 [00:18<00:00,  2.66it/s]\n",
      "  0%|          | 0/48 [00:00<?, ?it/s]"
     ]
    },
    {
     "name": "stdout",
     "output_type": "stream",
     "text": [
      "epoch: 180, train loss: 0.3637,time: 18.0383 \n",
      "\n"
     ]
    },
    {
     "name": "stderr",
     "output_type": "stream",
     "text": [
      "100%|██████████| 48/48 [00:17<00:00,  2.68it/s]\n",
      "  0%|          | 0/48 [00:00<?, ?it/s]"
     ]
    },
    {
     "name": "stdout",
     "output_type": "stream",
     "text": [
      "epoch: 181, train loss: 0.3586,time: 17.9293 \n",
      "\n"
     ]
    },
    {
     "name": "stderr",
     "output_type": "stream",
     "text": [
      "100%|██████████| 48/48 [00:17<00:00,  2.68it/s]\n",
      "  0%|          | 0/48 [00:00<?, ?it/s]"
     ]
    },
    {
     "name": "stdout",
     "output_type": "stream",
     "text": [
      "epoch: 182, train loss: 0.3692,time: 17.8935 \n",
      "\n"
     ]
    },
    {
     "name": "stderr",
     "output_type": "stream",
     "text": [
      "100%|██████████| 48/48 [00:18<00:00,  2.66it/s]\n",
      "  0%|          | 0/48 [00:00<?, ?it/s]"
     ]
    },
    {
     "name": "stdout",
     "output_type": "stream",
     "text": [
      "epoch: 183, train loss: 0.3693,time: 18.0695 \n",
      "\n"
     ]
    },
    {
     "name": "stderr",
     "output_type": "stream",
     "text": [
      "100%|██████████| 48/48 [00:17<00:00,  2.68it/s]\n",
      "  0%|          | 0/48 [00:00<?, ?it/s]"
     ]
    },
    {
     "name": "stdout",
     "output_type": "stream",
     "text": [
      "epoch: 184, train loss: 0.3886,time: 17.9128 \n",
      "\n"
     ]
    },
    {
     "name": "stderr",
     "output_type": "stream",
     "text": [
      "100%|██████████| 48/48 [00:17<00:00,  2.68it/s]\n",
      "  0%|          | 0/48 [00:00<?, ?it/s]"
     ]
    },
    {
     "name": "stdout",
     "output_type": "stream",
     "text": [
      "epoch: 185, train loss: 0.3731,time: 17.9349 \n",
      "\n"
     ]
    },
    {
     "name": "stderr",
     "output_type": "stream",
     "text": [
      "100%|██████████| 48/48 [00:17<00:00,  2.68it/s]\n",
      "  0%|          | 0/48 [00:00<?, ?it/s]"
     ]
    },
    {
     "name": "stdout",
     "output_type": "stream",
     "text": [
      "epoch: 186, train loss: 0.3569,time: 17.9215 \n",
      "\n"
     ]
    },
    {
     "name": "stderr",
     "output_type": "stream",
     "text": [
      "100%|██████████| 48/48 [00:17<00:00,  2.68it/s]\n",
      "  0%|          | 0/48 [00:00<?, ?it/s]"
     ]
    },
    {
     "name": "stdout",
     "output_type": "stream",
     "text": [
      "epoch: 187, train loss: 0.3561,time: 17.9417 \n",
      "\n"
     ]
    },
    {
     "name": "stderr",
     "output_type": "stream",
     "text": [
      "100%|██████████| 48/48 [00:17<00:00,  2.67it/s]\n",
      "  0%|          | 0/48 [00:00<?, ?it/s]"
     ]
    },
    {
     "name": "stdout",
     "output_type": "stream",
     "text": [
      "epoch: 188, train loss: 0.3527,time: 17.9654 \n",
      "\n"
     ]
    },
    {
     "name": "stderr",
     "output_type": "stream",
     "text": [
      "100%|██████████| 48/48 [00:17<00:00,  2.67it/s]\n",
      "  0%|          | 0/48 [00:00<?, ?it/s]"
     ]
    },
    {
     "name": "stdout",
     "output_type": "stream",
     "text": [
      "epoch: 189, train loss: 0.3500,time: 17.9738 \n",
      "\n"
     ]
    },
    {
     "name": "stderr",
     "output_type": "stream",
     "text": [
      "100%|██████████| 48/48 [00:17<00:00,  2.68it/s]\n",
      "  0%|          | 0/48 [00:00<?, ?it/s]"
     ]
    },
    {
     "name": "stdout",
     "output_type": "stream",
     "text": [
      "epoch: 190, train loss: 0.3544,time: 17.9266 \n",
      "\n"
     ]
    },
    {
     "name": "stderr",
     "output_type": "stream",
     "text": [
      "100%|██████████| 48/48 [00:17<00:00,  2.68it/s]\n",
      "  0%|          | 0/48 [00:00<?, ?it/s]"
     ]
    },
    {
     "name": "stdout",
     "output_type": "stream",
     "text": [
      "epoch: 191, train loss: 0.3441,time: 17.8884 \n",
      "\n"
     ]
    },
    {
     "name": "stderr",
     "output_type": "stream",
     "text": [
      "100%|██████████| 48/48 [00:17<00:00,  2.68it/s]\n",
      "  0%|          | 0/48 [00:00<?, ?it/s]"
     ]
    },
    {
     "name": "stdout",
     "output_type": "stream",
     "text": [
      "epoch: 192, train loss: 0.3512,time: 17.9301 \n",
      "\n"
     ]
    },
    {
     "name": "stderr",
     "output_type": "stream",
     "text": [
      "100%|██████████| 48/48 [00:17<00:00,  2.69it/s]\n",
      "  0%|          | 0/48 [00:00<?, ?it/s]"
     ]
    },
    {
     "name": "stdout",
     "output_type": "stream",
     "text": [
      "epoch: 193, train loss: 0.3596,time: 17.8598 \n",
      "\n"
     ]
    },
    {
     "name": "stderr",
     "output_type": "stream",
     "text": [
      "100%|██████████| 48/48 [00:18<00:00,  2.66it/s]\n",
      "  0%|          | 0/48 [00:00<?, ?it/s]"
     ]
    },
    {
     "name": "stdout",
     "output_type": "stream",
     "text": [
      "epoch: 194, train loss: 0.3423,time: 18.0483 \n",
      "\n"
     ]
    },
    {
     "name": "stderr",
     "output_type": "stream",
     "text": [
      "100%|██████████| 48/48 [00:17<00:00,  2.67it/s]\n",
      "  0%|          | 0/48 [00:00<?, ?it/s]"
     ]
    },
    {
     "name": "stdout",
     "output_type": "stream",
     "text": [
      "epoch: 195, train loss: 0.3412,time: 17.9681 \n",
      "\n"
     ]
    },
    {
     "name": "stderr",
     "output_type": "stream",
     "text": [
      "100%|██████████| 48/48 [00:17<00:00,  2.68it/s]\n",
      "  0%|          | 0/48 [00:00<?, ?it/s]"
     ]
    },
    {
     "name": "stdout",
     "output_type": "stream",
     "text": [
      "epoch: 196, train loss: 0.3518,time: 17.9155 \n",
      "\n"
     ]
    },
    {
     "name": "stderr",
     "output_type": "stream",
     "text": [
      "100%|██████████| 48/48 [00:18<00:00,  2.66it/s]\n",
      "  0%|          | 0/48 [00:00<?, ?it/s]"
     ]
    },
    {
     "name": "stdout",
     "output_type": "stream",
     "text": [
      "epoch: 197, train loss: 0.3305,time: 18.0773 \n",
      "\n"
     ]
    },
    {
     "name": "stderr",
     "output_type": "stream",
     "text": [
      "100%|██████████| 48/48 [00:18<00:00,  2.66it/s]\n",
      "  0%|          | 0/48 [00:00<?, ?it/s]"
     ]
    },
    {
     "name": "stdout",
     "output_type": "stream",
     "text": [
      "epoch: 198, train loss: 0.3588,time: 18.0883 \n",
      "\n"
     ]
    },
    {
     "name": "stderr",
     "output_type": "stream",
     "text": [
      "100%|██████████| 48/48 [00:17<00:00,  2.67it/s]\n",
      "  0%|          | 0/48 [00:00<?, ?it/s]"
     ]
    },
    {
     "name": "stdout",
     "output_type": "stream",
     "text": [
      "epoch: 199, train loss: 0.3673,time: 17.9995 \n",
      "\n"
     ]
    },
    {
     "name": "stderr",
     "output_type": "stream",
     "text": [
      "100%|██████████| 48/48 [00:18<00:00,  2.66it/s]\n",
      "  0%|          | 0/48 [00:00<?, ?it/s]"
     ]
    },
    {
     "name": "stdout",
     "output_type": "stream",
     "text": [
      "epoch: 200, train loss: 0.3623,time: 18.0572 \n",
      "\n"
     ]
    },
    {
     "name": "stderr",
     "output_type": "stream",
     "text": [
      "100%|██████████| 48/48 [00:17<00:00,  2.69it/s]\n",
      "  0%|          | 0/48 [00:00<?, ?it/s]"
     ]
    },
    {
     "name": "stdout",
     "output_type": "stream",
     "text": [
      "epoch: 201, train loss: 0.3576,time: 17.8820 \n",
      "\n"
     ]
    },
    {
     "name": "stderr",
     "output_type": "stream",
     "text": [
      "100%|██████████| 48/48 [00:18<00:00,  2.67it/s]\n",
      "  0%|          | 0/48 [00:00<?, ?it/s]"
     ]
    },
    {
     "name": "stdout",
     "output_type": "stream",
     "text": [
      "epoch: 202, train loss: 0.3546,time: 18.0190 \n",
      "\n"
     ]
    },
    {
     "name": "stderr",
     "output_type": "stream",
     "text": [
      "100%|██████████| 48/48 [00:17<00:00,  2.69it/s]\n",
      "  0%|          | 0/48 [00:00<?, ?it/s]"
     ]
    },
    {
     "name": "stdout",
     "output_type": "stream",
     "text": [
      "epoch: 203, train loss: 0.3540,time: 17.8771 \n",
      "\n"
     ]
    },
    {
     "name": "stderr",
     "output_type": "stream",
     "text": [
      "100%|██████████| 48/48 [00:18<00:00,  2.66it/s]"
     ]
    },
    {
     "name": "stdout",
     "output_type": "stream",
     "text": [
      "epoch: 204, train loss: 0.3738,time: 18.0467 \n",
      "\n"
     ]
    },
    {
     "name": "stderr",
     "output_type": "stream",
     "text": [
      "\n"
     ]
    }
   ],
   "source": [
    "train(kwargs,device,model,train_iter)"
   ]
  },
  {
   "cell_type": "code",
   "execution_count": 42,
   "id": "russian-import",
   "metadata": {},
   "outputs": [],
   "source": [
    "torch.save(model, 's2s_zifu.pkl')"
   ]
  },
  {
   "cell_type": "code",
   "execution_count": 43,
   "id": "atmospheric-literature",
   "metadata": {},
   "outputs": [
    {
     "name": "stderr",
     "output_type": "stream",
     "text": [
      " 29%|██▉       | 14/48 [00:01<00:04,  8.24it/s]\n"
     ]
    },
    {
     "name": "stdout",
     "output_type": "stream",
     "text": [
      "torch.Size([16, 512, 3534])\n",
      "torch.Size([16, 512])\n",
      "torch.Size([27, 512])\n",
      "\n",
      "原文：\n",
      "<sos>I doubt if Tom is single.\n",
      "正确答案：\n",
      "<sos>我怀疑汤姆是单身。\n",
      "预测\n",
      "<sos>我怀疑汤姆单单。\n",
      "原文：\n",
      "<sos>I feel like another beer.\n",
      "正确答案：\n",
      "<sos>我想再来一杯啤酒。\n",
      "预测\n",
      "<sos>我想再来杯杯酒。\n",
      "原文：\n",
      "<sos>I feel much better today.\n",
      "正确答案：\n",
      "<sos>我今天感觉好多了。\n",
      "预测\n",
      "<sos>我今天感觉好多。\n",
      "原文：\n",
      "<sos>I gave Tom three cookies.\n",
      "正确答案：\n",
      "<sos>我给了汤姆三块饼干。\n",
      "预测\n",
      "<sos>我给了汤三块饼干。\n",
      "原文：\n",
      "<sos>I get a kick out of life.\n",
      "正确答案：\n",
      "<sos>我為人生感到很開心。\n",
      "预测\n",
      "<sos>我為人生到很心。\n",
      "原文：\n",
      "<sos>I go to church every day.\n",
      "正确答案：\n",
      "<sos>我每天上教堂。\n",
      "预测\n",
      "<sos>我每天教教。\n",
      "原文：\n",
      "<sos>I go to church on Sunday.\n",
      "正确答案：\n",
      "<sos>周日我去做礼拜。\n",
      "预测\n",
      "<sos>周日我去礼礼。\n",
      "原文：\n",
      "<sos>I go to school by subway.\n",
      "正确答案：\n",
      "<sos>我搭地铁上学。\n",
      "预测\n",
      "<sos>我搭地铁上。\n",
      "原文：\n",
      "<sos>I go to school by subway.\n",
      "正确答案：\n",
      "<sos>我坐地鐵上學。\n",
      "预测\n",
      "<sos>我搭地上学。\n",
      "原文：\n",
      "<sos>I go to school here, too.\n",
      "正确答案：\n",
      "<sos>我也在这儿上学。\n",
      "预测\n",
      "<sos>我也在这上学。\n",
      "原文：\n",
      "<sos>I got a hole in my jeans.\n",
      "正确答案：\n",
      "<sos>我的牛仔褲破了一個洞。\n",
      "预测\n",
      "<sos>我的牛仔破了一一洞。\n",
      "原文：\n",
      "<sos>I got lost in the forest.\n",
      "正确答案：\n",
      "<sos>我在树林里迷路了。\n",
      "预测\n",
      "<sos>我在树林迷路路。\n",
      "原文：\n",
      "<sos>I got my notebook stolen.\n",
      "正确答案：\n",
      "<sos>有人把我的筆記本電腦偷掉了。\n",
      "预测\n",
      "<sos>有人把我的記本電腦腦掉。\n",
      "原文：\n",
      "<sos>I got on the wrong train.\n",
      "正确答案：\n",
      "<sos>我上錯了火車。\n",
      "预测\n",
      "<sos>我上錯火車。\n",
      "原文：\n",
      "<sos>I got up early yesterday.\n",
      "正确答案：\n",
      "<sos>昨天我很早起床。\n",
      "预测\n",
      "<sos>昨天我很早床。\n",
      "原文：\n",
      "<sos>I grew up in the country.\n",
      "正确答案：\n",
      "<sos>我在鄉下長大。\n",
      "预测\n",
      "<sos>我在鄉下大。\n",
      "原文：\n",
      "<sos>I guess it's only a joke.\n",
      "正确答案：\n",
      "<sos>估计那就是个笑话吧。\n",
      "预测\n",
      "<sos>估计那是个个话吧\n",
      "原文：\n",
      "<sos>I had some calls to make.\n",
      "正确答案：\n",
      "<sos>我要打几个电话。\n",
      "预测\n",
      "<sos>我要打几个话。\n",
      "原文：\n",
      "<sos>I handed the mike to him.\n",
      "正确答案：\n",
      "<sos>我把麥克風遞給他。\n",
      "预测\n",
      "<sos>我把麥克遞他他\n",
      "原文：\n",
      "<sos>I have a bit of bad news.\n",
      "正确答案：\n",
      "<sos>我有个坏消息。\n",
      "预测\n",
      "<sos>我有个坏消。\n",
      "原文：\n",
      "<sos>I have a lot of homework.\n",
      "正确答案：\n",
      "<sos>我有很多功課。\n",
      "预测\n",
      "<sos>我有很多功課\n",
      "原文：\n",
      "<sos>I have a stupid question.\n",
      "正确答案：\n",
      "<sos>我有一個愚蠢的問題。\n",
      "预测\n",
      "<sos>我有一个蠢的的题。\n",
      "原文：\n",
      "<sos>I have a stupid question.\n",
      "正确答案：\n",
      "<sos>我有一个挺蠢的问题。\n",
      "预测\n",
      "<sos>我有一挺蠢的的题。\n",
      "原文：\n",
      "<sos>I have confidence in you.\n",
      "正确答案：\n",
      "<sos>我對你有信心。\n",
      "预测\n",
      "<sos>我對你信信。\n",
      "原文：\n",
      "<sos>I have never felt better.\n",
      "正确答案：\n",
      "<sos>我从来没感觉那么好过。\n",
      "预测\n",
      "<sos>我从来没感那那好。。\n",
      "原文：\n",
      "<sos>I have no doubt about it.\n",
      "正确答案：\n",
      "<sos>我没有疑问。\n",
      "预测\n",
      "<sos>我没疑疑。\n",
      "原文：\n",
      "<sos>I have no homework today.\n",
      "正确答案：\n",
      "<sos>我今天沒有功課。\n",
      "预测\n",
      "<sos>我今天沒功功課\n",
      "原文：\n",
      "<sos>I have nowhere to go now.\n",
      "正确答案：\n",
      "<sos>我现在无处可去。\n",
      "预测\n",
      "<sos>我现在处可去。\n",
      "原文：\n",
      "<sos>I have to get some sleep.\n",
      "正确答案：\n",
      "<sos>我必須睡一下覺。\n",
      "预测\n",
      "<sos>我必須睡下覺。\n",
      "原文：\n",
      "<sos>I have to go to the bank.\n",
      "正确答案：\n",
      "<sos>我必须到银行去。\n",
      "预测\n",
      "<sos>我必须银行行。\n",
      "原文：\n",
      "<sos>I have to help my mother.\n",
      "正确答案：\n",
      "<sos>我必須幫忙我母親。\n",
      "预测\n",
      "<sos>我必須幫忙母親。\n",
      "原文：\n",
      "<sos>I have trouble breathing.\n",
      "正确答案：\n",
      "<sos>我呼吸困难。\n",
      "预测\n",
      "<sos>我呼吸困。\n",
      "原文：\n",
      "<sos>I haven't eaten for days.\n",
      "正确答案：\n",
      "<sos>我好多天沒吃東西了。\n",
      "预测\n",
      "<sos>我好多天吃吃西西。\n",
      "原文：\n",
      "<sos>I haven't eaten for days.\n",
      "正确答案：\n",
      "<sos>我好多天没吃东西了。\n",
      "预测\n",
      "<sos>我好多天沒吃西了。\n",
      "原文：\n",
      "<sos>I haven't found anything.\n",
      "正确答案：\n",
      "<sos>我甚麼也沒找到。\n",
      "预测\n",
      "<sos>我甚麼沒沒到。\n",
      "原文：\n",
      "<sos>I heard Tom was captured.\n",
      "正确答案：\n",
      "<sos>我听说汤姆被捕了。\n",
      "预测\n",
      "<sos>我听说汤被捕了。\n",
      "原文：\n",
      "<sos>I heard an unusual sound.\n",
      "正确答案：\n",
      "<sos>我聽到一個不尋常的聲音。\n",
      "预测\n",
      "<sos>我聽到一不尋常的音。\n",
      "原文：\n",
      "<sos>I helped her wash dishes.\n",
      "正确答案：\n",
      "<sos>我幫她洗碗。\n",
      "预测\n",
      "<sos>我幫她洗。\n",
      "原文：\n",
      "<sos>I hope he'll wait for me.\n",
      "正确答案：\n",
      "<sos>我希望他會等我。\n",
      "预测\n",
      "<sos>我希望他等我。\n",
      "原文：\n",
      "<sos>I hung my hat on the peg.\n",
      "正确答案：\n",
      "<sos>我把我的帽子掛在掛鉤上。\n",
      "预测\n",
      "<sos>我把我帽帽在在上上上\n",
      "原文：\n",
      "<sos>I know I heard something.\n",
      "正确答案：\n",
      "<sos>我知道我听见了什么。\n",
      "预测\n",
      "<sos>我知道我见见什么。\n",
      "原文：\n",
      "<sos>I know a lot about ships.\n",
      "正确答案：\n",
      "<sos>我知道很多關於船的知識。\n",
      "预测\n",
      "<sos>我知道很關於船船。。\n",
      "原文：\n",
      "<sos>I know he is watching me.\n",
      "正确答案：\n",
      "<sos>我知道他在看著我。\n",
      "预测\n",
      "<sos>我知道他看著著。\n",
      "原文：\n",
      "<sos>I know how to set a trap.\n",
      "正确答案：\n",
      "<sos>我知道怎么设陷阱。\n",
      "预测\n",
      "<sos>我知道么设陷阱\n",
      "原文：\n",
      "<sos>I know nothing about her.\n",
      "正确答案：\n",
      "<sos>我对她一无所知。\n",
      "预测\n",
      "<sos>我对她一无知。\n",
      "原文：\n",
      "<sos>I know that Tom is tired.\n",
      "正确答案：\n",
      "<sos>我知道湯姆累。\n",
      "预测\n",
      "<sos>我知道湯累累\n",
      "原文：\n",
      "<sos>I know that you're right.\n",
      "正确答案：\n",
      "<sos>我知道你是對的。\n",
      "预测\n",
      "<sos>我知道你對的。\n",
      "原文：\n",
      "<sos>I know what Tom is doing.\n",
      "正确答案：\n",
      "<sos>我知道汤姆在做什么。\n",
      "预测\n",
      "<sos>我知道姆在做什么\n",
      "原文：\n",
      "<sos>I know what you're doing.\n",
      "正确答案：\n",
      "<sos>我知道你在做什么。\n",
      "预测\n",
      "<sos>我知道你做什么。\n",
      "原文：\n",
      "<sos>I know what's in the box.\n",
      "正确答案：\n",
      "<sos>我知道盒子裡有什麼。\n",
      "预测\n",
      "<sos>我知道盒子有什什\n",
      "原文：\n",
      "<sos>I like being on the team.\n",
      "正确答案：\n",
      "<sos>我喜欢在队伍里。\n",
      "预测\n",
      "<sos>我喜欢队队里。\n",
      "原文：\n",
      "<sos>I like everything you do.\n",
      "正确答案：\n",
      "<sos>我喜歡你做的任何事。\n",
      "预测\n",
      "<sos>我喜歡你的的何。\n",
      "原文：\n",
      "<sos>I like playing the piano.\n",
      "正确答案：\n",
      "<sos>我喜欢弹钢琴。\n",
      "预测\n",
      "<sos>我喜欢弹钢。\n",
      "原文：\n",
      "<sos>I like shopping with Tom.\n",
      "正确答案：\n",
      "<sos>我喜歡跟湯姆購物。\n",
      "预测\n",
      "<sos>我喜歡跟姆購物。\n",
      "原文：\n",
      "<sos>I like to do my homework.\n",
      "正确答案：\n",
      "<sos>我喜歡做我的作業。\n",
      "预测\n",
      "<sos>我喜歡做的作業。\n",
      "原文：\n",
      "<sos>I like to ride on trains.\n",
      "正确答案：\n",
      "<sos>我喜歡乘坐火車。\n",
      "预测\n",
      "<sos>我喜歡乘火車。\n",
      "原文：\n",
      "<sos>I looked him in the eyes.\n",
      "正确答案：\n",
      "<sos>我直视他的眼睛。\n",
      "预测\n",
      "<sos>我直视他眼睛。\n",
      "原文：\n",
      "<sos>I lost my notebook today.\n",
      "正确答案：\n",
      "<sos>今天我的筆記本掉了。\n",
      "预测\n",
      "<sos>今天我筆筆本掉了\n",
      "原文：\n",
      "<sos>I love my work very much.\n",
      "正确答案：\n",
      "<sos>我非常喜欢我的工作。\n",
      "预测\n",
      "<sos>我非常喜我的工作。\n",
      "原文：\n",
      "<sos>I love my yellow sweater.\n",
      "正确答案：\n",
      "<sos>我很喜欢我的黄色套衫。\n",
      "预测\n",
      "<sos>我很喜欢的的色套衫。\n",
      "原文：\n",
      "<sos>I met a friend of Mary's.\n",
      "正确答案：\n",
      "<sos>我遇到了瑪麗的一位朋友。\n",
      "预测\n",
      "<sos>我遇了瑪瑪的的朋朋。\n",
      "原文：\n",
      "<sos>I met him at the station.\n",
      "正确答案：\n",
      "<sos>我在車站遇見他。\n",
      "预测\n",
      "<sos>我在站站見他。\n",
      "原文：\n",
      "<sos>I met him on my way home.\n",
      "正确答案：\n",
      "<sos>我在回家的路上遇到了他。\n",
      "预测\n",
      "<sos>我在家家的遇遇了他。\n",
      "原文：\n",
      "<sos>I met him on my way home.\n",
      "正确答案：\n",
      "<sos>我在回家的路上遇見了他。\n",
      "预测\n",
      "<sos>我在回家的遇遇了他。\n",
      "原文：\n",
      "<sos>I met the prince himself.\n",
      "正确答案：\n",
      "<sos>我见到了王子真人。\n",
      "预测\n",
      "<sos>我见到了王真真。\n",
      "原文：\n",
      "<sos>I often go to the movies.\n",
      "正确答案：\n",
      "<sos>我常常去看電影。\n",
      "预测\n",
      "<sos>我常去去看影。\n",
      "原文：\n",
      "<sos>I owe ten dollars to her.\n",
      "正确答案：\n",
      "<sos>我欠她10美元。\n",
      "预测\n",
      "<sos>我欠她00元。\n",
      "原文：\n",
      "<sos>I promise that I'll come.\n",
      "正确答案：\n",
      "<sos>我保证我会来。\n",
      "预测\n",
      "<sos>我保证会来。\n",
      "原文：\n",
      "<sos>I provided him with food.\n",
      "正确答案：\n",
      "<sos>我提供了他食物。\n",
      "预测\n",
      "<sos>我提供他食物。\n",
      "原文：\n",
      "<sos>I read a book last night.\n",
      "正确答案：\n",
      "<sos>我昨晚讀書。\n",
      "预测\n",
      "<sos>我昨晚讀。\n",
      "原文：\n",
      "<sos>I read an exciting story.\n",
      "正确答案：\n",
      "<sos>我讀了一篇精彩的故事。\n",
      "预测\n",
      "<sos>我讀了篇篇彩的故。\n",
      "原文：\n",
      "<sos>I really like this story.\n",
      "正确答案：\n",
      "<sos>我真喜歡這故事。\n",
      "预测\n",
      "<sos>我真喜這故事。\n",
      "原文：\n",
      "<sos>I really want to see you.\n",
      "正确答案：\n",
      "<sos>好想見到你\n",
      "预测\n",
      "<sos>好想見到。\n",
      "原文：\n",
      "<sos>I received an invitation.\n",
      "正确答案：\n",
      "<sos>我收到了一张请帖。\n",
      "预测\n",
      "<sos>我收到了张请帖帖\n",
      "原文：\n",
      "<sos>I saw her clean the room.\n",
      "正确答案：\n",
      "<sos>我看見了她打掃房間。\n",
      "预测\n",
      "<sos>我看見她她掃房間\n",
      "原文：\n",
      "<sos>I saw her enter the room.\n",
      "正确答案：\n",
      "<sos>我看見她進了房間。\n",
      "预测\n",
      "<sos>看看見她了房間。\n",
      "原文：\n",
      "<sos>I saw him cross the road.\n",
      "正确答案：\n",
      "<sos>我看见他穿过了马路。\n",
      "预测\n",
      "<sos>我看见他过过马。\n",
      "原文：\n",
      "<sos>I saw him reading a book.\n",
      "正确答案：\n",
      "<sos>我看見他在讀一本書。\n",
      "预测\n",
      "<sos>我看見他在一本本。\n",
      "原文：\n",
      "<sos>I see you found your bag.\n",
      "正确答案：\n",
      "<sos>我见你找到了你的包。\n",
      "预测\n",
      "<sos>我见你找了你包。\n",
      "原文：\n",
      "<sos>I shouldn't have done it.\n",
      "正确答案：\n",
      "<sos>我本不应该做的。\n",
      "预测\n",
      "<sos>我本不该做的\n",
      "原文：\n",
      "<sos>I signed the lease today.\n",
      "正确答案：\n",
      "<sos>我今天签了租约。\n",
      "预测\n",
      "<sos>我今天签租约。\n",
      "原文：\n",
      "<sos>I spent 10 dollars on it.\n",
      "正确答案：\n",
      "<sos>我在这东西上花了十美元。\n",
      "预测\n",
      "<sos>我在这西西上了十美元\n",
      "原文：\n",
      "<sos>I telephoned her at once.\n",
      "正确答案：\n",
      "<sos>我立刻打電話給她。\n",
      "预测\n",
      "<sos>我立刻打話話。\n",
      "原文：\n",
      "<sos>I think I made a mistake.\n",
      "正确答案：\n",
      "<sos>我认为我犯了个错。\n",
      "预测\n",
      "<sos>我认为犯犯个个。\n",
      "原文：\n",
      "<sos>I think I'm going to cry.\n",
      "正确答案：\n",
      "<sos>我想我要哭了。\n",
      "预测\n",
      "<sos>我想我要了了\n",
      "原文：\n",
      "<sos>I think I've done enough.\n",
      "正确答案：\n",
      "<sos>我認為我做得夠了。\n",
      "预测\n",
      "<sos>我認為做做夠了。\n",
      "原文：\n",
      "<sos>I think Tom is very cool.\n",
      "正确答案：\n",
      "<sos>我認為湯姆很酷。\n",
      "预测\n",
      "<sos>我認為湯很酷。\n",
      "原文：\n",
      "<sos>I think it won't succeed.\n",
      "正确答案：\n",
      "<sos>我認為它不會成功。\n",
      "预测\n",
      "<sos>我認為不會成功\n",
      "原文：\n",
      "<sos>I think we should try it.\n",
      "正确答案：\n",
      "<sos>我認為我們該試試。\n",
      "预测\n",
      "<sos>我認為我們試試。\n",
      "原文：\n",
      "<sos>I think we're in trouble.\n",
      "正确答案：\n",
      "<sos>我认为我们有麻烦。\n",
      "预测\n",
      "<sos>我认为们有有烦。\n",
      "原文：\n",
      "<sos>I think you went too far.\n",
      "正确答案：\n",
      "<sos>我觉得您过火了。\n",
      "预测\n",
      "<sos>我觉得您火了。\n",
      "原文：\n",
      "<sos>I thought I was dreaming.\n",
      "正确答案：\n",
      "<sos>我还以为我在做梦呢。\n",
      "预测\n",
      "<sos>我还以为我做梦呢。\n",
      "原文：\n",
      "<sos>I tried to call Tom back.\n",
      "正确答案：\n",
      "<sos>我試著叫湯姆回來。\n",
      "预测\n",
      "<sos>我試著湯姆回來。\n",
      "原文：\n",
      "<sos>I understand the concept.\n",
      "正确答案：\n",
      "<sos>我明白这概念。\n",
      "预测\n",
      "<sos>我明白这概。\n",
      "原文：\n",
      "<sos>I used to eat like a pig.\n",
      "正确答案：\n",
      "<sos>我曾经像猪一样吃。\n",
      "预测\n",
      "<sos>我曾经猪一一吃。\n",
      "原文：\n",
      "<sos>I usually get up at 6:00.\n",
      "正确答案：\n",
      "<sos>我通常在六點鐘起床。\n",
      "预测\n",
      "<sos>我一常六點鐘起。\n",
      "原文：\n",
      "<sos>I usually get up at 6:00.\n",
      "正确答案：\n",
      "<sos>我一般六点起床。\n",
      "预测\n",
      "<sos>我通般六起起床\n",
      "原文：\n",
      "<sos>I usually walk to school.\n",
      "正确答案：\n",
      "<sos>我通常走去学校。\n",
      "预测\n",
      "<sos>一般我步去校校。\n",
      "原文：\n",
      "<sos>I usually walk to school.\n",
      "正确答案：\n",
      "<sos>一般我步行去学校。\n",
      "预测\n",
      "<sos>我通我去去校校\n",
      "原文：\n",
      "<sos>I walked along the river.\n",
      "正确答案：\n",
      "<sos>我沿着河走了段路。\n",
      "预测\n",
      "<sos>我沿着走段段路。\n",
      "原文：\n",
      "<sos>I want Tom put in prison.\n",
      "正确答案：\n",
      "<sos>我想讓湯姆進監獄。\n",
      "预测\n",
      "<sos>我想讓湯進監獄\n",
      "原文：\n",
      "<sos>I want a good dictionary.\n",
      "正确答案：\n",
      "<sos>我想要本好词典。\n",
      "预测\n",
      "<sos>我想要本词典典\n",
      "原文：\n",
      "<sos>I want some orange juice.\n",
      "正确答案：\n",
      "<sos>我想要一點柳橙汁。\n",
      "预测\n",
      "<sos>我想要一柳橙汁。\n",
      "原文：\n",
      "<sos>I want something to read.\n",
      "正确答案：\n",
      "<sos>我要些讀的東西。\n",
      "预测\n",
      "<sos>我要些讀東西\n",
      "原文：\n",
      "<sos>I want to believe in Tom.\n",
      "正确答案：\n",
      "<sos>我要相信湯姆。\n",
      "预测\n",
      "<sos>我要相湯姆。\n",
      "原文：\n",
      "<sos>I want to reserve a room.\n",
      "正确答案：\n",
      "<sos>我想預定一個房間。\n",
      "预测\n",
      "<sos>我想預定一房間\n",
      "原文：\n",
      "<sos>I wanted to surprise her.\n",
      "正确答案：\n",
      "<sos>我想給她一個驚喜。\n",
      "预测\n",
      "<sos>我想給她個驚。\n",
      "原文：\n",
      "<sos>I was abducted by aliens.\n",
      "正确答案：\n",
      "<sos>我被外星人绑架了。\n",
      "预测\n",
      "<sos>我被外星绑绑了。\n",
      "原文：\n",
      "<sos>I was afraid I'd be late.\n",
      "正确答案：\n",
      "<sos>我怕我會遲到。\n",
      "预测\n",
      "<sos>我怕我遲到。\n",
      "原文：\n",
      "<sos>I was asked to wait here.\n",
      "正确答案：\n",
      "<sos>我被要求在这里等。\n",
      "预测\n",
      "<sos>我被求在这里等。\n",
      "原文：\n",
      "<sos>I was born in the winter.\n",
      "正确答案：\n",
      "<sos>我在冬天出生。\n",
      "预测\n",
      "<sos>我在冬出出。\n",
      "原文：\n",
      "<sos>I was in Tokyo yesterday.\n",
      "正确答案：\n",
      "<sos>我昨天在東京。\n",
      "预测\n",
      "<sos>我昨天東東。\n",
      "原文：\n",
      "<sos>I was lonely without her.\n",
      "正确答案：\n",
      "<sos>她不在，我很孤独。\n",
      "预测\n",
      "<sos>她不在我很独。。\n",
      "原文：\n",
      "<sos>I was waiting for a taxi.\n",
      "正确答案：\n",
      "<sos>我等着出租车。\n",
      "预测\n",
      "<sos>我等着出租。\n",
      "原文：\n",
      "<sos>I will be at the meeting.\n",
      "正确答案：\n",
      "<sos>我会出席会议的。\n",
      "预测\n",
      "<sos>我会出席会的。\n",
      "原文：\n",
      "<sos>I will explain it to her.\n",
      "正确答案：\n",
      "<sos>我会跟她解释的。\n",
      "预测\n",
      "<sos>我会跟解释的。\n",
      "原文：\n",
      "<sos>I will go to the meeting.\n",
      "正确答案：\n",
      "<sos>我将要去参加会议。\n",
      "预测\n",
      "<sos>我将要去加会议\n",
      "原文：\n",
      "<sos>I will not eat ice cream.\n",
      "正确答案：\n",
      "<sos>我不會吃冰淇淋。\n",
      "预测\n",
      "<sos>我不會冰淇淋。\n",
      "原文：\n",
      "<sos>I will write to you soon.\n",
      "正确答案：\n",
      "<sos>我會盡快寫信給你。\n",
      "预测\n",
      "<sos>我會盡寫信給你\n",
      "原文：\n",
      "<sos>I wish I was young again.\n",
      "正确答案：\n",
      "<sos>我希望我再年輕一次。\n",
      "预测\n",
      "<sos>我希望我再一一次。\n",
      "原文：\n",
      "<sos>I won't be here tomorrow.\n",
      "正确答案：\n",
      "<sos>我明天不在这儿。\n",
      "预测\n",
      "<sos>我明天在这儿。\n",
      "原文：\n",
      "<sos>I wonder if Tom likes me.\n",
      "正确答案：\n",
      "<sos>我不知道湯姆是否喜歡我。\n",
      "预测\n",
      "<sos>我不知道湯姆否歡歡。\n",
      "原文：\n",
      "<sos>I wonder if this is love.\n",
      "正确答案：\n",
      "<sos>我不知道這是不是愛。\n",
      "预测\n",
      "<sos>我不知這這不不。\n",
      "原文：\n",
      "<sos>I wonder why he did that.\n",
      "正确答案：\n",
      "<sos>我不知道他為什麼那樣做？\n",
      "预测\n",
      "<sos>我不知道他什那那樣？\n",
      "原文：\n",
      "<sos>I worked a lot this week.\n",
      "正确答案：\n",
      "<sos>我这周干了很多活。\n",
      "预测\n",
      "<sos>我这周了了多活。\n",
      "原文：\n",
      "<sos>I worked hard last month.\n",
      "正确答案：\n",
      "<sos>我上個月很努力工作。\n",
      "预测\n",
      "<sos>我上個很很力工作。\n",
      "原文：\n",
      "<sos>I would do it if I could.\n",
      "正确答案：\n",
      "<sos>我如果能做就做了。\n",
      "预测\n",
      "<sos>我如能做做做。\n",
      "原文：\n",
      "<sos>I would like fruit juice.\n",
      "正确答案：\n",
      "<sos>我想要果汁。\n",
      "预测\n",
      "<sos>我想要果汁\n",
      "原文：\n",
      "<sos>I would like to help you.\n",
      "正确答案：\n",
      "<sos>我愿意帮你。\n",
      "预测\n",
      "<sos>我愿意你。\n",
      "原文：\n",
      "<sos>I'd be happy to help you.\n",
      "正确答案：\n",
      "<sos>我愿意帮你。\n",
      "预测\n",
      "<sos>我愿帮你。\n",
      "原文：\n",
      "<sos>I'd better get back home.\n",
      "正确答案：\n",
      "<sos>我回家比较好。\n",
      "预测\n",
      "<sos>我回家比好。\n",
      "原文：\n",
      "<sos>I'd like an orange juice.\n",
      "正确答案：\n",
      "<sos>我想要一杯柳橙汁。\n",
      "预测\n",
      "<sos>我想要杯柳橙汁。\n",
      "原文：\n",
      "<sos>I'd like some more water.\n",
      "正确答案：\n",
      "<sos>请再给我一些水。\n",
      "预测\n",
      "<sos>请再给一些水。\n",
      "原文：\n",
      "<sos>I'd like to go to London.\n",
      "正确答案：\n",
      "<sos>我想要去伦敦。\n",
      "预测\n",
      "<sos>我想要伦敦。\n",
      "原文：\n",
      "<sos>I'd like to pay by check.\n",
      "正确答案：\n",
      "<sos>我想用支票付款。\n",
      "预测\n",
      "<sos>我想用支票款。\n",
      "原文：\n",
      "<sos>I'd like to see a doctor.\n",
      "正确答案：\n",
      "<sos>我想看醫生。\n",
      "预测\n",
      "<sos>我要醫醫生\n",
      "原文：\n",
      "<sos>I'd like to see a doctor.\n",
      "正确答案：\n",
      "<sos>我要看病。\n",
      "预测\n",
      "<sos>我要看生。\n",
      "原文：\n",
      "<sos>I'd like you to go there.\n",
      "正确答案：\n",
      "<sos>我希望你去那裡。\n",
      "预测\n",
      "<sos>我希望你那裡。\n",
      "原文：\n",
      "<sos>I'd never done it before.\n",
      "正确答案：\n",
      "<sos>我以前從未過它。\n",
      "预测\n",
      "<sos>我以前未未。\n",
      "原文：\n",
      "<sos>I'd very much like to go.\n",
      "正确答案：\n",
      "<sos>我非常想离开。\n",
      "预测\n",
      "<sos>我非常想离。\n",
      "原文：\n",
      "<sos>I'll be flying to Boston.\n",
      "正确答案：\n",
      "<sos>我将要飞到波士顿去。\n",
      "预测\n",
      "<sos>我将要飞波士顿去\n",
      "原文：\n",
      "<sos>I'll be gone for a while.\n",
      "正确答案：\n",
      "<sos>我要暂时离开。\n",
      "预测\n",
      "<sos>我要暂离离。\n",
      "原文：\n",
      "<sos>I'll be here for a while.\n",
      "正确答案：\n",
      "<sos>我在这待一会。\n",
      "预测\n",
      "<sos>我在这一会。\n",
      "原文：\n",
      "<sos>I'll be there right away.\n",
      "正确答案：\n",
      "<sos>我馬上到那裡。\n",
      "预测\n",
      "<sos>我馬到到裡裡\n",
      "原文：\n",
      "<sos>I'll follow you anywhere.\n",
      "正确答案：\n",
      "<sos>到哪里我都会跟着你。\n",
      "预测\n",
      "<sos>到哪里都会跟着。\n",
      "原文：\n",
      "<sos>I'll get you some coffee.\n",
      "正确答案：\n",
      "<sos>我會給你帶些咖啡。\n",
      "预测\n",
      "<sos>我會給你些咖啡。\n",
      "原文：\n",
      "<sos>I'll give you this money.\n",
      "正确答案：\n",
      "<sos>我會給你這筆錢。\n",
      "预测\n",
      "<sos>我會給這筆錢。\n",
      "原文：\n",
      "<sos>I'll make you a new suit.\n",
      "正确答案：\n",
      "<sos>我會給你做一套新衣服。\n",
      "预测\n",
      "<sos>我會給你一套新衣服\n",
      "原文：\n",
      "<sos>I'll never do this again.\n",
      "正确答案：\n",
      "<sos>我永遠不會再這樣做。\n",
      "预测\n",
      "<sos>我永不不再這樣。。\n",
      "原文：\n",
      "<sos>I'll stay here for a bit.\n",
      "正确答案：\n",
      "<sos>我在这待一会。\n",
      "预测\n",
      "<sos>我在这一一。\n",
      "原文：\n",
      "<sos>I'll treat you to dinner.\n",
      "正确答案：\n",
      "<sos>晚饭我请客。\n",
      "预测\n",
      "<sos>晚饭我请。\n",
      "原文：\n",
      "<sos>I'm a university student.\n",
      "正确答案：\n",
      "<sos>我是个大学生。\n",
      "预测\n",
      "<sos>我是个大生生\n",
      "原文：\n",
      "<sos>I'm afraid it won't work.\n",
      "正确答案：\n",
      "<sos>我怕它是行不通的。\n",
      "预测\n",
      "<sos>我怕它是行通的。\n",
      "原文：\n",
      "<sos>I'm as hungry as a horse.\n",
      "正确答案：\n",
      "<sos>我餓得像匹馬。\n",
      "预测\n",
      "<sos>我餓得匹馬扑\n",
      "原文：\n",
      "<sos>I'm as hungry as a horse.\n",
      "正确答案：\n",
      "<sos>我饿得跟饿虎扑羊似的。\n",
      "预测\n",
      "<sos>我餓得匹馬扑羊\n",
      "原文：\n",
      "<sos>I'm as tall as my father.\n",
      "正确答案：\n",
      "<sos>我跟我父親一樣高。\n",
      "预测\n",
      "<sos>我跟我父親高高。\n",
      "原文：\n",
      "<sos>I'm completely exhausted.\n",
      "正确答案：\n",
      "<sos>我完全地筋疲力盡了。\n",
      "预测\n",
      "<sos>我完全地疲力盡了。\n",
      "原文：\n",
      "<sos>I'm crazy about football.\n",
      "正确答案：\n",
      "<sos>我愛足球愛瘋了。\n",
      "预测\n",
      "<sos>我愛足球愛了。\n",
      "原文：\n",
      "<sos>I'm delighted to see you.\n",
      "正确答案：\n",
      "<sos>我很高兴见到你。\n",
      "预测\n",
      "<sos>我很高见到你。\n",
      "原文：\n",
      "<sos>I'm glad someone told me.\n",
      "正确答案：\n",
      "<sos>真高兴有人告诉我。\n",
      "预测\n",
      "<sos>真高兴有告告诉。\n",
      "原文：\n",
      "<sos>I'm glad to see you back.\n",
      "正确答案：\n",
      "<sos>很高兴再见到您。\n",
      "预测\n",
      "<sos>很高兴见到您\n",
      "原文：\n",
      "<sos>I'm glad to see you back.\n",
      "正确答案：\n",
      "<sos>很高兴再见到你。\n",
      "预测\n",
      "<sos>很高兴见到你\n",
      "原文：\n",
      "<sos>I'm going to go sit down.\n",
      "正确答案：\n",
      "<sos>我要坐下。\n",
      "预测\n",
      "<sos>我要坐下。\n",
      "原文：\n",
      "<sos>I'm going to go tell Tom.\n",
      "正确答案：\n",
      "<sos>我要告诉汤姆。\n",
      "预测\n",
      "<sos>我要诉汤姆。\n",
      "原文：\n",
      "<sos>I'm going to take a bath.\n",
      "正确答案：\n",
      "<sos>我打算洗个澡。\n",
      "预测\n",
      "<sos>我打洗洗澡。\n",
      "原文：\n",
      "<sos>I'm going to take my car.\n",
      "正确答案：\n",
      "<sos>我将去取我的车。\n",
      "预测\n",
      "<sos>我将去我的车。\n",
      "原文：\n",
      "<sos>I'm going to the airport.\n",
      "正确答案：\n",
      "<sos>我去機場。\n",
      "预测\n",
      "<sos>我去機場。\n",
      "原文：\n",
      "<sos>I'm interested in sports.\n",
      "正确答案：\n",
      "<sos>我对运动感兴趣。\n",
      "预测\n",
      "<sos>我对运动兴趣。\n",
      "原文：\n",
      "<sos>I'm learning how to type.\n",
      "正确答案：\n",
      "<sos>我正在學如何打字。\n",
      "预测\n",
      "<sos>我在在如何何。。\n",
      "原文：\n",
      "<sos>I'm not a native speaker.\n",
      "正确答案：\n",
      "<sos>我不是个母语者。\n",
      "预测\n",
      "<sos>我不个个母语。\n",
      "原文：\n",
      "<sos>I'm not going to give up.\n",
      "正确答案：\n",
      "<sos>我不会放弃的。\n",
      "预测\n",
      "<sos>我不会放的。\n",
      "原文：\n",
      "<sos>I'm not moving to Boston.\n",
      "正确答案：\n",
      "<sos>我没有向波士顿走。\n",
      "预测\n",
      "<sos>我没有向波顿顿。\n",
      "原文：\n",
      "<sos>I'm only thinking of you.\n",
      "正确答案：\n",
      "<sos>我只想到你。\n",
      "预测\n",
      "<sos>我只想到。\n",
      "原文：\n",
      "<sos>I'm playing football now.\n",
      "正确答案：\n",
      "<sos>我現在正在踢足球。\n",
      "预测\n",
      "<sos>我現在正在足球。\n",
      "原文：\n",
      "<sos>I'm responsible for that.\n",
      "正确答案：\n",
      "<sos>我对此负有责任。\n",
      "预测\n",
      "<sos>我对此负责责。\n",
      "原文：\n",
      "<sos>I'm running out of ideas.\n",
      "正确答案：\n",
      "<sos>我没主意了。\n",
      "预测\n",
      "<sos>我没意了。\n",
      "原文：\n",
      "<sos>I'm staying at my aunt's.\n",
      "正确答案：\n",
      "<sos>我住在我姑姑家。\n",
      "预测\n",
      "<sos>我住在我姑家。\n",
      "原文：\n",
      "<sos>I'm tired of translating.\n",
      "正确答案：\n",
      "<sos>我厭倦了翻譯。\n",
      "预测\n",
      "<sos>我厭倦了譯。\n",
      "原文：\n",
      "<sos>I'm too drunk to do that.\n",
      "正确答案：\n",
      "<sos>我喝醉了，做不到。\n",
      "预测\n",
      "<sos>我喝醉了做不。。\n",
      "原文：\n",
      "<sos>I'm using a new computer.\n",
      "正确答案：\n",
      "<sos>我正在用一台新电脑。\n",
      "预测\n",
      "<sos>我正在一一台新电。\n",
      "原文：\n",
      "<sos>I'm very tired right now.\n",
      "正确答案：\n",
      "<sos>我現在很累。\n",
      "预测\n",
      "<sos>我現很累。\n",
      "原文：\n",
      "<sos>I've already eaten lunch.\n",
      "正确答案：\n",
      "<sos>我已經吃過午餐了。\n",
      "预测\n",
      "<sos>我已經吃午餐餐。\n",
      "原文：\n",
      "<sos>I've always kept my word.\n",
      "正确答案：\n",
      "<sos>我一直信守我的諾言。\n",
      "预测\n",
      "<sos>我一直遵守的的言。\n",
      "原文：\n",
      "<sos>I've always kept my word.\n",
      "正确答案：\n",
      "<sos>我一直遵守我的諾言。\n",
      "预测\n",
      "<sos>我一直守守的諾言。\n",
      "原文：\n",
      "<sos>I've always wanted a pet.\n",
      "正确答案：\n",
      "<sos>我一直想養寵物。\n",
      "预测\n",
      "<sos>我一直想養物。\n",
      "原文：\n",
      "<sos>I've been cheated before.\n",
      "正确答案：\n",
      "<sos>我以前被騙過。\n",
      "预测\n",
      "<sos>我以前騙騙。\n",
      "原文：\n",
      "<sos>I've done enough already.\n",
      "正确答案：\n",
      "<sos>我已经做够了。\n",
      "预测\n",
      "<sos>我已经够够。\n",
      "原文：\n",
      "<sos>Is Tom really a nice guy?\n",
      "正确答案：\n",
      "<sos>汤姆是个好人吗？\n",
      "预测\n",
      "<sos>汤姆是个好吗吗\n",
      "原文：\n",
      "<sos>Is that what it's called?\n",
      "正确答案：\n",
      "<sos>那就是它的叫法嗎？\n",
      "预测\n",
      "<sos>那就是它叫叫嗎？\n",
      "原文：\n",
      "<sos>Is there a zoo in Boston?\n",
      "正确答案：\n",
      "<sos>波士顿有动物园吗？\n",
      "预测\n",
      "<sos>波士有动物物吗？\n",
      "原文：\n",
      "<sos>Is there an app for that?\n",
      "正确答案：\n",
      "<sos>有它的应用吗？\n",
      "预测\n",
      "<sos>它它的用吗？\n",
      "原文：\n",
      "<sos>Is this a duty-free shop?\n",
      "正确答案：\n",
      "<sos>這是一間免稅商店嗎？\n",
      "预测\n",
      "<sos>這是一間稅的店嗎？\n",
      "原文：\n",
      "<sos>Is this bag yours or his?\n",
      "正确答案：\n",
      "<sos>那个包是你的还是他的？\n",
      "预测\n",
      "<sos>那个包是的还还的？？\n",
      "原文：\n",
      "<sos>Is this fish still alive?\n",
      "正确答案：\n",
      "<sos>这条鱼还是活的吗？\n",
      "预测\n",
      "<sos>这条鱼还是活吗？\n",
      "原文：\n",
      "<sos>Isn't Tom from Australia?\n",
      "正确答案：\n",
      "<sos>汤姆不是澳洲来的吗？\n",
      "预测\n",
      "<sos>汤姆不是澳来的吗？\n",
      "原文：\n",
      "<sos>It belongs to my brother.\n",
      "正确答案：\n",
      "<sos>它屬於我兄弟。\n",
      "预测\n",
      "<sos>它屬於兄弟。\n",
      "原文：\n",
      "<sos>It doesn't mean anything.\n",
      "正确答案：\n",
      "<sos>这什么都说明不了！\n",
      "预测\n",
      "<sos>这什么都说明了。\n",
      "原文：\n",
      "<sos>It doesn't really matter.\n",
      "正确答案：\n",
      "<sos>那不真的重要。\n",
      "预测\n",
      "<sos>那真真的要。\n",
      "原文：\n",
      "<sos>It is going to rain soon.\n",
      "正确答案：\n",
      "<sos>天快要下雨了。\n",
      "预测\n",
      "<sos>天快要雨了\n",
      "原文：\n",
      "<sos>It is unfortunately true.\n",
      "正确答案：\n",
      "<sos>可惜这是真的。\n",
      "预测\n",
      "<sos>可惜这真的。\n",
      "原文：\n",
      "<sos>It makes no sense at all.\n",
      "正确答案：\n",
      "<sos>这没有任何意义。\n",
      "预测\n",
      "<sos>这没任何意义义\n",
      "原文：\n",
      "<sos>It must be a coincidence.\n",
      "正确答案：\n",
      "<sos>這一定是個巧合。\n",
      "预测\n",
      "<sos>這一定個巧合。\n",
      "原文：\n",
      "<sos>It really comes in handy.\n",
      "正确答案：\n",
      "<sos>這真的能派上用場。\n",
      "预测\n",
      "<sos>這的的能派用場。\n",
      "原文：\n",
      "<sos>It seems that he's happy.\n",
      "正确答案：\n",
      "<sos>看來，他很快樂。\n",
      "预测\n",
      "<sos>看來他很快樂。\n",
      "原文：\n",
      "<sos>It was already very late.\n",
      "正确答案：\n",
      "<sos>天色已晚。\n",
      "预测\n",
      "<sos>天色已。\n",
      "原文：\n",
      "<sos>It was beginning to snow.\n",
      "正确答案：\n",
      "<sos>開始下雪了。\n",
      "预测\n",
      "<sos>開始下了。\n",
      "原文：\n",
      "<sos>It was discovered by Tom.\n",
      "正确答案：\n",
      "<sos>它是由湯姆發現的。\n",
      "预测\n",
      "<sos>它是由姆發現的。\n",
      "原文：\n",
      "<sos>It was just as I thought.\n",
      "正确答案：\n",
      "<sos>这正如我想的一样。\n",
      "预测\n",
      "<sos>这正如我的一样。\n",
      "原文：\n",
      "<sos>It's a basic human right.\n",
      "正确答案：\n",
      "<sos>它是基本人权。\n",
      "预测\n",
      "<sos>它是基本权。\n",
      "原文：\n",
      "<sos>It's about time to start.\n",
      "正确答案：\n",
      "<sos>差不多该开始了。\n",
      "预测\n",
      "<sos>差多多开开了\n",
      "原文：\n",
      "<sos>It's better than nothing.\n",
      "正确答案：\n",
      "<sos>有比沒有好。\n",
      "预测\n",
      "<sos>有比沒好。\n",
      "原文：\n",
      "<sos>It's hot today, isn't it?\n",
      "正确答案：\n",
      "<sos>今天很熱，不是嗎?\n",
      "预测\n",
      "<sos>今天很熱不是嗎?\n",
      "原文：\n",
      "<sos>It's my duty to help you.\n",
      "正确答案：\n",
      "<sos>帮助你是我的责任。\n",
      "预测\n",
      "<sos>帮助你是的责任\n",
      "原文：\n",
      "<sos>It's not quite ready yet.\n",
      "正确答案：\n",
      "<sos>还没怎么准备好。\n",
      "预测\n",
      "<sos>还没怎准备好。\n",
      "原文：\n",
      "<sos>It's our job to help you.\n",
      "正确答案：\n",
      "<sos>帮助你是我们的工作。\n",
      "预测\n",
      "<sos>帮助你们的的作。\n",
      "原文：\n",
      "<sos>It's pitch black outside.\n",
      "正确答案：\n",
      "<sos>外面一片漆黑。\n",
      "预测\n",
      "<sos>外面漆漆漆。\n",
      "原文：\n",
      "<sos>It's six o'clock already.\n",
      "正确答案：\n",
      "<sos>已經六點鐘了。\n",
      "预测\n",
      "<sos>已經六鐘了。\n",
      "原文：\n",
      "<sos>It's time to take a bath.\n",
      "正确答案：\n",
      "<sos>是时候洗个澡了。\n",
      "预测\n",
      "<sos>是时洗个个澡。\n",
      "原文：\n",
      "<sos>It's up to you to decide.\n",
      "正确答案：\n",
      "<sos>由你來決定。\n",
      "预测\n",
      "<sos>由你來決。\n",
      "原文：\n",
      "<sos>Just take my word for it.\n",
      "正确答案：\n",
      "<sos>請相信我的話。\n",
      "预测\n",
      "<sos>請信信的話。\n",
      "原文：\n",
      "<sos>Keep this lesson in mind.\n",
      "正确答案：\n",
      "<sos>记好了这教训。\n",
      "预测\n",
      "<sos>记好了教训。\n",
      "原文：\n",
      "<sos>Let him play your guitar.\n",
      "正确答案：\n",
      "<sos>讓他彈你的吉他。\n",
      "预测\n",
      "<sos>讓他彈的吉吉。\n",
      "原文：\n",
      "<sos>Let me check your ticket.\n",
      "正确答案：\n",
      "<sos>讓我看一下你的票。\n",
      "预测\n",
      "<sos>讓我看一下的票。\n",
      "原文：\n",
      "<sos>Let me explain it to Tom.\n",
      "正确答案：\n",
      "<sos>讓我跟湯姆說明。\n",
      "预测\n",
      "<sos>讓我跟姆姆明。\n",
      "原文：\n",
      "<sos>Let me explain it to you.\n",
      "正确答案：\n",
      "<sos>讓我給你說明。\n",
      "预测\n",
      "<sos>讓我你你明。\n",
      "原文：\n",
      "<sos>Let me have a look at it.\n",
      "正确答案：\n",
      "<sos>讓我看看它。\n",
      "预测\n",
      "<sos>讓我看它它\n",
      "原文：\n",
      "<sos>Let me make you some tea.\n",
      "正确答案：\n",
      "<sos>讓我給你沏茶。\n",
      "预测\n",
      "<sos>讓我給沏茶。\n",
      "原文：\n",
      "<sos>Let me think for a while.\n",
      "正确答案：\n",
      "<sos>讓我思考一下。\n",
      "预测\n",
      "<sos>讓我思一。。\n",
      "原文：\n",
      "<sos>Let's do it another time.\n",
      "正确答案：\n",
      "<sos>改天再說吧。\n",
      "预测\n",
      "<sos>再找時間吧。\n",
      "原文：\n",
      "<sos>Let's do it another time.\n",
      "正确答案：\n",
      "<sos>再找時間吧。\n",
      "预测\n",
      "<sos>改天時說吧。\n",
      "原文：\n",
      "<sos>Let's get together again!\n",
      "正确答案：\n",
      "<sos>讓我們再聚在一起!\n",
      "预测\n",
      "<sos>讓我們再聚一起!\n",
      "原文：\n",
      "<sos>Let's not fool ourselves.\n",
      "正确答案：\n",
      "<sos>我们别自骗自了。\n",
      "预测\n",
      "<sos>我们别骗骗了。\n",
      "原文：\n",
      "<sos>Let's take a short break.\n",
      "正确答案：\n",
      "<sos>讓我們休息一會兒。\n",
      "预测\n",
      "<sos>讓我們息一一兒。\n",
      "原文：\n",
      "<sos>Look out for pickpockets.\n",
      "正确答案：\n",
      "<sos>小心扒手。\n",
      "预测\n",
      "<sos>小心扒。\n",
      "原文：\n",
      "<sos>Look what I made for you.\n",
      "正确答案：\n",
      "<sos>看我为你做了什么。\n",
      "预测\n",
      "<sos>看我为做做什。\n",
      "原文：\n",
      "<sos>Many friends saw him off.\n",
      "正确答案：\n",
      "<sos>許多朋友為他送行。\n",
      "预测\n",
      "<sos>許多朋為他送行\n",
      "原文：\n",
      "<sos>Mary had to go to school.\n",
      "正确答案：\n",
      "<sos>瑪麗必須去上學。\n",
      "预测\n",
      "<sos>瑪麗須去上學。\n",
      "原文：\n",
      "<sos>May I ask some questions?\n",
      "正确答案：\n",
      "<sos>我可以問一些問題嗎?\n",
      "预测\n"
     ]
    },
    {
     "name": "stdout",
     "output_type": "stream",
     "text": [
      "<sos>我可以問一些題嗎\n",
      "原文：\n",
      "<sos>May I ask you a question?\n",
      "正确答案：\n",
      "<sos>我可以问你个问题吗？\n",
      "预测\n",
      "<sos>我可以问个问题吗？\n",
      "原文：\n",
      "<sos>May I go to the bathroom?\n",
      "正确答案：\n",
      "<sos>我可以去洗手間嗎？\n",
      "预测\n",
      "<sos>我可以洗手間間？\n",
      "原文：\n",
      "<sos>May I go to the restroom?\n",
      "正确答案：\n",
      "<sos>我可以去洗手間嗎？\n",
      "预测\n",
      "<sos>我可以洗手間嗎？\n",
      "原文：\n",
      "<sos>May I see you in private?\n",
      "正确答案：\n",
      "<sos>我們能私下見見嗎？\n",
      "预测\n",
      "<sos>我們能下下見嗎？\n",
      "原文：\n",
      "<sos>Mother has a coffee shop.\n",
      "正确答案：\n",
      "<sos>媽媽有一個咖啡廳。\n",
      "预测\n",
      "<sos>媽媽有一咖啡啡。\n",
      "原文：\n",
      "<sos>Mt. Asama is now dormant.\n",
      "正确答案：\n",
      "<sos>浅间山现在是寂静的。\n",
      "预测\n",
      "<sos>浅间山在在寂的的。\n",
      "原文：\n",
      "<sos>My aunt gave me a camera.\n",
      "正确答案：\n",
      "<sos>我的阿姨給了我一台攝影機。\n",
      "预测\n",
      "<sos>我的阿姨我我一攝攝機機\n",
      "原文：\n",
      "<sos>My aunt gave me an album.\n",
      "正确答案：\n",
      "<sos>我姑姑給了我一張唱片專輯。\n",
      "预测\n",
      "<sos>我姑給了我一本集郵。\n",
      "原文：\n",
      "<sos>My aunt gave me an album.\n",
      "正确答案：\n",
      "<sos>我姑姑給了我一本相簿。\n",
      "预测\n",
      "<sos>我姑姑了我一本集郵。。\n",
      "原文：\n",
      "<sos>My aunt gave me an album.\n",
      "正确答案：\n",
      "<sos>我姑姑給了我一本集郵冊。\n",
      "预测\n",
      "<sos>我姑姑給我一本集郵。。\n",
      "原文：\n",
      "<sos>My blood pressure is low.\n",
      "正确答案：\n",
      "<sos>我的血压很低。\n",
      "预测\n",
      "<sos>我的血很很。\n",
      "原文：\n",
      "<sos>My father drives to work.\n",
      "正确答案：\n",
      "<sos>我父親開車去上班。\n",
      "预测\n",
      "<sos>我父親開去上班。\n",
      "原文：\n",
      "<sos>My father gave me a game.\n",
      "正确答案：\n",
      "<sos>我爸爸给我了游戏。\n",
      "预测\n",
      "<sos>我爸爸我我游戏。\n",
      "原文：\n",
      "<sos>My father is in his room.\n",
      "正确答案：\n",
      "<sos>我父親在他的房間裡。\n",
      "预测\n",
      "<sos>我父親在的房間裡。\n",
      "原文：\n",
      "<sos>My front teeth stick out.\n",
      "正确答案：\n",
      "<sos>我门牙突出。\n",
      "预测\n",
      "<sos>我门牙出出\n",
      "原文：\n",
      "<sos>My house is old and ugly.\n",
      "正确答案：\n",
      "<sos>我的房子又舊又難看。\n",
      "预测\n",
      "<sos>我的房子舊又難看。\n",
      "原文：\n",
      "<sos>My husband's not in town.\n",
      "正确答案：\n",
      "<sos>我丈夫没在城里。\n",
      "预测\n",
      "<sos>我丈夫没城城。\n",
      "原文：\n",
      "<sos>My job is to wash dishes.\n",
      "正确答案：\n",
      "<sos>我的工作是洗碗。\n",
      "预测\n",
      "<sos>我的工是洗碗。\n",
      "原文：\n",
      "<sos>My job is to wash dishes.\n",
      "正确答案：\n",
      "<sos>我的工作是洗盤子。\n",
      "预测\n",
      "<sos>我的工作洗盤。\n",
      "原文：\n",
      "<sos>My job is washing dishes.\n",
      "正确答案：\n",
      "<sos>我的工作是洗碗。\n",
      "预测\n",
      "<sos>我的工作洗碗子\n",
      "原文：\n",
      "<sos>My job is washing dishes.\n",
      "正确答案：\n",
      "<sos>我的工作是洗盤子。\n",
      "预测\n",
      "<sos>我的工是洗碗子\n",
      "原文：\n",
      "<sos>My mother is quite angry.\n",
      "正确答案：\n",
      "<sos>我母亲十分生气。\n",
      "预测\n",
      "<sos>我母亲分分气。\n",
      "原文：\n",
      "<sos>My room faces the garden.\n",
      "正确答案：\n",
      "<sos>我的房間面向花園。\n",
      "预测\n",
      "<sos>我的間間向花園。\n",
      "原文：\n",
      "<sos>My shoulder really aches.\n",
      "正确答案：\n",
      "<sos>我的肩膀很痠。\n",
      "预测\n",
      "<sos>我的肩很痠。\n",
      "原文：\n",
      "<sos>My team is always losing.\n",
      "正确答案：\n",
      "<sos>我们队总是输。\n",
      "预测\n",
      "<sos>我们队从是输赢。。\n",
      "原文：\n",
      "<sos>My team is always losing.\n",
      "正确答案：\n",
      "<sos>我们队从来就没赢过。\n",
      "预测\n",
      "<sos>我们队从来输。。。\n",
      "原文：\n",
      "<sos>My uncle gave me his car.\n",
      "正确答案：\n",
      "<sos>我叔叔給了我他的車。\n",
      "预测\n",
      "<sos>我叔叔了了的的車。\n",
      "原文：\n",
      "<sos>My watch has been stolen.\n",
      "正确答案：\n",
      "<sos>我的表被偷了。\n",
      "预测\n",
      "<sos>我的表偷了。\n",
      "原文：\n",
      "<sos>No one's going to see us.\n",
      "正确答案：\n",
      "<sos>沒有人會看到我們。\n",
      "预测\n",
      "<sos>沒有人看到們。\n",
      "原文：\n",
      "<sos>Nobody should be worried.\n",
      "正确答案：\n",
      "<sos>沒人應該擔心。\n",
      "预测\n",
      "<sos>沒人應該擔。\n",
      "原文：\n",
      "<sos>Nobody tried to help Tom.\n",
      "正确答案：\n",
      "<sos>没人试图帮汤姆。\n",
      "预测\n",
      "<sos>没人图图汤姆。\n",
      "原文：\n",
      "<sos>Nothing is going his way.\n",
      "正确答案：\n",
      "<sos>什么都没按他的路子走。\n",
      "预测\n",
      "<sos>什么都按他的路走。\n",
      "原文：\n",
      "<sos>Nothing much has changed.\n",
      "正确答案：\n",
      "<sos>沒有多少改變。\n",
      "预测\n",
      "<sos>沒有多少變。\n",
      "原文：\n",
      "<sos>One of the dogs is alive.\n",
      "正确答案：\n",
      "<sos>這些狗中的其中一隻是活的。\n",
      "预测\n",
      "<sos>這些狗中其中中隻活的的\n",
      "原文：\n",
      "<sos>Our baby cannot talk yet.\n",
      "正确答案：\n",
      "<sos>我家宝宝还不会说话。\n",
      "预测\n",
      "<sos>我家宝宝还会会话。\n",
      "原文：\n",
      "<sos>Pass me the salt, please.\n",
      "正确答案：\n",
      "<sos>请把盐递给我。\n",
      "预测\n",
      "<sos>请给盐给我\n",
      "原文：\n",
      "<sos>Pass me the salt, please.\n",
      "正确答案：\n",
      "<sos>请给我盐。\n",
      "预测\n",
      "<sos>请把盐盐。。\n",
      "原文：\n",
      "<sos>Pass me the wine, please.\n",
      "正确答案：\n",
      "<sos>請把酒遞給我。\n",
      "预测\n",
      "<sos>把把遞遞我。\n",
      "原文：\n",
      "<sos>People should be dancing.\n",
      "正确答案：\n",
      "<sos>人們應該在跳舞。\n",
      "预测\n",
      "<sos>人們應在跳舞。\n",
      "原文：\n",
      "<sos>Please choose one person.\n",
      "正确答案：\n",
      "<sos>請選擇一個人。\n",
      "预测\n",
      "<sos>請選一個人人\n",
      "原文：\n",
      "<sos>Please don't use my name.\n",
      "正确答案：\n",
      "<sos>請不要用我的名字。\n",
      "预测\n",
      "<sos>請不用用的名字。\n",
      "原文：\n",
      "<sos>Please fill in this form.\n",
      "正确答案：\n",
      "<sos>请填写这份表格。\n",
      "预测\n",
      "<sos>请填这份份格。\n",
      "原文：\n",
      "<sos>Please find me my wallet.\n",
      "正确答案：\n",
      "<sos>请帮我找一下我的钱包。\n",
      "预测\n",
      "<sos>请帮我一下钱钱包。\n",
      "原文：\n",
      "<sos>Please give me a blanket.\n",
      "正确答案：\n",
      "<sos>請給我送一塊毯子。\n",
      "预测\n",
      "<sos>請給我一塊毯子。\n",
      "原文：\n",
      "<sos>Please knock on the door.\n",
      "正确答案：\n",
      "<sos>请敲门。\n",
      "预测\n",
      "<sos>请敲门。\n",
      "原文：\n",
      "<sos>Please put on your shoes.\n",
      "正确答案：\n",
      "<sos>請穿上你的鞋子。\n",
      "预测\n",
      "<sos>請穿上你子子。\n",
      "原文：\n",
      "<sos>Please put your shoes on.\n",
      "正确答案：\n",
      "<sos>請穿上你的鞋子。\n",
      "预测\n",
      "<sos>請上上的鞋子。\n",
      "原文：\n",
      "<sos>Please speak more loudly.\n",
      "正确答案：\n",
      "<sos>請說大聲一點兒。\n",
      "预测\n",
      "<sos>請說大聲一點。\n",
      "原文：\n",
      "<sos>Please speak more loudly.\n",
      "正确答案：\n",
      "<sos>請說更大聲一點。\n",
      "预测\n",
      "<sos>請說大聲一點。\n",
      "原文：\n",
      "<sos>Please speak more loudly.\n",
      "正确答案：\n",
      "<sos>請說話大聲一點。\n",
      "预测\n",
      "<sos>請說大聲聲點。\n",
      "原文：\n",
      "<sos>Please take off your hat.\n",
      "正确答案：\n",
      "<sos>请您摘下您的帽子。\n",
      "预测\n",
      "<sos>您您摘您的帽子\n",
      "原文：\n",
      "<sos>Please tell me Tom is OK.\n",
      "正确答案：\n",
      "<sos>请告诉我汤姆很好。\n",
      "预测\n",
      "<sos>请告我汤姆好。\n",
      "原文：\n",
      "<sos>Please tell me your name.\n",
      "正确答案：\n",
      "<sos>請告訴我你的名字。\n",
      "预测\n",
      "<sos>請告訴我的名字。\n",
      "原文：\n",
      "<sos>Please turn on the radio.\n",
      "正确答案：\n",
      "<sos>請打開收音機。\n",
      "预测\n",
      "<sos>請将开音机开\n",
      "原文：\n",
      "<sos>Please turn on the radio.\n",
      "正确答案：\n",
      "<sos>请打开收音机。\n",
      "预测\n",
      "<sos>请打收音机开\n",
      "原文：\n",
      "<sos>Please turn on the radio.\n",
      "正确答案：\n",
      "<sos>请将收音机打开。\n",
      "预测\n",
      "<sos>请打收音机开。\n",
      "原文：\n",
      "<sos>Please wait on him first.\n",
      "正确答案：\n",
      "<sos>請先等他。\n",
      "预测\n",
      "<sos>請先等。\n",
      "原文：\n",
      "<sos>Please water the flowers.\n",
      "正确答案：\n",
      "<sos>請澆花。\n",
      "预测\n",
      "<sos>請澆花。\n",
      "原文：\n",
      "<sos>Politics leaves him cold.\n",
      "正确答案：\n",
      "<sos>他對政治沒有興趣。\n",
      "预测\n",
      "<sos>他對治治有興趣\n",
      "原文：\n",
      "<sos>Pride goes before a fall.\n",
      "正确答案：\n",
      "<sos>骄傲是失败的先行者。\n",
      "预测\n",
      "<sos>骄傲失失后后\n",
      "原文：\n",
      "<sos>Pride goes before a fall.\n",
      "正确答案：\n",
      "<sos>骄傲使人落后。\n",
      "预测\n",
      "<sos>骄傲使人败先。\n",
      "原文：\n",
      "<sos>Put the gun on the table.\n",
      "正确答案：\n",
      "<sos>把槍放在桌子上。\n",
      "预测\n",
      "<sos>把槍在桌子上。\n",
      "原文：\n",
      "<sos>Read as much as possible.\n",
      "正确答案：\n",
      "<sos>盡可能地多閱讀書籍。\n",
      "预测\n",
      "<sos>盡可地地閱讀書籍\n",
      "原文：\n",
      "<sos>She also likes chocolate.\n",
      "正确答案：\n",
      "<sos>她也喜欢巧克力。\n",
      "预测\n",
      "<sos>她喜喜巧克克力\n",
      "原文：\n",
      "<sos>She and I are classmates.\n",
      "正确答案：\n",
      "<sos>她和我是同學。\n",
      "预测\n",
      "<sos>她和我是學。\n",
      "原文：\n",
      "<sos>She burned her left hand.\n",
      "正确答案：\n",
      "<sos>她的左手被燙到了。\n",
      "预测\n",
      "<sos>她的手手燙了了。\n",
      "原文：\n",
      "<sos>She called me many times.\n",
      "正确答案：\n",
      "<sos>她打了很多次電話給我。\n",
      "预测\n",
      "<sos>她打了很次電電給我\n",
      "原文：\n",
      "<sos>She decided to marry him.\n",
      "正确答案：\n",
      "<sos>她决定和他结婚。\n",
      "预测\n",
      "<sos>她决定和结婚。\n",
      "原文：\n",
      "<sos>She disliked her husband.\n",
      "正确答案：\n",
      "<sos>她不喜歡她的丈夫。\n",
      "预测\n",
      "<sos>她不喜歡的丈夫\n",
      "原文：\n",
      "<sos>She divorced her husband.\n",
      "正确答案：\n",
      "<sos>她與丈夫離婚。\n",
      "预测\n",
      "<sos>她丈丈離婚。\n",
      "原文：\n",
      "<sos>She fell down the ladder.\n",
      "正确答案：\n",
      "<sos>她从梯子上摔了下来。\n",
      "预测\n",
      "<sos>她从梯上上摔下。\n",
      "原文：\n",
      "<sos>She goes to night school.\n",
      "正确答案：\n",
      "<sos>她上夜校。\n",
      "预测\n",
      "<sos>她上校校\n",
      "原文：\n",
      "<sos>She has had to stay here.\n",
      "正确答案：\n",
      "<sos>她不得不待在这儿。\n",
      "预测\n",
      "<sos>她不得待在这儿。\n",
      "原文：\n",
      "<sos>She is a wonderful woman.\n",
      "正确答案：\n",
      "<sos>她是個很棒的女人。\n",
      "预测\n",
      "<sos>她是個很棒女人。\n",
      "原文：\n",
      "<sos>She is an obstinate girl.\n",
      "正确答案：\n",
      "<sos>她是个倔强的女孩。\n",
      "预测\n",
      "<sos>她是个强强女孩。\n",
      "原文：\n",
      "<sos>She is at work right now.\n",
      "正确答案：\n",
      "<sos>她现在正在工作。\n",
      "预测\n",
      "<sos>她现正正工作。\n",
      "原文：\n",
      "<sos>She is everything to him.\n",
      "正确答案：\n",
      "<sos>她是他的一切。\n",
      "预测\n",
      "<sos>她是他的切。\n",
      "原文：\n",
      "<sos>She is hard up for money.\n",
      "正确答案：\n",
      "<sos>她錢不夠。\n",
      "预测\n",
      "<sos>她錢夠錢\n",
      "原文：\n",
      "<sos>She laid the work on him.\n",
      "正确答案：\n",
      "<sos>她派他去工作了。\n",
      "预测\n",
      "<sos>她派他工工了。\n",
      "原文：\n",
      "<sos>She left here in a hurry.\n",
      "正确答案：\n",
      "<sos>她匆忙地離開了這裡。\n",
      "预测\n",
      "<sos>她匆忙離離了了。\n",
      "原文：\n",
      "<sos>She left here right away.\n",
      "正确答案：\n",
      "<sos>她馬上離開了這裡。\n",
      "预测\n",
      "<sos>她馬離離了這裡。\n",
      "原文：\n",
      "<sos>She likes chocolate, too.\n",
      "正确答案：\n",
      "<sos>她也喜欢巧克力。\n",
      "预测\n",
      "<sos>她也喜欢巧克。\n",
      "原文：\n",
      "<sos>She looks like a teacher.\n",
      "正确答案：\n",
      "<sos>她看起来像老师。\n",
      "预测\n",
      "<sos>她看起来老师。\n",
      "原文：\n",
      "<sos>She loves chocolate, too.\n",
      "正确答案：\n",
      "<sos>她也喜欢巧克力。\n",
      "预测\n",
      "<sos>她也喜巧巧克。\n",
      "原文：\n",
      "<sos>She made me a nice dress.\n",
      "正确答案：\n",
      "<sos>她做了一件好看的衣服給我。\n",
      "预测\n",
      "<sos>她做了一好看的衣服服。\n",
      "原文：\n",
      "<sos>She made the doll for me.\n",
      "正确答案：\n",
      "<sos>她為我做了這個娃娃。\n",
      "预测\n",
      "<sos>她為我了了個娃娃。\n",
      "原文：\n",
      "<sos>She prefers beer to wine.\n",
      "正确答案：\n",
      "<sos>她喜欢啤酒胜过葡萄酒。\n",
      "预测\n",
      "<sos>她喜欢啤胜胜葡酒酒\n",
      "原文：\n",
      "<sos>She sang better than him.\n",
      "正确答案：\n",
      "<sos>她唱得比他好。\n",
      "预测\n",
      "<sos>她唱得比好。\n",
      "原文：\n",
      "<sos>She seems to be very ill.\n",
      "正确答案：\n",
      "<sos>她看來病得严重。\n",
      "预测\n",
      "<sos>她看病病严重。\n",
      "原文：\n",
      "<sos>She sent this book to me.\n",
      "正确答案：\n",
      "<sos>她寄這本書給我。\n",
      "预测\n",
      "<sos>她寄這本書給。\n",
      "原文：\n",
      "<sos>She showed him the photo.\n",
      "正确答案：\n",
      "<sos>她把照片给他看。\n",
      "预测\n",
      "<sos>她把他给给看\n",
      "原文：\n",
      "<sos>She talked as she walked.\n",
      "正确答案：\n",
      "<sos>她邊走邊談。\n",
      "预测\n",
      "<sos>她邊邊邊談。\n",
      "原文：\n",
      "<sos>She went there yesterday.\n",
      "正确答案：\n",
      "<sos>她昨天去那裡。\n",
      "预测\n",
      "<sos>她昨天去裡。\n",
      "原文：\n",
      "<sos>She's Tom's older sister.\n",
      "正确答案：\n",
      "<sos>她是Tom的姐姐。\n",
      "预测\n",
      "<sos>她是To的姐姐。\n",
      "原文：\n",
      "<sos>She's not as old as Mary.\n",
      "正确答案：\n",
      "<sos>她沒有瑪麗年紀大。\n",
      "预测\n",
      "<sos>她沒有瑪年紀大。\n",
      "原文：\n",
      "<sos>Should I cancel the call?\n",
      "正确答案：\n",
      "<sos>我该取消通话吗?\n",
      "预测\n",
      "<sos>我该取消话吗?\n",
      "原文：\n",
      "<sos>Someone pushed me inside.\n",
      "正确答案：\n",
      "<sos>有人推我到裡面。\n",
      "预测\n",
      "<sos>有推推我裡裡。\n",
      "原文：\n",
      "<sos>Spring will be here soon.\n",
      "正确答案：\n",
      "<sos>春天快來了。\n",
      "预测\n",
      "<sos>春天快了。\n",
      "原文：\n",
      "<sos>Stand back from the rope.\n",
      "正确答案：\n",
      "<sos>退到繩子後面。\n",
      "预测\n",
      "<sos>退到繩子面。\n",
      "原文：\n",
      "<sos>Take a taxi to the hotel.\n",
      "正确答案：\n",
      "<sos>打的去旅馆吧。\n",
      "预测\n",
      "<sos>打的去馆吧。\n",
      "原文：\n",
      "<sos>Take as much as you like.\n",
      "正确答案：\n",
      "<sos>你爱拿多少就拿多少。\n",
      "预测\n",
      "<sos>你爱拿多就多多。\n",
      "原文：\n",
      "<sos>Tell her to come at noon.\n",
      "正确答案：\n",
      "<sos>让她中午过来。\n",
      "预测\n",
      "<sos>让她午午来。\n",
      "原文：\n",
      "<sos>Ten years is a long time.\n",
      "正确答案：\n",
      "<sos>十年是很長的時間。\n",
      "预测\n",
      "<sos>十年是很的時時。\n",
      "原文：\n",
      "<sos>Thank you for everything.\n",
      "正确答案：\n",
      "<sos>为一切感谢你。\n",
      "预测\n",
      "<sos>为切切谢你。\n",
      "原文：\n",
      "<sos>Thank you for your reply.\n",
      "正确答案：\n",
      "<sos>谢谢你的答复。\n",
      "预测\n",
      "<sos>谢谢你答复。\n",
      "原文：\n",
      "<sos>That flower smells sweet.\n",
      "正确答案：\n",
      "<sos>那花闻起来很香。\n",
      "预测\n",
      "<sos>那花闻起很香。\n",
      "原文：\n",
      "<sos>That goes without saying.\n",
      "正确答案：\n",
      "<sos>不言而喻。\n",
      "预测\n",
      "<sos>不言而喻\n",
      "原文：\n",
      "<sos>That guy drives me crazy.\n",
      "正确答案：\n",
      "<sos>那家伙让我发疯。\n",
      "预测\n",
      "<sos>那家伙我发疯。\n",
      "原文：\n",
      "<sos>That house is very small.\n",
      "正确答案：\n",
      "<sos>這房子非常小。\n",
      "预测\n",
      "<sos>這房子非小小\n",
      "原文：\n",
      "<sos>That makes no difference.\n",
      "正确答案：\n",
      "<sos>这没有任何区别。\n",
      "预测\n",
      "<sos>这没有任区别。\n",
      "原文：\n",
      "<sos>That man stole my wallet.\n",
      "正确答案：\n",
      "<sos>那男人偷了我的钱包。\n",
      "预测\n",
      "<sos>那男人偷了的钱包。\n",
      "原文：\n",
      "<sos>That toy is made of wood.\n",
      "正确答案：\n",
      "<sos>这个玩具是木制的。\n",
      "预测\n",
      "<sos>這个玩具用木的做。。\n",
      "原文：\n",
      "<sos>That toy is made of wood.\n",
      "正确答案：\n",
      "<sos>這個玩具是用木頭做的。\n",
      "预测\n",
      "<sos>这个玩具是木頭的。\n",
      "原文：\n",
      "<sos>That was all Greek to me.\n",
      "正确答案：\n",
      "<sos>我完全看不懂。\n",
      "预测\n",
      "<sos>我完看不懂。\n",
      "原文：\n",
      "<sos>That wasn't my intention.\n",
      "正确答案：\n",
      "<sos>那不是我的本意。\n",
      "预测\n",
      "<sos>那不是我初衷。\n",
      "原文：\n",
      "<sos>That wasn't my intention.\n",
      "正确答案：\n",
      "<sos>这不是我的初衷。\n",
      "预测\n",
      "<sos>那不是我的衷。\n",
      "原文：\n",
      "<sos>That wasn't my intention.\n",
      "正确答案：\n"
     ]
    },
    {
     "name": "stdout",
     "output_type": "stream",
     "text": [
      "<sos>那不是我故意的。\n",
      "预测\n",
      "<sos>那不是我初意。\n",
      "原文：\n",
      "<sos>That's a stupid question.\n",
      "正确答案：\n",
      "<sos>这是一个愚蠢的问题。\n",
      "预测\n",
      "<sos>这是一个愚的问题。\n",
      "原文：\n",
      "<sos>That's against the rules.\n",
      "正确答案：\n",
      "<sos>这违反规则。\n",
      "预测\n",
      "<sos>违违反规则\n",
      "原文：\n",
      "<sos>That's my favorite chair.\n",
      "正确答案：\n",
      "<sos>那是我最喜歡的椅子。\n",
      "预测\n",
      "<sos>那是我最歡的椅子\n",
      "原文：\n",
      "<sos>That's quite meaningless.\n",
      "正确答案：\n",
      "<sos>这毫无意义。\n",
      "预测\n",
      "<sos>这无无义义\n",
      "原文：\n",
      "<sos>That's very sweet of you.\n",
      "正确答案：\n",
      "<sos>您真是太好了。\n",
      "预测\n",
      "<sos>您真太好了。\n",
      "原文：\n",
      "<sos>That's what I always say.\n",
      "正确答案：\n",
      "<sos>那是我經常說的。\n",
      "预测\n",
      "<sos>那是我常的的\n",
      "原文：\n",
      "<sos>That's what I have to do.\n",
      "正确答案：\n",
      "<sos>那是我必須做的。\n",
      "预测\n",
      "<sos>那是我須做的。\n",
      "原文：\n",
      "<sos>That's what Tom promised.\n",
      "正确答案：\n",
      "<sos>那是汤姆承诺的。\n",
      "预测\n",
      "<sos>那是汤姆诺的。\n",
      "原文：\n",
      "<sos>The Hilton Hotel, please.\n",
      "正确答案：\n",
      "<sos>请开到希尔顿酒店。\n",
      "预测\n",
      "<sos>请开到尔尔顿店店\n",
      "原文：\n",
      "<sos>The baby cried all night.\n",
      "正确答案：\n",
      "<sos>這孩子哭了一整夜。\n",
      "预测\n",
      "<sos>這孩哭了了整整。\n",
      "原文：\n",
      "<sos>The bell hasn't rung yet.\n",
      "正确答案：\n",
      "<sos>钟还没响。\n",
      "预测\n",
      "<sos>钟还响响。\n",
      "原文：\n",
      "<sos>The blanket is still wet.\n",
      "正确答案：\n",
      "<sos>这个毯子还是湿的。\n",
      "预测\n",
      "<sos>这个毯子是湿的。\n",
      "原文：\n",
      "<sos>The boy can count to ten.\n",
      "正确答案：\n",
      "<sos>这小男孩能数到十。\n",
      "预测\n",
      "<sos>这小男能数十十。\n",
      "原文：\n",
      "<sos>The car is in the garage.\n",
      "正确答案：\n",
      "<sos>车在车库里。\n",
      "预测\n",
      "<sos>车在库里里\n",
      "原文：\n",
      "<sos>The class begins at 8:30.\n",
      "正确答案：\n",
      "<sos>課程八點半開始。\n",
      "预测\n",
      "<sos>課程八半半始。\n",
      "原文：\n",
      "<sos>The dog was hit by a car.\n",
      "正确答案：\n",
      "<sos>狗被車撞了。\n",
      "预测\n",
      "<sos>狗被車了。\n",
      "原文：\n",
      "<sos>The door was kicked open.\n",
      "正确答案：\n",
      "<sos>门被踢开了。\n",
      "预测\n",
      "<sos>门被踢开。\n",
      "原文：\n",
      "<sos>The fuel gauge is broken.\n",
      "正确答案：\n",
      "<sos>燃油表坏了。\n",
      "预测\n",
      "<sos>燃油表了。\n",
      "原文：\n",
      "<sos>The nail tore his jacket.\n",
      "正确答案：\n",
      "<sos>這個釘子撕破了他的夾克。\n",
      "预测\n",
      "<sos>這個釘撕撕了的的夾克\n",
      "原文：\n",
      "<sos>The old man is very kind.\n",
      "正确答案：\n",
      "<sos>這位老人家非常仁慈。\n",
      "预测\n",
      "<sos>這位老家非常仁慈。\n",
      "原文：\n",
      "<sos>The plan was carried out.\n",
      "正确答案：\n",
      "<sos>计划被执行了。\n",
      "预测\n",
      "<sos>计划被行了。\n",
      "原文：\n",
      "<sos>The police are after him.\n",
      "正确答案：\n",
      "<sos>警察在跟著他。\n",
      "预测\n",
      "<sos>警察在著他。\n",
      "原文：\n",
      "<sos>The poor girl went blind.\n",
      "正确答案：\n",
      "<sos>這可憐的女孩瞎了。\n",
      "预测\n",
      "<sos>這可憐的女瞎了。\n",
      "原文：\n",
      "<sos>The red dress suited her.\n",
      "正确答案：\n",
      "<sos>這件紅色的洋裝適合她。\n",
      "预测\n",
      "<sos>這件紅色洋裝適合。\n",
      "原文：\n",
      "<sos>The refrigerator is open.\n",
      "正确答案：\n",
      "<sos>冰箱開著。\n",
      "预测\n",
      "<sos>冰箱開著。\n",
      "原文：\n",
      "<sos>The sky is full of stars.\n",
      "正确答案：\n",
      "<sos>天空中繁星点点。\n",
      "预测\n",
      "<sos>天空布满辰辰\n",
      "原文：\n",
      "<sos>The sky is full of stars.\n",
      "正确答案：\n",
      "<sos>天空布满星辰。\n",
      "预测\n",
      "<sos>天空布满星点。\n",
      "原文：\n",
      "<sos>The snow has disappeared.\n",
      "正确答案：\n",
      "<sos>雪消失了。\n",
      "预测\n",
      "<sos>雪消失。\n",
      "原文：\n",
      "<sos>The students all laughed.\n",
      "正确答案：\n",
      "<sos>學生都笑了。\n",
      "预测\n",
      "<sos>學生笑了。\n",
      "原文：\n",
      "<sos>The telephone is ringing.\n",
      "正确答案：\n",
      "<sos>電話正在響。\n",
      "预测\n",
      "<sos>話話正響。\n",
      "原文：\n",
      "<sos>The train got in on time.\n",
      "正确答案：\n",
      "<sos>火车准时到了。\n",
      "预测\n",
      "<sos>火车准时了。\n",
      "原文：\n",
      "<sos>The vacation is over now.\n",
      "正确答案：\n",
      "<sos>现在假期结束了。\n",
      "预测\n",
      "<sos>现在假期束束。\n",
      "原文：\n",
      "<sos>Their cattle are all fat.\n",
      "正确答案：\n",
      "<sos>他們的牛都很肥。\n",
      "预测\n",
      "<sos>們們的都很肥。\n",
      "原文：\n",
      "<sos>There is a knife missing.\n",
      "正确答案：\n",
      "<sos>少一把刀。\n",
      "预测\n",
      "<sos>少一把。\n",
      "原文：\n",
      "<sos>There is a spoon missing.\n",
      "正确答案：\n",
      "<sos>少了一把勺子。\n",
      "预测\n",
      "<sos>少一一勺子。\n",
      "原文：\n",
      "<sos>There is a spoon missing.\n",
      "正确答案：\n",
      "<sos>缺一把勺子。\n",
      "预测\n",
      "<sos>少一把子子\n",
      "原文：\n",
      "<sos>There isn't any solution.\n",
      "正确答案：\n",
      "<sos>无解。\n",
      "预测\n",
      "<sos>无解。\n",
      "原文：\n",
      "<sos>There's a letter for you.\n",
      "正确答案：\n",
      "<sos>你有一封信。\n",
      "预测\n",
      "<sos>你有一封。\n",
      "原文：\n",
      "<sos>There's been an accident.\n",
      "正确答案：\n",
      "<sos>曾經有一個意外。\n",
      "预测\n",
      "<sos>曾經有一意外。\n",
      "原文：\n",
      "<sos>There's no need to hurry.\n",
      "正确答案：\n",
      "<sos>沒有必要著急。\n",
      "预测\n",
      "<sos>沒有必要急。\n",
      "原文：\n",
      "<sos>There's nothing I can do.\n",
      "正确答案：\n",
      "<sos>沒有我可以做的事。\n",
      "预测\n",
      "<sos>沒有我以做的。\n",
      "原文：\n",
      "<sos>These things aren't mine!\n",
      "正确答案：\n",
      "<sos>这些东西不是我的！\n",
      "预测\n",
      "<sos>这些东不是我！\n",
      "原文：\n",
      "<sos>They are very big apples.\n",
      "正确答案：\n",
      "<sos>他們是非常大的蘋果。\n",
      "预测\n",
      "<sos>他們是非常大的果。\n",
      "原文：\n",
      "<sos>They became very nervous.\n",
      "正确答案：\n",
      "<sos>他们变得很紧张。\n",
      "预测\n",
      "<sos>他们变很紧张。\n",
      "原文：\n",
      "<sos>They called him a coward.\n",
      "正确答案：\n",
      "<sos>他們稱他膽小鬼。\n",
      "预测\n",
      "<sos>他們稱他小小。\n",
      "原文：\n",
      "<sos>They don't even know why.\n",
      "正确答案：\n",
      "<sos>他們甚至不知道為什麼。\n",
      "预测\n",
      "<sos>他們至至知道道什。\n",
      "原文：\n",
      "<sos>They don't need a reason.\n",
      "正确答案：\n",
      "<sos>他们不需要理由。\n",
      "预测\n",
      "<sos>他们不需理由。\n",
      "原文：\n",
      "<sos>They don't pay me enough.\n",
      "正确答案：\n",
      "<sos>他們給我錢沒給夠。\n",
      "预测\n",
      "<sos>他們給我沒沒夠。\n",
      "原文：\n",
      "<sos>They flunked their exams.\n",
      "正确答案：\n",
      "<sos>他們考試不及格。\n",
      "预测\n",
      "<sos>他們考試及格。\n",
      "原文：\n",
      "<sos>They granted his request.\n",
      "正确答案：\n",
      "<sos>他們批准了他的請求。\n",
      "预测\n",
      "<sos>他們准了了的請。。\n",
      "原文：\n",
      "<sos>They have nothing to eat.\n",
      "正确答案：\n",
      "<sos>他們沒有東西吃了。\n",
      "预测\n",
      "<sos>他們沒東東西了。\n",
      "原文：\n",
      "<sos>They must really hate me.\n",
      "正确答案：\n",
      "<sos>他们一定很恨我。\n",
      "预测\n",
      "<sos>他们一定恨我。\n",
      "原文：\n",
      "<sos>They named their son Tom.\n",
      "正确答案：\n",
      "<sos>他们给他们的儿子取名叫汤姆。\n",
      "预测\n",
      "<sos>他们给他的儿子子名叫姆。\n",
      "原文：\n",
      "<sos>They now have three kids.\n",
      "正确答案：\n",
      "<sos>现在他们有三个孩子。\n",
      "预测\n",
      "<sos>现在他们三个孩子。\n",
      "原文：\n",
      "<sos>They sell sporting goods.\n",
      "正确答案：\n",
      "<sos>他们卖体育产品。\n",
      "预测\n",
      "<sos>他们卖体育产品\n",
      "原文：\n",
      "<sos>They set out on a picnic.\n",
      "正确答案：\n",
      "<sos>他们出发去野餐了。\n",
      "预测\n",
      "<sos>他们出发野餐了。\n",
      "原文：\n",
      "<sos>They should all be fired.\n",
      "正确答案：\n",
      "<sos>他們全部都應該被開除。\n",
      "预测\n",
      "<sos>他們全部都被被開。。\n",
      "原文：\n",
      "<sos>This amount includes tax.\n",
      "正确答案：\n",
      "<sos>这个价格含了税。\n",
      "预测\n",
      "<sos>这个价格含了。\n",
      "原文：\n",
      "<sos>This article is nonsense.\n",
      "正确答案：\n",
      "<sos>這文章是胡說。\n",
      "预测\n",
      "<sos>這文章是說說。\n",
      "原文：\n",
      "<sos>This clock isn't working.\n",
      "正确答案：\n",
      "<sos>这表不走了。\n",
      "预测\n",
      "<sos>这表不走了\n",
      "原文：\n",
      "<sos>This diamond is not real.\n",
      "正确答案：\n",
      "<sos>这颗钻石不是真的。\n",
      "预测\n",
      "<sos>这颗钻石是真的。\n",
      "原文：\n",
      "<sos>This doesn't concern you.\n",
      "正确答案：\n",
      "<sos>跟你没半毛钱关系。\n",
      "预测\n",
      "<sos>这你是毛事钱\n",
      "原文：\n",
      "<sos>This doesn't concern you.\n",
      "正确答案：\n",
      "<sos>这不是你的事。\n",
      "预测\n",
      "<sos>这不是你的关\n",
      "原文：\n",
      "<sos>This is Uncle Tom's farm.\n",
      "正确答案：\n",
      "<sos>這是湯姆叔叔的農場。\n",
      "预测\n",
      "<sos>這是湯姆叔叔農農。\n",
      "原文：\n",
      "<sos>This is a bird sanctuary.\n",
      "正确答案：\n",
      "<sos>这是鸟类庇护所。\n",
      "预测\n",
      "<sos>这是鸟类庇所。\n",
      "原文：\n",
      "<sos>This is a friend of mine.\n",
      "正确答案：\n",
      "<sos>這是我的朋友。\n",
      "预测\n",
      "<sos>這是我的朋友。\n",
      "原文：\n",
      "<sos>This is a friend of mine.\n",
      "正确答案：\n",
      "<sos>這個是我的朋友。\n",
      "预测\n",
      "<sos>這是我的朋友\n",
      "原文：\n",
      "<sos>This is a very tall tree.\n",
      "正确答案：\n",
      "<sos>这是棵很高的树。\n",
      "预测\n",
      "<sos>这是棵高的的树\n",
      "原文：\n",
      "<sos>This is all he has to do.\n",
      "正确答案：\n",
      "<sos>這是所有他必須做的事。\n",
      "预测\n",
      "<sos>這是所有必須的的。\n",
      "原文：\n",
      "<sos>This is my email address.\n",
      "正确答案：\n",
      "<sos>这是我的电子邮箱。\n",
      "预测\n",
      "<sos>这是我的子子邮。\n",
      "原文：\n",
      "<sos>This is not very stylish.\n",
      "正确答案：\n",
      "<sos>這不是很流行。\n",
      "预测\n",
      "<sos>這不是很行。\n",
      "原文：\n",
      "<sos>This is your only chance.\n",
      "正确答案：\n",
      "<sos>這是你唯一的機會。\n",
      "预测\n",
      "<sos>這是你一的機機。\n",
      "原文：\n",
      "<sos>This knife is very sharp.\n",
      "正确答案：\n",
      "<sos>这把刀很锋利。\n",
      "预测\n",
      "<sos>这把刀很利利\n",
      "原文：\n",
      "<sos>This makes me very angry.\n",
      "正确答案：\n",
      "<sos>這讓我很生氣。\n",
      "预测\n",
      "<sos>這讓我生氣。\n",
      "原文：\n",
      "<sos>This man is not reliable.\n",
      "正确答案：\n",
      "<sos>这个人靠不住的。\n",
      "预测\n",
      "<sos>这个靠靠住住的\n",
      "原文：\n",
      "<sos>This shirt needs ironing.\n",
      "正确答案：\n",
      "<sos>这衬衫需要熨。\n",
      "预测\n",
      "<sos>这衬衫需要熨。\n",
      "原文：\n",
      "<sos>This time it's different.\n",
      "正确答案：\n",
      "<sos>這次不一樣。\n",
      "预测\n",
      "<sos>這一不一样。\n",
      "原文：\n",
      "<sos>This time it's different.\n",
      "正确答案：\n",
      "<sos>这一次不一样。\n",
      "预测\n",
      "<sos>這次不一样。\n",
      "原文：\n",
      "<sos>This toy is made of wood.\n",
      "正确答案：\n",
      "<sos>這玩具是用木頭做的。\n",
      "预测\n",
      "<sos>這玩具是用木做的。\n",
      "原文：\n",
      "<sos>This watch is waterproof.\n",
      "正确答案：\n",
      "<sos>這手錶是防水的。\n",
      "预测\n",
      "<sos>這手錶是防的。\n",
      "原文：\n",
      "<sos>Today is Valentine's Day.\n",
      "正确答案：\n",
      "<sos>今天是情人节\n",
      "预测\n",
      "<sos>今天是人节\n",
      "原文：\n",
      "<sos>Tom arrived after I left.\n",
      "正确答案：\n",
      "<sos>汤姆在我走后到了。\n",
      "预测\n",
      "<sos>汤姆在我走到了。\n",
      "原文：\n",
      "<sos>Tom ate a slice of pizza.\n",
      "正确答案：\n",
      "<sos>湯姆吃了一片比薩餅。\n",
      "预测\n",
      "<sos>湯姆吃了一比薩薩。\n",
      "原文：\n",
      "<sos>Tom can swim pretty well.\n",
      "正确答案：\n",
      "<sos>汤姆能游得很好。\n",
      "预测\n",
      "<sos>汤姆能得得好。\n",
      "原文：\n",
      "<sos>Tom couldn't see anybody.\n",
      "正确答案：\n",
      "<sos>汤姆看不到任何人。\n",
      "预测\n",
      "<sos>汤姆看到到任人。\n",
      "原文：\n",
      "<sos>Tom did an excellent job.\n",
      "正确答案：\n",
      "<sos>汤姆做得很出色。\n",
      "预测\n",
      "<sos>汤姆做得出色。\n",
      "原文：\n",
      "<sos>Tom didn't buy any bread.\n",
      "正确答案：\n",
      "<sos>湯姆沒有買甚麼麵包。\n",
      "预测\n",
      "<sos>湯姆沒有買麵麵麵。\n",
      "原文：\n",
      "<sos>Tom didn't like the idea.\n",
      "正确答案：\n",
      "<sos>湯姆不喜歡這個主意。\n",
      "预测\n",
      "<sos>湯姆不喜這個主意。\n",
      "原文：\n",
      "<sos>Tom doesn't eat red meat.\n",
      "正确答案：\n",
      "<sos>湯姆不吃紅肉\n",
      "预测\n",
      "<sos>湯姆不吃紅。\n",
      "原文：\n",
      "<sos>Tom doesn't have a fever.\n",
      "正确答案：\n",
      "<sos>汤姆没有发烧。\n",
      "预测\n",
      "<sos>汤姆没发发。\n",
      "原文：\n",
      "<sos>Tom doesn't want to come.\n",
      "正确答案：\n",
      "<sos>汤姆不想来。\n",
      "预测\n",
      "<sos>汤姆不想来。\n",
      "原文：\n",
      "<sos>Tom drank my apple juice.\n",
      "正确答案：\n",
      "<sos>Tom喝我的蘋果汁。\n",
      "预测\n",
      "<sos>Tom喝的蘋果汁。\n",
      "原文：\n",
      "<sos>Tom fell asleep in class.\n",
      "正确答案：\n",
      "<sos>汤姆在课堂上睡着了。\n",
      "预测\n",
      "<sos>汤姆在课堂上了了。\n",
      "原文：\n",
      "<sos>Tom fell off his bicycle.\n",
      "正确答案：\n",
      "<sos>汤姆从他的自行车上掉了下来。\n",
      "预测\n",
      "<sos>汤姆从他的自行上掉了了。\n",
      "原文：\n",
      "<sos>Tom finally quit smoking.\n",
      "正确答案：\n",
      "<sos>汤姆终于戒烟了。\n",
      "预测\n",
      "<sos>汤姆终于戒了。\n",
      "原文：\n",
      "<sos>Tom has his own problems.\n",
      "正确答案：\n",
      "<sos>汤姆有他自己的问题。\n",
      "预测\n",
      "<sos>汤姆有自己的问题。\n",
      "原文：\n",
      "<sos>Tom has to do that again.\n",
      "正确答案：\n",
      "<sos>湯姆必須再做一遍。\n",
      "预测\n",
      "<sos>湯姆必須再一一。\n",
      "原文：\n",
      "<sos>Tom hasn't done anything.\n",
      "正确答案：\n",
      "<sos>汤姆什么都没做。\n",
      "预测\n",
      "<sos>汤姆什么没做。\n",
      "原文：\n",
      "<sos>Tom is a Vietnam veteran.\n",
      "正确答案：\n",
      "<sos>汤姆是一个越军退役军人。\n",
      "预测\n",
      "<sos>汤姆是一个军军役军人。\n",
      "原文：\n",
      "<sos>Tom is a normal teenager.\n",
      "正确答案：\n",
      "<sos>湯姆是個普通的青少年。\n",
      "预测\n",
      "<sos>湯姆是個普通的青年。\n",
      "原文：\n",
      "<sos>Tom is a very bad person.\n",
      "正确答案：\n",
      "<sos>汤姆是个非常坏的人。\n",
      "预测\n",
      "<sos>汤姆是个非常的人。\n",
      "原文：\n",
      "<sos>Tom is able to swim well.\n",
      "正确答案：\n",
      "<sos>湯姆游泳可以游得很好。\n",
      "预测\n",
      "<sos>湯姆游泳可以游好好。\n",
      "原文：\n",
      "<sos>Tom is afraid of heights.\n",
      "正确答案：\n",
      "<sos>汤姆恐高。\n",
      "预测\n",
      "<sos>汤姆恐高。\n",
      "原文：\n",
      "<sos>Tom is an unknown artist.\n",
      "正确答案：\n",
      "<sos>Tom是個不知名的藝術家。\n",
      "预测\n",
      "<sos>Tom是個名名的藝家。\n",
      "原文：\n",
      "<sos>Tom is careful, isn't he?\n",
      "正确答案：\n",
      "<sos>湯姆很仔細，不是麼？\n",
      "预测\n",
      "<sos>湯姆很細細不是麼\n",
      "原文：\n",
      "<sos>Tom is kind to everybody.\n",
      "正确答案：\n",
      "<sos>汤姆对每个人都好。\n",
      "预测\n",
      "<sos>汤姆对个个人好。\n",
      "原文：\n",
      "<sos>Tom is looking for a job.\n",
      "正确答案：\n",
      "<sos>Tom正在找工作。\n",
      "预测\n",
      "<sos>Tom在找工工。\n",
      "原文：\n",
      "<sos>Tom is not as old as you.\n",
      "正确答案：\n",
      "<sos>湯姆的年紀不比你大。\n",
      "预测\n",
      "<sos>湯姆的年不比大大。\n",
      "原文：\n",
      "<sos>Tom is perfect, isn't he?\n",
      "正确答案：\n",
      "<sos>湯姆是完美的，不是麼？\n",
      "预测\n",
      "<sos>湯姆是美美，不是？\n",
      "原文：\n",
      "<sos>Tom is the one, isn't he?\n",
      "正确答案：\n",
      "<sos>湯姆就是那一個，不是他麼？\n",
      "预测\n",
      "<sos>湯姆就是一個個不他？\n",
      "原文：\n",
      "<sos>Tom is working in Boston.\n",
      "正确答案：\n",
      "<sos>湯姆在波士頓工作。\n",
      "预测\n",
      "<sos>湯姆在波頓工工。\n",
      "原文：\n",
      "<sos>Tom knew Mary would come.\n",
      "正确答案：\n",
      "<sos>湯姆知道瑪麗會來。\n",
      "预测\n",
      "<sos>湯姆知道瑪麗來。\n",
      "原文：\n",
      "<sos>Tom knows the difference.\n",
      "正确答案：\n",
      "<sos>湯姆知道不同之處。\n",
      "预测\n",
      "<sos>湯姆知道同之處。\n",
      "原文：\n",
      "<sos>Tom lost his credibility.\n",
      "正确答案：\n",
      "<sos>湯姆失去了信譽。\n",
      "预测\n",
      "<sos>湯姆失去了譽。\n",
      "原文：\n",
      "<sos>Tom made a bet with Mary.\n",
      "正确答案：\n",
      "<sos>湯姆跟瑪麗打了個賭。\n",
      "预测\n",
      "<sos>湯姆跟瑪麗了個賭。\n",
      "原文：\n",
      "<sos>Tom repaired his bicycle.\n",
      "正确答案：\n",
      "<sos>湯姆修好了他的自行車。\n",
      "预测\n",
      "<sos>湯姆修好好他自行車。\n",
      "原文：\n",
      "<sos>Tom ripped up the letter.\n",
      "正确答案：\n",
      "<sos>汤姆把信撕碎了。\n",
      "预测\n",
      "<sos>汤姆把撕撕碎。\n",
      "原文：\n",
      "<sos>Tom said Mary was hungry.\n",
      "正确答案：\n",
      "<sos>汤姆说玛丽饿了。\n",
      "预测\n",
      "<sos>汤姆说玛饿了。\n",
      "原文：\n",
      "<sos>Tom said he needed money.\n",
      "正确答案：\n",
      "<sos>湯姆說他需要錢。\n",
      "预测\n",
      "<sos>湯姆說他要錢。\n",
      "原文：\n",
      "<sos>Tom seems to be prepared.\n",
      "正确答案：\n",
      "<sos>湯姆看來準備好了。\n",
      "预测\n",
      "<sos>湯姆看來準好了。\n",
      "原文：\n",
      "<sos>Tom seems to have a cold.\n",
      "正确答案：\n",
      "<sos>湯姆看來感冒了。\n",
      "预测\n",
      "<sos>湯姆看來感了。\n",
      "原文：\n",
      "<sos>Tom should've been ready.\n",
      "正确答案：\n",
      "<sos>汤姆本该已经准备好了。\n",
      "预测\n",
      "<sos>汤姆该该经经备备了。\n",
      "原文：\n",
      "<sos>Tom thinks I'm too young.\n",
      "正确答案：\n",
      "<sos>汤姆认为我太年轻。\n",
      "预测\n",
      "<sos>汤姆认为我年轻。\n",
      "原文：\n",
      "<sos>Tom took a step backward.\n",
      "正确答案：\n",
      "<sos>汤姆后退一步。\n",
      "预测\n",
      "<sos>汤姆后退一。\n",
      "原文：\n",
      "<sos>Tom took the clock apart.\n",
      "正确答案：\n",
      "<sos>汤姆把钟拆开了。\n",
      "预测\n",
      "<sos>汤姆把钟开开。\n",
      "原文：\n",
      "<sos>Tom wants to be the boss.\n",
      "正确答案：\n",
      "<sos>湯姆想當老闆。\n",
      "预测\n",
      "<sos>湯姆想老老。\n",
      "原文：\n",
      "<sos>Tom wants to go to Japan.\n",
      "正确答案：\n",
      "<sos>湯姆想去日本。\n",
      "预测\n",
      "<sos>湯姆想日日。\n",
      "原文：\n",
      "<sos>Tom wants to sleep on it.\n",
      "正确答案：\n",
      "<sos>汤姆想在它上面睡觉。\n",
      "预测\n",
      "<sos>汤姆想在它面面。。\n",
      "原文：\n",
      "<sos>Tom was absent yesterday.\n",
      "正确答案：\n",
      "<sos>湯姆昨天缺席了。\n",
      "预测\n",
      "<sos>湯姆昨天席了。\n",
      "原文：\n",
      "<sos>Tom was fired in October.\n",
      "正确答案：\n",
      "<sos>湯姆在十月被解雇了。\n",
      "预测\n",
      "<sos>湯姆在十月解雇。\n",
      "原文：\n",
      "<sos>Tom was hiding something.\n",
      "正确答案：\n",
      "<sos>湯姆在藏甚麼。\n",
      "预测\n",
      "<sos>湯姆在藏甚。\n",
      "原文：\n",
      "<sos>Tom was replaced by Mary.\n",
      "正确答案：\n",
      "<sos>汤姆被玛丽替换下来。\n",
      "预测\n",
      "<sos>汤姆被玛丽换来。\n",
      "原文：\n",
      "<sos>Tom watched TV yesterday.\n",
      "正确答案：\n",
      "<sos>Tom昨天看了电视。\n",
      "预测\n",
      "<sos>Tom昨天了电视。\n",
      "原文：\n",
      "<sos>Tom wished he hadn't won.\n",
      "正确答案：\n",
      "<sos>汤姆希望他没有赢。\n",
      "预测\n",
      "<sos>汤姆希望没有赢。\n",
      "原文：\n",
      "<sos>Tom wouldn't hurt anyone.\n",
      "正确答案：\n",
      "<sos>湯姆不會傷害任何人。\n",
      "预测\n",
      "<sos>湯姆不會傷任任。。\n",
      "原文：\n",
      "<sos>Tomorrow is Mother's Day.\n",
      "正确答案：\n",
      "<sos>明天是母親節。\n",
      "预测\n",
      "<sos>明天是母節。\n",
      "原文：\n",
      "<sos>Unfortunately, it rained.\n",
      "正确答案：\n",
      "<sos>很遗憾，下雨了。\n",
      "预测\n",
      "<sos>很遗憾下雨了。\n",
      "原文：\n",
      "<sos>Was the baby crying then?\n",
      "正确答案：\n"
     ]
    },
    {
     "name": "stdout",
     "output_type": "stream",
     "text": [
      "<sos>那時嬰兒正在哭嗎？\n",
      "预测\n",
      "<sos>那時嬰兒在在嗎？\n",
      "原文：\n",
      "<sos>Wash your face and hands.\n",
      "正确答案：\n",
      "<sos>洗你的臉和手。\n",
      "预测\n",
      "<sos>洗你的臉手。\n",
      "原文：\n",
      "<sos>We accept your challenge.\n",
      "正确答案：\n",
      "<sos>我們接受你們的挑戰。\n",
      "预测\n",
      "<sos>我們接你們的挑戰。\n",
      "原文：\n",
      "<sos>We bought a pound of tea.\n",
      "正确答案：\n",
      "<sos>我們買了一磅的茶。\n",
      "预测\n",
      "<sos>我們買了磅的茶。\n",
      "原文：\n",
      "<sos>We buy eggs by the dozen.\n",
      "正确答案：\n",
      "<sos>鸡蛋是论打买的。\n",
      "预测\n",
      "<sos>鸡蛋是打买的。\n",
      "原文：\n",
      "<sos>We didn't get an apology.\n",
      "正确答案：\n",
      "<sos>我们没有收到过道歉。\n",
      "预测\n",
      "<sos>我们没有到过歉歉。\n",
      "原文：\n",
      "<sos>We didn't start the fire.\n",
      "正确答案：\n",
      "<sos>我们没点火。\n",
      "预测\n",
      "<sos>我们没点火\n",
      "原文：\n",
      "<sos>We do what we want to do.\n",
      "正确答案：\n",
      "<sos>我們做我們想做的。\n",
      "预测\n",
      "<sos>我們做我們做的\n",
      "原文：\n",
      "<sos>We expect a lot from him.\n",
      "正确答案：\n",
      "<sos>我們對他期望很多。\n",
      "预测\n",
      "<sos>我們對他期很多。\n",
      "原文：\n",
      "<sos>We go to school to study.\n",
      "正确答案：\n",
      "<sos>我們去學校學習。\n",
      "预测\n",
      "<sos>我們去校校學。\n",
      "原文：\n",
      "<sos>We go to the same school.\n",
      "正确答案：\n",
      "<sos>我們上同一所學校。\n",
      "预测\n",
      "<sos>我們上一所學校。\n",
      "原文：\n",
      "<sos>We got up after midnight.\n",
      "正确答案：\n",
      "<sos>我们在午夜之后起床。\n",
      "预测\n",
      "<sos>我们在夜夜后起床。\n",
      "原文：\n",
      "<sos>We had some chicken soup.\n",
      "正确答案：\n",
      "<sos>我們喝了些雞湯。\n",
      "预测\n",
      "<sos>我們喝些湯湯。\n",
      "原文：\n",
      "<sos>We have the same problem.\n",
      "正确答案：\n",
      "<sos>你的问题和我的一样。\n",
      "预测\n",
      "<sos>你的问和和的样。。\n",
      "原文：\n",
      "<sos>We import tea from India.\n",
      "正确答案：\n",
      "<sos>我們從印度進口茶葉。\n",
      "预测\n",
      "<sos>我們印印進口茶葉\n",
      "原文：\n",
      "<sos>We just want to find Tom.\n",
      "正确答案：\n",
      "<sos>我們只是想找Tom。\n",
      "预测\n",
      "<sos>我們只是找Tom。\n",
      "原文：\n",
      "<sos>We know what we're doing.\n",
      "正确答案：\n",
      "<sos>我們知道我們在做什麼。\n",
      "预测\n",
      "<sos>我們知道們在做什。\n",
      "原文：\n",
      "<sos>We meet here once a week.\n",
      "正确答案：\n",
      "<sos>我们每周在这儿聚一次。\n",
      "预测\n",
      "<sos>我们每在这儿聚聚。\n",
      "原文：\n",
      "<sos>We must follow the rules.\n",
      "正确答案：\n",
      "<sos>我们必须遵守规则。\n",
      "预测\n",
      "<sos>我们必须守规则。\n",
      "原文：\n",
      "<sos>We must make a new start.\n",
      "正确答案：\n",
      "<sos>我們必須重新開始。\n",
      "预测\n",
      "<sos>我們必須新新始。"
     ]
    }
   ],
   "source": [
    "#简单测试一下，选第14个数据集进行测试\n",
    "for i,(batch) in enumerate(tqdm(train_iter)):\n",
    "            input_batchs = batch[\"src\"].to(device)\n",
    "            target_batchs = batch[\"trg\"].to(device)\n",
    "            # list\n",
    "            input_lens = batch[\"src_len\"]\n",
    "            target_lens = batch[\"trg_len\"]\n",
    "\n",
    "            output = model(input_batchs, target_batchs,input_lens,target_lens)\n",
    "            if i==14:\n",
    "                break\n",
    "print(output.shape)\n",
    "output=output.argmax(2)\n",
    "print(output.shape)\n",
    "print(input_batchs.shape)\n",
    "input_batchs=input_batchs.transpose(1,0)\n",
    "output=output.transpose(1,0)\n",
    "target_batchs=target_batchs.transpose(1,0)\n",
    "for z,i in enumerate(output):\n",
    "    print('\\n原文：')\n",
    "    for j in input_batchs[z]:\n",
    "        if j.item()==2:\n",
    "            break\n",
    "        print(idx_to_word_en[j.item()],end='')\n",
    "    print('\\n正确答案：')\n",
    "    for j in target_batchs[z]:\n",
    "        if j.item()==2:\n",
    "            break\n",
    "        print(idx_to_word_zh[j.item()],end='')\n",
    "    print('\\n预测')\n",
    "    for j in i:\n",
    "        if j.item()==2:\n",
    "            break\n",
    "        print(idx_to_word_zh[j.item()],end='')\n",
    "\n"
   ]
  },
  {
   "cell_type": "code",
   "execution_count": null,
   "id": "electric-sterling",
   "metadata": {},
   "outputs": [],
   "source": []
  }
 ],
 "metadata": {
  "kernelspec": {
   "display_name": "Python 3",
   "language": "python",
   "name": "python3"
  },
  "language_info": {
   "codemirror_mode": {
    "name": "ipython",
    "version": 3
   },
   "file_extension": ".py",
   "mimetype": "text/x-python",
   "name": "python",
   "nbconvert_exporter": "python",
   "pygments_lexer": "ipython3",
   "version": "3.6.12"
  }
 },
 "nbformat": 4,
 "nbformat_minor": 5
}
