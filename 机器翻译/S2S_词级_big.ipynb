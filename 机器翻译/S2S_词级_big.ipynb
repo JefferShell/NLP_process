{
 "cells": [
  {
   "cell_type": "code",
   "execution_count": 1,
   "id": "inner-condition",
   "metadata": {},
   "outputs": [],
   "source": [
    "#这次对小数据集进行词级别的机器翻译\n",
    "import torch\n",
    "import torch.utils.data as da\n",
    "import torch.nn as nn\n",
    "import torch.optim as optim\n",
    "import jieba\n",
    "import argparse\n",
    "import matplotlib.pyplot as plt\n",
    "from collections import Counter\n",
    "import random\n",
    "import time\n",
    "from tqdm import tqdm\n",
    "import torch.nn.functional as F"
   ]
  },
  {
   "cell_type": "code",
   "execution_count": 2,
   "id": "alpha-tower",
   "metadata": {},
   "outputs": [
    {
     "data": {
      "text/plain": [
       "True"
      ]
     },
     "execution_count": 2,
     "metadata": {},
     "output_type": "execute_result"
    }
   ],
   "source": [
    "torch.cuda.is_available()"
   ]
  },
  {
   "cell_type": "code",
   "execution_count": 3,
   "id": "future-restoration",
   "metadata": {},
   "outputs": [],
   "source": [
    "device = torch.device(\"cuda:6\" if torch.cuda.is_available() else \"cpu\")\n",
    "parser = argparse.ArgumentParser()\n",
    "\n",
    "parser.add_argument('--en_path', type=str, default='data/news-commentary-v13.zh-en.en',\n",
    "                   help='英文数据集路径')\n",
    "parser.add_argument('--zh_path', type=str, default='data/news-commentary-v13.zh-en.zh',\n",
    "                   help='中文数据集路径')\n",
    "parser.add_argument('--seq_len', type=int, default=100,\n",
    "                   help='句子最大的长度，多则截断，少则补<unk>')\n",
    "parser.add_argument('--pad', type=str, default='<unk>',\n",
    "                   help='填充词')\n",
    "parser.add_argument('--batch_size',type=int,default=32,\n",
    "                   help='每轮批次')\n",
    "parser.add_argument('--en_embedding_dim',type=int,default=256,\n",
    "                   help='编码器词向量的长度')\n",
    "parser.add_argument('--en_hidden_dim',type=int,default=512,\n",
    "                   help='编码器深度')\n",
    "parser.add_argument('--en_n_layers',type=int,default=2,\n",
    "                   help='编码器LSTM的层数')\n",
    "parser.add_argument('--de_embedding_dim',type=int,default=256,\n",
    "                   help='解码器词向量的长度')\n",
    "parser.add_argument('--de_hidden_dim',type=int,default=512,\n",
    "                   help='解码器深度')\n",
    "parser.add_argument('--de_n_layers',type=int,default=2,\n",
    "                   help='解码器LSTM的层数')\n",
    "parser.add_argument('--dropout',type=int,default=0.5,\n",
    "                   help='droput')\n",
    "parser.add_argument('--lr',type=int,default=0.0001,\n",
    "                   help='学习率')\n",
    "parser.add_argument('--weight_decay',type=int,default=0.1,\n",
    "                   help='权重衰减/L2范式')\n",
    "parser.add_argument('--clip',type=int,default=1,\n",
    "                   help='梯度剪切')\n",
    "parser.add_argument('--epochs',type=int,default=200,\n",
    "                   help='训练轮数')\n",
    "parser.add_argument('--attention',type=bool,default=False,\n",
    "                   help='是否启用注意力机制')\n",
    "\n",
    "#kwargs = parser.parse_args()\n",
    "kwargs = parser.parse_known_args()[0]\n"
   ]
  },
  {
   "cell_type": "code",
   "execution_count": 4,
   "id": "antique-awareness",
   "metadata": {},
   "outputs": [],
   "source": [
    "with open(kwargs.en_path, 'r') as f_en:\n",
    "    data_en = f_en.readlines()\n",
    "with open(kwargs.zh_path, 'r') as f_zh:\n",
    "    data_zh = f_zh.readlines()"
   ]
  },
  {
   "cell_type": "code",
   "execution_count": 5,
   "id": "roman-queen",
   "metadata": {},
   "outputs": [],
   "source": [
    "#特殊处理\n",
    "def data_process(text):\n",
    "    text = text.lower()\n",
    "    # 特殊数据处理，该地方可以各种替换缩略词等\n",
    "    # 去除标点等\n",
    "    return text"
   ]
  },
  {
   "cell_type": "code",
   "execution_count": 6,
   "id": "facial-heaven",
   "metadata": {},
   "outputs": [],
   "source": [
    "#对单句话进行分词\n",
    "def get_token_text(text_en,text_zh):\n",
    "    #简单的句子处理\n",
    "    text_en=text_en.replace('.',' .').replace('?',' ?').replace('!',' !').replace(',',' , ')\n",
    "    text_zh=text_zh.strip('\\n')\n",
    "    #英文以空格分割\n",
    "    token_data_en = [data_process(st) for st in text_en.split()]\n",
    "    #中文一般用jieba\n",
    "    token_data_zh = [data_process(st) for st in jieba.cut(text_zh)]\n",
    "    return [token_data_en,token_data_zh]"
   ]
  },
  {
   "cell_type": "code",
   "execution_count": 7,
   "id": "vocational-superior",
   "metadata": {},
   "outputs": [],
   "source": [
    "#对两个数据集的每句话进行分词\n",
    "def get_token_data(data_en,data_zh):\n",
    "    data_token_en = []\n",
    "    data_token_zh = []\n",
    "    for en,zh in zip(data_en,data_zh):\n",
    "        en,zh=get_token_text(en,zh)\n",
    "        data_token_en.append(en)\n",
    "        data_token_zh.append(zh)\n",
    "    return data_token_en,data_token_zh"
   ]
  },
  {
   "cell_type": "code",
   "execution_count": 8,
   "id": "bigger-polish",
   "metadata": {},
   "outputs": [],
   "source": [
    "def get_vocab(data):\n",
    "    data=[j for i in data for j in i]\n",
    "    top_1000 = Counter(data).most_common(100000)\n",
    "    vocab = {x[0]:x[1] for x in top_1000}\n",
    "    word_to_idx = {word: i + 4 for i, word in enumerate(vocab)}\n",
    "    word_to_idx['<pad>'] = 0\n",
    "    word_to_idx['<sos>'] = 1\n",
    "    word_to_idx['<eos>'] = 2\n",
    "    word_to_idx['<unk>'] = 3\n",
    "    idx_to_word = {i + 4: word for i, word in enumerate(vocab)}\n",
    "    idx_to_word[0] = '<pad>'\n",
    "    idx_to_word[1] = '<sos>'\n",
    "    idx_to_word[2] = '<eos>'\n",
    "    idx_to_word[3] = '<unk>'\n",
    "    vocab_size=len(idx_to_word)\n",
    "    return vocab, vocab_size, word_to_idx, idx_to_word"
   ]
  },
  {
   "cell_type": "code",
   "execution_count": 9,
   "id": "worth-fabric",
   "metadata": {},
   "outputs": [],
   "source": [
    "# 填充和截断\n",
    "def pad_st(features, maxlen, pad=0):\n",
    "    padded_features = []\n",
    "    for feature in features:\n",
    "        feature.insert(0,'<sos>')\n",
    "        feature.append('<eos>')\n",
    "        if len(feature) > maxlen:\n",
    "            padded_feature = feature[:maxlen]\n",
    "            padded_feature[-1]='<eos>'#防止<eos>被切掉\n",
    "        else:\n",
    "            padded_feature = feature\n",
    "            while (len(padded_feature) < maxlen):\n",
    "                padded_feature.append(pad)\n",
    "        padded_features.append(padded_feature)\n",
    "    return padded_features"
   ]
  },
  {
   "cell_type": "code",
   "execution_count": 10,
   "id": "white-blood",
   "metadata": {},
   "outputs": [],
   "source": [
    "# 转化为索引\n",
    "def encode_st(token_data, word_to_idx):\n",
    "    features = []\n",
    "    for sample in token_data:\n",
    "        feature = []\n",
    "        feature.append(1)\n",
    "        for token in sample:\n",
    "            if token in word_to_idx:\n",
    "                feature.append(word_to_idx[token])\n",
    "            else:#如果是词库中不存在的，认为是<unk>，即0\n",
    "                feature.append(0)\n",
    "        feature.append(2)\n",
    "        features.append(feature)\n",
    "    \n",
    "    return features"
   ]
  },
  {
   "cell_type": "code",
   "execution_count": 11,
   "id": "personalized-block",
   "metadata": {},
   "outputs": [
    {
     "name": "stderr",
     "output_type": "stream",
     "text": [
      "Building prefix dict from the default dictionary ...\n",
      "Loading model from cache /tmp/jieba.cache\n",
      "Dumping model to file cache /tmp/jieba.cache\n",
      "Dump cache file failed.\n",
      "Traceback (most recent call last):\n",
      "  File \"/home/renhongjie/miniconda3/envs/rencaiji/lib/python3.6/site-packages/jieba/__init__.py\", line 154, in initialize\n",
      "    _replace_file(fpath, cache_file)\n",
      "PermissionError: [Errno 1] Operation not permitted: '/tmp/tmp__7dd0m9' -> '/tmp/jieba.cache'\n",
      "Loading model cost 0.837 seconds.\n",
      "Prefix dict has been built successfully.\n"
     ]
    }
   ],
   "source": [
    "#此时为二维数组，每个数组是之前每句话的分词结果，词级别\n",
    "en_data,zh_data=get_token_data(data_en,data_zh)\n",
    "en_data,zh_data=en_data[:10000],zh_data[:10000]"
   ]
  },
  {
   "cell_type": "code",
   "execution_count": 12,
   "id": "leading-guard",
   "metadata": {},
   "outputs": [
    {
     "name": "stdout",
     "output_type": "stream",
     "text": [
      "[['1929', 'or', '1989', '?'], ['paris', '–', 'as', 'the', 'economic', 'crisis', 'deepens', 'and', 'widens', ',', 'the', 'world', 'has', 'been', 'searching', 'for', 'historical', 'analogies', 'to', 'help', 'us', 'understand', 'what', 'has', 'been', 'happening', '.']] [['1929', '年', '还是', '1989', '年', '?'], ['巴黎', '-', '随着', '经济危机', '不断', '加深', '和', '蔓延', '，', '整个', '世界', '一直', '在', '寻找', '历史', '上', '的', '类似', '事件', '希望', '有助于', '我们', '了解', '目前', '正在', '发生', '的', '情况', '。']]\n"
     ]
    }
   ],
   "source": [
    "print(en_data[0:2],zh_data[0:2])"
   ]
  },
  {
   "cell_type": "code",
   "execution_count": 13,
   "id": "adult-thinking",
   "metadata": {},
   "outputs": [],
   "source": [
    "vocab_en,vocab_size_en, word_to_idx_en, idx_to_word_en=get_vocab(en_data)\n",
    "vocab_zh,vocab_size_zh, word_to_idx_zh, idx_to_word_zh=get_vocab(zh_data)\n"
   ]
  },
  {
   "cell_type": "code",
   "execution_count": 14,
   "id": "swedish-serial",
   "metadata": {},
   "outputs": [
    {
     "name": "stdout",
     "output_type": "stream",
     "text": [
      "18993 19027\n"
     ]
    }
   ],
   "source": [
    "kwargs.vocab_size_en=vocab_size_en#记录vocab大小\n",
    "kwargs.vocab_size_zh=vocab_size_zh#记录vocab大小\n",
    "print(vocab_size_en,vocab_size_zh)"
   ]
  },
  {
   "cell_type": "code",
   "execution_count": 15,
   "id": "removable-cornell",
   "metadata": {},
   "outputs": [
    {
     "data": {
      "image/png": "[encoded data removed]",
      "text/plain": [
       "<Figure size 432x288 with 1 Axes>"
      ]
     },
     "metadata": {
      "needs_background": "light"
     },
     "output_type": "display_data"
    },
    {
     "data": {
      "image/png": "[encoded data removed]",
      "text/plain": [
       "<Figure size 432x288 with 1 Axes>"
      ]
     },
     "metadata": {
      "needs_background": "light"
     },
     "output_type": "display_data"
    }
   ],
   "source": [
    "#看一下预料的长度分布，然后选择一个合适的seq_len\n",
    "en_data_length=[]\n",
    "for i in en_data:\n",
    "    en_data_length.append(len(i))\n",
    "n, bins, patches = plt.hist(en_data_length, bins=10, edgecolor='None',facecolor='red') \n",
    "plt.show()\n",
    "zh_data_length=[]\n",
    "for i in zh_data:\n",
    "    zh_data_length.append(len(i))\n",
    "n, bins, patches = plt.hist(zh_data_length, bins=10, edgecolor='None',facecolor='red') \n",
    "plt.show()"
   ]
  },
  {
   "cell_type": "code",
   "execution_count": 16,
   "id": "wicked-cambodia",
   "metadata": {},
   "outputs": [
    {
     "name": "stdout",
     "output_type": "stream",
     "text": [
      "[6, 29, 37, 44, 23, 35, 27, 15, 45, 39]\n"
     ]
    }
   ],
   "source": [
    "print(zh_data_length[0:10])"
   ]
  },
  {
   "cell_type": "code",
   "execution_count": 17,
   "id": "generous-reputation",
   "metadata": {},
   "outputs": [],
   "source": [
    "en_data_id=encode_st((en_data),word_to_idx_en)\n",
    "zh_data_id=encode_st((zh_data),word_to_idx_zh)"
   ]
  },
  {
   "cell_type": "code",
   "execution_count": 18,
   "id": "maritime-ballet",
   "metadata": {},
   "outputs": [
    {
     "name": "stdout",
     "output_type": "stream",
     "text": [
      "[[1, 6920, 41, 1532, 113, 2], [1, 1051, 15, 16, 4, 50, 109, 5600, 9, 9721, 5, 4, 43, 25, 46, 3228, 14, 1011, 6921, 8, 206, 23, 984, 78, 25, 46, 2692, 6, 2], [1, 36, 4, 534, 7, 4, 109, 5, 66, 90, 6922, 17, 8, 6923, 41, 2693, 5, 42, 35, 2694, 5, 110, 118, 6924, 4724, 8, 3603, 2484, 5601, 6, 2]]\n"
     ]
    }
   ],
   "source": [
    "print(en_data_id[0:3])"
   ]
  },
  {
   "cell_type": "code",
   "execution_count": 19,
   "id": "infectious-oxford",
   "metadata": {},
   "outputs": [],
   "source": [
    "from torch.utils.data import Dataset, DataLoader\n",
    "class TranslationDataset(Dataset):\n",
    "    def __init__(self, src_data, trg_data):\n",
    "        self.src_data = src_data\n",
    "        self.trg_data = trg_data\n",
    "\n",
    "        assert len(src_data) == len(trg_data), \\\n",
    "            \"numbers of src_data  and trg_data must be equal!\"\n",
    "\n",
    "    def __len__(self):\n",
    "        return len(self.src_data)\n",
    "\n",
    "    def __getitem__(self, idx):\n",
    "        src_sample =self.src_data[idx]\n",
    "        src_len = len(self.src_data[idx])\n",
    "        trg_sample = self.trg_data[idx]\n",
    "        trg_len = len(self.trg_data[idx])\n",
    "        return {\"src\": src_sample, \"src_len\": src_len, \"trg\": trg_sample, \"trg_len\": trg_len}"
   ]
  },
  {
   "cell_type": "code",
   "execution_count": 20,
   "id": "boolean-vinyl",
   "metadata": {},
   "outputs": [],
   "source": [
    "def padding_batch(batch):\n",
    "    \"\"\"\n",
    "    input: -> list of dict\n",
    "        [{'src': [1, 2, 3], 'trg': [1, 2, 3]}, {'src': [1, 2, 2, 3], 'trg': [1, 2, 2, 3]}]\n",
    "    output: -> dict of tensor \n",
    "        {\n",
    "            \"src\": [[1, 2, 3, 0], [1, 2, 2, 3]].T\n",
    "            \"trg\": [[1, 2, 3, 0], [1, 2, 2, 3]].T\n",
    "        }\n",
    "    \"\"\"\n",
    "    src_lens = [d[\"src_len\"] for d in batch]\n",
    "    trg_lens = [d[\"trg_len\"] for d in batch]\n",
    "    \n",
    "    src_max = max([d[\"src_len\"] for d in batch])\n",
    "    trg_max = max([d[\"trg_len\"] for d in batch])\n",
    "    for d in batch:\n",
    "        word_to_idx_en\n",
    "        d[\"src\"].extend([word_to_idx_en[\"<pad>\"]]*(src_max-d[\"src_len\"]))\n",
    "        d[\"trg\"].extend([word_to_idx_zh[\"<pad>\"]]*(trg_max-d[\"trg_len\"]))\n",
    "    srcs = torch.tensor([pair[\"src\"] for pair in batch], dtype=torch.long, device=device)\n",
    "    trgs = torch.tensor([pair[\"trg\"] for pair in batch], dtype=torch.long, device=device)\n",
    "    \n",
    "    batch = {\"src\":srcs.T, \"src_len\":src_lens, \"trg\":trgs.T, \"trg_len\":trg_lens}\n",
    "    return batch"
   ]
  },
  {
   "cell_type": "code",
   "execution_count": 21,
   "id": "animated-banner",
   "metadata": {},
   "outputs": [],
   "source": [
    "# 数据集\n",
    "train_set = TranslationDataset(en_data_id, zh_data_id)\n",
    "train_iter = DataLoader(train_set, batch_size=kwargs.batch_size, collate_fn=padding_batch)"
   ]
  },
  {
   "cell_type": "code",
   "execution_count": 22,
   "id": "wanted-customs",
   "metadata": {},
   "outputs": [],
   "source": [
    "#开始模型部分\n",
    "class Encoder(nn.Module):\n",
    "    def __init__(self, args):\n",
    "        super().__init__()\n",
    "        self.input_dim = args.vocab_size_en\n",
    "        self.emb_dim = args.en_embedding_dim\n",
    "        self.hid_dim = args.en_hidden_dim\n",
    "        self.n_layers = args.en_n_layers\n",
    "        self.dropout = args.dropout\n",
    "        self.embedding = nn.Embedding(self.input_dim, self.emb_dim)   \n",
    "        self.rnn = nn.LSTM(input_size=self.emb_dim, hidden_size=self.hid_dim, num_layers=self.n_layers,\n",
    "                           dropout=self.dropout,bidirectional=True)\n",
    "\n",
    "        \n",
    "    def forward(self, x,input_lengths):\n",
    "        embedded = (self.embedding(x))\n",
    "        packed = torch.nn.utils.rnn.pack_padded_sequence(embedded, input_lengths, enforce_sorted=False)\n",
    "        outputs, (hidden, cell) = self.rnn(packed)\n",
    "        outputs, output_lengths = torch.nn.utils.rnn.pad_packed_sequence(sequence=outputs)\n",
    "        return outputs,hidden, cell\n",
    "class Decoder(nn.Module):\n",
    "    def __init__(self, args):\n",
    "        super().__init__()\n",
    "        self.emb_dim = args.de_embedding_dim\n",
    "        self.hid_dim = args.de_hidden_dim\n",
    "        self.output_dim = args.vocab_size_zh\n",
    "        self.n_layers = args.de_n_layers\n",
    "        self.dropout = args.dropout\n",
    "        self.embedding = nn.Embedding(self.output_dim, self.emb_dim)\n",
    "        self.rnn = nn.LSTM(input_size=self.emb_dim, hidden_size=self.hid_dim,num_layers= self.n_layers,\n",
    "                           dropout=self.dropout,bidirectional=True)\n",
    "        bidirectional=True\n",
    "        if bidirectional==True:\n",
    "            self.out = nn.Linear(self.hid_dim*2, self.output_dim)\n",
    "        else:\n",
    "            self.out = nn.Linear(self.hid_dim, self.output_dim)\n",
    "        self.dropout = nn.Dropout(self.dropout)\n",
    "        self.softmax = nn.LogSoftmax(dim=1)\n",
    "        \n",
    "    def forward(self, x, hidden, cell):\n",
    "        batch_size = x.size(0)\n",
    "        embedded = self.dropout(self.embedding(x).view(1, batch_size, -1))\n",
    "        output, (hidden, cell) = self.rnn(embedded, (hidden, cell))       \n",
    "        output = self.out(output.squeeze(0))\n",
    "        prediction = self.softmax(output)\n",
    "        return prediction, hidden, cell\n",
    "\n",
    "class Seq2Seq(nn.Module):\n",
    "    def __init__(self, args,device):\n",
    "        super().__init__()\n",
    "        self.attention=args.attention\n",
    "        self.encoder = Encoder(args)\n",
    "        if self.attention==True:\n",
    "            self.decoder = DecoderAtten(args)\n",
    "        else:\n",
    "            self.decoder = Decoder(args)\n",
    "        self.device = device\n",
    "        \n",
    "        assert self.encoder.hid_dim == self.decoder.hid_dim, \\\n",
    "            \"Hidden dimensions of encoder and decoder must be equal!\"\n",
    "        assert self.encoder.n_layers == self.decoder.n_layers, \\\n",
    "            \"Encoder and decoder must have equal number of layers!\"\n",
    "        \n",
    "    def forward(self, src, trg, src_length,trg_length,teacher_forcing_ratio = 0.5):\n",
    "        batch_size = trg.shape[1]\n",
    "        trg_vocab_size = self.decoder.output_dim\n",
    "        max_target_length = max(trg_length)\n",
    "        outputs = torch.zeros(max_target_length, batch_size, trg_vocab_size).to(self.device)\n",
    "        en_outputs,hidden, cell = self.encoder(src,src_length)   \n",
    "        #输入到Decoder网络的第一个字符是<sos>（句子开始标记）\n",
    "        de_input = trg[0]\n",
    "        \n",
    "        for t in range(max_target_length):\n",
    "            #注意前面的hidden、cell和后面的是不同的\n",
    "#             if self.attention==True:\n",
    "#                 output, hidden, cell = self.decoder(de_input, hidden, cell,en_outputs)\n",
    "#             else:\n",
    "#                 output, hidden, cell = self.decoder(de_input, hidden, cell)\n",
    "#             outputs[t] = output\n",
    "            use_teacher_forcing = True if random.random() < teacher_forcing_ratio else False\n",
    "            if use_teacher_forcing:\n",
    "                    # decoder_output = [batch, output_dim]\n",
    "                    # decoder_hidden = [n_layers*n_directions, batch, hid_dim]\n",
    "                    output, hidden, cell = self.decoder(de_input, hidden, cell)\n",
    "                    outputs[t] = output\n",
    "                    output = trg[t]  # 下一个输入来自训练数据\n",
    "            else:\n",
    "                    output, decoder_hidden, cell = self.decoder(de_input, hidden, cell)\n",
    "                    # [batch, 1]\n",
    "                    topv, topi = output.topk(1)\n",
    "                    outputs[t] = output\n",
    "                    output = topi.squeeze(1)  # \n",
    "        return outputs"
   ]
  },
  {
   "cell_type": "code",
   "execution_count": 23,
   "id": "hybrid-wilderness",
   "metadata": {},
   "outputs": [],
   "source": [
    "def train(args,device,model,train_iter):\n",
    "    moedel=model.to(device)\n",
    "    loss_function = nn.NLLLoss(ignore_index = 0)\n",
    "    #optimizer = optim.Adam(model.parameters(), lr=args.lr, weight_decay=args.weight_decay)\n",
    "    optimizer = optim.Adam(model.parameters(), lr=args.lr)\n",
    "    print(\"模型开始训练\")\n",
    "    for epoch in range(args.epochs):\n",
    "        start = time.time()\n",
    "        train_loss, train_acc = 0, 0\n",
    "        n= 0\n",
    "        model.train()\n",
    "        for i,(batch) in enumerate(tqdm(train_iter)):\n",
    "            n += 1\n",
    "            input_batchs = batch[\"src\"].to(device)\n",
    "            target_batchs = batch[\"trg\"].to(device)\n",
    "            # list\n",
    "            input_lens = batch[\"src_len\"]\n",
    "            target_lens = batch[\"trg_len\"]\n",
    "            optimizer.zero_grad()\n",
    "            output = model(input_batchs, target_batchs,input_lens,target_lens)\n",
    "            #print(output.is_contiguous(),trg.is_contiguous())\n",
    "#             output = output.contiguous().view(-1, output.shape[-1])\n",
    "#             target_batchs = target_batchs.contiguous().view(-1)\n",
    "            loss = loss_function(output.reshape(-1,output.shape[-1] ), target_batchs.reshape(-1))\n",
    "            loss.backward()\n",
    "            \n",
    "            torch.nn.utils.clip_grad_norm_(model.parameters(), args.clip)\n",
    "            optimizer.step()\n",
    "            train_loss += loss\n",
    "        end = time.time()\n",
    "        runtime = end - start\n",
    "        print(\n",
    "            'epoch: %d, train loss: %.4f,time: %.4f \\n' % (epoch, train_loss.data / n,runtime)\n",
    "        )"
   ]
  },
  {
   "cell_type": "code",
   "execution_count": 24,
   "id": "through-atmosphere",
   "metadata": {},
   "outputs": [
    {
     "name": "stdout",
     "output_type": "stream",
     "text": [
      "Seq2Seq(\n",
      "  (encoder): Encoder(\n",
      "    (embedding): Embedding(18993, 256)\n",
      "    (rnn): LSTM(256, 512, num_layers=2, dropout=0.5, bidirectional=True)\n",
      "  )\n",
      "  (decoder): Decoder(\n",
      "    (embedding): Embedding(19027, 256)\n",
      "    (rnn): LSTM(256, 512, num_layers=2, dropout=0.5, bidirectional=True)\n",
      "    (out): Linear(in_features=1024, out_features=19027, bias=True)\n",
      "    (dropout): Dropout(p=0.5, inplace=False)\n",
      "    (softmax): LogSoftmax(dim=1)\n",
      "  )\n",
      ")\n"
     ]
    }
   ],
   "source": [
    "model=Seq2Seq(kwargs,device)\n",
    "print(model)"
   ]
  },
  {
   "cell_type": "code",
   "execution_count": null,
   "id": "intelligent-singapore",
   "metadata": {},
   "outputs": [
    {
     "name": "stderr",
     "output_type": "stream",
     "text": [
      "\r",
      "  0%|          | 0/313 [00:00<?, ?it/s]"
     ]
    },
    {
     "name": "stdout",
     "output_type": "stream",
     "text": [
      "模型开始训练\n"
     ]
    },
    {
     "name": "stderr",
     "output_type": "stream",
     "text": [
      "100%|██████████| 313/313 [01:40<00:00,  3.11it/s]\n",
      "  0%|          | 0/313 [00:00<?, ?it/s]"
     ]
    },
    {
     "name": "stdout",
     "output_type": "stream",
     "text": [
      "epoch: 0, train loss: 7.0601,time: 100.6559 \n",
      "\n"
     ]
    },
    {
     "name": "stderr",
     "output_type": "stream",
     "text": [
      "100%|██████████| 313/313 [01:39<00:00,  3.14it/s]\n",
      "  0%|          | 0/313 [00:00<?, ?it/s]"
     ]
    },
    {
     "name": "stdout",
     "output_type": "stream",
     "text": [
      "epoch: 1, train loss: 6.6786,time: 99.7407 \n",
      "\n"
     ]
    },
    {
     "name": "stderr",
     "output_type": "stream",
     "text": [
      "100%|██████████| 313/313 [01:39<00:00,  3.15it/s]\n",
      "  0%|          | 0/313 [00:00<?, ?it/s]"
     ]
    },
    {
     "name": "stdout",
     "output_type": "stream",
     "text": [
      "epoch: 2, train loss: 6.6196,time: 99.4473 \n",
      "\n"
     ]
    },
    {
     "name": "stderr",
     "output_type": "stream",
     "text": [
      "100%|██████████| 313/313 [01:39<00:00,  3.15it/s]\n",
      "  0%|          | 0/313 [00:00<?, ?it/s]"
     ]
    },
    {
     "name": "stdout",
     "output_type": "stream",
     "text": [
      "epoch: 3, train loss: 6.5756,time: 99.7149 \n",
      "\n"
     ]
    },
    {
     "name": "stderr",
     "output_type": "stream",
     "text": [
      "100%|██████████| 313/313 [01:39<00:00,  3.14it/s]\n",
      "  0%|          | 0/313 [00:00<?, ?it/s]"
     ]
    },
    {
     "name": "stdout",
     "output_type": "stream",
     "text": [
      "epoch: 4, train loss: 6.5267,time: 99.7466 \n",
      "\n"
     ]
    },
    {
     "name": "stderr",
     "output_type": "stream",
     "text": [
      "100%|██████████| 313/313 [01:39<00:00,  3.14it/s]\n",
      "  0%|          | 0/313 [00:00<?, ?it/s]"
     ]
    },
    {
     "name": "stdout",
     "output_type": "stream",
     "text": [
      "epoch: 5, train loss: 6.4767,time: 99.8190 \n",
      "\n"
     ]
    },
    {
     "name": "stderr",
     "output_type": "stream",
     "text": [
      "100%|██████████| 313/313 [01:39<00:00,  3.14it/s]\n",
      "  0%|          | 0/313 [00:00<?, ?it/s]"
     ]
    },
    {
     "name": "stdout",
     "output_type": "stream",
     "text": [
      "epoch: 6, train loss: 6.4260,time: 99.7624 \n",
      "\n"
     ]
    },
    {
     "name": "stderr",
     "output_type": "stream",
     "text": [
      "100%|██████████| 313/313 [01:39<00:00,  3.15it/s]\n",
      "  0%|          | 0/313 [00:00<?, ?it/s]"
     ]
    },
    {
     "name": "stdout",
     "output_type": "stream",
     "text": [
      "epoch: 7, train loss: 6.3751,time: 99.6209 \n",
      "\n"
     ]
    },
    {
     "name": "stderr",
     "output_type": "stream",
     "text": [
      "100%|██████████| 313/313 [01:39<00:00,  3.14it/s]\n",
      "  0%|          | 0/313 [00:00<?, ?it/s]"
     ]
    },
    {
     "name": "stdout",
     "output_type": "stream",
     "text": [
      "epoch: 8, train loss: 6.3224,time: 99.8119 \n",
      "\n"
     ]
    },
    {
     "name": "stderr",
     "output_type": "stream",
     "text": [
      "100%|██████████| 313/313 [01:39<00:00,  3.13it/s]\n",
      "  0%|          | 0/313 [00:00<?, ?it/s]"
     ]
    },
    {
     "name": "stdout",
     "output_type": "stream",
     "text": [
      "epoch: 9, train loss: 6.2696,time: 100.0701 \n",
      "\n"
     ]
    },
    {
     "name": "stderr",
     "output_type": "stream",
     "text": [
      "100%|██████████| 313/313 [01:39<00:00,  3.14it/s]\n",
      "  0%|          | 0/313 [00:00<?, ?it/s]"
     ]
    },
    {
     "name": "stdout",
     "output_type": "stream",
     "text": [
      "epoch: 10, train loss: 6.2136,time: 99.9567 \n",
      "\n"
     ]
    },
    {
     "name": "stderr",
     "output_type": "stream",
     "text": [
      "100%|██████████| 313/313 [01:40<00:00,  3.13it/s]\n",
      "  0%|          | 0/313 [00:00<?, ?it/s]"
     ]
    },
    {
     "name": "stdout",
     "output_type": "stream",
     "text": [
      "epoch: 11, train loss: 6.1617,time: 100.1858 \n",
      "\n"
     ]
    },
    {
     "name": "stderr",
     "output_type": "stream",
     "text": [
      "100%|██████████| 313/313 [01:39<00:00,  3.13it/s]\n",
      "  0%|          | 0/313 [00:00<?, ?it/s]"
     ]
    },
    {
     "name": "stdout",
     "output_type": "stream",
     "text": [
      "epoch: 12, train loss: 6.1086,time: 100.0294 \n",
      "\n"
     ]
    },
    {
     "name": "stderr",
     "output_type": "stream",
     "text": [
      "100%|██████████| 313/313 [01:39<00:00,  3.14it/s]\n",
      "  0%|          | 0/313 [00:00<?, ?it/s]"
     ]
    },
    {
     "name": "stdout",
     "output_type": "stream",
     "text": [
      "epoch: 13, train loss: 6.0567,time: 99.9851 \n",
      "\n"
     ]
    },
    {
     "name": "stderr",
     "output_type": "stream",
     "text": [
      "100%|██████████| 313/313 [01:40<00:00,  3.12it/s]\n",
      "  0%|          | 0/313 [00:00<?, ?it/s]"
     ]
    },
    {
     "name": "stdout",
     "output_type": "stream",
     "text": [
      "epoch: 14, train loss: 6.0070,time: 100.6117 \n",
      "\n"
     ]
    },
    {
     "name": "stderr",
     "output_type": "stream",
     "text": [
      "100%|██████████| 313/313 [01:40<00:00,  3.12it/s]\n",
      "  0%|          | 0/313 [00:00<?, ?it/s]"
     ]
    },
    {
     "name": "stdout",
     "output_type": "stream",
     "text": [
      "epoch: 15, train loss: 5.9535,time: 100.4095 \n",
      "\n"
     ]
    },
    {
     "name": "stderr",
     "output_type": "stream",
     "text": [
      "100%|██████████| 313/313 [01:40<00:00,  3.12it/s]\n",
      "  0%|          | 0/313 [00:00<?, ?it/s]"
     ]
    },
    {
     "name": "stdout",
     "output_type": "stream",
     "text": [
      "epoch: 16, train loss: 5.9087,time: 100.4585 \n",
      "\n"
     ]
    },
    {
     "name": "stderr",
     "output_type": "stream",
     "text": [
      "100%|██████████| 313/313 [01:39<00:00,  3.14it/s]\n",
      "  0%|          | 0/313 [00:00<?, ?it/s]"
     ]
    },
    {
     "name": "stdout",
     "output_type": "stream",
     "text": [
      "epoch: 17, train loss: 5.8634,time: 99.8810 \n",
      "\n"
     ]
    },
    {
     "name": "stderr",
     "output_type": "stream",
     "text": [
      "100%|██████████| 313/313 [01:40<00:00,  3.12it/s]\n",
      "  0%|          | 0/313 [00:00<?, ?it/s]"
     ]
    },
    {
     "name": "stdout",
     "output_type": "stream",
     "text": [
      "epoch: 18, train loss: 5.8053,time: 100.3471 \n",
      "\n"
     ]
    },
    {
     "name": "stderr",
     "output_type": "stream",
     "text": [
      "100%|██████████| 313/313 [01:40<00:00,  3.12it/s]\n",
      "  0%|          | 0/313 [00:00<?, ?it/s]"
     ]
    },
    {
     "name": "stdout",
     "output_type": "stream",
     "text": [
      "epoch: 19, train loss: 5.7538,time: 100.3523 \n",
      "\n"
     ]
    },
    {
     "name": "stderr",
     "output_type": "stream",
     "text": [
      "100%|██████████| 313/313 [01:40<00:00,  3.13it/s]\n",
      "  0%|          | 0/313 [00:00<?, ?it/s]"
     ]
    },
    {
     "name": "stdout",
     "output_type": "stream",
     "text": [
      "epoch: 20, train loss: 5.7003,time: 100.1921 \n",
      "\n"
     ]
    },
    {
     "name": "stderr",
     "output_type": "stream",
     "text": [
      "100%|██████████| 313/313 [01:40<00:00,  3.12it/s]\n",
      "  0%|          | 0/313 [00:00<?, ?it/s]"
     ]
    },
    {
     "name": "stdout",
     "output_type": "stream",
     "text": [
      "epoch: 21, train loss: 5.6468,time: 100.5816 \n",
      "\n"
     ]
    },
    {
     "name": "stderr",
     "output_type": "stream",
     "text": [
      "100%|██████████| 313/313 [01:40<00:00,  3.12it/s]\n",
      "  0%|          | 0/313 [00:00<?, ?it/s]"
     ]
    },
    {
     "name": "stdout",
     "output_type": "stream",
     "text": [
      "epoch: 22, train loss: 5.6019,time: 100.5206 \n",
      "\n"
     ]
    },
    {
     "name": "stderr",
     "output_type": "stream",
     "text": [
      "100%|██████████| 313/313 [01:40<00:00,  3.11it/s]\n",
      "  0%|          | 0/313 [00:00<?, ?it/s]"
     ]
    },
    {
     "name": "stdout",
     "output_type": "stream",
     "text": [
      "epoch: 23, train loss: 5.5446,time: 100.6688 \n",
      "\n"
     ]
    },
    {
     "name": "stderr",
     "output_type": "stream",
     "text": [
      "100%|██████████| 313/313 [01:40<00:00,  3.12it/s]\n",
      "  0%|          | 0/313 [00:00<?, ?it/s]"
     ]
    },
    {
     "name": "stdout",
     "output_type": "stream",
     "text": [
      "epoch: 24, train loss: 5.4901,time: 100.6002 \n",
      "\n"
     ]
    },
    {
     "name": "stderr",
     "output_type": "stream",
     "text": [
      "100%|██████████| 313/313 [01:40<00:00,  3.12it/s]\n",
      "  0%|          | 0/313 [00:00<?, ?it/s]"
     ]
    },
    {
     "name": "stdout",
     "output_type": "stream",
     "text": [
      "epoch: 25, train loss: 5.4430,time: 100.4415 \n",
      "\n"
     ]
    },
    {
     "name": "stderr",
     "output_type": "stream",
     "text": [
      "100%|██████████| 313/313 [01:40<00:00,  3.13it/s]\n",
      "  0%|          | 0/313 [00:00<?, ?it/s]"
     ]
    },
    {
     "name": "stdout",
     "output_type": "stream",
     "text": [
      "epoch: 26, train loss: 5.3910,time: 100.2732 \n",
      "\n"
     ]
    },
    {
     "name": "stderr",
     "output_type": "stream",
     "text": [
      "100%|██████████| 313/313 [01:40<00:00,  3.12it/s]\n",
      "  0%|          | 0/313 [00:00<?, ?it/s]"
     ]
    },
    {
     "name": "stdout",
     "output_type": "stream",
     "text": [
      "epoch: 27, train loss: 5.3330,time: 100.3371 \n",
      "\n"
     ]
    },
    {
     "name": "stderr",
     "output_type": "stream",
     "text": [
      "100%|██████████| 313/313 [01:40<00:00,  3.13it/s]\n",
      "  0%|          | 0/313 [00:00<?, ?it/s]"
     ]
    },
    {
     "name": "stdout",
     "output_type": "stream",
     "text": [
      "epoch: 28, train loss: 5.2831,time: 100.2008 \n",
      "\n"
     ]
    },
    {
     "name": "stderr",
     "output_type": "stream",
     "text": [
      "100%|██████████| 313/313 [01:40<00:00,  3.13it/s]\n",
      "  0%|          | 0/313 [00:00<?, ?it/s]"
     ]
    },
    {
     "name": "stdout",
     "output_type": "stream",
     "text": [
      "epoch: 29, train loss: 5.2236,time: 100.3355 \n",
      "\n"
     ]
    },
    {
     "name": "stderr",
     "output_type": "stream",
     "text": [
      "100%|██████████| 313/313 [01:39<00:00,  3.13it/s]\n",
      "  0%|          | 0/313 [00:00<?, ?it/s]"
     ]
    },
    {
     "name": "stdout",
     "output_type": "stream",
     "text": [
      "epoch: 30, train loss: 5.1716,time: 100.1112 \n",
      "\n"
     ]
    },
    {
     "name": "stderr",
     "output_type": "stream",
     "text": [
      "100%|██████████| 313/313 [01:39<00:00,  3.13it/s]\n",
      "  0%|          | 0/313 [00:00<?, ?it/s]"
     ]
    },
    {
     "name": "stdout",
     "output_type": "stream",
     "text": [
      "epoch: 31, train loss: 5.1099,time: 100.1457 \n",
      "\n"
     ]
    },
    {
     "name": "stderr",
     "output_type": "stream",
     "text": [
      "100%|██████████| 313/313 [01:40<00:00,  3.12it/s]\n",
      "  0%|          | 0/313 [00:00<?, ?it/s]"
     ]
    },
    {
     "name": "stdout",
     "output_type": "stream",
     "text": [
      "epoch: 32, train loss: 5.0717,time: 100.4522 \n",
      "\n"
     ]
    },
    {
     "name": "stderr",
     "output_type": "stream",
     "text": [
      "100%|██████████| 313/313 [01:40<00:00,  3.13it/s]\n",
      "  0%|          | 0/313 [00:00<?, ?it/s]"
     ]
    },
    {
     "name": "stdout",
     "output_type": "stream",
     "text": [
      "epoch: 33, train loss: 5.0241,time: 100.2045 \n",
      "\n"
     ]
    },
    {
     "name": "stderr",
     "output_type": "stream",
     "text": [
      "100%|██████████| 313/313 [01:39<00:00,  3.13it/s]\n",
      "  0%|          | 0/313 [00:00<?, ?it/s]"
     ]
    },
    {
     "name": "stdout",
     "output_type": "stream",
     "text": [
      "epoch: 34, train loss: 4.9724,time: 100.1112 \n",
      "\n"
     ]
    },
    {
     "name": "stderr",
     "output_type": "stream",
     "text": [
      "100%|██████████| 313/313 [01:39<00:00,  3.15it/s]\n",
      "  0%|          | 0/313 [00:00<?, ?it/s]"
     ]
    },
    {
     "name": "stdout",
     "output_type": "stream",
     "text": [
      "epoch: 35, train loss: 4.9141,time: 99.6745 \n",
      "\n"
     ]
    },
    {
     "name": "stderr",
     "output_type": "stream",
     "text": [
      "100%|██████████| 313/313 [01:40<00:00,  3.13it/s]\n",
      "  0%|          | 0/313 [00:00<?, ?it/s]"
     ]
    },
    {
     "name": "stdout",
     "output_type": "stream",
     "text": [
      "epoch: 36, train loss: 4.8582,time: 100.2364 \n",
      "\n"
     ]
    },
    {
     "name": "stderr",
     "output_type": "stream",
     "text": [
      "100%|██████████| 313/313 [01:39<00:00,  3.13it/s]\n",
      "  0%|          | 0/313 [00:00<?, ?it/s]"
     ]
    },
    {
     "name": "stdout",
     "output_type": "stream",
     "text": [
      "epoch: 37, train loss: 4.7999,time: 100.0672 \n",
      "\n"
     ]
    },
    {
     "name": "stderr",
     "output_type": "stream",
     "text": [
      "100%|██████████| 313/313 [01:40<00:00,  3.13it/s]\n",
      "  0%|          | 0/313 [00:00<?, ?it/s]"
     ]
    },
    {
     "name": "stdout",
     "output_type": "stream",
     "text": [
      "epoch: 38, train loss: 4.7423,time: 100.2746 \n",
      "\n"
     ]
    },
    {
     "name": "stderr",
     "output_type": "stream",
     "text": [
      "100%|██████████| 313/313 [01:39<00:00,  3.14it/s]\n",
      "  0%|          | 0/313 [00:00<?, ?it/s]"
     ]
    },
    {
     "name": "stdout",
     "output_type": "stream",
     "text": [
      "epoch: 39, train loss: 4.6887,time: 99.9159 \n",
      "\n"
     ]
    },
    {
     "name": "stderr",
     "output_type": "stream",
     "text": [
      "100%|██████████| 313/313 [01:39<00:00,  3.13it/s]\n",
      "  0%|          | 0/313 [00:00<?, ?it/s]"
     ]
    },
    {
     "name": "stdout",
     "output_type": "stream",
     "text": [
      "epoch: 40, train loss: 4.6379,time: 100.0848 \n",
      "\n"
     ]
    },
    {
     "name": "stderr",
     "output_type": "stream",
     "text": [
      "100%|██████████| 313/313 [01:39<00:00,  3.13it/s]\n",
      "  0%|          | 0/313 [00:00<?, ?it/s]"
     ]
    },
    {
     "name": "stdout",
     "output_type": "stream",
     "text": [
      "epoch: 41, train loss: 4.5963,time: 100.1479 \n",
      "\n"
     ]
    },
    {
     "name": "stderr",
     "output_type": "stream",
     "text": [
      "100%|██████████| 313/313 [01:39<00:00,  3.13it/s]\n",
      "  0%|          | 0/313 [00:00<?, ?it/s]"
     ]
    },
    {
     "name": "stdout",
     "output_type": "stream",
     "text": [
      "epoch: 42, train loss: 4.5606,time: 100.0923 \n",
      "\n"
     ]
    },
    {
     "name": "stderr",
     "output_type": "stream",
     "text": [
      "100%|██████████| 313/313 [01:40<00:00,  3.13it/s]\n",
      "  0%|          | 0/313 [00:00<?, ?it/s]"
     ]
    },
    {
     "name": "stdout",
     "output_type": "stream",
     "text": [
      "epoch: 43, train loss: 4.5107,time: 100.3066 \n",
      "\n"
     ]
    },
    {
     "name": "stderr",
     "output_type": "stream",
     "text": [
      "100%|██████████| 313/313 [01:40<00:00,  3.12it/s]\n",
      "  0%|          | 0/313 [00:00<?, ?it/s]"
     ]
    },
    {
     "name": "stdout",
     "output_type": "stream",
     "text": [
      "epoch: 44, train loss: 4.4475,time: 100.5280 \n",
      "\n"
     ]
    },
    {
     "name": "stderr",
     "output_type": "stream",
     "text": [
      "100%|██████████| 313/313 [01:40<00:00,  3.12it/s]\n",
      "  0%|          | 0/313 [00:00<?, ?it/s]"
     ]
    },
    {
     "name": "stdout",
     "output_type": "stream",
     "text": [
      "epoch: 45, train loss: 4.4023,time: 100.3898 \n",
      "\n"
     ]
    },
    {
     "name": "stderr",
     "output_type": "stream",
     "text": [
      "100%|██████████| 313/313 [01:40<00:00,  3.13it/s]\n",
      "  0%|          | 0/313 [00:00<?, ?it/s]"
     ]
    },
    {
     "name": "stdout",
     "output_type": "stream",
     "text": [
      "epoch: 46, train loss: 4.3414,time: 100.2466 \n",
      "\n"
     ]
    },
    {
     "name": "stderr",
     "output_type": "stream",
     "text": [
      "100%|██████████| 313/313 [01:39<00:00,  3.14it/s]\n",
      "  0%|          | 0/313 [00:00<?, ?it/s]"
     ]
    },
    {
     "name": "stdout",
     "output_type": "stream",
     "text": [
      "epoch: 47, train loss: 4.2899,time: 99.9026 \n",
      "\n"
     ]
    },
    {
     "name": "stderr",
     "output_type": "stream",
     "text": [
      "100%|██████████| 313/313 [01:40<00:00,  3.12it/s]\n",
      "  0%|          | 0/313 [00:00<?, ?it/s]"
     ]
    },
    {
     "name": "stdout",
     "output_type": "stream",
     "text": [
      "epoch: 48, train loss: 4.2432,time: 100.4737 \n",
      "\n"
     ]
    },
    {
     "name": "stderr",
     "output_type": "stream",
     "text": [
      "100%|██████████| 313/313 [01:40<00:00,  3.13it/s]\n",
      "  0%|          | 0/313 [00:00<?, ?it/s]"
     ]
    },
    {
     "name": "stdout",
     "output_type": "stream",
     "text": [
      "epoch: 49, train loss: 4.1893,time: 100.2590 \n",
      "\n"
     ]
    },
    {
     "name": "stderr",
     "output_type": "stream",
     "text": [
      "100%|██████████| 313/313 [01:40<00:00,  3.12it/s]\n",
      "  0%|          | 0/313 [00:00<?, ?it/s]"
     ]
    },
    {
     "name": "stdout",
     "output_type": "stream",
     "text": [
      "epoch: 50, train loss: 4.1598,time: 100.5354 \n",
      "\n"
     ]
    },
    {
     "name": "stderr",
     "output_type": "stream",
     "text": [
      "100%|██████████| 313/313 [01:40<00:00,  3.12it/s]\n",
      "  0%|          | 0/313 [00:00<?, ?it/s]"
     ]
    },
    {
     "name": "stdout",
     "output_type": "stream",
     "text": [
      "epoch: 51, train loss: 4.1089,time: 100.6522 \n",
      "\n"
     ]
    },
    {
     "name": "stderr",
     "output_type": "stream",
     "text": [
      "100%|██████████| 313/313 [01:40<00:00,  3.12it/s]\n",
      "  0%|          | 0/313 [00:00<?, ?it/s]"
     ]
    },
    {
     "name": "stdout",
     "output_type": "stream",
     "text": [
      "epoch: 52, train loss: 4.0733,time: 100.5349 \n",
      "\n"
     ]
    },
    {
     "name": "stderr",
     "output_type": "stream",
     "text": [
      "100%|██████████| 313/313 [01:40<00:00,  3.12it/s]\n",
      "  0%|          | 0/313 [00:00<?, ?it/s]"
     ]
    },
    {
     "name": "stdout",
     "output_type": "stream",
     "text": [
      "epoch: 53, train loss: 4.0324,time: 100.5949 \n",
      "\n"
     ]
    },
    {
     "name": "stderr",
     "output_type": "stream",
     "text": [
      "100%|██████████| 313/313 [01:40<00:00,  3.12it/s]\n",
      "  0%|          | 0/313 [00:00<?, ?it/s]"
     ]
    },
    {
     "name": "stdout",
     "output_type": "stream",
     "text": [
      "epoch: 54, train loss: 3.9906,time: 100.5030 \n",
      "\n"
     ]
    },
    {
     "name": "stderr",
     "output_type": "stream",
     "text": [
      "100%|██████████| 313/313 [01:40<00:00,  3.12it/s]\n",
      "  0%|          | 0/313 [00:00<?, ?it/s]"
     ]
    },
    {
     "name": "stdout",
     "output_type": "stream",
     "text": [
      "epoch: 55, train loss: 3.9365,time: 100.4039 \n",
      "\n"
     ]
    },
    {
     "name": "stderr",
     "output_type": "stream",
     "text": [
      "100%|██████████| 313/313 [01:40<00:00,  3.13it/s]\n",
      "  0%|          | 0/313 [00:00<?, ?it/s]"
     ]
    },
    {
     "name": "stdout",
     "output_type": "stream",
     "text": [
      "epoch: 56, train loss: 3.8915,time: 100.2922 \n",
      "\n"
     ]
    },
    {
     "name": "stderr",
     "output_type": "stream",
     "text": [
      "100%|██████████| 313/313 [01:39<00:00,  3.14it/s]\n",
      "  0%|          | 0/313 [00:00<?, ?it/s]"
     ]
    },
    {
     "name": "stdout",
     "output_type": "stream",
     "text": [
      "epoch: 57, train loss: 3.8491,time: 99.9301 \n",
      "\n"
     ]
    },
    {
     "name": "stderr",
     "output_type": "stream",
     "text": [
      "100%|██████████| 313/313 [01:40<00:00,  3.12it/s]\n",
      "  0%|          | 0/313 [00:00<?, ?it/s]"
     ]
    },
    {
     "name": "stdout",
     "output_type": "stream",
     "text": [
      "epoch: 58, train loss: 3.8130,time: 100.4174 \n",
      "\n"
     ]
    },
    {
     "name": "stderr",
     "output_type": "stream",
     "text": [
      "100%|██████████| 313/313 [01:40<00:00,  3.12it/s]\n",
      "  0%|          | 0/313 [00:00<?, ?it/s]"
     ]
    },
    {
     "name": "stdout",
     "output_type": "stream",
     "text": [
      "epoch: 59, train loss: 3.7653,time: 100.4901 \n",
      "\n"
     ]
    },
    {
     "name": "stderr",
     "output_type": "stream",
     "text": [
      "100%|██████████| 313/313 [01:40<00:00,  3.12it/s]\n",
      "  0%|          | 0/313 [00:00<?, ?it/s]"
     ]
    },
    {
     "name": "stdout",
     "output_type": "stream",
     "text": [
      "epoch: 60, train loss: 3.7270,time: 100.5775 \n",
      "\n"
     ]
    },
    {
     "name": "stderr",
     "output_type": "stream",
     "text": [
      "100%|██████████| 313/313 [01:39<00:00,  3.14it/s]\n",
      "  0%|          | 0/313 [00:00<?, ?it/s]"
     ]
    },
    {
     "name": "stdout",
     "output_type": "stream",
     "text": [
      "epoch: 61, train loss: 3.6791,time: 99.9816 \n",
      "\n"
     ]
    },
    {
     "name": "stderr",
     "output_type": "stream",
     "text": [
      "100%|██████████| 313/313 [01:40<00:00,  3.13it/s]\n",
      "  0%|          | 0/313 [00:00<?, ?it/s]"
     ]
    },
    {
     "name": "stdout",
     "output_type": "stream",
     "text": [
      "epoch: 62, train loss: 3.6390,time: 100.2028 \n",
      "\n"
     ]
    },
    {
     "name": "stderr",
     "output_type": "stream",
     "text": [
      "100%|██████████| 313/313 [01:40<00:00,  3.12it/s]\n",
      "  0%|          | 0/313 [00:00<?, ?it/s]"
     ]
    },
    {
     "name": "stdout",
     "output_type": "stream",
     "text": [
      "epoch: 63, train loss: 3.6025,time: 100.5651 \n",
      "\n"
     ]
    },
    {
     "name": "stderr",
     "output_type": "stream",
     "text": [
      "100%|██████████| 313/313 [01:40<00:00,  3.13it/s]\n",
      "  0%|          | 0/313 [00:00<?, ?it/s]"
     ]
    },
    {
     "name": "stdout",
     "output_type": "stream",
     "text": [
      "epoch: 64, train loss: 3.5582,time: 100.2734 \n",
      "\n"
     ]
    },
    {
     "name": "stderr",
     "output_type": "stream",
     "text": [
      "100%|██████████| 313/313 [01:40<00:00,  3.12it/s]\n",
      "  0%|          | 0/313 [00:00<?, ?it/s]"
     ]
    },
    {
     "name": "stdout",
     "output_type": "stream",
     "text": [
      "epoch: 66, train loss: 3.4782,time: 100.4317 \n",
      "\n"
     ]
    },
    {
     "name": "stderr",
     "output_type": "stream",
     "text": [
      "100%|██████████| 313/313 [01:39<00:00,  3.15it/s]\n",
      "  0%|          | 0/313 [00:00<?, ?it/s]"
     ]
    },
    {
     "name": "stdout",
     "output_type": "stream",
     "text": [
      "epoch: 67, train loss: 3.4475,time: 99.5500 \n",
      "\n"
     ]
    },
    {
     "name": "stderr",
     "output_type": "stream",
     "text": [
      "100%|██████████| 313/313 [01:40<00:00,  3.12it/s]\n",
      "  0%|          | 0/313 [00:00<?, ?it/s]"
     ]
    },
    {
     "name": "stdout",
     "output_type": "stream",
     "text": [
      "epoch: 68, train loss: 3.3990,time: 100.4082 \n",
      "\n"
     ]
    },
    {
     "name": "stderr",
     "output_type": "stream",
     "text": [
      "100%|██████████| 313/313 [01:40<00:00,  3.13it/s]\n",
      "  0%|          | 0/313 [00:00<?, ?it/s]"
     ]
    },
    {
     "name": "stdout",
     "output_type": "stream",
     "text": [
      "epoch: 69, train loss: 3.3792,time: 100.2455 \n",
      "\n"
     ]
    },
    {
     "name": "stderr",
     "output_type": "stream",
     "text": [
      "100%|██████████| 313/313 [01:39<00:00,  3.13it/s]\n",
      "  0%|          | 0/313 [00:00<?, ?it/s]"
     ]
    },
    {
     "name": "stdout",
     "output_type": "stream",
     "text": [
      "epoch: 70, train loss: 3.3337,time: 100.0923 \n",
      "\n"
     ]
    },
    {
     "name": "stderr",
     "output_type": "stream",
     "text": [
      "100%|██████████| 313/313 [01:39<00:00,  3.13it/s]\n",
      "  0%|          | 0/313 [00:00<?, ?it/s]"
     ]
    },
    {
     "name": "stdout",
     "output_type": "stream",
     "text": [
      "epoch: 71, train loss: 3.2961,time: 100.1564 \n",
      "\n"
     ]
    },
    {
     "name": "stderr",
     "output_type": "stream",
     "text": [
      "100%|██████████| 313/313 [01:39<00:00,  3.14it/s]\n",
      "  0%|          | 0/313 [00:00<?, ?it/s]"
     ]
    },
    {
     "name": "stdout",
     "output_type": "stream",
     "text": [
      "epoch: 72, train loss: 3.2605,time: 99.9459 \n",
      "\n"
     ]
    },
    {
     "name": "stderr",
     "output_type": "stream",
     "text": [
      "100%|██████████| 313/313 [01:39<00:00,  3.14it/s]\n",
      "  0%|          | 0/313 [00:00<?, ?it/s]"
     ]
    },
    {
     "name": "stdout",
     "output_type": "stream",
     "text": [
      "epoch: 73, train loss: 3.2176,time: 99.9597 \n",
      "\n"
     ]
    },
    {
     "name": "stderr",
     "output_type": "stream",
     "text": [
      "100%|██████████| 313/313 [01:39<00:00,  3.14it/s]\n",
      "  0%|          | 0/313 [00:00<?, ?it/s]"
     ]
    },
    {
     "name": "stdout",
     "output_type": "stream",
     "text": [
      "epoch: 74, train loss: 3.1835,time: 99.7356 \n",
      "\n"
     ]
    },
    {
     "name": "stderr",
     "output_type": "stream",
     "text": [
      "100%|██████████| 313/313 [01:39<00:00,  3.15it/s]\n",
      "  0%|          | 0/313 [00:00<?, ?it/s]"
     ]
    },
    {
     "name": "stdout",
     "output_type": "stream",
     "text": [
      "epoch: 75, train loss: 3.1392,time: 99.6555 \n",
      "\n"
     ]
    },
    {
     "name": "stderr",
     "output_type": "stream",
     "text": [
      "100%|██████████| 313/313 [01:39<00:00,  3.15it/s]\n",
      "  0%|          | 0/313 [00:00<?, ?it/s]"
     ]
    },
    {
     "name": "stdout",
     "output_type": "stream",
     "text": [
      "epoch: 76, train loss: 3.1184,time: 99.6938 \n",
      "\n"
     ]
    },
    {
     "name": "stderr",
     "output_type": "stream",
     "text": [
      "100%|██████████| 313/313 [01:39<00:00,  3.15it/s]\n",
      "  0%|          | 0/313 [00:00<?, ?it/s]"
     ]
    },
    {
     "name": "stdout",
     "output_type": "stream",
     "text": [
      "epoch: 77, train loss: 3.0798,time: 99.6337 \n",
      "\n"
     ]
    },
    {
     "name": "stderr",
     "output_type": "stream",
     "text": [
      "100%|██████████| 313/313 [01:40<00:00,  3.12it/s]\n",
      "  0%|          | 0/313 [00:00<?, ?it/s]"
     ]
    },
    {
     "name": "stdout",
     "output_type": "stream",
     "text": [
      "epoch: 78, train loss: 3.0427,time: 100.4842 \n",
      "\n"
     ]
    },
    {
     "name": "stderr",
     "output_type": "stream",
     "text": [
      "100%|██████████| 313/313 [01:40<00:00,  3.13it/s]\n",
      "  0%|          | 0/313 [00:00<?, ?it/s]"
     ]
    },
    {
     "name": "stdout",
     "output_type": "stream",
     "text": [
      "epoch: 79, train loss: 3.0083,time: 100.2810 \n",
      "\n"
     ]
    },
    {
     "name": "stderr",
     "output_type": "stream",
     "text": [
      "100%|██████████| 313/313 [01:40<00:00,  3.13it/s]\n",
      "  0%|          | 0/313 [00:00<?, ?it/s]"
     ]
    },
    {
     "name": "stdout",
     "output_type": "stream",
     "text": [
      "epoch: 80, train loss: 2.9683,time: 100.3008 \n",
      "\n"
     ]
    },
    {
     "name": "stderr",
     "output_type": "stream",
     "text": [
      "100%|██████████| 313/313 [01:39<00:00,  3.14it/s]\n",
      "  0%|          | 0/313 [00:00<?, ?it/s]"
     ]
    },
    {
     "name": "stdout",
     "output_type": "stream",
     "text": [
      "epoch: 81, train loss: 2.9476,time: 99.7849 \n",
      "\n"
     ]
    },
    {
     "name": "stderr",
     "output_type": "stream",
     "text": [
      "100%|██████████| 313/313 [01:39<00:00,  3.13it/s]\n",
      "  0%|          | 0/313 [00:00<?, ?it/s]"
     ]
    },
    {
     "name": "stdout",
     "output_type": "stream",
     "text": [
      "epoch: 82, train loss: 2.9081,time: 100.0903 \n",
      "\n"
     ]
    },
    {
     "name": "stderr",
     "output_type": "stream",
     "text": [
      "100%|██████████| 313/313 [01:39<00:00,  3.14it/s]\n",
      "  0%|          | 0/313 [00:00<?, ?it/s]"
     ]
    },
    {
     "name": "stdout",
     "output_type": "stream",
     "text": [
      "epoch: 83, train loss: 2.8845,time: 99.8090 \n",
      "\n"
     ]
    },
    {
     "name": "stderr",
     "output_type": "stream",
     "text": [
      "100%|██████████| 313/313 [01:39<00:00,  3.14it/s]\n",
      "  0%|          | 0/313 [00:00<?, ?it/s]"
     ]
    },
    {
     "name": "stdout",
     "output_type": "stream",
     "text": [
      "epoch: 84, train loss: 2.8594,time: 99.9829 \n",
      "\n"
     ]
    },
    {
     "name": "stderr",
     "output_type": "stream",
     "text": [
      "100%|██████████| 313/313 [01:39<00:00,  3.14it/s]\n",
      "  0%|          | 0/313 [00:00<?, ?it/s]"
     ]
    },
    {
     "name": "stdout",
     "output_type": "stream",
     "text": [
      "epoch: 85, train loss: 2.7999,time: 99.8322 \n",
      "\n"
     ]
    },
    {
     "name": "stderr",
     "output_type": "stream",
     "text": [
      "100%|██████████| 313/313 [01:39<00:00,  3.16it/s]\n",
      "  0%|          | 0/313 [00:00<?, ?it/s]"
     ]
    },
    {
     "name": "stdout",
     "output_type": "stream",
     "text": [
      "epoch: 86, train loss: 2.7876,time: 99.3417 \n",
      "\n"
     ]
    },
    {
     "name": "stderr",
     "output_type": "stream",
     "text": [
      "100%|██████████| 313/313 [01:39<00:00,  3.14it/s]\n",
      "  0%|          | 0/313 [00:00<?, ?it/s]"
     ]
    },
    {
     "name": "stdout",
     "output_type": "stream",
     "text": [
      "epoch: 87, train loss: 2.7527,time: 99.7218 \n",
      "\n"
     ]
    },
    {
     "name": "stderr",
     "output_type": "stream",
     "text": [
      "100%|██████████| 313/313 [01:39<00:00,  3.15it/s]\n",
      "  0%|          | 0/313 [00:00<?, ?it/s]"
     ]
    },
    {
     "name": "stdout",
     "output_type": "stream",
     "text": [
      "epoch: 88, train loss: 2.7376,time: 99.5740 \n",
      "\n"
     ]
    },
    {
     "name": "stderr",
     "output_type": "stream",
     "text": [
      "100%|██████████| 313/313 [01:39<00:00,  3.15it/s]\n",
      "  0%|          | 0/313 [00:00<?, ?it/s]"
     ]
    },
    {
     "name": "stdout",
     "output_type": "stream",
     "text": [
      "epoch: 89, train loss: 2.7074,time: 99.6558 \n",
      "\n"
     ]
    },
    {
     "name": "stderr",
     "output_type": "stream",
     "text": [
      "100%|██████████| 313/313 [01:40<00:00,  3.13it/s]\n",
      "  0%|          | 0/313 [00:00<?, ?it/s]"
     ]
    },
    {
     "name": "stdout",
     "output_type": "stream",
     "text": [
      "epoch: 90, train loss: 2.6735,time: 100.2438 \n",
      "\n"
     ]
    },
    {
     "name": "stderr",
     "output_type": "stream",
     "text": [
      "100%|██████████| 313/313 [01:40<00:00,  3.11it/s]\n",
      "  0%|          | 0/313 [00:00<?, ?it/s]"
     ]
    },
    {
     "name": "stdout",
     "output_type": "stream",
     "text": [
      "epoch: 91, train loss: 2.6482,time: 100.8807 \n",
      "\n"
     ]
    },
    {
     "name": "stderr",
     "output_type": "stream",
     "text": [
      "100%|██████████| 313/313 [01:41<00:00,  3.10it/s]\n",
      "  0%|          | 0/313 [00:00<?, ?it/s]"
     ]
    },
    {
     "name": "stdout",
     "output_type": "stream",
     "text": [
      "epoch: 92, train loss: 2.6169,time: 101.1784 \n",
      "\n"
     ]
    },
    {
     "name": "stderr",
     "output_type": "stream",
     "text": [
      "100%|██████████| 313/313 [01:40<00:00,  3.11it/s]\n",
      "  0%|          | 0/313 [00:00<?, ?it/s]"
     ]
    },
    {
     "name": "stdout",
     "output_type": "stream",
     "text": [
      "epoch: 93, train loss: 2.5889,time: 100.8399 \n",
      "\n"
     ]
    },
    {
     "name": "stderr",
     "output_type": "stream",
     "text": [
      "100%|██████████| 313/313 [01:40<00:00,  3.10it/s]\n",
      "  0%|          | 0/313 [00:00<?, ?it/s]"
     ]
    },
    {
     "name": "stdout",
     "output_type": "stream",
     "text": [
      "epoch: 94, train loss: 2.5649,time: 101.1080 \n",
      "\n"
     ]
    },
    {
     "name": "stderr",
     "output_type": "stream",
     "text": [
      "100%|██████████| 313/313 [01:40<00:00,  3.10it/s]\n",
      "  0%|          | 0/313 [00:00<?, ?it/s]"
     ]
    },
    {
     "name": "stdout",
     "output_type": "stream",
     "text": [
      "epoch: 95, train loss: 2.5378,time: 101.0991 \n",
      "\n"
     ]
    },
    {
     "name": "stderr",
     "output_type": "stream",
     "text": [
      "100%|██████████| 313/313 [01:41<00:00,  3.09it/s]\n",
      "  0%|          | 0/313 [00:00<?, ?it/s]"
     ]
    },
    {
     "name": "stdout",
     "output_type": "stream",
     "text": [
      "epoch: 96, train loss: 2.5101,time: 101.4554 \n",
      "\n"
     ]
    },
    {
     "name": "stderr",
     "output_type": "stream",
     "text": [
      " 61%|██████    | 190/313 [01:00<00:41,  3.00it/s]"
     ]
    }
   ],
   "source": [
    "train(kwargs,device,model,train_iter)"
   ]
  },
  {
   "cell_type": "code",
   "execution_count": null,
   "id": "russian-import",
   "metadata": {},
   "outputs": [],
   "source": [
    "torch.save(model, 's2s_ci_small.pkl')"
   ]
  },
  {
   "cell_type": "code",
   "execution_count": null,
   "id": "atmospheric-literature",
   "metadata": {},
   "outputs": [],
   "source": [
    "#简单测试一下，选第13个数据集进行测试\n",
    "for i,(batch) in enumerate(tqdm(train_iter)):\n",
    "            input_batchs = batch[\"src\"].to(device)\n",
    "            target_batchs = batch[\"trg\"].to(device)\n",
    "            # list\n",
    "            input_lens = batch[\"src_len\"]\n",
    "            target_lens = batch[\"trg_len\"]\n",
    "\n",
    "            output = model(input_batchs, target_batchs,input_lens,target_lens)\n",
    "            if i==13:\n",
    "                break\n",
    "print(output.shape)\n",
    "output=output.argmax(2)\n",
    "print(output.shape)\n",
    "print(input_batchs.shape)\n",
    "input_batchs=input_batchs.transpose(1,0)\n",
    "output=output.transpose(1,0)\n",
    "target_batchs=target_batchs.transpose(1,0)\n",
    "for z,i in enumerate(output):\n",
    "    print('\\n原文：')\n",
    "    for j in input_batchs[z]:\n",
    "        if j.item()==2:\n",
    "            break\n",
    "        print(idx_to_word_en[j.item()],end='')\n",
    "    print('\\n正确答案：')\n",
    "    for j in target_batchs[z]:\n",
    "        if j.item()==2:\n",
    "            break\n",
    "        print(idx_to_word_zh[j.item()],end='')\n",
    "    print('\\n预测')\n",
    "    for j in i:\n",
    "        if j.item()==2:\n",
    "            break\n",
    "        print(idx_to_word_zh[j.item()],end='')\n",
    "\n"
   ]
  },
  {
   "cell_type": "code",
   "execution_count": null,
   "id": "electric-sterling",
   "metadata": {},
   "outputs": [],
   "source": []
  }
 ],
 "metadata": {
  "kernelspec": {
   "display_name": "Python 3",
   "language": "python",
   "name": "python3"
  },
  "language_info": {
   "codemirror_mode": {
    "name": "ipython",
    "version": 3
   },
   "file_extension": ".py",
   "mimetype": "text/x-python",
   "name": "python",
   "nbconvert_exporter": "python",
   "pygments_lexer": "ipython3",
   "version": "3.6.12"
  }
 },
 "nbformat": 4,
 "nbformat_minor": 5
}
