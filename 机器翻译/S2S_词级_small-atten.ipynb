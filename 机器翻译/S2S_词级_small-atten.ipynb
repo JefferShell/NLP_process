{
 "cells": [
  {
   "cell_type": "code",
   "execution_count": 78,
   "id": "inner-condition",
   "metadata": {},
   "outputs": [],
   "source": [
    "#这次对小数据集进行词级别的机器翻译\n",
    "import torch\n",
    "import torch.utils.data as da\n",
    "import torch.nn as nn\n",
    "import torch.optim as optim\n",
    "import jieba\n",
    "import argparse\n",
    "import matplotlib.pyplot as plt\n",
    "from collections import Counter\n",
    "import random\n",
    "import time\n",
    "from tqdm import tqdm\n",
    "import torch.nn.functional as F\n",
    "import numpy as np\n",
    "import matplotlib    \n",
    "from matplotlib.font_manager import FontProperties\n",
    "font = FontProperties(fname=r\"/home/renhongjie/miniconda3/envs/rencaiji/lib/python3.6/site-packages/matplotlib/mpl-data/fonts/ttf/Songti.ttc\", size=14)"
   ]
  },
  {
   "cell_type": "code",
   "execution_count": 3,
   "id": "alpha-tower",
   "metadata": {},
   "outputs": [
    {
     "data": {
      "text/plain": [
       "True"
      ]
     },
     "execution_count": 3,
     "metadata": {},
     "output_type": "execute_result"
    }
   ],
   "source": [
    "torch.cuda.is_available()"
   ]
  },
  {
   "cell_type": "code",
   "execution_count": 4,
   "id": "future-restoration",
   "metadata": {},
   "outputs": [],
   "source": [
    "device = torch.device(\"cuda:4\" if torch.cuda.is_available() else \"cpu\")\n",
    "parser = argparse.ArgumentParser()\n",
    "\n",
    "parser.add_argument('--en_path', type=str, default='data/news-commentary-v13.zh-en.en',\n",
    "                   help='英文数据集路径')\n",
    "parser.add_argument('--zh_path', type=str, default='data/news-commentary-v13.zh-en.zh',\n",
    "                   help='中文数据集路径')\n",
    "parser.add_argument('--seq_len', type=int, default=60,\n",
    "                   help='句子最大的长度，多则截断，少则补<unk>')\n",
    "parser.add_argument('--pad', type=str, default='<unk>',\n",
    "                   help='填充词')\n",
    "parser.add_argument('--batch_size',type=int,default=512,\n",
    "                   help='每轮批次')\n",
    "parser.add_argument('--en_embedding_dim',type=int,default=256,\n",
    "                   help='编码器词向量的长度')\n",
    "parser.add_argument('--en_hidden_dim',type=int,default=512,\n",
    "                   help='编码器深度')\n",
    "parser.add_argument('--en_n_layers',type=int,default=2,\n",
    "                   help='编码器LSTM的层数')\n",
    "parser.add_argument('--de_embedding_dim',type=int,default=256,\n",
    "                   help='解码器词向量的长度')\n",
    "parser.add_argument('--de_hidden_dim',type=int,default=512,\n",
    "                   help='解码器深度')\n",
    "parser.add_argument('--de_n_layers',type=int,default=2,\n",
    "                   help='解码器LSTM的层数')\n",
    "parser.add_argument('--dropout',type=int,default=0.5,\n",
    "                   help='droput')\n",
    "parser.add_argument('--lr',type=int,default=0.0001,\n",
    "                   help='学习率')\n",
    "parser.add_argument('--weight_decay',type=int,default=0.1,\n",
    "                   help='权重衰减/L2范式')\n",
    "parser.add_argument('--clip',type=int,default=1,\n",
    "                   help='梯度剪切')\n",
    "parser.add_argument('--epochs',type=int,default=200,\n",
    "                   help='训练轮数')\n",
    "parser.add_argument('--attn_method',type=str,default='general',\n",
    "                   help='启用注意力机制')\n",
    "\n",
    "#kwargs = parser.parse_args()\n",
    "kwargs = parser.parse_known_args()[0]\n"
   ]
  },
  {
   "cell_type": "code",
   "execution_count": 5,
   "id": "antique-awareness",
   "metadata": {},
   "outputs": [],
   "source": [
    "# with open(kwargs.en_path, 'r') as f_en:\n",
    "#     data_en = f_en.readlines()\n",
    "# with open(kwargs.zh_path, 'r') as f_zh:\n",
    "#     data_zh = f_zh.readlines()"
   ]
  },
  {
   "cell_type": "code",
   "execution_count": 6,
   "id": "meaning-compound",
   "metadata": {},
   "outputs": [],
   "source": [
    "#用一个小数据集合先玩玩\n",
    "with open('./cmn-eng/cmn.txt', 'r', encoding='utf-8') as f:\n",
    "    data = f.read()\n",
    "data = data.strip()\n",
    "data = data.split('\\n')\n",
    "# 分割英文数据和中文数据\n",
    "data_en = [line.split('\\t')[0] for line in data]\n",
    "data_zh = [line.split('\\t')[1] for line in data]"
   ]
  },
  {
   "cell_type": "code",
   "execution_count": 7,
   "id": "roman-queen",
   "metadata": {},
   "outputs": [],
   "source": [
    "#特殊处理\n",
    "def data_process(text):\n",
    "    text = text.lower()\n",
    "    # 特殊数据处理，该地方可以各种替换缩略词等\n",
    "    # 去除标点等\n",
    "    return text"
   ]
  },
  {
   "cell_type": "code",
   "execution_count": 8,
   "id": "facial-heaven",
   "metadata": {},
   "outputs": [],
   "source": [
    "#对单句话进行分词\n",
    "def get_token_text(text_en,text_zh):\n",
    "    #简单的句子处理\n",
    "    text_en=text_en.replace('.',' .').replace('?',' ?').replace('!',' !').replace(',',' , ')\n",
    "    text_zh=text_zh.strip('\\n')\n",
    "    #英文以空格分割\n",
    "    token_data_en = [data_process(st) for st in text_en.split()]\n",
    "    #中文一般用jieba\n",
    "    token_data_zh = [data_process(st) for st in jieba.cut(text_zh)]\n",
    "    return [token_data_en,token_data_zh]"
   ]
  },
  {
   "cell_type": "code",
   "execution_count": 9,
   "id": "vocational-superior",
   "metadata": {},
   "outputs": [],
   "source": [
    "#对两个数据集的每句话进行分词\n",
    "def get_token_data(data_en,data_zh):\n",
    "    data_token_en = []\n",
    "    data_token_zh = []\n",
    "    for en,zh in zip(data_en,data_zh):\n",
    "        en,zh=get_token_text(en,zh)\n",
    "        data_token_en.append(en)\n",
    "        data_token_zh.append(zh)\n",
    "    return data_token_en,data_token_zh"
   ]
  },
  {
   "cell_type": "code",
   "execution_count": 10,
   "id": "bigger-polish",
   "metadata": {},
   "outputs": [],
   "source": [
    "def get_vocab(data):\n",
    "    data=[j for i in data for j in i]\n",
    "    top_1000 = Counter(data).most_common(100000)\n",
    "    vocab = {x[0]:x[1] for x in top_1000}\n",
    "    word_to_idx = {word: i + 4 for i, word in enumerate(vocab)}\n",
    "    word_to_idx['<pad>'] = 0\n",
    "    word_to_idx['<sos>'] = 1\n",
    "    word_to_idx['<eos>'] = 2\n",
    "    word_to_idx['<unk>'] = 3\n",
    "    idx_to_word = {i + 4: word for i, word in enumerate(vocab)}\n",
    "    idx_to_word[0] = '<pad>'\n",
    "    idx_to_word[1] = '<sos>'\n",
    "    idx_to_word[2] = '<eos>'\n",
    "    idx_to_word[3] = '<unk>'\n",
    "    vocab_size=len(idx_to_word)\n",
    "    return vocab, vocab_size, word_to_idx, idx_to_word"
   ]
  },
  {
   "cell_type": "code",
   "execution_count": 11,
   "id": "worth-fabric",
   "metadata": {},
   "outputs": [],
   "source": [
    "# 填充和截断\n",
    "def pad_st(features, maxlen, pad=0):\n",
    "    padded_features = []\n",
    "    for feature in features:\n",
    "        feature.insert(0,'<sos>')\n",
    "        feature.append('<eos>')\n",
    "        if len(feature) > maxlen:\n",
    "            padded_feature = feature[:maxlen]\n",
    "            padded_feature[-1]='<eos>'#防止<eos>被切掉\n",
    "        else:\n",
    "            padded_feature = feature\n",
    "            while (len(padded_feature) < maxlen):\n",
    "                padded_feature.append(pad)\n",
    "        padded_features.append(padded_feature)\n",
    "    return padded_features"
   ]
  },
  {
   "cell_type": "code",
   "execution_count": 12,
   "id": "white-blood",
   "metadata": {},
   "outputs": [],
   "source": [
    "# 转化为索引\n",
    "def encode_st(token_data, word_to_idx):\n",
    "    features = []\n",
    "    for sample in token_data:\n",
    "        feature = []\n",
    "        feature.append(1)\n",
    "        for token in sample:\n",
    "            if token in word_to_idx:\n",
    "                feature.append(word_to_idx[token])\n",
    "            else:#如果是词库中不存在的，认为是<unk>，即0\n",
    "                feature.append(0)\n",
    "        feature.append(2)\n",
    "        features.append(feature)\n",
    "    \n",
    "    return features"
   ]
  },
  {
   "cell_type": "code",
   "execution_count": 13,
   "id": "personalized-block",
   "metadata": {},
   "outputs": [
    {
     "name": "stderr",
     "output_type": "stream",
     "text": [
      "Building prefix dict from the default dictionary ...\n",
      "Loading model from cache /tmp/jieba.cache\n",
      "Dumping model to file cache /tmp/jieba.cache\n",
      "Dump cache file failed.\n",
      "Traceback (most recent call last):\n",
      "  File \"/home/renhongjie/miniconda3/envs/rencaiji/lib/python3.6/site-packages/jieba/__init__.py\", line 154, in initialize\n",
      "    _replace_file(fpath, cache_file)\n",
      "PermissionError: [Errno 1] Operation not permitted: '/tmp/tmpflcj0qpl' -> '/tmp/jieba.cache'\n",
      "Loading model cost 0.826 seconds.\n",
      "Prefix dict has been built successfully.\n"
     ]
    }
   ],
   "source": [
    "#此时为二维数组，每个数组是之前每句话的分词结果，词级别\n",
    "en_data,zh_data=get_token_data(data_en,data_zh)\n"
   ]
  },
  {
   "cell_type": "code",
   "execution_count": 14,
   "id": "leading-guard",
   "metadata": {},
   "outputs": [
    {
     "name": "stdout",
     "output_type": "stream",
     "text": [
      "[['hi', '.'], ['hi', '.']] [['嗨', '。'], ['你好', '。']]\n"
     ]
    }
   ],
   "source": [
    "print(en_data[0:2],zh_data[0:2])"
   ]
  },
  {
   "cell_type": "code",
   "execution_count": 15,
   "id": "adult-thinking",
   "metadata": {},
   "outputs": [],
   "source": [
    "vocab_en,vocab_size_en, word_to_idx_en, idx_to_word_en=get_vocab(en_data)\n",
    "vocab_zh,vocab_size_zh, word_to_idx_zh, idx_to_word_zh=get_vocab(zh_data)\n"
   ]
  },
  {
   "cell_type": "code",
   "execution_count": 16,
   "id": "swedish-serial",
   "metadata": {},
   "outputs": [
    {
     "name": "stdout",
     "output_type": "stream",
     "text": [
      "6904 14719\n"
     ]
    }
   ],
   "source": [
    "kwargs.vocab_size_en=vocab_size_en#记录vocab大小\n",
    "kwargs.vocab_size_zh=vocab_size_zh#记录vocab大小\n",
    "print(vocab_size_en,vocab_size_zh)"
   ]
  },
  {
   "cell_type": "code",
   "execution_count": 17,
   "id": "removable-cornell",
   "metadata": {},
   "outputs": [
    {
     "data": {
      "image/png": "[encoded data removed]",
      "text/plain": [
       "<Figure size 432x288 with 1 Axes>"
      ]
     },
     "metadata": {
      "needs_background": "light"
     },
     "output_type": "display_data"
    },
    {
     "data": {
      "image/png": "[encoded data removed]",
      "text/plain": [
       "<Figure size 432x288 with 1 Axes>"
      ]
     },
     "metadata": {
      "needs_background": "light"
     },
     "output_type": "display_data"
    }
   ],
   "source": [
    "#看一下预料的长度分布，然后选择一个合适的seq_len\n",
    "en_data_length=[]\n",
    "for i in en_data:\n",
    "    en_data_length.append(len(i))\n",
    "n, bins, patches = plt.hist(en_data_length, bins=10, edgecolor='None',facecolor='red') \n",
    "plt.show()\n",
    "zh_data_length=[]\n",
    "for i in zh_data:\n",
    "    zh_data_length.append(len(i))\n",
    "n, bins, patches = plt.hist(zh_data_length, bins=10, edgecolor='None',facecolor='red') \n",
    "plt.show()"
   ]
  },
  {
   "cell_type": "code",
   "execution_count": 18,
   "id": "wicked-cambodia",
   "metadata": {},
   "outputs": [
    {
     "name": "stdout",
     "output_type": "stream",
     "text": [
      "[2, 2, 5, 2, 3, 2, 2, 4, 3, 2]\n"
     ]
    }
   ],
   "source": [
    "print(zh_data_length[0:10])"
   ]
  },
  {
   "cell_type": "code",
   "execution_count": 19,
   "id": "generous-reputation",
   "metadata": {},
   "outputs": [],
   "source": [
    "en_data_id=encode_st((en_data),word_to_idx_en)\n",
    "zh_data_id=encode_st((zh_data),word_to_idx_zh)"
   ]
  },
  {
   "cell_type": "code",
   "execution_count": 20,
   "id": "maritime-ballet",
   "metadata": {},
   "outputs": [
    {
     "name": "stdout",
     "output_type": "stream",
     "text": [
      "[[1, 1766, 4, 2], [1, 1766, 4, 2], [1, 534, 4, 2]]\n"
     ]
    }
   ],
   "source": [
    "print(en_data_id[0:3])"
   ]
  },
  {
   "cell_type": "code",
   "execution_count": 21,
   "id": "infectious-oxford",
   "metadata": {},
   "outputs": [],
   "source": [
    "from torch.utils.data import Dataset, DataLoader\n",
    "class TranslationDataset(Dataset):\n",
    "    def __init__(self, src_data, trg_data):\n",
    "        self.src_data = src_data\n",
    "        self.trg_data = trg_data\n",
    "\n",
    "        assert len(src_data) == len(trg_data), \\\n",
    "            \"numbers of src_data  and trg_data must be equal!\"\n",
    "\n",
    "    def __len__(self):\n",
    "        return len(self.src_data)\n",
    "\n",
    "    def __getitem__(self, idx):\n",
    "        src_sample =self.src_data[idx]\n",
    "        src_len = len(self.src_data[idx])\n",
    "        trg_sample = self.trg_data[idx]\n",
    "        trg_len = len(self.trg_data[idx])\n",
    "        return {\"src\": src_sample, \"src_len\": src_len, \"trg\": trg_sample, \"trg_len\": trg_len}"
   ]
  },
  {
   "cell_type": "code",
   "execution_count": 22,
   "id": "boolean-vinyl",
   "metadata": {},
   "outputs": [],
   "source": [
    "def padding_batch(batch):\n",
    "    \"\"\"\n",
    "    input: -> list of dict\n",
    "        [{'src': [1, 2, 3], 'trg': [1, 2, 3]}, {'src': [1, 2, 2, 3], 'trg': [1, 2, 2, 3]}]\n",
    "    output: -> dict of tensor \n",
    "        {\n",
    "            \"src\": [[1, 2, 3, 0], [1, 2, 2, 3]].T\n",
    "            \"trg\": [[1, 2, 3, 0], [1, 2, 2, 3]].T\n",
    "        }\n",
    "    \"\"\"\n",
    "    src_lens = [d[\"src_len\"] for d in batch]\n",
    "    trg_lens = [d[\"trg_len\"] for d in batch]\n",
    "    \n",
    "    src_max = max([d[\"src_len\"] for d in batch])\n",
    "    trg_max = max([d[\"trg_len\"] for d in batch])\n",
    "    for d in batch:\n",
    "        word_to_idx_en\n",
    "        d[\"src\"].extend([word_to_idx_en[\"<pad>\"]]*(src_max-d[\"src_len\"]))\n",
    "        d[\"trg\"].extend([word_to_idx_zh[\"<pad>\"]]*(trg_max-d[\"trg_len\"]))\n",
    "    srcs = torch.tensor([pair[\"src\"] for pair in batch], dtype=torch.long, device=device)\n",
    "    trgs = torch.tensor([pair[\"trg\"] for pair in batch], dtype=torch.long, device=device)\n",
    "    \n",
    "    batch = {\"src\":srcs.T, \"src_len\":src_lens, \"trg\":trgs.T, \"trg_len\":trg_lens}\n",
    "    return batch"
   ]
  },
  {
   "cell_type": "code",
   "execution_count": 23,
   "id": "animated-banner",
   "metadata": {},
   "outputs": [],
   "source": [
    "# 数据集\n",
    "k_size = int(0.95 * len(en_data_id))\n",
    "\n",
    "train_set = TranslationDataset(en_data_id[:k_size], zh_data_id[:k_size])\n",
    "train_iter = DataLoader(train_set, batch_size=kwargs.batch_size, collate_fn=padding_batch)\n",
    "\n",
    "test_set = TranslationDataset(en_data_id[k_size:], zh_data_id[k_size:])\n",
    "test_iter = DataLoader(test_set, batch_size=kwargs.batch_size, collate_fn=padding_batch)"
   ]
  },
  {
   "cell_type": "code",
   "execution_count": 24,
   "id": "wanted-customs",
   "metadata": {},
   "outputs": [],
   "source": [
    "#开始模型部分\n",
    "class Encoder(nn.Module):\n",
    "    def __init__(self, args):\n",
    "        super().__init__()\n",
    "        self.input_dim = args.vocab_size_en\n",
    "        self.emb_dim = args.en_embedding_dim\n",
    "        self.hid_dim = args.en_hidden_dim\n",
    "        self.n_layers = args.en_n_layers\n",
    "        self.dropout = args.dropout\n",
    "        self.embedding = nn.Embedding(self.input_dim, self.emb_dim)   \n",
    "        self.rnn = nn.LSTM(input_size=self.emb_dim, hidden_size=self.hid_dim, num_layers=self.n_layers,\n",
    "                           dropout=self.dropout,bidirectional=True)\n",
    "\n",
    "        \n",
    "    def forward(self, x,input_lengths):\n",
    "        embedded = (self.embedding(x))\n",
    "        packed = torch.nn.utils.rnn.pack_padded_sequence(embedded, input_lengths, enforce_sorted=False)\n",
    "        outputs, (hidden, cell) = self.rnn(packed)\n",
    "        outputs, output_lengths = torch.nn.utils.rnn.pad_packed_sequence(sequence=outputs)\n",
    "        return outputs,hidden, cell\n",
    "class Attn(nn.Module):\n",
    "    def __init__(self, method, hidden_size):\n",
    "        super(Attn, self).__init__()\n",
    "        self.method = method\n",
    "        if self.method not in ['dot', 'general', 'concat']:\n",
    "            raise ValueError(self.method, \"is not an appropriate attention method.\")\n",
    "        self.hidden_size = hidden_size\n",
    "        if self.method == 'general':\n",
    "            self.attn = nn.Linear(self.hidden_size, hidden_size)\n",
    "        elif self.method == 'concat':\n",
    "            self.attn = nn.Linear(self.hidden_size * 2, hidden_size)\n",
    "            self.v = nn.Parameter(torch.FloatTensor(hidden_size))\n",
    "\n",
    "    def dot_score(self, hidden, encoder_output):\n",
    "        return torch.sum(hidden * encoder_output, dim=2)  # [seq_len, batch]\n",
    "\n",
    "    def general_score(self, hidden, encoder_output):\n",
    "        energy = self.attn(encoder_output)  # [seq_len, batch, hid_dim]\n",
    "        return torch.sum(hidden * energy, dim=2)  # [seq_len, batch]\n",
    "\n",
    "    def concat_score(self, hidden, encoder_output):\n",
    "        # hidden.expand(encoder_output.size(0), -1, -1) -> [seq_len, batch, N]\n",
    "        energy = self.attn(torch.cat((hidden.expand(encoder_output.size(0), -1, -1), encoder_output), 2)).tanh()\n",
    "        # energy = [sql_len, batch, hidden_size]\n",
    "        return torch.sum(self.v * energy, dim=2)  # [seq_len, batch]\n",
    "\n",
    "    def forward(self, hidden, encoder_outputs):\n",
    "        # hidden = [1, batch,  n_directions * hid_dim]\n",
    "        # encoder_outputs = [seq_len, batch, hid dim * n directions]\n",
    "        if self.method == 'general':\n",
    "            attn_energies = self.general_score(hidden, encoder_outputs)\n",
    "        elif self.method == 'concat':\n",
    "            attn_energies = self.concat_score(hidden, encoder_outputs)\n",
    "        elif self.method == 'dot':\n",
    "            attn_energies = self.dot_score(hidden, encoder_outputs)\n",
    "\n",
    "        attn_energies = attn_energies.t()  # [batch, seq_len]\n",
    " \n",
    "        return F.softmax(attn_energies, dim=1).unsqueeze(1)  # softmax归一化# [batch, 1, seq_len]\n",
    "class DecoderAtten(nn.Module):\n",
    "    def __init__(self, args):\n",
    "        super().__init__()\n",
    "        self.attn_method=args.attn_method\n",
    "        self.emb_dim = args.de_embedding_dim\n",
    "        self.hid_dim = args.de_hidden_dim\n",
    "        self.output_dim = args.vocab_size_zh\n",
    "        self.n_layers = args.de_n_layers\n",
    "        self.dropout = args.dropout\n",
    "        self.embedding = nn.Embedding(self.output_dim, self.emb_dim)\n",
    "        self.rnn = nn.LSTM(input_size=self.emb_dim, hidden_size=self.hid_dim,num_layers= self.n_layers,\n",
    "                           dropout=self.dropout,bidirectional=True)\n",
    "        \n",
    "        bidirectional=True\n",
    "        if bidirectional:\n",
    "            self.concat = nn.Linear(self.hid_dim * 2 * 2, self.hid_dim*2)\n",
    "            self.out = nn.Linear(self.hid_dim*2, self.output_dim)\n",
    "            self.attn = Attn(self.attn_method, self.hid_dim*2)\n",
    "        else:\n",
    "            self.concat = nn.Linear(self.hid_dim * 2, self.hid_dim)\n",
    "            self.out = nn.Linear(self.hid_dim, self.output_dim)\n",
    "            self.attn = Attn(self.attn_method, self.hid_dim)\n",
    "        self.de_dropout = nn.Dropout(args.dropout)\n",
    "        self.softmax = nn.LogSoftmax(dim=1)\n",
    "        \n",
    "    def forward(self, x, hidden, cell,encoder_outputs):\n",
    "        batch_size = x.size(0)\n",
    "        embedded = self.embedding(x)\n",
    "        embedded = self.de_dropout(embedded)\n",
    "        embedded = embedded.view(1, batch_size, -1) # [1, B, hid_dim]\n",
    "        output, (hidden, cell) = self.rnn(embedded, (hidden, cell))    \n",
    "        \n",
    "        attn_weights = self.attn(output, encoder_outputs)\n",
    "        context = attn_weights.bmm(encoder_outputs.transpose(0, 1))\n",
    "        \n",
    "        \n",
    "        output = output.squeeze(0) # [batch, n_directions * hid_dim]\n",
    "        context = context.squeeze(1)       # [batch, n_directions * hid_dim]\n",
    "        concat_input = torch.cat((output, context), 1)  # [batch, n_directions * hid_dim * 2]\n",
    "        concat_output = torch.tanh(self.concat(concat_input))  # [batch, n_directions*hid_dim]\n",
    "\n",
    "        \n",
    "        \n",
    "        output = self.out(concat_output)\n",
    "        prediction = self.softmax(output)\n",
    "        return prediction, hidden, cell,attn_weights\n",
    "\n",
    "class Seq2Seq(nn.Module):\n",
    "    def __init__(self, args,device):\n",
    "        super().__init__()\n",
    "        self.encoder = Encoder(args)\n",
    "       \n",
    "        self.decoder = DecoderAtten(args)\n",
    "        \n",
    "        self.device = device\n",
    "        \n",
    "        assert self.encoder.hid_dim == self.decoder.hid_dim, \\\n",
    "            \"Hidden dimensions of encoder and decoder must be equal!\"\n",
    "        assert self.encoder.n_layers == self.decoder.n_layers, \\\n",
    "            \"Encoder and decoder must have equal number of layers!\"\n",
    "        assert self.encoder.rnn.bidirectional == self.decoder.rnn.bidirectional, \\\n",
    "            \"Decoder and encoder must had same value of bidirectional attribute!\"   \n",
    "    def forward(self, src, trg, src_length,trg_length,teacher_forcing_ratio = 0.5):\n",
    "        batch_size = trg.shape[1]\n",
    "        trg_vocab_size = self.decoder.output_dim\n",
    "        max_target_length = max(trg_length)\n",
    "        max_src_length = max(src_length)\n",
    "        outputs = torch.zeros(max_target_length, batch_size, trg_vocab_size).to(self.device)\n",
    "        en_outputs,hidden, cell = self.encoder(src,src_length)   \n",
    "        #输入到Decoder网络的第一个字符是<sos>（句子开始标记）\n",
    "        de_input = trg[0]\n",
    "        atten=torch.zeros(max_target_length, max_src_length).to(self.device)\n",
    "        for t in range(max_target_length):\n",
    "            #注意前面的hidden、cell和后面的是不同的\n",
    "#             if self.attention==True:\n",
    "#                 output, hidden, cell = self.decoder(de_input, hidden, cell,en_outputs)\n",
    "#             else:\n",
    "#                 output, hidden, cell = self.decoder(de_input, hidden, cell)\n",
    "#             outputs[t] = output\n",
    "            use_teacher_forcing = True if random.random() < teacher_forcing_ratio else False\n",
    "            if use_teacher_forcing:\n",
    "                    # decoder_output = [batch, output_dim]\n",
    "                    # decoder_hidden = [n_layers*n_directions, batch, hid_dim]\n",
    "                    output, hidden, cell,decoder_attn = self.decoder(de_input, hidden, cell,en_outputs)\n",
    "                    outputs[t] = output\n",
    "                    output = trg[t]  # 下一个输入来自训练数据\n",
    "            else:\n",
    "                    output, decoder_hidden, cell,decoder_attn = self.decoder(de_input, hidden, cell,en_outputs)\n",
    "                    # [batch, 1]\n",
    "                    topv, topi = output.topk(1)\n",
    "                    outputs[t] = output\n",
    "                    output = topi.squeeze(1)  # \n",
    "            atten[t]=(decoder_attn)\n",
    "        return outputs,atten"
   ]
  },
  {
   "cell_type": "code",
   "execution_count": 25,
   "id": "hybrid-wilderness",
   "metadata": {},
   "outputs": [],
   "source": [
    "def train(args,device,model,train_iter):\n",
    "    moedel=model.to(device)\n",
    "    loss_function = nn.CrossEntropyLoss(ignore_index = 0)\n",
    "    #optimizer = optim.Adam(model.parameters(), lr=args.lr, weight_decay=args.weight_decay)\n",
    "    optimizer = optim.Adam(model.parameters(), lr=args.lr)\n",
    "    print(\"模型开始训练\")\n",
    "    for epoch in range(args.epochs):\n",
    "        start = time.time()\n",
    "        train_loss, train_acc = 0, 0\n",
    "        test_loss, test_acc = 0, 0\n",
    "        n,m= 0,0\n",
    "        model.train()\n",
    "        for i,(batch) in enumerate(tqdm(train_iter)):\n",
    "            n += 1\n",
    "            input_batchs = batch[\"src\"].to(device)\n",
    "            target_batchs = batch[\"trg\"].to(device)\n",
    "            input_lens = batch[\"src_len\"]\n",
    "            target_lens = batch[\"trg_len\"]\n",
    "            optimizer.zero_grad()\n",
    "            output,_ = model(input_batchs, target_batchs,input_lens,target_lens)\n",
    "            loss = loss_function(output.reshape(-1,output.shape[-1] ), target_batchs.reshape(-1))\n",
    "            loss.backward()\n",
    "            torch.nn.utils.clip_grad_norm_(model.parameters(), args.clip)\n",
    "            optimizer.step()\n",
    "            train_loss += loss\n",
    "        if epoch%5==0:\n",
    "            with torch.no_grad():\n",
    "                model.eval()\n",
    "                for i,(batch) in enumerate(tqdm(test_iter)):\n",
    "                    m += 1\n",
    "                    input_batchs = batch[\"src\"].to(device)\n",
    "                    target_batchs = batch[\"trg\"].to(device)\n",
    "                    input_lens = batch[\"src_len\"]\n",
    "                    target_lens = batch[\"trg_len\"]\n",
    "                    output,_ = model(input_batchs, target_batchs,input_lens,target_lens,teacher_forcing_ratio=0)\n",
    "                    loss = loss_function(output.reshape(-1,output.shape[-1] ), target_batchs.reshape(-1))\n",
    "\n",
    "                    test_loss += loss \n",
    "                end = time.time()\n",
    "                runtime = end - start\n",
    "                print(\n",
    "                    'epoch: %d, train loss: %.4f,test loss: %.4f,time: %.4f \\n' % (epoch, train_loss.data / n,test_loss.data / m,runtime)\n",
    "                )\n",
    "        else:\n",
    "            print(\n",
    "                'epoch: %d, train loss: %.4f,time: %.4f \\n' % (epoch, train_loss.data / n,runtime)\n",
    "            )"
   ]
  },
  {
   "cell_type": "code",
   "execution_count": 26,
   "id": "through-atmosphere",
   "metadata": {},
   "outputs": [
    {
     "name": "stdout",
     "output_type": "stream",
     "text": [
      "Seq2Seq(\n",
      "  (encoder): Encoder(\n",
      "    (embedding): Embedding(6904, 256)\n",
      "    (rnn): LSTM(256, 512, num_layers=2, dropout=0.5, bidirectional=True)\n",
      "  )\n",
      "  (decoder): DecoderAtten(\n",
      "    (embedding): Embedding(14719, 256)\n",
      "    (rnn): LSTM(256, 512, num_layers=2, dropout=0.5, bidirectional=True)\n",
      "    (concat): Linear(in_features=2048, out_features=1024, bias=True)\n",
      "    (out): Linear(in_features=1024, out_features=14719, bias=True)\n",
      "    (attn): Attn(\n",
      "      (attn): Linear(in_features=1024, out_features=1024, bias=True)\n",
      "    )\n",
      "    (de_dropout): Dropout(p=0.5, inplace=False)\n",
      "    (softmax): LogSoftmax(dim=1)\n",
      "  )\n",
      ")\n"
     ]
    }
   ],
   "source": [
    "model=Seq2Seq(kwargs,device)\n",
    "print(model)"
   ]
  },
  {
   "cell_type": "code",
   "execution_count": 37,
   "id": "intelligent-singapore",
   "metadata": {},
   "outputs": [
    {
     "name": "stderr",
     "output_type": "stream",
     "text": [
      "\r",
      "  0%|          | 0/46 [00:00<?, ?it/s]"
     ]
    },
    {
     "name": "stdout",
     "output_type": "stream",
     "text": [
      "模型开始训练\n"
     ]
    },
    {
     "name": "stderr",
     "output_type": "stream",
     "text": [
      "100%|██████████| 46/46 [00:24<00:00,  1.85it/s]\n",
      "100%|██████████| 3/3 [00:01<00:00,  2.55it/s]\n",
      "  0%|          | 0/46 [00:00<?, ?it/s]"
     ]
    },
    {
     "name": "stdout",
     "output_type": "stream",
     "text": [
      "epoch: 0, train loss: 7.0896,test loss: 6.3540,time: 26.0169 \n",
      "\n"
     ]
    },
    {
     "name": "stderr",
     "output_type": "stream",
     "text": [
      "  4%|▍         | 2/46 [00:01<00:23,  1.90it/s]\n"
     ]
    },
    {
     "ename": "KeyboardInterrupt",
     "evalue": "",
     "output_type": "error",
     "traceback": [
      "\u001b[0;31m---------------------------------------------------------------------------\u001b[0m",
      "\u001b[0;31mKeyboardInterrupt\u001b[0m                         Traceback (most recent call last)",
      "\u001b[0;32m<ipython-input-37-922ec4d735d6>\u001b[0m in \u001b[0;36m<module>\u001b[0;34m\u001b[0m\n\u001b[0;32m----> 1\u001b[0;31m \u001b[0mtrain\u001b[0m\u001b[0;34m(\u001b[0m\u001b[0mkwargs\u001b[0m\u001b[0;34m,\u001b[0m\u001b[0mdevice\u001b[0m\u001b[0;34m,\u001b[0m\u001b[0mmodel\u001b[0m\u001b[0;34m,\u001b[0m\u001b[0mtrain_iter\u001b[0m\u001b[0;34m)\u001b[0m\u001b[0;34m\u001b[0m\u001b[0;34m\u001b[0m\u001b[0m\n\u001b[0m",
      "\u001b[0;32m<ipython-input-35-e7806dc77bb4>\u001b[0m in \u001b[0;36mtrain\u001b[0;34m(args, device, model, train_iter)\u001b[0m\n\u001b[1;32m     20\u001b[0m             \u001b[0moutput\u001b[0m\u001b[0;34m,\u001b[0m\u001b[0m_\u001b[0m \u001b[0;34m=\u001b[0m \u001b[0mmodel\u001b[0m\u001b[0;34m(\u001b[0m\u001b[0minput_batchs\u001b[0m\u001b[0;34m,\u001b[0m \u001b[0mtarget_batchs\u001b[0m\u001b[0;34m,\u001b[0m\u001b[0minput_lens\u001b[0m\u001b[0;34m,\u001b[0m\u001b[0mtarget_lens\u001b[0m\u001b[0;34m)\u001b[0m\u001b[0;34m\u001b[0m\u001b[0;34m\u001b[0m\u001b[0m\n\u001b[1;32m     21\u001b[0m             \u001b[0mloss\u001b[0m \u001b[0;34m=\u001b[0m \u001b[0mloss_function\u001b[0m\u001b[0;34m(\u001b[0m\u001b[0moutput\u001b[0m\u001b[0;34m.\u001b[0m\u001b[0mreshape\u001b[0m\u001b[0;34m(\u001b[0m\u001b[0;34m-\u001b[0m\u001b[0;36m1\u001b[0m\u001b[0;34m,\u001b[0m\u001b[0moutput\u001b[0m\u001b[0;34m.\u001b[0m\u001b[0mshape\u001b[0m\u001b[0;34m[\u001b[0m\u001b[0;34m-\u001b[0m\u001b[0;36m1\u001b[0m\u001b[0;34m]\u001b[0m \u001b[0;34m)\u001b[0m\u001b[0;34m,\u001b[0m \u001b[0mtarget_batchs\u001b[0m\u001b[0;34m.\u001b[0m\u001b[0mreshape\u001b[0m\u001b[0;34m(\u001b[0m\u001b[0;34m-\u001b[0m\u001b[0;36m1\u001b[0m\u001b[0;34m)\u001b[0m\u001b[0;34m)\u001b[0m\u001b[0;34m\u001b[0m\u001b[0;34m\u001b[0m\u001b[0m\n\u001b[0;32m---> 22\u001b[0;31m             \u001b[0mloss\u001b[0m\u001b[0;34m.\u001b[0m\u001b[0mbackward\u001b[0m\u001b[0;34m(\u001b[0m\u001b[0;34m)\u001b[0m\u001b[0;34m\u001b[0m\u001b[0;34m\u001b[0m\u001b[0m\n\u001b[0m\u001b[1;32m     23\u001b[0m             \u001b[0mtorch\u001b[0m\u001b[0;34m.\u001b[0m\u001b[0mnn\u001b[0m\u001b[0;34m.\u001b[0m\u001b[0mutils\u001b[0m\u001b[0;34m.\u001b[0m\u001b[0mclip_grad_norm_\u001b[0m\u001b[0;34m(\u001b[0m\u001b[0mmodel\u001b[0m\u001b[0;34m.\u001b[0m\u001b[0mparameters\u001b[0m\u001b[0;34m(\u001b[0m\u001b[0;34m)\u001b[0m\u001b[0;34m,\u001b[0m \u001b[0margs\u001b[0m\u001b[0;34m.\u001b[0m\u001b[0mclip\u001b[0m\u001b[0;34m)\u001b[0m\u001b[0;34m\u001b[0m\u001b[0;34m\u001b[0m\u001b[0m\n\u001b[1;32m     24\u001b[0m             \u001b[0moptimizer\u001b[0m\u001b[0;34m.\u001b[0m\u001b[0mstep\u001b[0m\u001b[0;34m(\u001b[0m\u001b[0;34m)\u001b[0m\u001b[0;34m\u001b[0m\u001b[0;34m\u001b[0m\u001b[0m\n",
      "\u001b[0;32m~/miniconda3/envs/rencaiji/lib/python3.6/site-packages/torch/tensor.py\u001b[0m in \u001b[0;36mbackward\u001b[0;34m(self, gradient, retain_graph, create_graph)\u001b[0m\n\u001b[1;32m    219\u001b[0m                 \u001b[0mretain_graph\u001b[0m\u001b[0;34m=\u001b[0m\u001b[0mretain_graph\u001b[0m\u001b[0;34m,\u001b[0m\u001b[0;34m\u001b[0m\u001b[0;34m\u001b[0m\u001b[0m\n\u001b[1;32m    220\u001b[0m                 create_graph=create_graph)\n\u001b[0;32m--> 221\u001b[0;31m         \u001b[0mtorch\u001b[0m\u001b[0;34m.\u001b[0m\u001b[0mautograd\u001b[0m\u001b[0;34m.\u001b[0m\u001b[0mbackward\u001b[0m\u001b[0;34m(\u001b[0m\u001b[0mself\u001b[0m\u001b[0;34m,\u001b[0m \u001b[0mgradient\u001b[0m\u001b[0;34m,\u001b[0m \u001b[0mretain_graph\u001b[0m\u001b[0;34m,\u001b[0m \u001b[0mcreate_graph\u001b[0m\u001b[0;34m)\u001b[0m\u001b[0;34m\u001b[0m\u001b[0;34m\u001b[0m\u001b[0m\n\u001b[0m\u001b[1;32m    222\u001b[0m \u001b[0;34m\u001b[0m\u001b[0m\n\u001b[1;32m    223\u001b[0m     \u001b[0;32mdef\u001b[0m \u001b[0mregister_hook\u001b[0m\u001b[0;34m(\u001b[0m\u001b[0mself\u001b[0m\u001b[0;34m,\u001b[0m \u001b[0mhook\u001b[0m\u001b[0;34m)\u001b[0m\u001b[0;34m:\u001b[0m\u001b[0;34m\u001b[0m\u001b[0;34m\u001b[0m\u001b[0m\n",
      "\u001b[0;32m~/miniconda3/envs/rencaiji/lib/python3.6/site-packages/torch/autograd/__init__.py\u001b[0m in \u001b[0;36mbackward\u001b[0;34m(tensors, grad_tensors, retain_graph, create_graph, grad_variables)\u001b[0m\n\u001b[1;32m    130\u001b[0m     Variable._execution_engine.run_backward(\n\u001b[1;32m    131\u001b[0m         \u001b[0mtensors\u001b[0m\u001b[0;34m,\u001b[0m \u001b[0mgrad_tensors_\u001b[0m\u001b[0;34m,\u001b[0m \u001b[0mretain_graph\u001b[0m\u001b[0;34m,\u001b[0m \u001b[0mcreate_graph\u001b[0m\u001b[0;34m,\u001b[0m\u001b[0;34m\u001b[0m\u001b[0;34m\u001b[0m\u001b[0m\n\u001b[0;32m--> 132\u001b[0;31m         allow_unreachable=True)  # allow_unreachable flag\n\u001b[0m\u001b[1;32m    133\u001b[0m \u001b[0;34m\u001b[0m\u001b[0m\n\u001b[1;32m    134\u001b[0m \u001b[0;34m\u001b[0m\u001b[0m\n",
      "\u001b[0;31mKeyboardInterrupt\u001b[0m: "
     ]
    }
   ],
   "source": [
    "train(kwargs,device,model,train_iter)"
   ]
  },
  {
   "cell_type": "code",
   "execution_count": 31,
   "id": "lonely-adobe",
   "metadata": {},
   "outputs": [
    {
     "ename": "NameError",
     "evalue": "name 'train' is not defined",
     "output_type": "error",
     "traceback": [
      "\u001b[0;31m---------------------------------------------------------------------------\u001b[0m",
      "\u001b[0;31mNameError\u001b[0m                                 Traceback (most recent call last)",
      "\u001b[0;32m<ipython-input-31-1ece7c8ffd99>\u001b[0m in \u001b[0;36m<module>\u001b[0;34m\u001b[0m\n\u001b[0;32m----> 1\u001b[0;31m \u001b[0mtrain\u001b[0m\u001b[0;34m(\u001b[0m\u001b[0mkwargs\u001b[0m\u001b[0;34m,\u001b[0m\u001b[0mdevice\u001b[0m\u001b[0;34m,\u001b[0m\u001b[0mmodel\u001b[0m\u001b[0;34m,\u001b[0m\u001b[0mtrain_iter\u001b[0m\u001b[0;34m,\u001b[0m\u001b[0mtest_iter\u001b[0m\u001b[0;34m)\u001b[0m\u001b[0;34m\u001b[0m\u001b[0;34m\u001b[0m\u001b[0m\n\u001b[0m",
      "\u001b[0;31mNameError\u001b[0m: name 'train' is not defined"
     ]
    }
   ],
   "source": [
    "train(kwargs,device,model,train_iter,test_iter)"
   ]
  },
  {
   "cell_type": "code",
   "execution_count": 35,
   "id": "russian-import",
   "metadata": {},
   "outputs": [],
   "source": [
    "#torch.save(model, 's2s_ci_small_att.pkl')"
   ]
  },
  {
   "cell_type": "code",
   "execution_count": 27,
   "id": "divided-samoa",
   "metadata": {},
   "outputs": [],
   "source": [
    "model=torch.load('s2s_ci_small_att.pkl')"
   ]
  },
  {
   "cell_type": "code",
   "execution_count": 80,
   "id": "loose-illinois",
   "metadata": {},
   "outputs": [],
   "source": [
    "def att_show(src,output,att):\n",
    "    x1=[]\n",
    "    for j in ((src)):\n",
    "\n",
    "            k=idx_to_word_en[j.item()]\n",
    "            x1.append(k)\n",
    "\n",
    "\n",
    "    x2=[]\n",
    "    for j in ((output)):\n",
    "\n",
    "            k=idx_to_word_zh[j.item()]\n",
    "            x2.append(k)\n",
    "\n",
    "\n",
    "    atten=att.cpu().detach().numpy()\n",
    "    fig, ax = plt.subplots()\n",
    "    im = ax.imshow(atten)\n",
    "    ax.set_xticks(np.arange(len(x1)))\n",
    "    ax.set_yticks(np.arange(len(x2)))\n",
    "    ax.set_xticklabels(x1, fontproperties=font)\n",
    "    ax.set_yticklabels(x2, fontproperties=font)\n",
    "    plt.colorbar(im)\n",
    "    plt.show()"
   ]
  },
  {
   "cell_type": "code",
   "execution_count": 83,
   "id": "electric-sterling",
   "metadata": {
    "scrolled": true
   },
   "outputs": [
    {
     "name": "stdout",
     "output_type": "stream",
     "text": [
      "编号为： 1070\n",
      "原文为：i'd like to go . \n",
      "标准答案为：我想要去。\n",
      "预测答案为：我想要去。\n"
     ]
    },
    {
     "data": {
      "image/png": "[encoded data removed]",
      "text/plain": [
       "<Figure size 432x288 with 2 Axes>"
      ]
     },
     "metadata": {
      "needs_background": "light"
     },
     "output_type": "display_data"
    },
    {
     "name": "stdout",
     "output_type": "stream",
     "text": [
      "--------------------------\n",
      "编号为： 14494\n",
      "原文为：my car cost more than yours did . \n",
      "标准答案为：我的车子的开销比你的要多。\n",
      "预测答案为：我的车子的你你你你。。\n"
     ]
    },
    {
     "data": {
      "image/png": "[encoded data removed]",
      "text/plain": [
       "<Figure size 432x288 with 2 Axes>"
      ]
     },
     "metadata": {
      "needs_background": "light"
     },
     "output_type": "display_data"
    },
    {
     "name": "stdout",
     "output_type": "stream",
     "text": [
      "--------------------------\n",
      "编号为： 11554\n",
      "原文为：he is able to play the guitar . \n",
      "标准答案为：他會彈吉他。\n",
      "预测答案为：他會彈吉他。\n"
     ]
    },
    {
     "name": "stderr",
     "output_type": "stream",
     "text": [
      "/home/renhongjie/miniconda3/envs/rencaiji/lib/python3.6/site-packages/matplotlib/backends/backend_agg.py:238: RuntimeWarning: Glyph 26371 missing from current font.\n",
      "  font.set_text(s, 0.0, flags=flags)\n",
      "/home/renhongjie/miniconda3/envs/rencaiji/lib/python3.6/site-packages/matplotlib/backends/backend_agg.py:238: RuntimeWarning: Glyph 24392 missing from current font.\n",
      "  font.set_text(s, 0.0, flags=flags)\n",
      "/home/renhongjie/miniconda3/envs/rencaiji/lib/python3.6/site-packages/matplotlib/backends/backend_agg.py:201: RuntimeWarning: Glyph 26371 missing from current font.\n",
      "  font.set_text(s, 0, flags=flags)\n",
      "/home/renhongjie/miniconda3/envs/rencaiji/lib/python3.6/site-packages/matplotlib/backends/backend_agg.py:201: RuntimeWarning: Glyph 24392 missing from current font.\n",
      "  font.set_text(s, 0, flags=flags)\n"
     ]
    },
    {
     "data": {
      "image/png": "[encoded data removed]",
      "text/plain": [
       "<Figure size 432x288 with 2 Axes>"
      ]
     },
     "metadata": {
      "needs_background": "light"
     },
     "output_type": "display_data"
    },
    {
     "name": "stdout",
     "output_type": "stream",
     "text": [
      "--------------------------\n",
      "编号为： 15450\n",
      "原文为：i speak french every day at work . \n",
      "标准答案为：我每天工作时都讲法语。\n",
      "预测答案为：我每天时时都工作。\n"
     ]
    },
    {
     "data": {
      "image/png": "[encoded data removed]",
      "text/plain": [
       "<Figure size 432x288 with 2 Axes>"
      ]
     },
     "metadata": {
      "needs_background": "light"
     },
     "output_type": "display_data"
    },
    {
     "name": "stdout",
     "output_type": "stream",
     "text": [
      "--------------------------\n",
      "编号为： 23993\n",
      "原文为：for the time being , my sister is an assistant in a supermarket . \n",
      "标准答案为：目前，我妹妹在一家超市当收银员。\n",
      "预测答案为：這是看见的时候我我。\n"
     ]
    },
    {
     "name": "stderr",
     "output_type": "stream",
     "text": [
      "/home/renhongjie/miniconda3/envs/rencaiji/lib/python3.6/site-packages/matplotlib/backends/backend_agg.py:238: RuntimeWarning: Glyph 36889 missing from current font.\n",
      "  font.set_text(s, 0.0, flags=flags)\n",
      "/home/renhongjie/miniconda3/envs/rencaiji/lib/python3.6/site-packages/matplotlib/backends/backend_agg.py:201: RuntimeWarning: Glyph 36889 missing from current font.\n",
      "  font.set_text(s, 0, flags=flags)\n"
     ]
    },
    {
     "data": {
      "image/png": "[encoded data removed]",
      "text/plain": [
       "<Figure size 432x288 with 2 Axes>"
      ]
     },
     "metadata": {
      "needs_background": "light"
     },
     "output_type": "display_data"
    },
    {
     "name": "stdout",
     "output_type": "stream",
     "text": [
      "--------------------------\n",
      "编号为： 10764\n",
      "原文为：i cut a branch from the tree . \n",
      "标准答案为：我從樹上砍下了一根樹枝。\n",
      "预测答案为：我從樹我我下了樹枝。\n"
     ]
    },
    {
     "name": "stderr",
     "output_type": "stream",
     "text": [
      "/home/renhongjie/miniconda3/envs/rencaiji/lib/python3.6/site-packages/matplotlib/backends/backend_agg.py:238: RuntimeWarning: Glyph 24478 missing from current font.\n",
      "  font.set_text(s, 0.0, flags=flags)\n",
      "/home/renhongjie/miniconda3/envs/rencaiji/lib/python3.6/site-packages/matplotlib/backends/backend_agg.py:238: RuntimeWarning: Glyph 27193 missing from current font.\n",
      "  font.set_text(s, 0.0, flags=flags)\n",
      "/home/renhongjie/miniconda3/envs/rencaiji/lib/python3.6/site-packages/matplotlib/backends/backend_agg.py:201: RuntimeWarning: Glyph 24478 missing from current font.\n",
      "  font.set_text(s, 0, flags=flags)\n",
      "/home/renhongjie/miniconda3/envs/rencaiji/lib/python3.6/site-packages/matplotlib/backends/backend_agg.py:201: RuntimeWarning: Glyph 27193 missing from current font.\n",
      "  font.set_text(s, 0, flags=flags)\n"
     ]
    },
    {
     "data": {
      "image/png": "[encoded data removed]",
      "text/plain": [
       "<Figure size 432x288 with 2 Axes>"
      ]
     },
     "metadata": {
      "needs_background": "light"
     },
     "output_type": "display_data"
    },
    {
     "name": "stdout",
     "output_type": "stream",
     "text": [
      "--------------------------\n",
      "编号为： 3672\n",
      "原文为：this car sells well . \n",
      "标准答案为：这辆车卖得好。\n",
      "预测答案为：这辆味道得好。\n"
     ]
    },
    {
     "data": {
      "image/png": "[encoded data removed]",
      "text/plain": [
       "<Figure size 432x288 with 2 Axes>"
      ]
     },
     "metadata": {
      "needs_background": "light"
     },
     "output_type": "display_data"
    },
    {
     "name": "stdout",
     "output_type": "stream",
     "text": [
      "--------------------------\n",
      "编号为： 17228\n",
      "原文为：drunk driving is a serious problem . \n",
      "标准答案为：酒驾是个严重的问题。\n",
      "预测答案为：这是是个高的。\n"
     ]
    },
    {
     "data": {
      "image/png": "[encoded data removed]",
      "text/plain": [
       "<Figure size 432x288 with 2 Axes>"
      ]
     },
     "metadata": {
      "needs_background": "light"
     },
     "output_type": "display_data"
    },
    {
     "name": "stdout",
     "output_type": "stream",
     "text": [
      "--------------------------\n",
      "编号为： 930\n",
      "原文为：you are drunk ! \n",
      "标准答案为：你喝醉了！\n",
      "预测答案为：你喝醉了！！\n"
     ]
    },
    {
     "data": {
      "image/png": "[encoded data removed]",
      "text/plain": [
       "<Figure size 432x288 with 2 Axes>"
      ]
     },
     "metadata": {
      "needs_background": "light"
     },
     "output_type": "display_data"
    },
    {
     "name": "stdout",
     "output_type": "stream",
     "text": [
      "--------------------------\n",
      "编号为： 1109\n",
      "原文为：it's not funny . \n",
      "标准答案为：这不好笑。\n",
      "预测答案为：这不是的。\n"
     ]
    },
    {
     "data": {
      "image/png": "[encoded data removed]",
      "text/plain": [
       "<Figure size 432x288 with 2 Axes>"
      ]
     },
     "metadata": {
      "needs_background": "light"
     },
     "output_type": "display_data"
    },
    {
     "name": "stdout",
     "output_type": "stream",
     "text": [
      "--------------------------\n"
     ]
    }
   ],
   "source": [
    "import random\n",
    "#random.seed(20)\n",
    "for i in random.sample(range(len(en_data_id)), 10):  # 随机看10个\n",
    "    print('编号为：',i)\n",
    "    src=torch.tensor(en_data_id[i]).reshape(-1, 1).to(device)\n",
    "    tag=torch.tensor(zh_data_id[i]).reshape(-1, 1).to(device)\n",
    "\n",
    "    src_length=[en_data_id[i].index(2)+1]\n",
    "    tag_length=[zh_data_id[i].index(2)+1]\n",
    "    \n",
    "    output,att = model(src, tag,src_length,tag_length,teacher_forcing_ratio=0)\n",
    "    src=src.squeeze(1)\n",
    "    tag=tag.squeeze(1)\n",
    "    output = output.squeeze(1).argmax(1)\n",
    "    print('原文为：',end='')\n",
    "    for j in ((src)):\n",
    "        if j==1:\n",
    "            continue\n",
    "        if j==2:\n",
    "            break\n",
    "        k=idx_to_word_en[j.item()]\n",
    "        print(k,end=' ')\n",
    "    print()\n",
    "    print('标准答案为：',end='')\n",
    "    for j in ((tag)):\n",
    "        if j==1:\n",
    "            continue\n",
    "        if j==2:\n",
    "            break\n",
    "        k=idx_to_word_zh[j.item()]\n",
    "        print(k,end='')\n",
    "    print()\n",
    "    print('预测答案为：',end='')\n",
    "    for j in ((output)):\n",
    "        if j==1:\n",
    "            continue\n",
    "        if j==2:\n",
    "            break\n",
    "        k=idx_to_word_zh[j.item()]\n",
    "        print(k,end='')\n",
    "    print()\n",
    "    att_show(src,output,att)\n",
    "    print('--------------------------')"
   ]
  },
  {
   "cell_type": "code",
   "execution_count": null,
   "id": "incorporate-pipeline",
   "metadata": {},
   "outputs": [],
   "source": []
  }
 ],
 "metadata": {
  "kernelspec": {
   "display_name": "Python 3",
   "language": "python",
   "name": "python3"
  },
  "language_info": {
   "codemirror_mode": {
    "name": "ipython",
    "version": 3
   },
   "file_extension": ".py",
   "mimetype": "text/x-python",
   "name": "python",
   "nbconvert_exporter": "python",
   "pygments_lexer": "ipython3",
   "version": "3.6.12"
  }
 },
 "nbformat": 4,
 "nbformat_minor": 5
}
