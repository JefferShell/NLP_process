{
 "cells": [
  {
   "cell_type": "code",
   "execution_count": 1,
   "id": "inner-condition",
   "metadata": {},
   "outputs": [],
   "source": [
    "#这次对小数据集进行词级别的机器翻译\n",
    "import torch\n",
    "import torch.utils.data as da\n",
    "import torch.nn as nn\n",
    "import torch.optim as optim\n",
    "import jieba\n",
    "import argparse\n",
    "import matplotlib.pyplot as plt\n",
    "from collections import Counter\n",
    "import random\n",
    "import time\n",
    "from tqdm import tqdm\n",
    "import torch.nn.functional as F"
   ]
  },
  {
   "cell_type": "code",
   "execution_count": 2,
   "id": "alpha-tower",
   "metadata": {},
   "outputs": [
    {
     "data": {
      "text/plain": [
       "True"
      ]
     },
     "execution_count": 2,
     "metadata": {},
     "output_type": "execute_result"
    }
   ],
   "source": [
    "torch.cuda.is_available()"
   ]
  },
  {
   "cell_type": "code",
   "execution_count": 3,
   "id": "future-restoration",
   "metadata": {},
   "outputs": [],
   "source": [
    "device = torch.device(\"cuda:4\" if torch.cuda.is_available() else \"cpu\")\n",
    "parser = argparse.ArgumentParser()\n",
    "\n",
    "parser.add_argument('--en_path', type=str, default='data/news-commentary-v13.zh-en.en',\n",
    "                   help='英文数据集路径')\n",
    "parser.add_argument('--zh_path', type=str, default='data/news-commentary-v13.zh-en.zh',\n",
    "                   help='中文数据集路径')\n",
    "parser.add_argument('--seq_len', type=int, default=60,\n",
    "                   help='句子最大的长度，多则截断，少则补<unk>')\n",
    "parser.add_argument('--pad', type=str, default='<unk>',\n",
    "                   help='填充词')\n",
    "parser.add_argument('--batch_size',type=int,default=32,\n",
    "                   help='每轮批次')\n",
    "parser.add_argument('--en_embedding_dim',type=int,default=256,\n",
    "                   help='编码器词向量的长度')\n",
    "parser.add_argument('--en_hidden_dim',type=int,default=512,\n",
    "                   help='编码器深度')\n",
    "parser.add_argument('--en_n_layers',type=int,default=2,\n",
    "                   help='编码器LSTM的层数')\n",
    "parser.add_argument('--de_embedding_dim',type=int,default=256,\n",
    "                   help='解码器词向量的长度')\n",
    "parser.add_argument('--de_hidden_dim',type=int,default=512,\n",
    "                   help='解码器深度')\n",
    "parser.add_argument('--de_n_layers',type=int,default=2,\n",
    "                   help='解码器LSTM的层数')\n",
    "parser.add_argument('--dropout',type=int,default=0.5,\n",
    "                   help='droput')\n",
    "parser.add_argument('--lr',type=int,default=0.0001,\n",
    "                   help='学习率')\n",
    "parser.add_argument('--weight_decay',type=int,default=0.1,\n",
    "                   help='权重衰减/L2范式')\n",
    "parser.add_argument('--clip',type=int,default=1,\n",
    "                   help='梯度剪切')\n",
    "parser.add_argument('--epochs',type=int,default=200,\n",
    "                   help='训练轮数')\n",
    "parser.add_argument('--attention',type=bool,default=False,\n",
    "                   help='是否启用注意力机制')\n",
    "\n",
    "#kwargs = parser.parse_args()\n",
    "kwargs = parser.parse_known_args()[0]\n"
   ]
  },
  {
   "cell_type": "code",
   "execution_count": 4,
   "id": "antique-awareness",
   "metadata": {},
   "outputs": [],
   "source": [
    "# with open(kwargs.en_path, 'r') as f_en:\n",
    "#     data_en = f_en.readlines()\n",
    "# with open(kwargs.zh_path, 'r') as f_zh:\n",
    "#     data_zh = f_zh.readlines()"
   ]
  },
  {
   "cell_type": "code",
   "execution_count": 8,
   "id": "meaning-compound",
   "metadata": {},
   "outputs": [],
   "source": [
    "#用一个小数据集合先玩玩\n",
    "with open('./cmn-eng/cmn.txt', 'r', encoding='utf-8') as f:\n",
    "    data = f.read()\n",
    "data = data.strip()\n",
    "data = data.split('\\n')\n",
    "# 分割英文数据和中文数据\n",
    "data_en = [line.split('\\t')[0] for line in data]\n",
    "data_zh = [line.split('\\t')[1] for line in data]"
   ]
  },
  {
   "cell_type": "code",
   "execution_count": 9,
   "id": "roman-queen",
   "metadata": {},
   "outputs": [],
   "source": [
    "#特殊处理\n",
    "def data_process(text):\n",
    "    text = text.lower()\n",
    "    # 特殊数据处理，该地方可以各种替换缩略词等\n",
    "    # 去除标点等\n",
    "    return text"
   ]
  },
  {
   "cell_type": "code",
   "execution_count": 10,
   "id": "facial-heaven",
   "metadata": {},
   "outputs": [],
   "source": [
    "#对单句话进行分词\n",
    "def get_token_text(text_en,text_zh):\n",
    "    #简单的句子处理\n",
    "    text_en=text_en.replace('.',' .').replace('?',' ?').replace('!',' !').replace(',',' , ')\n",
    "    text_zh=text_zh.strip('\\n')\n",
    "    #英文以空格分割\n",
    "    token_data_en = [data_process(st) for st in text_en.split()]\n",
    "    #中文一般用jieba\n",
    "    token_data_zh = [data_process(st) for st in jieba.cut(text_zh)]\n",
    "    return [token_data_en,token_data_zh]"
   ]
  },
  {
   "cell_type": "code",
   "execution_count": 11,
   "id": "vocational-superior",
   "metadata": {},
   "outputs": [],
   "source": [
    "#对两个数据集的每句话进行分词\n",
    "def get_token_data(data_en,data_zh):\n",
    "    data_token_en = []\n",
    "    data_token_zh = []\n",
    "    for en,zh in zip(data_en,data_zh):\n",
    "        en,zh=get_token_text(en,zh)\n",
    "        data_token_en.append(en)\n",
    "        data_token_zh.append(zh)\n",
    "    return data_token_en,data_token_zh"
   ]
  },
  {
   "cell_type": "code",
   "execution_count": 12,
   "id": "bigger-polish",
   "metadata": {},
   "outputs": [],
   "source": [
    "def get_vocab(data):\n",
    "    data=[j for i in data for j in i]\n",
    "    top_1000 = Counter(data).most_common(100000)\n",
    "    vocab = {x[0]:x[1] for x in top_1000}\n",
    "    word_to_idx = {word: i + 4 for i, word in enumerate(vocab)}\n",
    "    word_to_idx['<pad>'] = 0\n",
    "    word_to_idx['<sos>'] = 1\n",
    "    word_to_idx['<eos>'] = 2\n",
    "    word_to_idx['<unk>'] = 3\n",
    "    idx_to_word = {i + 4: word for i, word in enumerate(vocab)}\n",
    "    idx_to_word[0] = '<pad>'\n",
    "    idx_to_word[1] = '<sos>'\n",
    "    idx_to_word[2] = '<eos>'\n",
    "    idx_to_word[3] = '<unk>'\n",
    "    vocab_size=len(idx_to_word)\n",
    "    return vocab, vocab_size, word_to_idx, idx_to_word"
   ]
  },
  {
   "cell_type": "code",
   "execution_count": 13,
   "id": "worth-fabric",
   "metadata": {},
   "outputs": [],
   "source": [
    "# 填充和截断\n",
    "def pad_st(features, maxlen, pad=0):\n",
    "    padded_features = []\n",
    "    for feature in features:\n",
    "        feature.insert(0,'<sos>')\n",
    "        feature.append('<eos>')\n",
    "        if len(feature) > maxlen:\n",
    "            padded_feature = feature[:maxlen]\n",
    "            padded_feature[-1]='<eos>'#防止<eos>被切掉\n",
    "        else:\n",
    "            padded_feature = feature\n",
    "            while (len(padded_feature) < maxlen):\n",
    "                padded_feature.append(pad)\n",
    "        padded_features.append(padded_feature)\n",
    "    return padded_features"
   ]
  },
  {
   "cell_type": "code",
   "execution_count": 14,
   "id": "white-blood",
   "metadata": {},
   "outputs": [],
   "source": [
    "# 转化为索引\n",
    "def encode_st(token_data, word_to_idx):\n",
    "    features = []\n",
    "    for sample in token_data:\n",
    "        feature = []\n",
    "        feature.append(1)\n",
    "        for token in sample:\n",
    "            if token in word_to_idx:\n",
    "                feature.append(word_to_idx[token])\n",
    "            else:#如果是词库中不存在的，认为是<unk>，即0\n",
    "                feature.append(0)\n",
    "        feature.append(2)\n",
    "        features.append(feature)\n",
    "    \n",
    "    return features"
   ]
  },
  {
   "cell_type": "code",
   "execution_count": 16,
   "id": "personalized-block",
   "metadata": {},
   "outputs": [
    {
     "name": "stderr",
     "output_type": "stream",
     "text": [
      "Building prefix dict from the default dictionary ...\n",
      "Loading model from cache /tmp/jieba.cache\n",
      "Dumping model to file cache /tmp/jieba.cache\n",
      "Dump cache file failed.\n",
      "Traceback (most recent call last):\n",
      "  File \"/home/renhongjie/miniconda3/envs/rencaiji/lib/python3.6/site-packages/jieba/__init__.py\", line 154, in initialize\n",
      "    _replace_file(fpath, cache_file)\n",
      "PermissionError: [Errno 1] Operation not permitted: '/tmp/tmp3w23kfg_' -> '/tmp/jieba.cache'\n",
      "Loading model cost 0.814 seconds.\n",
      "Prefix dict has been built successfully.\n"
     ]
    }
   ],
   "source": [
    "#此时为二维数组，每个数组是之前每句话的分词结果，词级别\n",
    "en_data,zh_data=get_token_data(data_en,data_zh)\n"
   ]
  },
  {
   "cell_type": "code",
   "execution_count": 17,
   "id": "leading-guard",
   "metadata": {},
   "outputs": [
    {
     "name": "stdout",
     "output_type": "stream",
     "text": [
      "[['hi', '.'], ['hi', '.']] [['嗨', '。'], ['你好', '。']]\n"
     ]
    }
   ],
   "source": [
    "print(en_data[0:2],zh_data[0:2])"
   ]
  },
  {
   "cell_type": "code",
   "execution_count": 18,
   "id": "adult-thinking",
   "metadata": {},
   "outputs": [],
   "source": [
    "vocab_en,vocab_size_en, word_to_idx_en, idx_to_word_en=get_vocab(en_data)\n",
    "vocab_zh,vocab_size_zh, word_to_idx_zh, idx_to_word_zh=get_vocab(zh_data)\n"
   ]
  },
  {
   "cell_type": "code",
   "execution_count": 19,
   "id": "swedish-serial",
   "metadata": {},
   "outputs": [
    {
     "name": "stdout",
     "output_type": "stream",
     "text": [
      "6904 14719\n"
     ]
    }
   ],
   "source": [
    "kwargs.vocab_size_en=vocab_size_en#记录vocab大小\n",
    "kwargs.vocab_size_zh=vocab_size_zh#记录vocab大小\n",
    "print(vocab_size_en,vocab_size_zh)"
   ]
  },
  {
   "cell_type": "code",
   "execution_count": 20,
   "id": "removable-cornell",
   "metadata": {},
   "outputs": [
    {
     "data": {
      "image/png": "[encoded data removed]",
      "text/plain": [
       "<Figure size 432x288 with 1 Axes>"
      ]
     },
     "metadata": {
      "needs_background": "light"
     },
     "output_type": "display_data"
    },
    {
     "data": {
      "image/png": "[encoded data removed]",
      "text/plain": [
       "<Figure size 432x288 with 1 Axes>"
      ]
     },
     "metadata": {
      "needs_background": "light"
     },
     "output_type": "display_data"
    }
   ],
   "source": [
    "#看一下预料的长度分布，然后选择一个合适的seq_len\n",
    "en_data_length=[]\n",
    "for i in en_data:\n",
    "    en_data_length.append(len(i))\n",
    "n, bins, patches = plt.hist(en_data_length, bins=10, edgecolor='None',facecolor='red') \n",
    "plt.show()\n",
    "zh_data_length=[]\n",
    "for i in zh_data:\n",
    "    zh_data_length.append(len(i))\n",
    "n, bins, patches = plt.hist(zh_data_length, bins=10, edgecolor='None',facecolor='red') \n",
    "plt.show()"
   ]
  },
  {
   "cell_type": "code",
   "execution_count": 21,
   "id": "wicked-cambodia",
   "metadata": {},
   "outputs": [
    {
     "name": "stdout",
     "output_type": "stream",
     "text": [
      "[2, 2, 5, 2, 3, 2, 2, 4, 3, 2]\n"
     ]
    }
   ],
   "source": [
    "print(zh_data_length[0:10])"
   ]
  },
  {
   "cell_type": "code",
   "execution_count": 22,
   "id": "generous-reputation",
   "metadata": {},
   "outputs": [],
   "source": [
    "en_data_id=encode_st((en_data),word_to_idx_en)\n",
    "zh_data_id=encode_st((zh_data),word_to_idx_zh)"
   ]
  },
  {
   "cell_type": "code",
   "execution_count": 23,
   "id": "maritime-ballet",
   "metadata": {},
   "outputs": [
    {
     "name": "stdout",
     "output_type": "stream",
     "text": [
      "[[1, 1766, 4, 2], [1, 1766, 4, 2], [1, 534, 4, 2]]\n"
     ]
    }
   ],
   "source": [
    "print(en_data_id[0:3])"
   ]
  },
  {
   "cell_type": "code",
   "execution_count": 24,
   "id": "infectious-oxford",
   "metadata": {},
   "outputs": [],
   "source": [
    "from torch.utils.data import Dataset, DataLoader\n",
    "class TranslationDataset(Dataset):\n",
    "    def __init__(self, src_data, trg_data):\n",
    "        self.src_data = src_data\n",
    "        self.trg_data = trg_data\n",
    "\n",
    "        assert len(src_data) == len(trg_data), \\\n",
    "            \"numbers of src_data  and trg_data must be equal!\"\n",
    "\n",
    "    def __len__(self):\n",
    "        return len(self.src_data)\n",
    "\n",
    "    def __getitem__(self, idx):\n",
    "        src_sample =self.src_data[idx]\n",
    "        src_len = len(self.src_data[idx])\n",
    "        trg_sample = self.trg_data[idx]\n",
    "        trg_len = len(self.trg_data[idx])\n",
    "        return {\"src\": src_sample, \"src_len\": src_len, \"trg\": trg_sample, \"trg_len\": trg_len}"
   ]
  },
  {
   "cell_type": "code",
   "execution_count": 25,
   "id": "boolean-vinyl",
   "metadata": {},
   "outputs": [],
   "source": [
    "def padding_batch(batch):\n",
    "    \"\"\"\n",
    "    input: -> list of dict\n",
    "        [{'src': [1, 2, 3], 'trg': [1, 2, 3]}, {'src': [1, 2, 2, 3], 'trg': [1, 2, 2, 3]}]\n",
    "    output: -> dict of tensor \n",
    "        {\n",
    "            \"src\": [[1, 2, 3, 0], [1, 2, 2, 3]].T\n",
    "            \"trg\": [[1, 2, 3, 0], [1, 2, 2, 3]].T\n",
    "        }\n",
    "    \"\"\"\n",
    "    src_lens = [d[\"src_len\"] for d in batch]\n",
    "    trg_lens = [d[\"trg_len\"] for d in batch]\n",
    "    \n",
    "    src_max = max([d[\"src_len\"] for d in batch])\n",
    "    trg_max = max([d[\"trg_len\"] for d in batch])\n",
    "    for d in batch:\n",
    "        word_to_idx_en\n",
    "        d[\"src\"].extend([word_to_idx_en[\"<pad>\"]]*(src_max-d[\"src_len\"]))\n",
    "        d[\"trg\"].extend([word_to_idx_zh[\"<pad>\"]]*(trg_max-d[\"trg_len\"]))\n",
    "    srcs = torch.tensor([pair[\"src\"] for pair in batch], dtype=torch.long, device=device)\n",
    "    trgs = torch.tensor([pair[\"trg\"] for pair in batch], dtype=torch.long, device=device)\n",
    "    \n",
    "    batch = {\"src\":srcs.T, \"src_len\":src_lens, \"trg\":trgs.T, \"trg_len\":trg_lens}\n",
    "    return batch"
   ]
  },
  {
   "cell_type": "code",
   "execution_count": 26,
   "id": "animated-banner",
   "metadata": {},
   "outputs": [],
   "source": [
    "# 数据集\n",
    "train_set = TranslationDataset(en_data_id, zh_data_id)\n",
    "train_iter = DataLoader(train_set, batch_size=512, collate_fn=padding_batch)"
   ]
  },
  {
   "cell_type": "code",
   "execution_count": 27,
   "id": "wanted-customs",
   "metadata": {},
   "outputs": [],
   "source": [
    "#开始模型部分\n",
    "class Encoder(nn.Module):\n",
    "    def __init__(self, args):\n",
    "        super().__init__()\n",
    "        self.input_dim = args.vocab_size_en\n",
    "        self.emb_dim = args.en_embedding_dim\n",
    "        self.hid_dim = args.en_hidden_dim\n",
    "        self.n_layers = args.en_n_layers\n",
    "        self.dropout = args.dropout\n",
    "        self.embedding = nn.Embedding(self.input_dim, self.emb_dim)   \n",
    "        self.rnn = nn.LSTM(input_size=self.emb_dim, hidden_size=self.hid_dim, num_layers=self.n_layers,\n",
    "                           dropout=self.dropout,bidirectional=True)\n",
    "\n",
    "        \n",
    "    def forward(self, x,input_lengths):\n",
    "        embedded = (self.embedding(x))\n",
    "        packed = torch.nn.utils.rnn.pack_padded_sequence(embedded, input_lengths, enforce_sorted=False)\n",
    "        outputs, (hidden, cell) = self.rnn(packed)\n",
    "        outputs, output_lengths = torch.nn.utils.rnn.pad_packed_sequence(sequence=outputs)\n",
    "        return outputs,hidden, cell\n",
    "class Decoder(nn.Module):\n",
    "    def __init__(self, args):\n",
    "        super().__init__()\n",
    "        self.emb_dim = args.de_embedding_dim\n",
    "        self.hid_dim = args.de_hidden_dim\n",
    "        self.output_dim = args.vocab_size_zh\n",
    "        self.n_layers = args.de_n_layers\n",
    "        self.dropout = args.dropout\n",
    "        self.embedding = nn.Embedding(self.output_dim, self.emb_dim)\n",
    "        self.rnn = nn.LSTM(input_size=self.emb_dim, hidden_size=self.hid_dim,num_layers= self.n_layers,\n",
    "                           dropout=self.dropout,bidirectional=True)\n",
    "        bidirectional=True\n",
    "        if bidirectional==True:\n",
    "            self.out = nn.Linear(self.hid_dim*2, self.output_dim)\n",
    "        else:\n",
    "            self.out = nn.Linear(self.hid_dim, self.output_dim)\n",
    "        self.dropout = nn.Dropout(self.dropout)\n",
    "        self.softmax = nn.LogSoftmax(dim=1)\n",
    "        \n",
    "    def forward(self, x, hidden, cell):\n",
    "        batch_size = x.size(0)\n",
    "        embedded = self.dropout(self.embedding(x).view(1, batch_size, -1))\n",
    "        output, (hidden, cell) = self.rnn(embedded, (hidden, cell))       \n",
    "        output = self.out(output.squeeze(0))\n",
    "        prediction = self.softmax(output)\n",
    "        return prediction, hidden, cell\n",
    "\n",
    "class Seq2Seq(nn.Module):\n",
    "    def __init__(self, args,device):\n",
    "        super().__init__()\n",
    "        self.attention=args.attention\n",
    "        self.encoder = Encoder(args)\n",
    "        if self.attention==True:\n",
    "            self.decoder = DecoderAtten(args)\n",
    "        else:\n",
    "            self.decoder = Decoder(args)\n",
    "        self.device = device\n",
    "        \n",
    "        assert self.encoder.hid_dim == self.decoder.hid_dim, \\\n",
    "            \"Hidden dimensions of encoder and decoder must be equal!\"\n",
    "        assert self.encoder.n_layers == self.decoder.n_layers, \\\n",
    "            \"Encoder and decoder must have equal number of layers!\"\n",
    "        \n",
    "    def forward(self, src, trg, src_length,trg_length,teacher_forcing_ratio = 0.5):\n",
    "        batch_size = trg.shape[1]\n",
    "        trg_vocab_size = self.decoder.output_dim\n",
    "        max_target_length = max(trg_length)\n",
    "        outputs = torch.zeros(max_target_length, batch_size, trg_vocab_size).to(self.device)\n",
    "        en_outputs,hidden, cell = self.encoder(src,src_length)   \n",
    "        #输入到Decoder网络的第一个字符是<sos>（句子开始标记）\n",
    "        de_input = trg[0]\n",
    "        \n",
    "        for t in range(max_target_length):\n",
    "            #注意前面的hidden、cell和后面的是不同的\n",
    "#             if self.attention==True:\n",
    "#                 output, hidden, cell = self.decoder(de_input, hidden, cell,en_outputs)\n",
    "#             else:\n",
    "#                 output, hidden, cell = self.decoder(de_input, hidden, cell)\n",
    "#             outputs[t] = output\n",
    "            use_teacher_forcing = True if random.random() < teacher_forcing_ratio else False\n",
    "            if use_teacher_forcing:\n",
    "                    # decoder_output = [batch, output_dim]\n",
    "                    # decoder_hidden = [n_layers*n_directions, batch, hid_dim]\n",
    "                    output, hidden, cell = self.decoder(de_input, hidden, cell)\n",
    "                    outputs[t] = output\n",
    "                    output = trg[t]  # 下一个输入来自训练数据\n",
    "            else:\n",
    "                    output, decoder_hidden, cell = self.decoder(de_input, hidden, cell)\n",
    "                    # [batch, 1]\n",
    "                    topv, topi = output.topk(1)\n",
    "                    outputs[t] = output\n",
    "                    output = topi.squeeze(1)  # \n",
    "        return outputs"
   ]
  },
  {
   "cell_type": "code",
   "execution_count": 28,
   "id": "hybrid-wilderness",
   "metadata": {},
   "outputs": [],
   "source": [
    "def train(args,device,model,train_iter):\n",
    "    moedel=model.to(device)\n",
    "    loss_function = nn.NLLLoss(ignore_index = 0)\n",
    "    #optimizer = optim.Adam(model.parameters(), lr=args.lr, weight_decay=args.weight_decay)\n",
    "    optimizer = optim.Adam(model.parameters(), lr=args.lr)\n",
    "    print(\"模型开始训练\")\n",
    "    for epoch in range(args.epochs):\n",
    "        start = time.time()\n",
    "        train_loss, train_acc = 0, 0\n",
    "        n= 0\n",
    "        model.train()\n",
    "        for i,(batch) in enumerate(tqdm(train_iter)):\n",
    "            n += 1\n",
    "            input_batchs = batch[\"src\"].to(device)\n",
    "            target_batchs = batch[\"trg\"].to(device)\n",
    "            # list\n",
    "            input_lens = batch[\"src_len\"]\n",
    "            target_lens = batch[\"trg_len\"]\n",
    "            optimizer.zero_grad()\n",
    "            output = model(input_batchs, target_batchs,input_lens,target_lens)\n",
    "            #print(output.is_contiguous(),trg.is_contiguous())\n",
    "#             output = output.contiguous().view(-1, output.shape[-1])\n",
    "#             target_batchs = target_batchs.contiguous().view(-1)\n",
    "            loss = loss_function(output.reshape(-1,output.shape[-1] ), target_batchs.reshape(-1))\n",
    "            loss.backward()\n",
    "            \n",
    "            torch.nn.utils.clip_grad_norm_(model.parameters(), args.clip)\n",
    "            optimizer.step()\n",
    "            train_loss += loss\n",
    "        end = time.time()\n",
    "        runtime = end - start\n",
    "        print(\n",
    "            'epoch: %d, train loss: %.4f,time: %.4f \\n' % (epoch, train_loss.data / n,runtime)\n",
    "        )"
   ]
  },
  {
   "cell_type": "code",
   "execution_count": 29,
   "id": "through-atmosphere",
   "metadata": {},
   "outputs": [
    {
     "name": "stdout",
     "output_type": "stream",
     "text": [
      "Seq2Seq(\n",
      "  (encoder): Encoder(\n",
      "    (embedding): Embedding(6904, 256)\n",
      "    (rnn): LSTM(256, 512, num_layers=2, dropout=0.5, bidirectional=True)\n",
      "  )\n",
      "  (decoder): Decoder(\n",
      "    (embedding): Embedding(14719, 256)\n",
      "    (rnn): LSTM(256, 512, num_layers=2, dropout=0.5, bidirectional=True)\n",
      "    (out): Linear(in_features=1024, out_features=14719, bias=True)\n",
      "    (dropout): Dropout(p=0.5, inplace=False)\n",
      "    (softmax): LogSoftmax(dim=1)\n",
      "  )\n",
      ")\n"
     ]
    }
   ],
   "source": [
    "model=Seq2Seq(kwargs,device)\n",
    "print(model)"
   ]
  },
  {
   "cell_type": "code",
   "execution_count": 32,
   "id": "intelligent-singapore",
   "metadata": {},
   "outputs": [
    {
     "name": "stderr",
     "output_type": "stream",
     "text": [
      "\r",
      "  0%|          | 0/48 [00:00<?, ?it/s]"
     ]
    },
    {
     "name": "stdout",
     "output_type": "stream",
     "text": [
      "模型开始训练\n"
     ]
    },
    {
     "name": "stderr",
     "output_type": "stream",
     "text": [
      "100%|██████████| 48/48 [00:18<00:00,  2.57it/s]\n",
      "  0%|          | 0/48 [00:00<?, ?it/s]"
     ]
    },
    {
     "name": "stdout",
     "output_type": "stream",
     "text": [
      "epoch: 0, train loss: 7.3118,time: 18.6997 \n",
      "\n"
     ]
    },
    {
     "name": "stderr",
     "output_type": "stream",
     "text": [
      "100%|██████████| 48/48 [00:19<00:00,  2.52it/s]\n",
      "  0%|          | 0/48 [00:00<?, ?it/s]"
     ]
    },
    {
     "name": "stdout",
     "output_type": "stream",
     "text": [
      "epoch: 1, train loss: 5.0610,time: 19.0744 \n",
      "\n"
     ]
    },
    {
     "name": "stderr",
     "output_type": "stream",
     "text": [
      "100%|██████████| 48/48 [00:18<00:00,  2.56it/s]\n",
      "  0%|          | 0/48 [00:00<?, ?it/s]"
     ]
    },
    {
     "name": "stdout",
     "output_type": "stream",
     "text": [
      "epoch: 2, train loss: 4.9196,time: 18.7627 \n",
      "\n"
     ]
    },
    {
     "name": "stderr",
     "output_type": "stream",
     "text": [
      "100%|██████████| 48/48 [00:18<00:00,  2.55it/s]\n",
      "  0%|          | 0/48 [00:00<?, ?it/s]"
     ]
    },
    {
     "name": "stdout",
     "output_type": "stream",
     "text": [
      "epoch: 3, train loss: 4.8113,time: 18.8128 \n",
      "\n"
     ]
    },
    {
     "name": "stderr",
     "output_type": "stream",
     "text": [
      "100%|██████████| 48/48 [00:18<00:00,  2.54it/s]\n",
      "  0%|          | 0/48 [00:00<?, ?it/s]"
     ]
    },
    {
     "name": "stdout",
     "output_type": "stream",
     "text": [
      "epoch: 4, train loss: 4.7191,time: 18.9317 \n",
      "\n"
     ]
    },
    {
     "name": "stderr",
     "output_type": "stream",
     "text": [
      "100%|██████████| 48/48 [00:18<00:00,  2.53it/s]\n",
      "  0%|          | 0/48 [00:00<?, ?it/s]"
     ]
    },
    {
     "name": "stdout",
     "output_type": "stream",
     "text": [
      "epoch: 5, train loss: 4.6234,time: 18.9779 \n",
      "\n"
     ]
    },
    {
     "name": "stderr",
     "output_type": "stream",
     "text": [
      "100%|██████████| 48/48 [00:19<00:00,  2.53it/s]\n",
      "  0%|          | 0/48 [00:00<?, ?it/s]"
     ]
    },
    {
     "name": "stdout",
     "output_type": "stream",
     "text": [
      "epoch: 6, train loss: 4.5424,time: 19.0125 \n",
      "\n"
     ]
    },
    {
     "name": "stderr",
     "output_type": "stream",
     "text": [
      "100%|██████████| 48/48 [00:18<00:00,  2.54it/s]\n",
      "  0%|          | 0/48 [00:00<?, ?it/s]"
     ]
    },
    {
     "name": "stdout",
     "output_type": "stream",
     "text": [
      "epoch: 7, train loss: 4.4685,time: 18.9097 \n",
      "\n"
     ]
    },
    {
     "name": "stderr",
     "output_type": "stream",
     "text": [
      "100%|██████████| 48/48 [00:18<00:00,  2.54it/s]\n",
      "  0%|          | 0/48 [00:00<?, ?it/s]"
     ]
    },
    {
     "name": "stdout",
     "output_type": "stream",
     "text": [
      "epoch: 8, train loss: 4.4054,time: 18.8831 \n",
      "\n"
     ]
    },
    {
     "name": "stderr",
     "output_type": "stream",
     "text": [
      "100%|██████████| 48/48 [00:18<00:00,  2.55it/s]\n",
      "  0%|          | 0/48 [00:00<?, ?it/s]"
     ]
    },
    {
     "name": "stdout",
     "output_type": "stream",
     "text": [
      "epoch: 9, train loss: 4.3456,time: 18.8317 \n",
      "\n"
     ]
    },
    {
     "name": "stderr",
     "output_type": "stream",
     "text": [
      "100%|██████████| 48/48 [00:18<00:00,  2.54it/s]\n",
      "  0%|          | 0/48 [00:00<?, ?it/s]"
     ]
    },
    {
     "name": "stdout",
     "output_type": "stream",
     "text": [
      "epoch: 10, train loss: 4.2925,time: 18.8866 \n",
      "\n"
     ]
    },
    {
     "name": "stderr",
     "output_type": "stream",
     "text": [
      "100%|██████████| 48/48 [00:18<00:00,  2.54it/s]\n",
      "  0%|          | 0/48 [00:00<?, ?it/s]"
     ]
    },
    {
     "name": "stdout",
     "output_type": "stream",
     "text": [
      "epoch: 11, train loss: 4.2428,time: 18.8989 \n",
      "\n"
     ]
    },
    {
     "name": "stderr",
     "output_type": "stream",
     "text": [
      "100%|██████████| 48/48 [00:18<00:00,  2.54it/s]\n",
      "  0%|          | 0/48 [00:00<?, ?it/s]"
     ]
    },
    {
     "name": "stdout",
     "output_type": "stream",
     "text": [
      "epoch: 12, train loss: 4.1925,time: 18.9324 \n",
      "\n"
     ]
    },
    {
     "name": "stderr",
     "output_type": "stream",
     "text": [
      "100%|██████████| 48/48 [00:19<00:00,  2.53it/s]\n",
      "  0%|          | 0/48 [00:00<?, ?it/s]"
     ]
    },
    {
     "name": "stdout",
     "output_type": "stream",
     "text": [
      "epoch: 13, train loss: 4.1453,time: 19.0127 \n",
      "\n"
     ]
    },
    {
     "name": "stderr",
     "output_type": "stream",
     "text": [
      "100%|██████████| 48/48 [00:19<00:00,  2.52it/s]\n",
      "  0%|          | 0/48 [00:00<?, ?it/s]"
     ]
    },
    {
     "name": "stdout",
     "output_type": "stream",
     "text": [
      "epoch: 14, train loss: 4.0930,time: 19.0936 \n",
      "\n"
     ]
    },
    {
     "name": "stderr",
     "output_type": "stream",
     "text": [
      "100%|██████████| 48/48 [00:18<00:00,  2.56it/s]\n",
      "  0%|          | 0/48 [00:00<?, ?it/s]"
     ]
    },
    {
     "name": "stdout",
     "output_type": "stream",
     "text": [
      "epoch: 15, train loss: 4.0445,time: 18.7866 \n",
      "\n"
     ]
    },
    {
     "name": "stderr",
     "output_type": "stream",
     "text": [
      "100%|██████████| 48/48 [00:19<00:00,  2.51it/s]\n",
      "  0%|          | 0/48 [00:00<?, ?it/s]"
     ]
    },
    {
     "name": "stdout",
     "output_type": "stream",
     "text": [
      "epoch: 16, train loss: 3.9979,time: 19.1355 \n",
      "\n"
     ]
    },
    {
     "name": "stderr",
     "output_type": "stream",
     "text": [
      "100%|██████████| 48/48 [00:18<00:00,  2.54it/s]\n",
      "  0%|          | 0/48 [00:00<?, ?it/s]"
     ]
    },
    {
     "name": "stdout",
     "output_type": "stream",
     "text": [
      "epoch: 17, train loss: 3.9554,time: 18.9200 \n",
      "\n"
     ]
    },
    {
     "name": "stderr",
     "output_type": "stream",
     "text": [
      "100%|██████████| 48/48 [00:18<00:00,  2.57it/s]\n",
      "  0%|          | 0/48 [00:00<?, ?it/s]"
     ]
    },
    {
     "name": "stdout",
     "output_type": "stream",
     "text": [
      "epoch: 18, train loss: 3.9030,time: 18.7045 \n",
      "\n"
     ]
    },
    {
     "name": "stderr",
     "output_type": "stream",
     "text": [
      "100%|██████████| 48/48 [00:18<00:00,  2.56it/s]\n",
      "  0%|          | 0/48 [00:00<?, ?it/s]"
     ]
    },
    {
     "name": "stdout",
     "output_type": "stream",
     "text": [
      "epoch: 19, train loss: 3.8516,time: 18.7881 \n",
      "\n"
     ]
    },
    {
     "name": "stderr",
     "output_type": "stream",
     "text": [
      "100%|██████████| 48/48 [00:18<00:00,  2.54it/s]\n",
      "  0%|          | 0/48 [00:00<?, ?it/s]"
     ]
    },
    {
     "name": "stdout",
     "output_type": "stream",
     "text": [
      "epoch: 20, train loss: 3.8018,time: 18.8810 \n",
      "\n"
     ]
    },
    {
     "name": "stderr",
     "output_type": "stream",
     "text": [
      "100%|██████████| 48/48 [00:19<00:00,  2.52it/s]\n",
      "  0%|          | 0/48 [00:00<?, ?it/s]"
     ]
    },
    {
     "name": "stdout",
     "output_type": "stream",
     "text": [
      "epoch: 21, train loss: 3.7512,time: 19.0899 \n",
      "\n"
     ]
    },
    {
     "name": "stderr",
     "output_type": "stream",
     "text": [
      "100%|██████████| 48/48 [00:18<00:00,  2.55it/s]\n",
      "  0%|          | 0/48 [00:00<?, ?it/s]"
     ]
    },
    {
     "name": "stdout",
     "output_type": "stream",
     "text": [
      "epoch: 22, train loss: 3.7023,time: 18.8388 \n",
      "\n"
     ]
    },
    {
     "name": "stderr",
     "output_type": "stream",
     "text": [
      "100%|██████████| 48/48 [00:18<00:00,  2.55it/s]\n",
      "  0%|          | 0/48 [00:00<?, ?it/s]"
     ]
    },
    {
     "name": "stdout",
     "output_type": "stream",
     "text": [
      "epoch: 23, train loss: 3.6509,time: 18.8630 \n",
      "\n"
     ]
    },
    {
     "name": "stderr",
     "output_type": "stream",
     "text": [
      "100%|██████████| 48/48 [00:18<00:00,  2.55it/s]\n",
      "  0%|          | 0/48 [00:00<?, ?it/s]"
     ]
    },
    {
     "name": "stdout",
     "output_type": "stream",
     "text": [
      "epoch: 24, train loss: 3.6006,time: 18.8611 \n",
      "\n"
     ]
    },
    {
     "name": "stderr",
     "output_type": "stream",
     "text": [
      "100%|██████████| 48/48 [00:18<00:00,  2.55it/s]\n",
      "  0%|          | 0/48 [00:00<?, ?it/s]"
     ]
    },
    {
     "name": "stdout",
     "output_type": "stream",
     "text": [
      "epoch: 25, train loss: 3.5489,time: 18.8592 \n",
      "\n"
     ]
    },
    {
     "name": "stderr",
     "output_type": "stream",
     "text": [
      "100%|██████████| 48/48 [00:18<00:00,  2.55it/s]\n",
      "  0%|          | 0/48 [00:00<?, ?it/s]"
     ]
    },
    {
     "name": "stdout",
     "output_type": "stream",
     "text": [
      "epoch: 26, train loss: 3.5045,time: 18.7968 \n",
      "\n"
     ]
    },
    {
     "name": "stderr",
     "output_type": "stream",
     "text": [
      "100%|██████████| 48/48 [00:18<00:00,  2.53it/s]\n",
      "  0%|          | 0/48 [00:00<?, ?it/s]"
     ]
    },
    {
     "name": "stdout",
     "output_type": "stream",
     "text": [
      "epoch: 27, train loss: 3.4783,time: 18.9801 \n",
      "\n"
     ]
    },
    {
     "name": "stderr",
     "output_type": "stream",
     "text": [
      "100%|██████████| 48/48 [00:18<00:00,  2.56it/s]\n",
      "  0%|          | 0/48 [00:00<?, ?it/s]"
     ]
    },
    {
     "name": "stdout",
     "output_type": "stream",
     "text": [
      "epoch: 28, train loss: 3.4313,time: 18.7476 \n",
      "\n"
     ]
    },
    {
     "name": "stderr",
     "output_type": "stream",
     "text": [
      "100%|██████████| 48/48 [00:18<00:00,  2.56it/s]\n",
      "  0%|          | 0/48 [00:00<?, ?it/s]"
     ]
    },
    {
     "name": "stdout",
     "output_type": "stream",
     "text": [
      "epoch: 29, train loss: 3.3703,time: 18.7755 \n",
      "\n"
     ]
    },
    {
     "name": "stderr",
     "output_type": "stream",
     "text": [
      "100%|██████████| 48/48 [00:19<00:00,  2.52it/s]\n",
      "  0%|          | 0/48 [00:00<?, ?it/s]"
     ]
    },
    {
     "name": "stdout",
     "output_type": "stream",
     "text": [
      "epoch: 30, train loss: 3.3149,time: 19.0522 \n",
      "\n"
     ]
    },
    {
     "name": "stderr",
     "output_type": "stream",
     "text": [
      "100%|██████████| 48/48 [00:18<00:00,  2.56it/s]\n",
      "  0%|          | 0/48 [00:00<?, ?it/s]"
     ]
    },
    {
     "name": "stdout",
     "output_type": "stream",
     "text": [
      "epoch: 31, train loss: 3.2638,time: 18.7668 \n",
      "\n"
     ]
    },
    {
     "name": "stderr",
     "output_type": "stream",
     "text": [
      "100%|██████████| 48/48 [00:18<00:00,  2.55it/s]\n",
      "  0%|          | 0/48 [00:00<?, ?it/s]"
     ]
    },
    {
     "name": "stdout",
     "output_type": "stream",
     "text": [
      "epoch: 32, train loss: 3.2199,time: 18.8334 \n",
      "\n"
     ]
    },
    {
     "name": "stderr",
     "output_type": "stream",
     "text": [
      "100%|██████████| 48/48 [00:18<00:00,  2.53it/s]\n",
      "  0%|          | 0/48 [00:00<?, ?it/s]"
     ]
    },
    {
     "name": "stdout",
     "output_type": "stream",
     "text": [
      "epoch: 33, train loss: 3.1853,time: 18.9684 \n",
      "\n"
     ]
    },
    {
     "name": "stderr",
     "output_type": "stream",
     "text": [
      "100%|██████████| 48/48 [00:18<00:00,  2.53it/s]\n",
      "  0%|          | 0/48 [00:00<?, ?it/s]"
     ]
    },
    {
     "name": "stdout",
     "output_type": "stream",
     "text": [
      "epoch: 34, train loss: 3.1547,time: 18.9667 \n",
      "\n"
     ]
    },
    {
     "name": "stderr",
     "output_type": "stream",
     "text": [
      "100%|██████████| 48/48 [00:19<00:00,  2.52it/s]\n",
      "  0%|          | 0/48 [00:00<?, ?it/s]"
     ]
    },
    {
     "name": "stdout",
     "output_type": "stream",
     "text": [
      "epoch: 35, train loss: 3.1413,time: 19.0825 \n",
      "\n"
     ]
    },
    {
     "name": "stderr",
     "output_type": "stream",
     "text": [
      "100%|██████████| 48/48 [00:18<00:00,  2.53it/s]\n",
      "  0%|          | 0/48 [00:00<?, ?it/s]"
     ]
    },
    {
     "name": "stdout",
     "output_type": "stream",
     "text": [
      "epoch: 36, train loss: 3.0884,time: 19.0078 \n",
      "\n"
     ]
    },
    {
     "name": "stderr",
     "output_type": "stream",
     "text": [
      "100%|██████████| 48/48 [00:18<00:00,  2.53it/s]\n",
      "  0%|          | 0/48 [00:00<?, ?it/s]"
     ]
    },
    {
     "name": "stdout",
     "output_type": "stream",
     "text": [
      "epoch: 37, train loss: 3.0325,time: 18.9689 \n",
      "\n"
     ]
    },
    {
     "name": "stderr",
     "output_type": "stream",
     "text": [
      "100%|██████████| 48/48 [00:18<00:00,  2.55it/s]\n",
      "  0%|          | 0/48 [00:00<?, ?it/s]"
     ]
    },
    {
     "name": "stdout",
     "output_type": "stream",
     "text": [
      "epoch: 38, train loss: 2.9799,time: 18.8402 \n",
      "\n"
     ]
    },
    {
     "name": "stderr",
     "output_type": "stream",
     "text": [
      "100%|██████████| 48/48 [00:18<00:00,  2.54it/s]\n",
      "  0%|          | 0/48 [00:00<?, ?it/s]"
     ]
    },
    {
     "name": "stdout",
     "output_type": "stream",
     "text": [
      "epoch: 39, train loss: 2.9322,time: 18.9219 \n",
      "\n"
     ]
    },
    {
     "name": "stderr",
     "output_type": "stream",
     "text": [
      "100%|██████████| 48/48 [00:18<00:00,  2.55it/s]\n",
      "  0%|          | 0/48 [00:00<?, ?it/s]"
     ]
    },
    {
     "name": "stdout",
     "output_type": "stream",
     "text": [
      "epoch: 40, train loss: 2.9146,time: 18.8226 \n",
      "\n"
     ]
    },
    {
     "name": "stderr",
     "output_type": "stream",
     "text": [
      "100%|██████████| 48/48 [00:18<00:00,  2.55it/s]\n",
      "  0%|          | 0/48 [00:00<?, ?it/s]"
     ]
    },
    {
     "name": "stdout",
     "output_type": "stream",
     "text": [
      "epoch: 41, train loss: 2.8883,time: 18.8405 \n",
      "\n"
     ]
    },
    {
     "name": "stderr",
     "output_type": "stream",
     "text": [
      "100%|██████████| 48/48 [00:18<00:00,  2.56it/s]\n",
      "  0%|          | 0/48 [00:00<?, ?it/s]"
     ]
    },
    {
     "name": "stdout",
     "output_type": "stream",
     "text": [
      "epoch: 42, train loss: 2.8373,time: 18.7491 \n",
      "\n"
     ]
    },
    {
     "name": "stderr",
     "output_type": "stream",
     "text": [
      "100%|██████████| 48/48 [00:18<00:00,  2.55it/s]\n",
      "  0%|          | 0/48 [00:00<?, ?it/s]"
     ]
    },
    {
     "name": "stdout",
     "output_type": "stream",
     "text": [
      "epoch: 43, train loss: 2.8015,time: 18.8614 \n",
      "\n"
     ]
    },
    {
     "name": "stderr",
     "output_type": "stream",
     "text": [
      "100%|██████████| 48/48 [00:18<00:00,  2.54it/s]\n",
      "  0%|          | 0/48 [00:00<?, ?it/s]"
     ]
    },
    {
     "name": "stdout",
     "output_type": "stream",
     "text": [
      "epoch: 44, train loss: 2.7757,time: 18.8837 \n",
      "\n"
     ]
    },
    {
     "name": "stderr",
     "output_type": "stream",
     "text": [
      "100%|██████████| 48/48 [00:18<00:00,  2.56it/s]\n",
      "  0%|          | 0/48 [00:00<?, ?it/s]"
     ]
    },
    {
     "name": "stdout",
     "output_type": "stream",
     "text": [
      "epoch: 45, train loss: 2.7500,time: 18.7742 \n",
      "\n"
     ]
    },
    {
     "name": "stderr",
     "output_type": "stream",
     "text": [
      "100%|██████████| 48/48 [00:19<00:00,  2.52it/s]\n",
      "  0%|          | 0/48 [00:00<?, ?it/s]"
     ]
    },
    {
     "name": "stdout",
     "output_type": "stream",
     "text": [
      "epoch: 46, train loss: 2.7116,time: 19.0605 \n",
      "\n"
     ]
    },
    {
     "name": "stderr",
     "output_type": "stream",
     "text": [
      "100%|██████████| 48/48 [00:18<00:00,  2.54it/s]\n",
      "  0%|          | 0/48 [00:00<?, ?it/s]"
     ]
    },
    {
     "name": "stdout",
     "output_type": "stream",
     "text": [
      "epoch: 47, train loss: 2.6939,time: 18.8889 \n",
      "\n"
     ]
    },
    {
     "name": "stderr",
     "output_type": "stream",
     "text": [
      "100%|██████████| 48/48 [00:18<00:00,  2.54it/s]\n",
      "  0%|          | 0/48 [00:00<?, ?it/s]"
     ]
    },
    {
     "name": "stdout",
     "output_type": "stream",
     "text": [
      "epoch: 48, train loss: 2.6684,time: 18.8897 \n",
      "\n"
     ]
    },
    {
     "name": "stderr",
     "output_type": "stream",
     "text": [
      "100%|██████████| 48/48 [00:19<00:00,  2.50it/s]\n",
      "  0%|          | 0/48 [00:00<?, ?it/s]"
     ]
    },
    {
     "name": "stdout",
     "output_type": "stream",
     "text": [
      "epoch: 49, train loss: 2.6345,time: 19.2471 \n",
      "\n"
     ]
    },
    {
     "name": "stderr",
     "output_type": "stream",
     "text": [
      "100%|██████████| 48/48 [00:19<00:00,  2.51it/s]\n",
      "  0%|          | 0/48 [00:00<?, ?it/s]"
     ]
    },
    {
     "name": "stdout",
     "output_type": "stream",
     "text": [
      "epoch: 50, train loss: 2.5939,time: 19.1474 \n",
      "\n"
     ]
    },
    {
     "name": "stderr",
     "output_type": "stream",
     "text": [
      "100%|██████████| 48/48 [00:19<00:00,  2.52it/s]\n",
      "  0%|          | 0/48 [00:00<?, ?it/s]"
     ]
    },
    {
     "name": "stdout",
     "output_type": "stream",
     "text": [
      "epoch: 51, train loss: 2.5621,time: 19.0187 \n",
      "\n"
     ]
    },
    {
     "name": "stderr",
     "output_type": "stream",
     "text": [
      "100%|██████████| 48/48 [00:18<00:00,  2.53it/s]\n",
      "  0%|          | 0/48 [00:00<?, ?it/s]"
     ]
    },
    {
     "name": "stdout",
     "output_type": "stream",
     "text": [
      "epoch: 52, train loss: 2.5528,time: 19.0042 \n",
      "\n"
     ]
    },
    {
     "name": "stderr",
     "output_type": "stream",
     "text": [
      "100%|██████████| 48/48 [00:19<00:00,  2.52it/s]\n",
      "  0%|          | 0/48 [00:00<?, ?it/s]"
     ]
    },
    {
     "name": "stdout",
     "output_type": "stream",
     "text": [
      "epoch: 53, train loss: 2.5094,time: 19.0586 \n",
      "\n"
     ]
    },
    {
     "name": "stderr",
     "output_type": "stream",
     "text": [
      "100%|██████████| 48/48 [00:18<00:00,  2.55it/s]\n",
      "  0%|          | 0/48 [00:00<?, ?it/s]"
     ]
    },
    {
     "name": "stdout",
     "output_type": "stream",
     "text": [
      "epoch: 54, train loss: 2.4816,time: 18.8579 \n",
      "\n"
     ]
    },
    {
     "name": "stderr",
     "output_type": "stream",
     "text": [
      "100%|██████████| 48/48 [00:18<00:00,  2.55it/s]\n",
      "  0%|          | 0/48 [00:00<?, ?it/s]"
     ]
    },
    {
     "name": "stdout",
     "output_type": "stream",
     "text": [
      "epoch: 55, train loss: 2.4521,time: 18.7969 \n",
      "\n"
     ]
    },
    {
     "name": "stderr",
     "output_type": "stream",
     "text": [
      "100%|██████████| 48/48 [00:18<00:00,  2.53it/s]\n",
      "  0%|          | 0/48 [00:00<?, ?it/s]"
     ]
    },
    {
     "name": "stdout",
     "output_type": "stream",
     "text": [
      "epoch: 56, train loss: 2.4022,time: 18.9944 \n",
      "\n"
     ]
    },
    {
     "name": "stderr",
     "output_type": "stream",
     "text": [
      "100%|██████████| 48/48 [00:18<00:00,  2.53it/s]\n",
      "  0%|          | 0/48 [00:00<?, ?it/s]"
     ]
    },
    {
     "name": "stdout",
     "output_type": "stream",
     "text": [
      "epoch: 57, train loss: 2.3726,time: 18.9523 \n",
      "\n"
     ]
    },
    {
     "name": "stderr",
     "output_type": "stream",
     "text": [
      "100%|██████████| 48/48 [00:18<00:00,  2.54it/s]\n",
      "  0%|          | 0/48 [00:00<?, ?it/s]"
     ]
    },
    {
     "name": "stdout",
     "output_type": "stream",
     "text": [
      "epoch: 58, train loss: 2.3413,time: 18.8762 \n",
      "\n"
     ]
    },
    {
     "name": "stderr",
     "output_type": "stream",
     "text": [
      "100%|██████████| 48/48 [00:18<00:00,  2.53it/s]\n",
      "  0%|          | 0/48 [00:00<?, ?it/s]"
     ]
    },
    {
     "name": "stdout",
     "output_type": "stream",
     "text": [
      "epoch: 59, train loss: 2.3290,time: 18.9598 \n",
      "\n"
     ]
    },
    {
     "name": "stderr",
     "output_type": "stream",
     "text": [
      "100%|██████████| 48/48 [00:18<00:00,  2.56it/s]\n",
      "  0%|          | 0/48 [00:00<?, ?it/s]"
     ]
    },
    {
     "name": "stdout",
     "output_type": "stream",
     "text": [
      "epoch: 60, train loss: 2.3368,time: 18.7875 \n",
      "\n"
     ]
    },
    {
     "name": "stderr",
     "output_type": "stream",
     "text": [
      "100%|██████████| 48/48 [00:19<00:00,  2.52it/s]\n",
      "  0%|          | 0/48 [00:00<?, ?it/s]"
     ]
    },
    {
     "name": "stdout",
     "output_type": "stream",
     "text": [
      "epoch: 61, train loss: 2.2827,time: 19.0865 \n",
      "\n"
     ]
    },
    {
     "name": "stderr",
     "output_type": "stream",
     "text": [
      "100%|██████████| 48/48 [00:18<00:00,  2.55it/s]\n",
      "  0%|          | 0/48 [00:00<?, ?it/s]"
     ]
    },
    {
     "name": "stdout",
     "output_type": "stream",
     "text": [
      "epoch: 62, train loss: 2.2554,time: 18.8363 \n",
      "\n"
     ]
    },
    {
     "name": "stderr",
     "output_type": "stream",
     "text": [
      "100%|██████████| 48/48 [00:18<00:00,  2.55it/s]\n",
      "  0%|          | 0/48 [00:00<?, ?it/s]"
     ]
    },
    {
     "name": "stdout",
     "output_type": "stream",
     "text": [
      "epoch: 63, train loss: 2.2398,time: 18.8532 \n",
      "\n"
     ]
    },
    {
     "name": "stderr",
     "output_type": "stream",
     "text": [
      "100%|██████████| 48/48 [00:19<00:00,  2.50it/s]\n",
      "  0%|          | 0/48 [00:00<?, ?it/s]"
     ]
    },
    {
     "name": "stdout",
     "output_type": "stream",
     "text": [
      "epoch: 64, train loss: 2.2166,time: 19.1757 \n",
      "\n"
     ]
    },
    {
     "name": "stderr",
     "output_type": "stream",
     "text": [
      "100%|██████████| 48/48 [00:18<00:00,  2.54it/s]\n",
      "  0%|          | 0/48 [00:00<?, ?it/s]"
     ]
    },
    {
     "name": "stdout",
     "output_type": "stream",
     "text": [
      "epoch: 65, train loss: 2.1944,time: 18.8911 \n",
      "\n"
     ]
    },
    {
     "name": "stderr",
     "output_type": "stream",
     "text": [
      "100%|██████████| 48/48 [00:18<00:00,  2.56it/s]\n",
      "  0%|          | 0/48 [00:00<?, ?it/s]"
     ]
    },
    {
     "name": "stdout",
     "output_type": "stream",
     "text": [
      "epoch: 66, train loss: 2.2234,time: 18.7464 \n",
      "\n"
     ]
    },
    {
     "name": "stderr",
     "output_type": "stream",
     "text": [
      "100%|██████████| 48/48 [00:18<00:00,  2.54it/s]\n",
      "  0%|          | 0/48 [00:00<?, ?it/s]"
     ]
    },
    {
     "name": "stdout",
     "output_type": "stream",
     "text": [
      "epoch: 67, train loss: 2.1668,time: 18.9418 \n",
      "\n"
     ]
    },
    {
     "name": "stderr",
     "output_type": "stream",
     "text": [
      "100%|██████████| 48/48 [00:18<00:00,  2.54it/s]\n",
      "  0%|          | 0/48 [00:00<?, ?it/s]"
     ]
    },
    {
     "name": "stdout",
     "output_type": "stream",
     "text": [
      "epoch: 68, train loss: 2.1264,time: 18.8923 \n",
      "\n"
     ]
    },
    {
     "name": "stderr",
     "output_type": "stream",
     "text": [
      "100%|██████████| 48/48 [00:19<00:00,  2.51it/s]\n",
      "  0%|          | 0/48 [00:00<?, ?it/s]"
     ]
    },
    {
     "name": "stdout",
     "output_type": "stream",
     "text": [
      "epoch: 69, train loss: 2.0922,time: 19.1134 \n",
      "\n"
     ]
    },
    {
     "name": "stderr",
     "output_type": "stream",
     "text": [
      "100%|██████████| 48/48 [00:18<00:00,  2.54it/s]\n",
      "  0%|          | 0/48 [00:00<?, ?it/s]"
     ]
    },
    {
     "name": "stdout",
     "output_type": "stream",
     "text": [
      "epoch: 70, train loss: 2.0884,time: 18.9302 \n",
      "\n"
     ]
    },
    {
     "name": "stderr",
     "output_type": "stream",
     "text": [
      "100%|██████████| 48/48 [00:19<00:00,  2.52it/s]\n",
      "  0%|          | 0/48 [00:00<?, ?it/s]"
     ]
    },
    {
     "name": "stdout",
     "output_type": "stream",
     "text": [
      "epoch: 71, train loss: 2.0662,time: 19.0328 \n",
      "\n"
     ]
    },
    {
     "name": "stderr",
     "output_type": "stream",
     "text": [
      "100%|██████████| 48/48 [00:19<00:00,  2.50it/s]\n",
      "  0%|          | 0/48 [00:00<?, ?it/s]"
     ]
    },
    {
     "name": "stdout",
     "output_type": "stream",
     "text": [
      "epoch: 72, train loss: 2.0260,time: 19.1761 \n",
      "\n"
     ]
    },
    {
     "name": "stderr",
     "output_type": "stream",
     "text": [
      "100%|██████████| 48/48 [00:18<00:00,  2.53it/s]\n",
      "  0%|          | 0/48 [00:00<?, ?it/s]"
     ]
    },
    {
     "name": "stdout",
     "output_type": "stream",
     "text": [
      "epoch: 73, train loss: 2.0204,time: 18.9902 \n",
      "\n"
     ]
    },
    {
     "name": "stderr",
     "output_type": "stream",
     "text": [
      "100%|██████████| 48/48 [00:18<00:00,  2.54it/s]\n",
      "  0%|          | 0/48 [00:00<?, ?it/s]"
     ]
    },
    {
     "name": "stdout",
     "output_type": "stream",
     "text": [
      "epoch: 74, train loss: 2.0303,time: 18.9163 \n",
      "\n"
     ]
    },
    {
     "name": "stderr",
     "output_type": "stream",
     "text": [
      "100%|██████████| 48/48 [00:18<00:00,  2.53it/s]\n",
      "  0%|          | 0/48 [00:00<?, ?it/s]"
     ]
    },
    {
     "name": "stdout",
     "output_type": "stream",
     "text": [
      "epoch: 75, train loss: 2.0046,time: 18.9994 \n",
      "\n"
     ]
    },
    {
     "name": "stderr",
     "output_type": "stream",
     "text": [
      "100%|██████████| 48/48 [00:18<00:00,  2.54it/s]\n",
      "  0%|          | 0/48 [00:00<?, ?it/s]"
     ]
    },
    {
     "name": "stdout",
     "output_type": "stream",
     "text": [
      "epoch: 76, train loss: 1.9703,time: 18.9080 \n",
      "\n"
     ]
    },
    {
     "name": "stderr",
     "output_type": "stream",
     "text": [
      "100%|██████████| 48/48 [00:19<00:00,  2.52it/s]\n",
      "  0%|          | 0/48 [00:00<?, ?it/s]"
     ]
    },
    {
     "name": "stdout",
     "output_type": "stream",
     "text": [
      "epoch: 77, train loss: 1.9571,time: 19.0491 \n",
      "\n"
     ]
    },
    {
     "name": "stderr",
     "output_type": "stream",
     "text": [
      "100%|██████████| 48/48 [00:19<00:00,  2.52it/s]\n",
      "  0%|          | 0/48 [00:00<?, ?it/s]"
     ]
    },
    {
     "name": "stdout",
     "output_type": "stream",
     "text": [
      "epoch: 78, train loss: 1.9309,time: 19.0339 \n",
      "\n"
     ]
    },
    {
     "name": "stderr",
     "output_type": "stream",
     "text": [
      "100%|██████████| 48/48 [00:18<00:00,  2.53it/s]\n",
      "  0%|          | 0/48 [00:00<?, ?it/s]"
     ]
    },
    {
     "name": "stdout",
     "output_type": "stream",
     "text": [
      "epoch: 79, train loss: 1.9203,time: 18.9793 \n",
      "\n"
     ]
    },
    {
     "name": "stderr",
     "output_type": "stream",
     "text": [
      "100%|██████████| 48/48 [00:19<00:00,  2.52it/s]\n",
      "  0%|          | 0/48 [00:00<?, ?it/s]"
     ]
    },
    {
     "name": "stdout",
     "output_type": "stream",
     "text": [
      "epoch: 80, train loss: 1.9244,time: 19.0191 \n",
      "\n"
     ]
    },
    {
     "name": "stderr",
     "output_type": "stream",
     "text": [
      "100%|██████████| 48/48 [00:19<00:00,  2.50it/s]\n",
      "  0%|          | 0/48 [00:00<?, ?it/s]"
     ]
    },
    {
     "name": "stdout",
     "output_type": "stream",
     "text": [
      "epoch: 81, train loss: 1.9485,time: 19.1818 \n",
      "\n"
     ]
    },
    {
     "name": "stderr",
     "output_type": "stream",
     "text": [
      "100%|██████████| 48/48 [00:18<00:00,  2.54it/s]\n",
      "  0%|          | 0/48 [00:00<?, ?it/s]"
     ]
    },
    {
     "name": "stdout",
     "output_type": "stream",
     "text": [
      "epoch: 82, train loss: 1.8897,time: 18.8731 \n",
      "\n"
     ]
    },
    {
     "name": "stderr",
     "output_type": "stream",
     "text": [
      "100%|██████████| 48/48 [00:19<00:00,  2.52it/s]\n",
      "  0%|          | 0/48 [00:00<?, ?it/s]"
     ]
    },
    {
     "name": "stdout",
     "output_type": "stream",
     "text": [
      "epoch: 83, train loss: 1.8520,time: 19.0755 \n",
      "\n"
     ]
    },
    {
     "name": "stderr",
     "output_type": "stream",
     "text": [
      "100%|██████████| 48/48 [00:19<00:00,  2.51it/s]\n",
      "  0%|          | 0/48 [00:00<?, ?it/s]"
     ]
    },
    {
     "name": "stdout",
     "output_type": "stream",
     "text": [
      "epoch: 84, train loss: 1.8012,time: 19.1185 \n",
      "\n"
     ]
    },
    {
     "name": "stderr",
     "output_type": "stream",
     "text": [
      "100%|██████████| 48/48 [00:18<00:00,  2.53it/s]\n",
      "  0%|          | 0/48 [00:00<?, ?it/s]"
     ]
    },
    {
     "name": "stdout",
     "output_type": "stream",
     "text": [
      "epoch: 85, train loss: 1.7803,time: 18.9606 \n",
      "\n"
     ]
    },
    {
     "name": "stderr",
     "output_type": "stream",
     "text": [
      "100%|██████████| 48/48 [00:18<00:00,  2.54it/s]\n",
      "  0%|          | 0/48 [00:00<?, ?it/s]"
     ]
    },
    {
     "name": "stdout",
     "output_type": "stream",
     "text": [
      "epoch: 86, train loss: 1.8098,time: 18.9256 \n",
      "\n"
     ]
    },
    {
     "name": "stderr",
     "output_type": "stream",
     "text": [
      "100%|██████████| 48/48 [00:18<00:00,  2.55it/s]\n",
      "  0%|          | 0/48 [00:00<?, ?it/s]"
     ]
    },
    {
     "name": "stdout",
     "output_type": "stream",
     "text": [
      "epoch: 87, train loss: 1.8351,time: 18.8496 \n",
      "\n"
     ]
    },
    {
     "name": "stderr",
     "output_type": "stream",
     "text": [
      "100%|██████████| 48/48 [00:18<00:00,  2.55it/s]\n",
      "  0%|          | 0/48 [00:00<?, ?it/s]"
     ]
    },
    {
     "name": "stdout",
     "output_type": "stream",
     "text": [
      "epoch: 88, train loss: 1.7672,time: 18.8572 \n",
      "\n"
     ]
    },
    {
     "name": "stderr",
     "output_type": "stream",
     "text": [
      "100%|██████████| 48/48 [00:19<00:00,  2.52it/s]\n",
      "  0%|          | 0/48 [00:00<?, ?it/s]"
     ]
    },
    {
     "name": "stdout",
     "output_type": "stream",
     "text": [
      "epoch: 89, train loss: 1.7110,time: 19.0596 \n",
      "\n"
     ]
    },
    {
     "name": "stderr",
     "output_type": "stream",
     "text": [
      "100%|██████████| 48/48 [00:19<00:00,  2.51it/s]\n",
      "  0%|          | 0/48 [00:00<?, ?it/s]"
     ]
    },
    {
     "name": "stdout",
     "output_type": "stream",
     "text": [
      "epoch: 90, train loss: 1.6975,time: 19.0983 \n",
      "\n"
     ]
    },
    {
     "name": "stderr",
     "output_type": "stream",
     "text": [
      "100%|██████████| 48/48 [00:19<00:00,  2.51it/s]\n",
      "  0%|          | 0/48 [00:00<?, ?it/s]"
     ]
    },
    {
     "name": "stdout",
     "output_type": "stream",
     "text": [
      "epoch: 91, train loss: 1.7118,time: 19.1457 \n",
      "\n"
     ]
    },
    {
     "name": "stderr",
     "output_type": "stream",
     "text": [
      "100%|██████████| 48/48 [00:18<00:00,  2.54it/s]\n",
      "  0%|          | 0/48 [00:00<?, ?it/s]"
     ]
    },
    {
     "name": "stdout",
     "output_type": "stream",
     "text": [
      "epoch: 92, train loss: 1.6592,time: 18.9362 \n",
      "\n"
     ]
    },
    {
     "name": "stderr",
     "output_type": "stream",
     "text": [
      "100%|██████████| 48/48 [00:18<00:00,  2.54it/s]\n",
      "  0%|          | 0/48 [00:00<?, ?it/s]"
     ]
    },
    {
     "name": "stdout",
     "output_type": "stream",
     "text": [
      "epoch: 93, train loss: 1.6550,time: 18.9375 \n",
      "\n"
     ]
    },
    {
     "name": "stderr",
     "output_type": "stream",
     "text": [
      "100%|██████████| 48/48 [00:18<00:00,  2.54it/s]\n",
      "  0%|          | 0/48 [00:00<?, ?it/s]"
     ]
    },
    {
     "name": "stdout",
     "output_type": "stream",
     "text": [
      "epoch: 94, train loss: 1.6324,time: 18.9200 \n",
      "\n"
     ]
    },
    {
     "name": "stderr",
     "output_type": "stream",
     "text": [
      "100%|██████████| 48/48 [00:18<00:00,  2.53it/s]\n",
      "  0%|          | 0/48 [00:00<?, ?it/s]"
     ]
    },
    {
     "name": "stdout",
     "output_type": "stream",
     "text": [
      "epoch: 95, train loss: 1.6781,time: 18.9901 \n",
      "\n"
     ]
    },
    {
     "name": "stderr",
     "output_type": "stream",
     "text": [
      "100%|██████████| 48/48 [00:18<00:00,  2.56it/s]\n",
      "  0%|          | 0/48 [00:00<?, ?it/s]"
     ]
    },
    {
     "name": "stdout",
     "output_type": "stream",
     "text": [
      "epoch: 96, train loss: 1.6486,time: 18.7830 \n",
      "\n"
     ]
    },
    {
     "name": "stderr",
     "output_type": "stream",
     "text": [
      "100%|██████████| 48/48 [00:18<00:00,  2.55it/s]\n",
      "  0%|          | 0/48 [00:00<?, ?it/s]"
     ]
    },
    {
     "name": "stdout",
     "output_type": "stream",
     "text": [
      "epoch: 97, train loss: 1.5807,time: 18.8461 \n",
      "\n"
     ]
    },
    {
     "name": "stderr",
     "output_type": "stream",
     "text": [
      "100%|██████████| 48/48 [00:19<00:00,  2.50it/s]\n",
      "  0%|          | 0/48 [00:00<?, ?it/s]"
     ]
    },
    {
     "name": "stdout",
     "output_type": "stream",
     "text": [
      "epoch: 98, train loss: 1.5665,time: 19.1838 \n",
      "\n"
     ]
    },
    {
     "name": "stderr",
     "output_type": "stream",
     "text": [
      "100%|██████████| 48/48 [00:18<00:00,  2.54it/s]\n",
      "  0%|          | 0/48 [00:00<?, ?it/s]"
     ]
    },
    {
     "name": "stdout",
     "output_type": "stream",
     "text": [
      "epoch: 99, train loss: 1.5489,time: 18.9347 \n",
      "\n"
     ]
    },
    {
     "name": "stderr",
     "output_type": "stream",
     "text": [
      "100%|██████████| 48/48 [00:19<00:00,  2.52it/s]\n",
      "  0%|          | 0/48 [00:00<?, ?it/s]"
     ]
    },
    {
     "name": "stdout",
     "output_type": "stream",
     "text": [
      "epoch: 100, train loss: 1.5771,time: 19.0366 \n",
      "\n"
     ]
    },
    {
     "name": "stderr",
     "output_type": "stream",
     "text": [
      "100%|██████████| 48/48 [00:19<00:00,  2.52it/s]\n",
      "  0%|          | 0/48 [00:00<?, ?it/s]"
     ]
    },
    {
     "name": "stdout",
     "output_type": "stream",
     "text": [
      "epoch: 101, train loss: 1.5500,time: 19.0780 \n",
      "\n"
     ]
    },
    {
     "name": "stderr",
     "output_type": "stream",
     "text": [
      "100%|██████████| 48/48 [00:18<00:00,  2.53it/s]\n",
      "  0%|          | 0/48 [00:00<?, ?it/s]"
     ]
    },
    {
     "name": "stdout",
     "output_type": "stream",
     "text": [
      "epoch: 102, train loss: 1.5352,time: 18.9778 \n",
      "\n"
     ]
    },
    {
     "name": "stderr",
     "output_type": "stream",
     "text": [
      "100%|██████████| 48/48 [00:19<00:00,  2.53it/s]\n",
      "  0%|          | 0/48 [00:00<?, ?it/s]"
     ]
    },
    {
     "name": "stdout",
     "output_type": "stream",
     "text": [
      "epoch: 103, train loss: 1.4973,time: 19.0150 \n",
      "\n"
     ]
    },
    {
     "name": "stderr",
     "output_type": "stream",
     "text": [
      "100%|██████████| 48/48 [00:18<00:00,  2.55it/s]\n",
      "  0%|          | 0/48 [00:00<?, ?it/s]"
     ]
    },
    {
     "name": "stdout",
     "output_type": "stream",
     "text": [
      "epoch: 104, train loss: 1.5701,time: 18.8504 \n",
      "\n"
     ]
    },
    {
     "name": "stderr",
     "output_type": "stream",
     "text": [
      "100%|██████████| 48/48 [00:18<00:00,  2.54it/s]\n",
      "  0%|          | 0/48 [00:00<?, ?it/s]"
     ]
    },
    {
     "name": "stdout",
     "output_type": "stream",
     "text": [
      "epoch: 105, train loss: 1.6020,time: 18.8745 \n",
      "\n"
     ]
    },
    {
     "name": "stderr",
     "output_type": "stream",
     "text": [
      "100%|██████████| 48/48 [00:19<00:00,  2.52it/s]\n",
      "  0%|          | 0/48 [00:00<?, ?it/s]"
     ]
    },
    {
     "name": "stdout",
     "output_type": "stream",
     "text": [
      "epoch: 106, train loss: 1.5455,time: 19.0367 \n",
      "\n"
     ]
    },
    {
     "name": "stderr",
     "output_type": "stream",
     "text": [
      "100%|██████████| 48/48 [00:18<00:00,  2.54it/s]\n",
      "  0%|          | 0/48 [00:00<?, ?it/s]"
     ]
    },
    {
     "name": "stdout",
     "output_type": "stream",
     "text": [
      "epoch: 107, train loss: 1.5330,time: 18.9414 \n",
      "\n"
     ]
    },
    {
     "name": "stderr",
     "output_type": "stream",
     "text": [
      "100%|██████████| 48/48 [00:19<00:00,  2.52it/s]\n",
      "  0%|          | 0/48 [00:00<?, ?it/s]"
     ]
    },
    {
     "name": "stdout",
     "output_type": "stream",
     "text": [
      "epoch: 108, train loss: 1.5415,time: 19.0486 \n",
      "\n"
     ]
    },
    {
     "name": "stderr",
     "output_type": "stream",
     "text": [
      "100%|██████████| 48/48 [00:18<00:00,  2.53it/s]\n",
      "  0%|          | 0/48 [00:00<?, ?it/s]"
     ]
    },
    {
     "name": "stdout",
     "output_type": "stream",
     "text": [
      "epoch: 109, train loss: 1.5424,time: 19.0026 \n",
      "\n"
     ]
    },
    {
     "name": "stderr",
     "output_type": "stream",
     "text": [
      "100%|██████████| 48/48 [00:18<00:00,  2.53it/s]\n",
      "  0%|          | 0/48 [00:00<?, ?it/s]"
     ]
    },
    {
     "name": "stdout",
     "output_type": "stream",
     "text": [
      "epoch: 110, train loss: 1.4176,time: 19.0009 \n",
      "\n"
     ]
    },
    {
     "name": "stderr",
     "output_type": "stream",
     "text": [
      "100%|██████████| 48/48 [00:19<00:00,  2.52it/s]\n",
      "  0%|          | 0/48 [00:00<?, ?it/s]"
     ]
    },
    {
     "name": "stdout",
     "output_type": "stream",
     "text": [
      "epoch: 111, train loss: 1.4069,time: 19.0696 \n",
      "\n"
     ]
    },
    {
     "name": "stderr",
     "output_type": "stream",
     "text": [
      "100%|██████████| 48/48 [00:18<00:00,  2.53it/s]\n",
      "  0%|          | 0/48 [00:00<?, ?it/s]"
     ]
    },
    {
     "name": "stdout",
     "output_type": "stream",
     "text": [
      "epoch: 112, train loss: 1.3821,time: 18.9507 \n",
      "\n"
     ]
    },
    {
     "name": "stderr",
     "output_type": "stream",
     "text": [
      "100%|██████████| 48/48 [00:19<00:00,  2.51it/s]\n",
      "  0%|          | 0/48 [00:00<?, ?it/s]"
     ]
    },
    {
     "name": "stdout",
     "output_type": "stream",
     "text": [
      "epoch: 113, train loss: 1.4379,time: 19.1037 \n",
      "\n"
     ]
    },
    {
     "name": "stderr",
     "output_type": "stream",
     "text": [
      "100%|██████████| 48/48 [00:18<00:00,  2.55it/s]\n",
      "  0%|          | 0/48 [00:00<?, ?it/s]"
     ]
    },
    {
     "name": "stdout",
     "output_type": "stream",
     "text": [
      "epoch: 114, train loss: 1.4989,time: 18.8342 \n",
      "\n"
     ]
    },
    {
     "name": "stderr",
     "output_type": "stream",
     "text": [
      "100%|██████████| 48/48 [00:18<00:00,  2.53it/s]\n",
      "  0%|          | 0/48 [00:00<?, ?it/s]"
     ]
    },
    {
     "name": "stdout",
     "output_type": "stream",
     "text": [
      "epoch: 115, train loss: 1.4138,time: 18.9927 \n",
      "\n"
     ]
    },
    {
     "name": "stderr",
     "output_type": "stream",
     "text": [
      "100%|██████████| 48/48 [00:18<00:00,  2.53it/s]\n",
      "  0%|          | 0/48 [00:00<?, ?it/s]"
     ]
    },
    {
     "name": "stdout",
     "output_type": "stream",
     "text": [
      "epoch: 116, train loss: 1.3814,time: 18.9966 \n",
      "\n"
     ]
    },
    {
     "name": "stderr",
     "output_type": "stream",
     "text": [
      "100%|██████████| 48/48 [00:18<00:00,  2.54it/s]\n",
      "  0%|          | 0/48 [00:00<?, ?it/s]"
     ]
    },
    {
     "name": "stdout",
     "output_type": "stream",
     "text": [
      "epoch: 117, train loss: 1.3329,time: 18.8906 \n",
      "\n"
     ]
    },
    {
     "name": "stderr",
     "output_type": "stream",
     "text": [
      "100%|██████████| 48/48 [00:18<00:00,  2.55it/s]\n",
      "  0%|          | 0/48 [00:00<?, ?it/s]"
     ]
    },
    {
     "name": "stdout",
     "output_type": "stream",
     "text": [
      "epoch: 118, train loss: 1.3820,time: 18.8675 \n",
      "\n"
     ]
    },
    {
     "name": "stderr",
     "output_type": "stream",
     "text": [
      "100%|██████████| 48/48 [00:19<00:00,  2.51it/s]\n",
      "  0%|          | 0/48 [00:00<?, ?it/s]"
     ]
    },
    {
     "name": "stdout",
     "output_type": "stream",
     "text": [
      "epoch: 119, train loss: 1.3467,time: 19.0977 \n",
      "\n"
     ]
    },
    {
     "name": "stderr",
     "output_type": "stream",
     "text": [
      "100%|██████████| 48/48 [00:18<00:00,  2.53it/s]\n",
      "  0%|          | 0/48 [00:00<?, ?it/s]"
     ]
    },
    {
     "name": "stdout",
     "output_type": "stream",
     "text": [
      "epoch: 120, train loss: 1.4202,time: 18.9508 \n",
      "\n"
     ]
    },
    {
     "name": "stderr",
     "output_type": "stream",
     "text": [
      "100%|██████████| 48/48 [00:18<00:00,  2.53it/s]\n",
      "  0%|          | 0/48 [00:00<?, ?it/s]"
     ]
    },
    {
     "name": "stdout",
     "output_type": "stream",
     "text": [
      "epoch: 121, train loss: 1.3173,time: 18.9601 \n",
      "\n"
     ]
    },
    {
     "name": "stderr",
     "output_type": "stream",
     "text": [
      "100%|██████████| 48/48 [00:18<00:00,  2.54it/s]\n",
      "  0%|          | 0/48 [00:00<?, ?it/s]"
     ]
    },
    {
     "name": "stdout",
     "output_type": "stream",
     "text": [
      "epoch: 122, train loss: 1.2991,time: 18.9068 \n",
      "\n"
     ]
    },
    {
     "name": "stderr",
     "output_type": "stream",
     "text": [
      "100%|██████████| 48/48 [00:18<00:00,  2.53it/s]\n",
      "  0%|          | 0/48 [00:00<?, ?it/s]"
     ]
    },
    {
     "name": "stdout",
     "output_type": "stream",
     "text": [
      "epoch: 123, train loss: 1.2777,time: 18.9679 \n",
      "\n"
     ]
    },
    {
     "name": "stderr",
     "output_type": "stream",
     "text": [
      "100%|██████████| 48/48 [00:18<00:00,  2.54it/s]\n",
      "  0%|          | 0/48 [00:00<?, ?it/s]"
     ]
    },
    {
     "name": "stdout",
     "output_type": "stream",
     "text": [
      "epoch: 124, train loss: 1.3035,time: 18.9211 \n",
      "\n"
     ]
    },
    {
     "name": "stderr",
     "output_type": "stream",
     "text": [
      "100%|██████████| 48/48 [00:18<00:00,  2.54it/s]\n",
      "  0%|          | 0/48 [00:00<?, ?it/s]"
     ]
    },
    {
     "name": "stdout",
     "output_type": "stream",
     "text": [
      "epoch: 125, train loss: 1.2109,time: 18.9021 \n",
      "\n"
     ]
    },
    {
     "name": "stderr",
     "output_type": "stream",
     "text": [
      "100%|██████████| 48/48 [00:18<00:00,  2.54it/s]\n",
      "  0%|          | 0/48 [00:00<?, ?it/s]"
     ]
    },
    {
     "name": "stdout",
     "output_type": "stream",
     "text": [
      "epoch: 126, train loss: 1.3129,time: 18.9424 \n",
      "\n"
     ]
    },
    {
     "name": "stderr",
     "output_type": "stream",
     "text": [
      "100%|██████████| 48/48 [00:18<00:00,  2.55it/s]\n",
      "  0%|          | 0/48 [00:00<?, ?it/s]"
     ]
    },
    {
     "name": "stdout",
     "output_type": "stream",
     "text": [
      "epoch: 127, train loss: 1.3404,time: 18.8582 \n",
      "\n"
     ]
    },
    {
     "name": "stderr",
     "output_type": "stream",
     "text": [
      "100%|██████████| 48/48 [00:19<00:00,  2.52it/s]\n",
      "  0%|          | 0/48 [00:00<?, ?it/s]"
     ]
    },
    {
     "name": "stdout",
     "output_type": "stream",
     "text": [
      "epoch: 128, train loss: 1.3386,time: 19.0492 \n",
      "\n"
     ]
    },
    {
     "name": "stderr",
     "output_type": "stream",
     "text": [
      "100%|██████████| 48/48 [00:18<00:00,  2.54it/s]\n",
      "  0%|          | 0/48 [00:00<?, ?it/s]"
     ]
    },
    {
     "name": "stdout",
     "output_type": "stream",
     "text": [
      "epoch: 129, train loss: 1.3006,time: 18.8771 \n",
      "\n"
     ]
    },
    {
     "name": "stderr",
     "output_type": "stream",
     "text": [
      "100%|██████████| 48/48 [00:18<00:00,  2.53it/s]\n",
      "  0%|          | 0/48 [00:00<?, ?it/s]"
     ]
    },
    {
     "name": "stdout",
     "output_type": "stream",
     "text": [
      "epoch: 130, train loss: 1.2663,time: 18.9560 \n",
      "\n"
     ]
    },
    {
     "name": "stderr",
     "output_type": "stream",
     "text": [
      "100%|██████████| 48/48 [00:19<00:00,  2.51it/s]\n",
      "  0%|          | 0/48 [00:00<?, ?it/s]"
     ]
    },
    {
     "name": "stdout",
     "output_type": "stream",
     "text": [
      "epoch: 131, train loss: 1.1844,time: 19.1630 \n",
      "\n"
     ]
    },
    {
     "name": "stderr",
     "output_type": "stream",
     "text": [
      "100%|██████████| 48/48 [00:18<00:00,  2.56it/s]\n",
      "  0%|          | 0/48 [00:00<?, ?it/s]"
     ]
    },
    {
     "name": "stdout",
     "output_type": "stream",
     "text": [
      "epoch: 132, train loss: 1.3176,time: 18.7705 \n",
      "\n"
     ]
    },
    {
     "name": "stderr",
     "output_type": "stream",
     "text": [
      "100%|██████████| 48/48 [00:18<00:00,  2.53it/s]\n",
      "  0%|          | 0/48 [00:00<?, ?it/s]"
     ]
    },
    {
     "name": "stdout",
     "output_type": "stream",
     "text": [
      "epoch: 133, train loss: 1.1584,time: 18.9636 \n",
      "\n"
     ]
    },
    {
     "name": "stderr",
     "output_type": "stream",
     "text": [
      "100%|██████████| 48/48 [00:18<00:00,  2.54it/s]\n",
      "  0%|          | 0/48 [00:00<?, ?it/s]"
     ]
    },
    {
     "name": "stdout",
     "output_type": "stream",
     "text": [
      "epoch: 134, train loss: 1.1461,time: 18.9106 \n",
      "\n"
     ]
    },
    {
     "name": "stderr",
     "output_type": "stream",
     "text": [
      "100%|██████████| 48/48 [00:19<00:00,  2.51it/s]\n",
      "  0%|          | 0/48 [00:00<?, ?it/s]"
     ]
    },
    {
     "name": "stdout",
     "output_type": "stream",
     "text": [
      "epoch: 135, train loss: 1.1425,time: 19.1299 \n",
      "\n"
     ]
    },
    {
     "name": "stderr",
     "output_type": "stream",
     "text": [
      "100%|██████████| 48/48 [00:18<00:00,  2.54it/s]\n",
      "  0%|          | 0/48 [00:00<?, ?it/s]"
     ]
    },
    {
     "name": "stdout",
     "output_type": "stream",
     "text": [
      "epoch: 136, train loss: 1.2200,time: 18.8713 \n",
      "\n"
     ]
    },
    {
     "name": "stderr",
     "output_type": "stream",
     "text": [
      "100%|██████████| 48/48 [00:18<00:00,  2.55it/s]\n",
      "  0%|          | 0/48 [00:00<?, ?it/s]"
     ]
    },
    {
     "name": "stdout",
     "output_type": "stream",
     "text": [
      "epoch: 137, train loss: 1.1743,time: 18.8512 \n",
      "\n"
     ]
    },
    {
     "name": "stderr",
     "output_type": "stream",
     "text": [
      "100%|██████████| 48/48 [00:19<00:00,  2.53it/s]\n",
      "  0%|          | 0/48 [00:00<?, ?it/s]"
     ]
    },
    {
     "name": "stdout",
     "output_type": "stream",
     "text": [
      "epoch: 138, train loss: 1.0980,time: 19.0132 \n",
      "\n"
     ]
    },
    {
     "name": "stderr",
     "output_type": "stream",
     "text": [
      "100%|██████████| 48/48 [00:19<00:00,  2.49it/s]\n",
      "  0%|          | 0/48 [00:00<?, ?it/s]"
     ]
    },
    {
     "name": "stdout",
     "output_type": "stream",
     "text": [
      "epoch: 139, train loss: 1.0622,time: 19.2597 \n",
      "\n"
     ]
    },
    {
     "name": "stderr",
     "output_type": "stream",
     "text": [
      "100%|██████████| 48/48 [00:18<00:00,  2.54it/s]\n",
      "  0%|          | 0/48 [00:00<?, ?it/s]"
     ]
    },
    {
     "name": "stdout",
     "output_type": "stream",
     "text": [
      "epoch: 140, train loss: 1.2114,time: 18.9281 \n",
      "\n"
     ]
    },
    {
     "name": "stderr",
     "output_type": "stream",
     "text": [
      "100%|██████████| 48/48 [00:19<00:00,  2.51it/s]\n",
      "  0%|          | 0/48 [00:00<?, ?it/s]"
     ]
    },
    {
     "name": "stdout",
     "output_type": "stream",
     "text": [
      "epoch: 141, train loss: 1.2968,time: 19.1222 \n",
      "\n"
     ]
    },
    {
     "name": "stderr",
     "output_type": "stream",
     "text": [
      "100%|██████████| 48/48 [00:18<00:00,  2.53it/s]\n",
      "  0%|          | 0/48 [00:00<?, ?it/s]"
     ]
    },
    {
     "name": "stdout",
     "output_type": "stream",
     "text": [
      "epoch: 142, train loss: 1.0937,time: 18.9569 \n",
      "\n"
     ]
    },
    {
     "name": "stderr",
     "output_type": "stream",
     "text": [
      "100%|██████████| 48/48 [00:18<00:00,  2.54it/s]\n",
      "  0%|          | 0/48 [00:00<?, ?it/s]"
     ]
    },
    {
     "name": "stdout",
     "output_type": "stream",
     "text": [
      "epoch: 143, train loss: 1.2931,time: 18.8891 \n",
      "\n"
     ]
    },
    {
     "name": "stderr",
     "output_type": "stream",
     "text": [
      "100%|██████████| 48/48 [00:18<00:00,  2.54it/s]\n",
      "  0%|          | 0/48 [00:00<?, ?it/s]"
     ]
    },
    {
     "name": "stdout",
     "output_type": "stream",
     "text": [
      "epoch: 144, train loss: 1.1688,time: 18.8896 \n",
      "\n"
     ]
    },
    {
     "name": "stderr",
     "output_type": "stream",
     "text": [
      "100%|██████████| 48/48 [00:18<00:00,  2.54it/s]\n",
      "  0%|          | 0/48 [00:00<?, ?it/s]"
     ]
    },
    {
     "name": "stdout",
     "output_type": "stream",
     "text": [
      "epoch: 145, train loss: 1.0372,time: 18.9010 \n",
      "\n"
     ]
    },
    {
     "name": "stderr",
     "output_type": "stream",
     "text": [
      "100%|██████████| 48/48 [00:18<00:00,  2.55it/s]\n",
      "  0%|          | 0/48 [00:00<?, ?it/s]"
     ]
    },
    {
     "name": "stdout",
     "output_type": "stream",
     "text": [
      "epoch: 146, train loss: 1.1180,time: 18.7987 \n",
      "\n"
     ]
    },
    {
     "name": "stderr",
     "output_type": "stream",
     "text": [
      "100%|██████████| 48/48 [00:18<00:00,  2.56it/s]\n",
      "  0%|          | 0/48 [00:00<?, ?it/s]"
     ]
    },
    {
     "name": "stdout",
     "output_type": "stream",
     "text": [
      "epoch: 147, train loss: 1.0018,time: 18.7376 \n",
      "\n"
     ]
    },
    {
     "name": "stderr",
     "output_type": "stream",
     "text": [
      "100%|██████████| 48/48 [00:18<00:00,  2.55it/s]\n",
      "  0%|          | 0/48 [00:00<?, ?it/s]"
     ]
    },
    {
     "name": "stdout",
     "output_type": "stream",
     "text": [
      "epoch: 148, train loss: 1.0531,time: 18.8175 \n",
      "\n"
     ]
    },
    {
     "name": "stderr",
     "output_type": "stream",
     "text": [
      "100%|██████████| 48/48 [00:18<00:00,  2.57it/s]\n",
      "  0%|          | 0/48 [00:00<?, ?it/s]"
     ]
    },
    {
     "name": "stdout",
     "output_type": "stream",
     "text": [
      "epoch: 149, train loss: 1.0443,time: 18.7130 \n",
      "\n"
     ]
    },
    {
     "name": "stderr",
     "output_type": "stream",
     "text": [
      "100%|██████████| 48/48 [00:18<00:00,  2.55it/s]\n",
      "  0%|          | 0/48 [00:00<?, ?it/s]"
     ]
    },
    {
     "name": "stdout",
     "output_type": "stream",
     "text": [
      "epoch: 150, train loss: 1.2400,time: 18.8385 \n",
      "\n"
     ]
    },
    {
     "name": "stderr",
     "output_type": "stream",
     "text": [
      "100%|██████████| 48/48 [00:18<00:00,  2.53it/s]\n",
      "  0%|          | 0/48 [00:00<?, ?it/s]"
     ]
    },
    {
     "name": "stdout",
     "output_type": "stream",
     "text": [
      "epoch: 151, train loss: 0.9703,time: 18.9533 \n",
      "\n"
     ]
    },
    {
     "name": "stderr",
     "output_type": "stream",
     "text": [
      "100%|██████████| 48/48 [00:19<00:00,  2.50it/s]\n",
      "  0%|          | 0/48 [00:00<?, ?it/s]"
     ]
    },
    {
     "name": "stdout",
     "output_type": "stream",
     "text": [
      "epoch: 152, train loss: 0.9552,time: 19.2003 \n",
      "\n"
     ]
    },
    {
     "name": "stderr",
     "output_type": "stream",
     "text": [
      "100%|██████████| 48/48 [00:18<00:00,  2.55it/s]\n",
      "  0%|          | 0/48 [00:00<?, ?it/s]"
     ]
    },
    {
     "name": "stdout",
     "output_type": "stream",
     "text": [
      "epoch: 153, train loss: 0.9284,time: 18.8053 \n",
      "\n"
     ]
    },
    {
     "name": "stderr",
     "output_type": "stream",
     "text": [
      "100%|██████████| 48/48 [00:19<00:00,  2.51it/s]\n",
      "  0%|          | 0/48 [00:00<?, ?it/s]"
     ]
    },
    {
     "name": "stdout",
     "output_type": "stream",
     "text": [
      "epoch: 154, train loss: 1.0635,time: 19.1095 \n",
      "\n"
     ]
    },
    {
     "name": "stderr",
     "output_type": "stream",
     "text": [
      "100%|██████████| 48/48 [00:18<00:00,  2.54it/s]\n",
      "  0%|          | 0/48 [00:00<?, ?it/s]"
     ]
    },
    {
     "name": "stdout",
     "output_type": "stream",
     "text": [
      "epoch: 155, train loss: 1.2498,time: 18.8888 \n",
      "\n"
     ]
    },
    {
     "name": "stderr",
     "output_type": "stream",
     "text": [
      "100%|██████████| 48/48 [00:18<00:00,  2.53it/s]\n",
      "  0%|          | 0/48 [00:00<?, ?it/s]"
     ]
    },
    {
     "name": "stdout",
     "output_type": "stream",
     "text": [
      "epoch: 156, train loss: 0.9199,time: 19.0048 \n",
      "\n"
     ]
    },
    {
     "name": "stderr",
     "output_type": "stream",
     "text": [
      "100%|██████████| 48/48 [00:18<00:00,  2.54it/s]\n",
      "  0%|          | 0/48 [00:00<?, ?it/s]"
     ]
    },
    {
     "name": "stdout",
     "output_type": "stream",
     "text": [
      "epoch: 157, train loss: 1.0692,time: 18.8900 \n",
      "\n"
     ]
    },
    {
     "name": "stderr",
     "output_type": "stream",
     "text": [
      "100%|██████████| 48/48 [00:18<00:00,  2.55it/s]\n",
      "  0%|          | 0/48 [00:00<?, ?it/s]"
     ]
    },
    {
     "name": "stdout",
     "output_type": "stream",
     "text": [
      "epoch: 158, train loss: 0.9024,time: 18.8572 \n",
      "\n"
     ]
    },
    {
     "name": "stderr",
     "output_type": "stream",
     "text": [
      "100%|██████████| 48/48 [00:18<00:00,  2.55it/s]\n",
      "  0%|          | 0/48 [00:00<?, ?it/s]"
     ]
    },
    {
     "name": "stdout",
     "output_type": "stream",
     "text": [
      "epoch: 159, train loss: 0.9024,time: 18.8463 \n",
      "\n"
     ]
    },
    {
     "name": "stderr",
     "output_type": "stream",
     "text": [
      "100%|██████████| 48/48 [00:18<00:00,  2.53it/s]\n",
      "  0%|          | 0/48 [00:00<?, ?it/s]"
     ]
    },
    {
     "name": "stdout",
     "output_type": "stream",
     "text": [
      "epoch: 160, train loss: 1.0253,time: 18.9436 \n",
      "\n"
     ]
    },
    {
     "name": "stderr",
     "output_type": "stream",
     "text": [
      "100%|██████████| 48/48 [00:18<00:00,  2.53it/s]\n",
      "  0%|          | 0/48 [00:00<?, ?it/s]"
     ]
    },
    {
     "name": "stdout",
     "output_type": "stream",
     "text": [
      "epoch: 161, train loss: 0.9490,time: 18.9998 \n",
      "\n"
     ]
    },
    {
     "name": "stderr",
     "output_type": "stream",
     "text": [
      "100%|██████████| 48/48 [00:19<00:00,  2.52it/s]\n",
      "  0%|          | 0/48 [00:00<?, ?it/s]"
     ]
    },
    {
     "name": "stdout",
     "output_type": "stream",
     "text": [
      "epoch: 162, train loss: 0.8461,time: 19.0807 \n",
      "\n"
     ]
    },
    {
     "name": "stderr",
     "output_type": "stream",
     "text": [
      "100%|██████████| 48/48 [00:18<00:00,  2.54it/s]\n",
      "  0%|          | 0/48 [00:00<?, ?it/s]"
     ]
    },
    {
     "name": "stdout",
     "output_type": "stream",
     "text": [
      "epoch: 163, train loss: 0.8185,time: 18.9382 \n",
      "\n"
     ]
    },
    {
     "name": "stderr",
     "output_type": "stream",
     "text": [
      "100%|██████████| 48/48 [00:18<00:00,  2.54it/s]\n",
      "  0%|          | 0/48 [00:00<?, ?it/s]"
     ]
    },
    {
     "name": "stdout",
     "output_type": "stream",
     "text": [
      "epoch: 164, train loss: 0.8221,time: 18.8721 \n",
      "\n"
     ]
    },
    {
     "name": "stderr",
     "output_type": "stream",
     "text": [
      "100%|██████████| 48/48 [00:18<00:00,  2.55it/s]\n",
      "  0%|          | 0/48 [00:00<?, ?it/s]"
     ]
    },
    {
     "name": "stdout",
     "output_type": "stream",
     "text": [
      "epoch: 165, train loss: 0.8028,time: 18.8145 \n",
      "\n"
     ]
    },
    {
     "name": "stderr",
     "output_type": "stream",
     "text": [
      "100%|██████████| 48/48 [00:18<00:00,  2.55it/s]\n",
      "  0%|          | 0/48 [00:00<?, ?it/s]"
     ]
    },
    {
     "name": "stdout",
     "output_type": "stream",
     "text": [
      "epoch: 166, train loss: 0.9773,time: 18.8283 \n",
      "\n"
     ]
    },
    {
     "name": "stderr",
     "output_type": "stream",
     "text": [
      "100%|██████████| 48/48 [00:18<00:00,  2.54it/s]\n",
      "  0%|          | 0/48 [00:00<?, ?it/s]"
     ]
    },
    {
     "name": "stdout",
     "output_type": "stream",
     "text": [
      "epoch: 167, train loss: 0.9973,time: 18.9388 \n",
      "\n"
     ]
    },
    {
     "name": "stderr",
     "output_type": "stream",
     "text": [
      "100%|██████████| 48/48 [00:19<00:00,  2.49it/s]\n",
      "  0%|          | 0/48 [00:00<?, ?it/s]"
     ]
    },
    {
     "name": "stdout",
     "output_type": "stream",
     "text": [
      "epoch: 168, train loss: 0.7952,time: 19.2874 \n",
      "\n"
     ]
    },
    {
     "name": "stderr",
     "output_type": "stream",
     "text": [
      "100%|██████████| 48/48 [00:19<00:00,  2.52it/s]\n",
      "  0%|          | 0/48 [00:00<?, ?it/s]"
     ]
    },
    {
     "name": "stdout",
     "output_type": "stream",
     "text": [
      "epoch: 169, train loss: 0.8997,time: 19.0198 \n",
      "\n"
     ]
    },
    {
     "name": "stderr",
     "output_type": "stream",
     "text": [
      "100%|██████████| 48/48 [00:18<00:00,  2.55it/s]\n",
      "  0%|          | 0/48 [00:00<?, ?it/s]"
     ]
    },
    {
     "name": "stdout",
     "output_type": "stream",
     "text": [
      "epoch: 170, train loss: 0.8375,time: 18.8287 \n",
      "\n"
     ]
    },
    {
     "name": "stderr",
     "output_type": "stream",
     "text": [
      "100%|██████████| 48/48 [00:18<00:00,  2.54it/s]\n",
      "  0%|          | 0/48 [00:00<?, ?it/s]"
     ]
    },
    {
     "name": "stdout",
     "output_type": "stream",
     "text": [
      "epoch: 171, train loss: 0.9933,time: 18.9246 \n",
      "\n"
     ]
    },
    {
     "name": "stderr",
     "output_type": "stream",
     "text": [
      "100%|██████████| 48/48 [00:19<00:00,  2.49it/s]\n",
      "  0%|          | 0/48 [00:00<?, ?it/s]"
     ]
    },
    {
     "name": "stdout",
     "output_type": "stream",
     "text": [
      "epoch: 172, train loss: 0.8161,time: 19.2771 \n",
      "\n"
     ]
    },
    {
     "name": "stderr",
     "output_type": "stream",
     "text": [
      "100%|██████████| 48/48 [00:19<00:00,  2.49it/s]\n",
      "  0%|          | 0/48 [00:00<?, ?it/s]"
     ]
    },
    {
     "name": "stdout",
     "output_type": "stream",
     "text": [
      "epoch: 173, train loss: 0.8809,time: 19.2722 \n",
      "\n"
     ]
    },
    {
     "name": "stderr",
     "output_type": "stream",
     "text": [
      "100%|██████████| 48/48 [00:19<00:00,  2.52it/s]\n",
      "  0%|          | 0/48 [00:00<?, ?it/s]"
     ]
    },
    {
     "name": "stdout",
     "output_type": "stream",
     "text": [
      "epoch: 174, train loss: 0.9459,time: 19.0618 \n",
      "\n"
     ]
    },
    {
     "name": "stderr",
     "output_type": "stream",
     "text": [
      "100%|██████████| 48/48 [00:19<00:00,  2.52it/s]\n",
      "  0%|          | 0/48 [00:00<?, ?it/s]"
     ]
    },
    {
     "name": "stdout",
     "output_type": "stream",
     "text": [
      "epoch: 175, train loss: 0.9452,time: 19.0757 \n",
      "\n"
     ]
    },
    {
     "name": "stderr",
     "output_type": "stream",
     "text": [
      "100%|██████████| 48/48 [00:18<00:00,  2.55it/s]\n",
      "  0%|          | 0/48 [00:00<?, ?it/s]"
     ]
    },
    {
     "name": "stdout",
     "output_type": "stream",
     "text": [
      "epoch: 176, train loss: 0.9316,time: 18.8055 \n",
      "\n"
     ]
    },
    {
     "name": "stderr",
     "output_type": "stream",
     "text": [
      "100%|██████████| 48/48 [00:19<00:00,  2.50it/s]\n",
      "  0%|          | 0/48 [00:00<?, ?it/s]"
     ]
    },
    {
     "name": "stdout",
     "output_type": "stream",
     "text": [
      "epoch: 177, train loss: 0.9286,time: 19.2249 \n",
      "\n"
     ]
    },
    {
     "name": "stderr",
     "output_type": "stream",
     "text": [
      "100%|██████████| 48/48 [00:19<00:00,  2.46it/s]\n",
      "  0%|          | 0/48 [00:00<?, ?it/s]"
     ]
    },
    {
     "name": "stdout",
     "output_type": "stream",
     "text": [
      "epoch: 178, train loss: 0.8147,time: 19.5229 \n",
      "\n"
     ]
    },
    {
     "name": "stderr",
     "output_type": "stream",
     "text": [
      "100%|██████████| 48/48 [00:19<00:00,  2.51it/s]\n",
      "  0%|          | 0/48 [00:00<?, ?it/s]"
     ]
    },
    {
     "name": "stdout",
     "output_type": "stream",
     "text": [
      "epoch: 179, train loss: 0.9265,time: 19.1291 \n",
      "\n"
     ]
    },
    {
     "name": "stderr",
     "output_type": "stream",
     "text": [
      "100%|██████████| 48/48 [00:19<00:00,  2.52it/s]\n",
      "  0%|          | 0/48 [00:00<?, ?it/s]"
     ]
    },
    {
     "name": "stdout",
     "output_type": "stream",
     "text": [
      "epoch: 180, train loss: 0.7871,time: 19.0225 \n",
      "\n"
     ]
    },
    {
     "name": "stderr",
     "output_type": "stream",
     "text": [
      "100%|██████████| 48/48 [00:18<00:00,  2.54it/s]\n",
      "  0%|          | 0/48 [00:00<?, ?it/s]"
     ]
    },
    {
     "name": "stdout",
     "output_type": "stream",
     "text": [
      "epoch: 181, train loss: 0.7590,time: 18.9220 \n",
      "\n"
     ]
    },
    {
     "name": "stderr",
     "output_type": "stream",
     "text": [
      "100%|██████████| 48/48 [00:18<00:00,  2.54it/s]\n",
      "  0%|          | 0/48 [00:00<?, ?it/s]"
     ]
    },
    {
     "name": "stdout",
     "output_type": "stream",
     "text": [
      "epoch: 182, train loss: 0.7108,time: 18.9108 \n",
      "\n"
     ]
    },
    {
     "name": "stderr",
     "output_type": "stream",
     "text": [
      "100%|██████████| 48/48 [00:18<00:00,  2.53it/s]\n",
      "  0%|          | 0/48 [00:00<?, ?it/s]"
     ]
    },
    {
     "name": "stdout",
     "output_type": "stream",
     "text": [
      "epoch: 183, train loss: 0.7020,time: 18.9910 \n",
      "\n"
     ]
    },
    {
     "name": "stderr",
     "output_type": "stream",
     "text": [
      "100%|██████████| 48/48 [00:19<00:00,  2.52it/s]\n",
      "  0%|          | 0/48 [00:00<?, ?it/s]"
     ]
    },
    {
     "name": "stdout",
     "output_type": "stream",
     "text": [
      "epoch: 184, train loss: 0.6847,time: 19.0734 \n",
      "\n"
     ]
    },
    {
     "name": "stderr",
     "output_type": "stream",
     "text": [
      "100%|██████████| 48/48 [00:19<00:00,  2.48it/s]\n",
      "  0%|          | 0/48 [00:00<?, ?it/s]"
     ]
    },
    {
     "name": "stdout",
     "output_type": "stream",
     "text": [
      "epoch: 185, train loss: 0.6826,time: 19.3484 \n",
      "\n"
     ]
    },
    {
     "name": "stderr",
     "output_type": "stream",
     "text": [
      "100%|██████████| 48/48 [00:19<00:00,  2.49it/s]\n",
      "  0%|          | 0/48 [00:00<?, ?it/s]"
     ]
    },
    {
     "name": "stdout",
     "output_type": "stream",
     "text": [
      "epoch: 186, train loss: 0.7291,time: 19.2806 \n",
      "\n"
     ]
    },
    {
     "name": "stderr",
     "output_type": "stream",
     "text": [
      "100%|██████████| 48/48 [00:19<00:00,  2.50it/s]\n",
      "  0%|          | 0/48 [00:00<?, ?it/s]"
     ]
    },
    {
     "name": "stdout",
     "output_type": "stream",
     "text": [
      "epoch: 187, train loss: 0.6939,time: 19.1816 \n",
      "\n"
     ]
    },
    {
     "name": "stderr",
     "output_type": "stream",
     "text": [
      "100%|██████████| 48/48 [00:19<00:00,  2.47it/s]\n",
      "  0%|          | 0/48 [00:00<?, ?it/s]"
     ]
    },
    {
     "name": "stdout",
     "output_type": "stream",
     "text": [
      "epoch: 188, train loss: 0.6389,time: 19.4176 \n",
      "\n"
     ]
    },
    {
     "name": "stderr",
     "output_type": "stream",
     "text": [
      "100%|██████████| 48/48 [00:19<00:00,  2.46it/s]\n",
      "  0%|          | 0/48 [00:00<?, ?it/s]"
     ]
    },
    {
     "name": "stdout",
     "output_type": "stream",
     "text": [
      "epoch: 189, train loss: 0.6949,time: 19.4922 \n",
      "\n"
     ]
    },
    {
     "name": "stderr",
     "output_type": "stream",
     "text": [
      "100%|██████████| 48/48 [00:19<00:00,  2.44it/s]\n",
      "  0%|          | 0/48 [00:00<?, ?it/s]"
     ]
    },
    {
     "name": "stdout",
     "output_type": "stream",
     "text": [
      "epoch: 190, train loss: 0.6956,time: 19.7088 \n",
      "\n"
     ]
    },
    {
     "name": "stderr",
     "output_type": "stream",
     "text": [
      "100%|██████████| 48/48 [00:19<00:00,  2.41it/s]\n",
      "  0%|          | 0/48 [00:00<?, ?it/s]"
     ]
    },
    {
     "name": "stdout",
     "output_type": "stream",
     "text": [
      "epoch: 191, train loss: 0.6178,time: 19.9464 \n",
      "\n"
     ]
    },
    {
     "name": "stderr",
     "output_type": "stream",
     "text": [
      "100%|██████████| 48/48 [00:19<00:00,  2.49it/s]\n",
      "  0%|          | 0/48 [00:00<?, ?it/s]"
     ]
    },
    {
     "name": "stdout",
     "output_type": "stream",
     "text": [
      "epoch: 192, train loss: 0.6697,time: 19.3230 \n",
      "\n"
     ]
    },
    {
     "name": "stderr",
     "output_type": "stream",
     "text": [
      "100%|██████████| 48/48 [00:19<00:00,  2.52it/s]\n",
      "  0%|          | 0/48 [00:00<?, ?it/s]"
     ]
    },
    {
     "name": "stdout",
     "output_type": "stream",
     "text": [
      "epoch: 193, train loss: 0.6180,time: 19.0576 \n",
      "\n"
     ]
    },
    {
     "name": "stderr",
     "output_type": "stream",
     "text": [
      "100%|██████████| 48/48 [00:19<00:00,  2.49it/s]\n",
      "  0%|          | 0/48 [00:00<?, ?it/s]"
     ]
    },
    {
     "name": "stdout",
     "output_type": "stream",
     "text": [
      "epoch: 194, train loss: 0.6064,time: 19.2816 \n",
      "\n"
     ]
    },
    {
     "name": "stderr",
     "output_type": "stream",
     "text": [
      "100%|██████████| 48/48 [00:19<00:00,  2.48it/s]\n",
      "  0%|          | 0/48 [00:00<?, ?it/s]"
     ]
    },
    {
     "name": "stdout",
     "output_type": "stream",
     "text": [
      "epoch: 195, train loss: 0.6288,time: 19.3365 \n",
      "\n"
     ]
    },
    {
     "name": "stderr",
     "output_type": "stream",
     "text": [
      "100%|██████████| 48/48 [00:19<00:00,  2.51it/s]\n",
      "  0%|          | 0/48 [00:00<?, ?it/s]"
     ]
    },
    {
     "name": "stdout",
     "output_type": "stream",
     "text": [
      "epoch: 196, train loss: 0.5997,time: 19.1289 \n",
      "\n"
     ]
    },
    {
     "name": "stderr",
     "output_type": "stream",
     "text": [
      "100%|██████████| 48/48 [00:19<00:00,  2.50it/s]\n",
      "  0%|          | 0/48 [00:00<?, ?it/s]"
     ]
    },
    {
     "name": "stdout",
     "output_type": "stream",
     "text": [
      "epoch: 197, train loss: 0.5865,time: 19.2108 \n",
      "\n"
     ]
    },
    {
     "name": "stderr",
     "output_type": "stream",
     "text": [
      "100%|██████████| 48/48 [00:19<00:00,  2.49it/s]\n",
      "  0%|          | 0/48 [00:00<?, ?it/s]"
     ]
    },
    {
     "name": "stdout",
     "output_type": "stream",
     "text": [
      "epoch: 198, train loss: 0.5643,time: 19.2726 \n",
      "\n"
     ]
    },
    {
     "name": "stderr",
     "output_type": "stream",
     "text": [
      "100%|██████████| 48/48 [00:19<00:00,  2.48it/s]\n",
      "  0%|          | 0/48 [00:00<?, ?it/s]"
     ]
    },
    {
     "name": "stdout",
     "output_type": "stream",
     "text": [
      "epoch: 199, train loss: 0.6369,time: 19.3692 \n",
      "\n"
     ]
    },
    {
     "name": "stderr",
     "output_type": "stream",
     "text": [
      "100%|██████████| 48/48 [00:19<00:00,  2.48it/s]\n",
      "  0%|          | 0/48 [00:00<?, ?it/s]"
     ]
    },
    {
     "name": "stdout",
     "output_type": "stream",
     "text": [
      "epoch: 200, train loss: 0.6069,time: 19.3784 \n",
      "\n"
     ]
    },
    {
     "name": "stderr",
     "output_type": "stream",
     "text": [
      "100%|██████████| 48/48 [00:19<00:00,  2.49it/s]\n",
      "  0%|          | 0/48 [00:00<?, ?it/s]"
     ]
    },
    {
     "name": "stdout",
     "output_type": "stream",
     "text": [
      "epoch: 201, train loss: 0.7733,time: 19.2853 \n",
      "\n"
     ]
    },
    {
     "name": "stderr",
     "output_type": "stream",
     "text": [
      "100%|██████████| 48/48 [00:19<00:00,  2.48it/s]\n",
      "  0%|          | 0/48 [00:00<?, ?it/s]"
     ]
    },
    {
     "name": "stdout",
     "output_type": "stream",
     "text": [
      "epoch: 202, train loss: 0.6367,time: 19.3296 \n",
      "\n"
     ]
    },
    {
     "name": "stderr",
     "output_type": "stream",
     "text": [
      "100%|██████████| 48/48 [00:19<00:00,  2.47it/s]\n",
      "  0%|          | 0/48 [00:00<?, ?it/s]"
     ]
    },
    {
     "name": "stdout",
     "output_type": "stream",
     "text": [
      "epoch: 203, train loss: 0.6680,time: 19.4163 \n",
      "\n"
     ]
    },
    {
     "name": "stderr",
     "output_type": "stream",
     "text": [
      "100%|██████████| 48/48 [00:19<00:00,  2.52it/s]"
     ]
    },
    {
     "name": "stdout",
     "output_type": "stream",
     "text": [
      "epoch: 204, train loss: 0.5264,time: 19.0794 \n",
      "\n"
     ]
    },
    {
     "name": "stderr",
     "output_type": "stream",
     "text": [
      "\n"
     ]
    }
   ],
   "source": [
    "train(kwargs,device,model,train_iter)"
   ]
  },
  {
   "cell_type": "code",
   "execution_count": 33,
   "id": "russian-import",
   "metadata": {},
   "outputs": [],
   "source": [
    "torch.save(model, 's2s_ci_small.pkl')"
   ]
  },
  {
   "cell_type": "code",
   "execution_count": 36,
   "id": "atmospheric-literature",
   "metadata": {},
   "outputs": [
    {
     "name": "stderr",
     "output_type": "stream",
     "text": [
      " 27%|██▋       | 13/48 [00:02<00:05,  6.01it/s]\n"
     ]
    },
    {
     "name": "stdout",
     "output_type": "stream",
     "text": [
      "torch.Size([15, 512, 14719])\n",
      "torch.Size([15, 512])\n",
      "torch.Size([10, 512])\n",
      "\n",
      "原文：\n",
      "<sos>tomcan'tgetovermary.\n",
      "正确答案：\n",
      "<sos>汤姆不能原谅玛丽。\n",
      "预测\n",
      "<sos>汤姆不能原谅玛丽。\n",
      "原文：\n",
      "<sos>tomcertainlyisgreedy.\n",
      "正确答案：\n",
      "<sos>湯姆確實是貪心的。\n",
      "预测\n",
      "<sos>湯姆確實是貪心的。\n",
      "原文：\n",
      "<sos>tomclenchedtheshovel.\n",
      "正确答案：\n",
      "<sos>汤姆握紧了铲子。\n",
      "预测\n",
      "<sos>汤姆握紧了铲子。\n",
      "原文：\n",
      "<sos>tomcouldn'tseeanyone.\n",
      "正确答案：\n",
      "<sos>汤姆看不到任何人。\n",
      "预测\n",
      "<sos>汤姆看不到任何人。\n",
      "原文：\n",
      "<sos>tomdecidednottowait.\n",
      "正确答案：\n",
      "<sos>汤姆决定不再等了。\n",
      "预测\n",
      "<sos>汤姆决定决定等了。\n",
      "原文：\n",
      "<sos>tomdidn'ttalktomary.\n",
      "正确答案：\n",
      "<sos>汤姆没跟玛丽说话。\n",
      "预测\n",
      "<sos>汤姆没跟玛丽说话。\n",
      "原文：\n",
      "<sos>tomdidn'twanttocome.\n",
      "正确答案：\n",
      "<sos>汤姆不想来。\n",
      "预测\n",
      "<sos>汤姆不想来。\n",
      "原文：\n",
      "<sos>tomdiedinanaccident.\n",
      "正确答案：\n",
      "<sos>湯姆在一場意外中喪生。\n",
      "预测\n",
      "<sos>湯姆在一場意外中喪生。\n",
      "原文：\n",
      "<sos>tomdiedinhiskitchen.\n",
      "正确答案：\n",
      "<sos>汤姆是在自家厨房里死的。\n",
      "预测\n",
      "<sos>汤姆在在自家厨房厨房死的。。\n",
      "原文：\n",
      "<sos>tomdoesn'tlikeboston.\n",
      "正确答案：\n",
      "<sos>汤姆不喜欢波士顿。\n",
      "预测\n",
      "<sos>汤姆不喜欢波士顿。\n",
      "原文：\n",
      "<sos>tomdoesn'tlikecheese.\n",
      "正确答案：\n",
      "<sos>湯姆不喜歡乳酪。\n",
      "预测\n",
      "<sos>湯姆不喜歡乳酪。\n",
      "原文：\n",
      "<sos>tomembracedhisfather.\n",
      "正确答案：\n",
      "<sos>汤姆拥抱了他的父亲。\n",
      "预测\n",
      "<sos>汤姆拥抱了他的父亲。\n",
      "原文：\n",
      "<sos>tomgotoutofthejeep.\n",
      "正确答案：\n",
      "<sos>汤姆从吉普车上下来了。\n",
      "预测\n",
      "<sos>汤姆从吉普车上下来下来。\n",
      "原文：\n",
      "<sos>tomgotoutofthetaxi.\n",
      "正确答案：\n",
      "<sos>汤姆从出租车上下来了。\n",
      "预测\n",
      "<sos>汤姆从出租车上下来下来。\n",
      "原文：\n",
      "<sos>tomhadastrangedream.\n",
      "正确答案：\n",
      "<sos>汤姆做了个奇怪的梦。\n",
      "预测\n",
      "<sos>汤姆做了个奇怪的梦。\n",
      "原文：\n",
      "<sos>tomhasabeautifulcar.\n",
      "正确答案：\n",
      "<sos>tom有台靓车。\n",
      "预测\n",
      "<sos>汤姆有台靓车。\n",
      "原文：\n",
      "<sos>tomhashisownbedroom.\n",
      "正确答案：\n",
      "<sos>湯姆有他自己的房間。\n",
      "预测\n",
      "<sos>汤姆自己他的的。\n",
      "原文：\n",
      "<sos>tomhasn'tfinishedyet.\n",
      "正确答案：\n",
      "<sos>湯姆還沒完成。\n",
      "预测\n",
      "<sos>湯姆還沒完成。。\n",
      "原文：\n",
      "<sos>tomheadedoutthedoor.\n",
      "正确答案：\n",
      "<sos>汤姆向门走去。\n",
      "预测\n",
      "<sos>汤姆向门走走。\n",
      "原文：\n",
      "<sos>tomhidunderthetable.\n",
      "正确答案：\n",
      "<sos>tom躲在桌子底下。\n",
      "预测\n",
      "<sos>tom躲在桌子桌子。\n",
      "原文：\n",
      "<sos>tomisafrenchteacher.\n",
      "正确答案：\n",
      "<sos>汤姆是法语老师。\n",
      "预测\n",
      "<sos>汤姆是法语老师。\n",
      "原文：\n",
      "<sos>tomisafriendofmine.\n",
      "正确答案：\n",
      "<sos>湯姆是我朋友中的其中一位。\n",
      "预测\n",
      "<sos>湯姆是我的的的其中一位。\n",
      "原文：\n",
      "<sos>tomisagrumpyoldman.\n",
      "正确答案：\n",
      "<sos>汤姆是个脾气暴躁的老人。\n",
      "预测\n",
      "<sos>汤姆是个脾气暴躁的的。。\n",
      "原文：\n",
      "<sos>tomisalittleworried.\n",
      "正确答案：\n",
      "<sos>湯姆有點擔心。\n",
      "预测\n",
      "<sos>湯姆擔心擔心。\n",
      "原文：\n",
      "<sos>tomisastrangeperson.\n",
      "正确答案：\n",
      "<sos>湯姆是個怪人。\n",
      "预测\n",
      "<sos>湯姆是個怪人。。\n",
      "原文：\n",
      "<sos>tomisaviolinteacher.\n",
      "正确答案：\n",
      "<sos>湯姆是小提琴教師。\n",
      "预测\n",
      "<sos>湯姆是個教師。\n",
      "原文：\n",
      "<sos>tomisfluentinfrench.\n",
      "正确答案：\n",
      "<sos>湯姆的法語說的很流暢。\n",
      "预测\n",
      "<sos>湯姆的的的的的流暢。\n",
      "原文：\n",
      "<sos>tomisgettingparanoid.\n",
      "正确答案：\n",
      "<sos>汤姆越来越多疑了。\n",
      "预测\n",
      "<sos>汤姆越来越多疑了。\n",
      "原文：\n",
      "<sos>tomisgoingtohelpus.\n",
      "正确答案：\n",
      "<sos>汤姆要帮助我们。\n",
      "预测\n",
      "<sos>汤姆要帮助我们。\n",
      "原文：\n",
      "<sos>tomismyolderbrother.\n",
      "正确答案：\n",
      "<sos>tom是我哥哥。\n",
      "预测\n",
      "<sos>tom是我哥哥。\n",
      "原文：\n",
      "<sos>tomisreadinganessay.\n",
      "正确答案：\n",
      "<sos>湯姆在讀一篇短文。\n",
      "预测\n",
      "<sos>湯姆在讀一篇短文。\n",
      "原文：\n",
      "<sos>tomistakingadayoff.\n",
      "正确答案：\n",
      "<sos>汤姆在休一天假。\n",
      "预测\n",
      "<sos>汤姆在休休假。\n",
      "原文：\n",
      "<sos>tomistallerthaniam.\n",
      "正确答案：\n",
      "<sos>湯姆比我高。\n",
      "预测\n",
      "<sos>湯姆比我高。\n",
      "原文：\n",
      "<sos>tomisthirtyyearsold.\n",
      "正确答案：\n",
      "<sos>汤姆今年三十岁。\n",
      "预测\n",
      "<sos>汤姆今年三十岁。\n",
      "原文：\n",
      "<sos>tomiswatchingavideo.\n",
      "正确答案：\n",
      "<sos>湯姆在看影片。\n",
      "预测\n",
      "<sos>湯姆在看影片。\n",
      "原文：\n",
      "<sos>tomisn'tagoodperson.\n",
      "正确答案：\n",
      "<sos>湯姆不是好人。\n",
      "预测\n",
      "<sos>湯姆不是個。。\n",
      "原文：\n",
      "<sos>tomisn'tagoodworker.\n",
      "正确答案：\n",
      "<sos>湯姆不是個好工人。\n",
      "预测\n",
      "<sos>湯姆不是個好好。。\n",
      "原文：\n",
      "<sos>tomisn'tgoingtostop.\n",
      "正确答案：\n",
      "<sos>湯姆不會停。\n",
      "预测\n",
      "<sos>湯姆不會停。\n",
      "原文：\n",
      "<sos>tomjustwantsmymoney.\n",
      "正确答案：\n",
      "<sos>湯姆就是想要我的錢。\n",
      "预测\n",
      "<sos>湯姆想要想要我的錢。\n",
      "原文：\n",
      "<sos>tomkissedmary'scheek.\n",
      "正确答案：\n",
      "<sos>汤姆吻了玛丽的脸颊。\n",
      "预测\n",
      "<sos>汤姆吻了玛丽的脸颊。。\n",
      "原文：\n",
      "<sos>tomknewhowtodothat.\n",
      "正确答案：\n",
      "<sos>汤姆知道怎么做那事。\n",
      "预测\n",
      "<sos>汤姆知道怎么做那事。\n",
      "原文：\n",
      "<sos>tomknowsmarywashere.\n",
      "正确答案：\n",
      "<sos>湯姆知道瑪麗在這裡。\n",
      "预测\n",
      "<sos>湯姆知道瑪麗在這裡。\n",
      "原文：\n",
      "<sos>tomknowsthatyouknow.\n",
      "正确答案：\n",
      "<sos>湯姆知道你知道。\n",
      "预测\n",
      "<sos>湯姆知道你知道。\n",
      "原文：\n",
      "<sos>tomlookedathisnotes.\n",
      "正确答案：\n",
      "<sos>汤姆看了看笔记。\n",
      "预测\n",
      "<sos>汤姆看了看笔记。\n",
      "原文：\n",
      "<sos>tomnearlydiedtonight.\n",
      "正确答案：\n",
      "<sos>汤姆昨晚差点死了。\n",
      "预测\n",
      "<sos>汤姆昨晚差点死了。\n",
      "原文：\n",
      "<sos>tomneedsencouragement.\n",
      "正确答案：\n",
      "<sos>湯姆需要鼓勵。\n",
      "预测\n",
      "<sos>湯姆需要鼓勵。\n",
      "原文：\n",
      "<sos>tomneversawheragain.\n",
      "正确答案：\n",
      "<sos>湯姆沒再見過她。\n",
      "预测\n",
      "<sos>湯姆沒再見過她。\n",
      "原文：\n",
      "<sos>tompickeduptheknife.\n",
      "正确答案：\n",
      "<sos>汤姆拿起了刀。\n",
      "预测\n",
      "<sos>汤姆拿起起刀。\n",
      "原文：\n",
      "<sos>tomplayedwithhisdog.\n",
      "正确答案：\n",
      "<sos>汤姆和他的狗玩。\n",
      "预测\n",
      "<sos>汤姆和他的狗狗。。\n",
      "原文：\n",
      "<sos>tomputdownhispencil.\n",
      "正确答案：\n",
      "<sos>汤姆放下他的铅笔。\n",
      "预测\n",
      "<sos>汤姆放下他的的。。\n",
      "原文：\n",
      "<sos>tomregretshismistake.\n",
      "正确答案：\n",
      "<sos>湯姆為他的錯誤後悔。\n",
      "预测\n",
      "<sos>湯姆為他他的誤後悔。\n",
      "原文：\n",
      "<sos>tomrippedoutthepage.\n",
      "正确答案：\n",
      "<sos>汤姆把这一页撕掉了。\n",
      "预测\n",
      "<sos>汤姆把了一页撕掉了。\n",
      "原文：\n",
      "<sos>tomrunsfasterthanme.\n",
      "正确答案：\n",
      "<sos>汤姆跑得比我快。\n",
      "预测\n",
      "<sos>汤姆跑比比我快。\n",
      "原文：\n",
      "<sos>tomsatonatreetrunk.\n",
      "正确答案：\n",
      "<sos>汤姆坐在了树干上。\n",
      "预测\n",
      "<sos>汤姆坐在了树干上上。\n",
      "原文：\n",
      "<sos>tomsaysheleftanote.\n",
      "正确答案：\n",
      "<sos>汤姆说他留了张便条。\n",
      "预测\n",
      "<sos>汤姆说他留了张张。\n",
      "原文：\n",
      "<sos>tomsaysheneedsanap.\n",
      "正确答案：\n",
      "<sos>汤姆说他需要午睡。\n",
      "预测\n",
      "<sos>汤姆说他需要午睡。\n",
      "原文：\n",
      "<sos>tomsayshe'sveryrich.\n",
      "正确答案：\n",
      "<sos>湯姆說他很有錢。\n",
      "预测\n",
      "<sos>湯姆說他很很錢錢\n",
      "原文：\n",
      "<sos>tomshouldbeheresoon.\n",
      "正确答案：\n",
      "<sos>汤姆应该很快就到。\n",
      "预测\n",
      "<sos>汤姆很快很快就到。\n",
      "原文：\n",
      "<sos>tomthinksthere'shope.\n",
      "正确答案：\n",
      "<sos>汤姆认为有希望。\n",
      "预测\n",
      "<sos>汤姆认为有有。\n",
      "原文：\n",
      "<sos>tomtoldmewhattosay.\n",
      "正确答案：\n",
      "<sos>汤姆告诉我该说什么。\n",
      "预测\n",
      "<sos>汤姆告诉我说说什么。\n",
      "原文：\n",
      "<sos>tomwasalreadyatwork.\n",
      "正确答案：\n",
      "<sos>湯姆已經在上班了。\n",
      "预测\n",
      "<sos>湯姆已經上班上班了了\n",
      "原文：\n",
      "<sos>tomwaslatefordinner.\n",
      "正确答案：\n",
      "<sos>湯姆晚餐遲到了。\n",
      "预测\n",
      "<sos>湯姆晚餐遲到了。\n",
      "原文：\n",
      "<sos>tomworksinabanknow.\n",
      "正确答案：\n",
      "<sos>湯姆現在在銀行上班。\n",
      "预测\n",
      "<sos>湯姆現在在銀行銀行。\n",
      "原文：\n",
      "<sos>tom'shandsareshaking.\n",
      "正确答案：\n",
      "<sos>汤姆的手在颤动。\n",
      "预测\n",
      "<sos>汤姆的手在颤动。\n",
      "原文：\n",
      "<sos>tomorrowismybirthday.\n",
      "正确答案：\n",
      "<sos>明天是我生日。\n",
      "预测\n",
      "<sos>明天是我生日。\n",
      "原文：\n",
      "<sos>trytokeepfromcrying.\n",
      "正确答案：\n",
      "<sos>試著不要哭。\n",
      "预测\n",
      "<sos>試著哭哭。\n",
      "原文：\n",
      "<sos>turntheflamedownlow.\n",
      "正确答案：\n",
      "<sos>把火轉小一點。\n",
      "预测\n",
      "<sos>把火轉小一點。\n",
      "原文：\n",
      "<sos>waterisveryimportant.\n",
      "正确答案：\n",
      "<sos>水非常重要。\n",
      "预测\n",
      "<sos>水非常重要。\n",
      "原文：\n",
      "<sos>weareafamilyoffive.\n",
      "正确答案：\n",
      "<sos>我家有5口人。\n",
      "预测\n",
      "<sos>我家有5口人。\n",
      "原文：\n",
      "<sos>weboughtaroundtable.\n",
      "正确答案：\n",
      "<sos>我们买了张圆桌。\n",
      "预测\n",
      "<sos>我们买了张圆桌。。\n",
      "原文：\n",
      "<sos>wedidn'tbringitback.\n",
      "正确答案：\n",
      "<sos>我们没把它带回来。\n",
      "预测\n",
      "<sos>我们没把带带回来。\n",
      "原文：\n",
      "<sos>wedon'tliveinboston.\n",
      "正确答案：\n",
      "<sos>我们不住在波士顿。\n",
      "预测\n",
      "<sos>我们不住在在。。\n",
      "原文：\n",
      "<sos>wegavehimupfordead.\n",
      "正确答案：\n",
      "<sos>我們為死者放棄了他。\n",
      "预测\n",
      "<sos>我們為死者放棄了了。\n",
      "原文：\n",
      "<sos>wegotlostinthesnow.\n",
      "正确答案：\n",
      "<sos>我們在雪地裡迷了路。\n",
      "预测\n",
      "<sos>我們在雪地裡迷了路。\n",
      "原文：\n",
      "<sos>wegotonthebusthere.\n",
      "正确答案：\n",
      "<sos>我們在那裡上了公共汽車。\n",
      "预测\n",
      "<sos>我們在那裡那裡那裡了汽車。\n",
      "原文：\n",
      "<sos>wehadalargeaudience.\n",
      "正确答案：\n",
      "<sos>我们有很多听众。\n",
      "预测\n",
      "<sos>我们有很多听众。\n",
      "原文：\n",
      "<sos>wehadtolivetogether.\n",
      "正确答案：\n",
      "<sos>我們要在一起生活。\n",
      "预测\n",
      "<sos>我們要一起一起生活。\n",
      "原文：\n",
      "<sos>wehaveatesttomorrow.\n",
      "正确答案：\n",
      "<sos>我们明天有个测验。\n",
      "预测\n",
      "<sos>我们明天有个测验。\n",
      "原文：\n",
      "<sos>wehaveonlyonechance.\n",
      "正确答案：\n",
      "<sos>我们只有一次机会。\n",
      "预测\n",
      "<sos>我们只有一次机会。\n",
      "原文：\n",
      "<sos>welethimkeepthedog.\n",
      "正确答案：\n",
      "<sos>我們讓他養狗。\n",
      "预测\n",
      "<sos>我們讓他養狗。\n",
      "原文：\n",
      "<sos>wemadeitoutofthere.\n",
      "正确答案：\n",
      "<sos>我們從那裡逃了出來。\n",
      "预测\n",
      "<sos>我們從那裡逃逃出來。\n",
      "原文：\n",
      "<sos>weneedtobuyanewtv.\n",
      "正确答案：\n",
      "<sos>我们需要买新电视机。\n",
      "预测\n",
      "<sos>我们需要买新新。\n",
      "原文：\n",
      "<sos>weorderedchinesefood.\n",
      "正确答案：\n",
      "<sos>我们点了中餐。\n",
      "预测\n",
      "<sos>我们点了了。\n",
      "原文：\n",
      "<sos>weranthreekilometers.\n",
      "正确答案：\n",
      "<sos>我們跑了三公里。\n",
      "预测\n",
      "<sos>我們跑了三三。\n",
      "原文：\n",
      "<sos>westilldon'tknowwhy.\n",
      "正确答案：\n",
      "<sos>我們仍然不知道為什麼。\n",
      "预测\n",
      "<sos>我們仍然不知道為什麼。\n",
      "原文：\n",
      "<sos>westillhavemoretime.\n",
      "正确答案：\n",
      "<sos>我們仍然有更多的時間。\n",
      "预测\n",
      "<sos>我們仍然有多多的時間。\n",
      "原文：\n",
      "<sos>we'dbetterwaketomup.\n",
      "正确答案：\n",
      "<sos>我们最好叫醒汤姆。\n",
      "预测\n",
      "<sos>我们最好叫醒汤姆。\n",
      "原文：\n",
      "<sos>we'llalwaysbefriends.\n",
      "正确答案：\n",
      "<sos>我们永远都会是朋友。\n",
      "预测\n",
      "<sos>我们永远都都会朋友。\n",
      "原文：\n",
      "<sos>we'regoingouttonight.\n",
      "正确答案：\n",
      "<sos>我们今晚出去。\n",
      "预测\n",
      "<sos>我们今晚出去。\n",
      "原文：\n",
      "<sos>we'vebeenwatchingyou.\n",
      "正确答案：\n",
      "<sos>我们在看着你。\n",
      "预测\n",
      "<sos>我们在看着你。\n",
      "原文：\n",
      "<sos>wellbegunishalfdone.\n",
      "正确答案：\n",
      "<sos>好的開始是成功的一半。\n",
      "预测\n",
      "<sos>好的開始是成功成功一半。\n",
      "原文：\n",
      "<sos>wereyououtlastnight?\n",
      "正确答案：\n",
      "<sos>昨晚你出去了嗎？\n",
      "预测\n",
      "<sos>昨晚你出去了嗎？\n",
      "原文：\n",
      "<sos>whati'msayingistrue.\n",
      "正确答案：\n",
      "<sos>我說的是真的。\n",
      "预测\n",
      "<sos>我的的是真的。\n",
      "原文：\n",
      "<sos>whatabeautifulflower!\n",
      "正确答案：\n",
      "<sos>多漂亮的花啊!\n",
      "预测\n",
      "<sos>多漂亮的的啊!\n",
      "原文：\n",
      "<sos>whatawonderfulfamily.\n",
      "正确答案：\n",
      "<sos>多美好的家庭啊！\n",
      "预测\n",
      "<sos>多美好美好家庭啊！\n",
      "原文：\n",
      "<sos>whatareyoucryingfor?\n",
      "正确答案：\n",
      "<sos>你為什麼哭？\n",
      "预测\n",
      "<sos>你為哭哭？\n",
      "原文：\n",
      "<sos>whatareyoudoinghere?\n",
      "正确答案：\n",
      "<sos>你在這裡做什麼？\n",
      "预测\n",
      "<sos>你在做什麼？\n",
      "原文：\n",
      "<sos>whatareyoulookingat?\n",
      "正确答案：\n",
      "<sos>你在看什麼？\n",
      "预测\n",
      "<sos>你在看什麼？\n",
      "原文：\n",
      "<sos>whatareyoulookingat?\n",
      "正确答案：\n",
      "<sos>你在看什么？\n",
      "预测\n",
      "<sos>你在看什麼？\n",
      "原文：\n",
      "<sos>whatareyoustaringat?\n",
      "正确答案：\n",
      "<sos>你在看什麼？\n",
      "预测\n",
      "<sos>你在看什麼？\n",
      "原文：\n",
      "<sos>whatcolorisyourhair?\n",
      "正确答案：\n",
      "<sos>您的头发是什么颜色的？\n",
      "预测\n",
      "<sos>您的头发是是什么？\n",
      "原文：\n",
      "<sos>whatdidyouwanttodo?\n",
      "正确答案：\n",
      "<sos>你以前想做什么？\n",
      "预测\n",
      "<sos>你以前想什麼？\n",
      "原文：\n",
      "<sos>whatdoyouthinkofit?\n",
      "正确答案：\n",
      "<sos>你觉得怎么样？\n",
      "预测\n",
      "<sos>你觉得?\n",
      "原文：\n",
      "<sos>whatdoyouthinkofit?\n",
      "正确答案：\n",
      "<sos>你認為如何?\n",
      "预测\n",
      "<sos>你認為如何？\n",
      "原文：\n",
      "<sos>whatdoyouwantitfor?\n",
      "正确答案：\n",
      "<sos>你要它干什么？\n",
      "预测\n",
      "<sos>你要干什么干什么\n",
      "原文：\n",
      "<sos>whatdoesptastandfor?\n",
      "正确答案：\n",
      "<sos>pta代表什么意思？\n",
      "预测\n",
      "<sos>pta代表什么意思\n",
      "原文：\n",
      "<sos>whatdoeshewanttodo?\n",
      "正确答案：\n",
      "<sos>他到底想干嘛？\n",
      "预测\n",
      "<sos>他到底想干嘛？\n",
      "原文：\n",
      "<sos>whatdoesitsoundlike?\n",
      "正确答案：\n",
      "<sos>那聽起來像什麼?\n",
      "预测\n",
      "<sos>那聽起來起來什麼?\n",
      "原文：\n",
      "<sos>whatdoesthispencost?\n",
      "正确答案：\n",
      "<sos>这支钢笔要多少钱？\n",
      "预测\n",
      "<sos>这支钢笔錢钱？\n",
      "原文：\n",
      "<sos>whatdoesthispencost?\n",
      "正确答案：\n",
      "<sos>這支筆多少錢?\n",
      "预测\n",
      "<sos>這支筆钢笔多少?？\n",
      "原文：\n",
      "<sos>whathaveigottolose?\n",
      "正确答案：\n",
      "<sos>我要失去什么？\n",
      "预测\n",
      "<sos>我要失去什么？\n",
      "原文：\n",
      "<sos>whatisgestalttherapy?\n",
      "正确答案：\n",
      "<sos>什么是格式塔疗法？\n",
      "预测\n",
      "<sos>什么什么格式疗法疗法\n",
      "原文：\n",
      "<sos>whatisaspirinmadeof?\n",
      "正确答案：\n",
      "<sos>阿司匹林是用什么做的？\n",
      "预测\n",
      "<sos>阿司匹林是用什么什麼？\n",
      "原文：\n",
      "<sos>whatisyourhouselike?\n",
      "正确答案：\n",
      "<sos>你的房子如何？\n",
      "预测\n",
      "<sos>你的房子？？\n",
      "原文：\n",
      "<sos>whatsportsdoyoulike?\n",
      "正确答案：\n",
      "<sos>你喜歡什麼運動？\n",
      "预测\n",
      "<sos>你喜歡運動什麼？\n",
      "原文：\n",
      "<sos>whattimedoesitstart?\n",
      "正确答案：\n",
      "<sos>什么时候开始？\n",
      "预测\n",
      "<sos>什么时候开始？\n",
      "原文：\n",
      "<sos>what'reyoudoingthere?\n",
      "正确答案：\n",
      "<sos>你在那里做什么呢？\n",
      "预测\n",
      "<sos>你在那里什么什么？\n",
      "原文：\n",
      "<sos>what'reyoulaughingat?\n",
      "正确答案：\n",
      "<sos>你在笑什么呢？\n",
      "预测\n",
      "<sos>在在什么什么？\n",
      "原文：\n",
      "<sos>what'reyoulaughingat?\n",
      "正确答案：\n",
      "<sos>在笑什么呢？\n",
      "预测\n",
      "<sos>你笑笑呢？\n",
      "原文：\n",
      "<sos>what'stom'sbloodtype?\n",
      "正确答案：\n",
      "<sos>湯姆的血型是甚麼？\n",
      "预测\n",
      "<sos>湯姆的血型是甚麼？\n",
      "原文：\n",
      "<sos>what'sthatbirdcalled?\n",
      "正确答案：\n",
      "<sos>那隻鳥叫什麼名字？\n",
      "预测\n",
      "<sos>那隻鳥叫名字？？\n",
      "原文：\n",
      "<sos>what'stheweatherlike?\n",
      "正确答案：\n",
      "<sos>天氣怎麼樣？\n",
      "预测\n",
      "<sos>天氣怎麼樣？\n",
      "原文：\n",
      "<sos>whenareyougoinghome?\n",
      "正确答案：\n",
      "<sos>你什麼時候要回家?\n",
      "预测\n",
      "<sos>你什麼時候回家回家?\n",
      "原文：\n",
      "<sos>whendidyougotowork?\n",
      "正确答案：\n",
      "<sos>你什么时候上班？\n",
      "预测\n",
      "<sos>你什么时候上班？\n",
      "原文：\n",
      "<sos>wherearetheelevators?\n",
      "正确答案：\n",
      "<sos>電梯在哪裡？\n",
      "预测\n",
      "<sos>電梯在哪裡？\n",
      "原文：\n",
      "<sos>whereareyourightnow?\n",
      "正确答案：\n",
      "<sos>你現在在哪裡？\n",
      "预测\n",
      "<sos>你現在在哪裡？\n",
      "原文：\n",
      "<sos>wherecanicatchabus?\n",
      "正确答案：\n",
      "<sos>我可以在哪裡搭公車？\n",
      "预测\n",
      "<sos>我可以在哪裡搭公車？\n",
      "原文：\n",
      "<sos>wherecanitakeabath?\n",
      "正确答案：\n",
      "<sos>我能在哪裡洗澡？\n",
      "预测\n",
      "<sos>我能在哪裡洗澡？\n",
      "原文：\n",
      "<sos>wheredidyoucomefrom?\n",
      "正确答案：\n",
      "<sos>你從哪裡來？\n",
      "预测\n",
      "<sos>你從來來？\n",
      "原文：\n",
      "<sos>wheredoyouwanttogo?\n",
      "正确答案：\n",
      "<sos>你要去哪裡?\n",
      "预测\n",
      "<sos>你要去哪裡?\n",
      "原文：\n",
      "<sos>wheredoyouwanttogo?\n",
      "正确答案：\n",
      "<sos>你想去哪裡?\n",
      "预测\n",
      "<sos>你想去哪裡?\n",
      "原文：\n",
      "<sos>wheredoyouwanttogo?\n",
      "正确答案：\n",
      "<sos>你們要去哪裡？\n",
      "预测\n",
      "<sos>你要去哪裡?\n",
      "原文：\n",
      "<sos>whereelseshouldwego?\n",
      "正确答案：\n",
      "<sos>我们要去其他的什么地方？\n",
      "预测\n",
      "<sos>我们要要其他的的地方？\n",
      "原文：\n",
      "<sos>whereisthestagedoor?\n",
      "正确答案：\n",
      "<sos>请问剧场后门在哪？\n",
      "预测\n",
      "<sos>请问剧场后门在？\n",
      "原文：\n",
      "<sos>where'sthediningroom?\n",
      "正确答案：\n",
      "<sos>餐厅在哪里？\n",
      "预测\n",
      "<sos>餐厅在哪里？\n",
      "原文：\n",
      "<sos>whoareyouwaitingfor?\n",
      "正确答案：\n",
      "<sos>你在等誰?\n",
      "预测\n",
      "<sos>你在等等?\n",
      "原文：\n",
      "<sos>whodoyouthinkweare?\n",
      "正确答案：\n",
      "<sos>你认为我们是谁？\n",
      "预测\n",
      "<sos>你认为我们谁谁？\n",
      "原文：\n",
      "<sos>whoelseknowsaboutit?\n",
      "正确答案：\n",
      "<sos>還有誰知道它？\n",
      "预测\n",
      "<sos>還有誰它它？\n",
      "原文：\n",
      "<sos>whoelseusesthisroom?\n",
      "正确答案：\n",
      "<sos>还有谁用这个房间？\n",
      "预测\n",
      "<sos>还有还有这个房间房间\n",
      "原文：\n",
      "<sos>whowantshotchocolate?\n",
      "正确答案：\n",
      "<sos>谁要热巧克力？\n",
      "预测\n",
      "<sos>谁要热巧克力？\n",
      "原文：\n",
      "<sos>whowereyoutalkingto?\n",
      "正确答案：\n",
      "<sos>你跟誰說話呢？\n",
      "预测\n",
      "<sos>你和說說呢？\n",
      "原文：\n",
      "<sos>whowereyoutalkingto?\n",
      "正确答案：\n",
      "<sos>你和谁说话呢？\n",
      "预测\n",
      "<sos>你和谁说话呢？\n",
      "原文：\n",
      "<sos>whowrotethesestories?\n",
      "正确答案：\n",
      "<sos>誰寫了這些故事？\n",
      "预测\n",
      "<sos>誰寫了這些故事？\n",
      "原文：\n",
      "<sos>who'sworriedabouttom?\n",
      "正确答案：\n",
      "<sos>谁担心汤姆？\n",
      "预测\n",
      "<sos>谁担心汤姆？\n",
      "原文：\n",
      "<sos>whyarethepolicehere?\n",
      "正确答案：\n",
      "<sos>为什么这有警察？\n",
      "预测\n",
      "<sos>为什么这有警察？\n",
      "原文：\n"
     ]
    },
    {
     "name": "stdout",
     "output_type": "stream",
     "text": [
      "<sos>whycan'tostrichesfly?\n",
      "正确答案：\n",
      "<sos>為什麽鴕鳥不會飛？\n",
      "预测\n",
      "<sos>為什麽鴕鳥不會飛？\n",
      "原文：\n",
      "<sos>whycan'twehavepizza?\n",
      "正确答案：\n",
      "<sos>为什么我们不能要比萨？\n",
      "预测\n",
      "<sos>为什么我们不能要比萨？\n",
      "原文：\n",
      "<sos>whydidyoucrysomuch?\n",
      "正确答案：\n",
      "<sos>你為甚麼哭得這麼厲害？\n",
      "预测\n",
      "<sos>你為甚麼哭哭厲害？\n",
      "原文：\n",
      "<sos>whydoyouneedmyhelp?\n",
      "正确答案：\n",
      "<sos>你為甚麼需要我幫助？\n",
      "预测\n",
      "<sos>你為甚麼需要我幫助？\n",
      "原文：\n",
      "<sos>whydon'tyoustayhere?\n",
      "正确答案：\n",
      "<sos>你为什么不留在这里？\n",
      "预测\n",
      "<sos>你为什么不这里这里？\n",
      "原文：\n",
      "<sos>whywasn'ttomarrested?\n",
      "正确答案：\n",
      "<sos>為甚麼湯姆沒被捕？\n",
      "预测\n",
      "<sos>為甚麼湯姆湯姆被捕？\n",
      "原文：\n",
      "<sos>williseeyoutomorrow?\n",
      "正确答案：\n",
      "<sos>我明天能见到你吗？\n",
      "预测\n",
      "<sos>我明天见到见到你吗？\n",
      "原文：\n",
      "<sos>willtomreallydothat?\n",
      "正确答案：\n",
      "<sos>湯姆真要做嗎？\n",
      "预测\n",
      "<sos>湯姆真要做嗎？\n",
      "原文：\n",
      "<sos>winnersdon'tusedrugs.\n",
      "正确答案：\n",
      "<sos>優勝者不使用藥物。\n",
      "预测\n",
      "<sos>優勝者不使用藥物。\n",
      "原文：\n",
      "<sos>wouldyoudomeafavor?\n",
      "正确答案：\n",
      "<sos>你能幫我一個忙嗎？\n",
      "预测\n",
      "<sos>你能幫我一個忙嗎？\n",
      "原文：\n",
      "<sos>writeyouraddresshere.\n",
      "正确答案：\n",
      "<sos>在這裡寫下你的地址。\n",
      "预测\n",
      "<sos>在你你你你地址地址。\n",
      "原文：\n",
      "<sos>yes,ihaveagoodidea.\n",
      "正确答案：\n",
      "<sos>是的，我有一個好主意。\n",
      "预测\n",
      "<sos>的的我有有有好主意主意。\n",
      "原文：\n",
      "<sos>youareastallasiam.\n",
      "正确答案：\n",
      "<sos>你和我一样高。\n",
      "预测\n",
      "<sos>你和我一样高。\n",
      "原文：\n",
      "<sos>youarefreetogohome.\n",
      "正确答案：\n",
      "<sos>你隨時可以回家。\n",
      "预测\n",
      "<sos>你隨時可以回家。\n",
      "原文：\n",
      "<sos>youareinasafeplace.\n",
      "正确答案：\n",
      "<sos>您在一个安全的地方。\n",
      "预测\n",
      "<sos>您在安全安全安全地方。\n",
      "原文：\n",
      "<sos>youareverycourageous.\n",
      "正确答案：\n",
      "<sos>您非常勇敢。\n",
      "预测\n",
      "<sos>您非常勇敢。\n",
      "原文：\n",
      "<sos>youaren'tkidsanymore.\n",
      "正确答案：\n",
      "<sos>你們不再是小孩了。\n",
      "预测\n",
      "<sos>你們是是小孩了。\n",
      "原文：\n",
      "<sos>youcandeletethatnow.\n",
      "正确答案：\n",
      "<sos>你现在可以删除它。\n",
      "预测\n",
      "<sos>你现在可以删除它。\n",
      "原文：\n",
      "<sos>youcanstartrightnow.\n",
      "正确答案：\n",
      "<sos>你现在可以开始了。\n",
      "预测\n",
      "<sos>你现在可以开始了。\n",
      "原文：\n",
      "<sos>youcanswim,can'tyou?\n",
      "正确答案：\n",
      "<sos>你會游泳, 不是嗎？\n",
      "预测\n",
      "<sos>你游泳游泳, 不是嗎？\n",
      "原文：\n",
      "<sos>youcan'tdependontom.\n",
      "正确答案：\n",
      "<sos>你不能靠湯姆。\n",
      "预测\n",
      "<sos>你不能靠湯姆。\n",
      "原文：\n",
      "<sos>youcan'tkeepasecret.\n",
      "正确答案：\n",
      "<sos>你不能有秘密。\n",
      "预测\n",
      "<sos>你不能不能秘密。\n",
      "原文：\n",
      "<sos>youdon'tknowwhoiam.\n",
      "正确答案：\n",
      "<sos>您不知道我是谁。\n",
      "预测\n",
      "<sos>你不知道我是谁。\n",
      "原文：\n",
      "<sos>youdon'tlooksohappy.\n",
      "正确答案：\n",
      "<sos>你看来不大高兴。\n",
      "预测\n",
      "<sos>你看来看来高兴。。\n",
      "原文：\n",
      "<sos>youdon'tneedtohurry.\n",
      "正确答案：\n",
      "<sos>你不必著急。\n",
      "预测\n",
      "<sos>你不必著急。\n",
      "原文：\n",
      "<sos>youdroppedyourpencil.\n",
      "正确答案：\n",
      "<sos>你把你的铅笔弄掉了。\n",
      "预测\n",
      "<sos>你把你的的了。\n",
      "原文：\n",
      "<sos>youhatetom,don'tyou?\n",
      "正确答案：\n",
      "<sos>你恨湯姆，不是麼？\n",
      "预测\n",
      "<sos>你恨，，不是麼？\n",
      "原文：\n",
      "<sos>youhavebeautifuleyes.\n",
      "正确答案：\n",
      "<sos>你的眼睛真漂亮。\n",
      "预测\n",
      "<sos>你的眼睛眼睛眼睛。\n",
      "原文：\n",
      "<sos>youhavebeautifullegs.\n",
      "正确答案：\n",
      "<sos>你有着漂亮的腿。\n",
      "预测\n",
      "<sos>你有着的腿腿。\n",
      "原文：\n",
      "<sos>youhavebeautifullips.\n",
      "正确答案：\n",
      "<sos>你的嘴唇很漂亮。\n",
      "预测\n",
      "<sos>你的嘴唇很漂亮。\n",
      "原文：\n",
      "<sos>youhavedoneverywell.\n",
      "正确答案：\n",
      "<sos>你做得很好。\n",
      "预测\n",
      "<sos>你做得得好。\n",
      "原文：\n",
      "<sos>youhaveplentyoftime.\n",
      "正确答案：\n",
      "<sos>你有足够的时间。\n",
      "预测\n",
      "<sos>你有足够的。\n",
      "原文：\n",
      "<sos>youlookreallynervous.\n",
      "正确答案：\n",
      "<sos>你看起来真的很紧张。\n",
      "预测\n",
      "<sos>你真的很很紧张。\n",
      "原文：\n",
      "<sos>youlookverydignified.\n",
      "正确答案：\n",
      "<sos>你看起來很威嚴。\n",
      "预测\n",
      "<sos>你看起來威嚴威嚴。\n",
      "原文：\n",
      "<sos>youmustdoityourself.\n",
      "正确答案：\n",
      "<sos>你应该自己做。\n",
      "预测\n",
      "<sos>你应该做做。\n",
      "原文：\n",
      "<sos>youmustpayinadvance.\n",
      "正确答案：\n",
      "<sos>您必须预先付钱。\n",
      "预测\n",
      "<sos>您必须预先付钱。\n",
      "原文：\n",
      "<sos>youmust'vebeenasleep.\n",
      "正确答案：\n",
      "<sos>你一定睡著了。\n",
      "预测\n",
      "<sos>你一定睡著了。\n",
      "原文：\n",
      "<sos>youoriwillbechosen.\n",
      "正确答案：\n",
      "<sos>你或者我会被选中。\n",
      "预测\n",
      "<sos>你或者我会被选中。\n",
      "原文：\n",
      "<sos>yououghtnottogoout.\n",
      "正确答案：\n",
      "<sos>你不應該出門。\n",
      "预测\n",
      "<sos>你不應該出門。\n",
      "原文：\n",
      "<sos>youreallyareanidiot.\n",
      "正确答案：\n",
      "<sos>你真的是（一）個笨蛋。\n",
      "预测\n",
      "<sos>你真的是（個個笨蛋笨蛋。\n",
      "原文：\n",
      "<sos>youreallyarehopeless.\n",
      "正确答案：\n",
      "<sos>你真的是一點希望也沒有。\n",
      "预测\n",
      "<sos>你真的是是也有有有。\n",
      "原文：\n",
      "<sos>youremindmeofmyself.\n",
      "正确答案：\n",
      "<sos>你让我想起我自己。\n",
      "预测\n",
      "<sos>你让我想起自己自己。\n",
      "原文：\n",
      "<sos>youshouldcheckitout.\n",
      "正确答案：\n",
      "<sos>你應該檢查一下。\n",
      "预测\n",
      "<sos>你應該檢查一下。\n",
      "原文：\n",
      "<sos>youshoulddothatsoon.\n",
      "正确答案：\n",
      "<sos>你應該很快那樣做。\n",
      "预测\n",
      "<sos>你應該很快那樣做。\n",
      "原文：\n",
      "<sos>youshouldgoinperson.\n",
      "正确答案：\n",
      "<sos>你應該親自去。\n",
      "预测\n",
      "<sos>你應該親自去。\n",
      "原文：\n",
      "<sos>youshouldhavedoneso.\n",
      "正确答案：\n",
      "<sos>你本應該這樣做的。\n",
      "预测\n",
      "<sos>你本應該做的的。\n",
      "原文：\n",
      "<sos>youshouldhaveseenit.\n",
      "正确答案：\n",
      "<sos>您本應該看看它的。\n",
      "预测\n",
      "<sos>您本應該看看它。。\n",
      "原文：\n",
      "<sos>youshouldnotgoalone.\n",
      "正确答案：\n",
      "<sos>你不應該一個人去。\n",
      "预测\n",
      "<sos>你不不一個人去。\n",
      "原文：\n",
      "<sos>youshouldquitsmoking.\n",
      "正确答案：\n",
      "<sos>你應該戒菸。\n",
      "预测\n",
      "<sos>你應該戒菸。\n",
      "原文：\n",
      "<sos>youshouldseeadoctor.\n",
      "正确答案：\n",
      "<sos>你應該去看醫生。\n",
      "预测\n",
      "<sos>你應該去看醫生。\n",
      "原文：\n",
      "<sos>youshouldstudyharder.\n",
      "正确答案：\n",
      "<sos>你應該更努力學習。\n",
      "预测\n",
      "<sos>你應該更學習學習。\n",
      "原文：\n",
      "<sos>youshouldtakeupgolf.\n",
      "正确答案：\n",
      "<sos>你应该开始从事高尔夫。\n",
      "预测\n",
      "<sos>你应该从事从事高尔夫。\n",
      "原文：\n",
      "<sos>youshouldn'twaithere.\n",
      "正确答案：\n",
      "<sos>你不應該在這裡等。\n",
      "预测\n",
      "<sos>你不應該在等這裡。\n",
      "原文：\n",
      "<sos>youswimbetterthanme.\n",
      "正确答案：\n",
      "<sos>你游泳游得比我好。\n",
      "预测\n",
      "<sos>你游泳游得我我好。\n",
      "原文：\n",
      "<sos>you'dbetterdoitsoon.\n",
      "正确答案：\n",
      "<sos>你最好尽快去做。\n",
      "预测\n",
      "<sos>你最好尽快做做。\n",
      "原文：\n",
      "<sos>you'dbetternotgoout.\n",
      "正确答案：\n",
      "<sos>你最好不要出門。\n",
      "预测\n",
      "<sos>你最好不要出門。\n",
      "原文：\n",
      "<sos>you'llunderstandlater.\n",
      "正确答案：\n",
      "<sos>你晚一會就能明白。\n",
      "预测\n",
      "<sos>你晚一會就就明白。\n",
      "原文：\n",
      "<sos>you'reabsolutelyright.\n",
      "正确答案：\n",
      "<sos>你完全正確。\n",
      "预测\n",
      "<sos>你完全正確。\n",
      "原文：\n",
      "<sos>you'redrivingtoofast.\n",
      "正确答案：\n",
      "<sos>你開得太快了。\n",
      "预测\n",
      "<sos>你開得太快了。\n",
      "原文：\n",
      "<sos>you'reeverythingtome.\n",
      "正确答案：\n",
      "<sos>你是我的一切。\n",
      "预测\n",
      "<sos>你是我的一切。\n",
      "原文：\n",
      "<sos>you'rereallybeautiful.\n",
      "正确答案：\n",
      "<sos>你真的很漂亮。\n",
      "预测\n",
      "<sos>你真很漂亮。\n",
      "原文：\n",
      "<sos>you'rereallywonderful.\n",
      "正确答案：\n",
      "<sos>你真是太好了。\n",
      "预测\n",
      "<sos>你真是太好了。\n",
      "原文：\n",
      "<sos>you'retheonewhoquit.\n",
      "正确答案：\n",
      "<sos>你是退出的那個。\n",
      "预测\n",
      "<sos>你是退出那個那個。\n",
      "原文：\n",
      "<sos>you'reveryresourceful.\n",
      "正确答案：\n",
      "<sos>你鬼点子真多。\n",
      "预测\n",
      "<sos>你鬼点子真多。\n",
      "原文：\n",
      "<sos>you'vegottoapologize.\n",
      "正确答案：\n",
      "<sos>你應該道歉。\n",
      "预测\n",
      "<sos>你應該道歉。\n",
      "原文：\n",
      "<sos>you'vegottobejoking!\n",
      "正确答案：\n",
      "<sos>你一定是开玩笑！\n",
      "预测\n",
      "<sos>你一定是开玩笑！\n",
      "原文：\n",
      "<sos>you'vegottobejoking.\n",
      "正确答案：\n",
      "<sos>你一定是开玩笑！\n",
      "预测\n",
      "<sos>你一定是开玩笑！\n",
      "原文：\n",
      "<sos>yourdressisverynice.\n",
      "正确答案：\n",
      "<sos>你的穿著非常好。\n",
      "预测\n",
      "<sos>你的穿著穿著好。\n",
      "原文：\n",
      "<sos>yourwifeismadatyou.\n",
      "正确答案：\n",
      "<sos>你太太在生你的氣。\n",
      "预测\n",
      "<sos>你太太太太生生氣氣。\n",
      "原文：\n",
      "<sos>\"i'llbeback,\"saidtom.\n",
      "正确答案：\n",
      "<sos>“我会回来，”汤姆说。\n",
      "预测\n",
      "<sos>“我会，，，汤姆说。\n",
      "原文：\n",
      "<sos>alightbulbgiveslight.\n",
      "正确答案：\n",
      "<sos>灯泡发光。\n",
      "预测\n",
      "<sos>灯泡发光。\n",
      "原文：\n",
      "<sos>atruckranoverourdog.\n",
      "正确答案：\n",
      "<sos>一輛卡車輾過一隻狗。\n",
      "预测\n",
      "<sos>一輛卡車輾過狗狗狗。\n",
      "原文：\n",
      "<sos>aunicyclehasonewheel.\n",
      "正确答案：\n",
      "<sos>一輛獨輪車有一個輪子。\n",
      "预测\n",
      "<sos>一輛獨輪車有一個輪子。\n",
      "原文：\n",
      "<sos>ayearhastwelvemonths.\n",
      "正确答案：\n",
      "<sos>一年有十二個月。\n",
      "预测\n",
      "<sos>一年有十二個月。\n",
      "原文：\n",
      "<sos>addatinypinchofsalt.\n",
      "正确答案：\n",
      "<sos>加一丁點鹽。\n",
      "预测\n",
      "<sos>加一丁點鹽。\n",
      "原文：\n",
      "<sos>alliwantismyfreedom.\n",
      "正确答案：\n",
      "<sos>我只要自由。\n",
      "预测\n",
      "<sos>我只要自由。\n",
      "原文：\n",
      "<sos>allofthemarenotpoor.\n",
      "正确答案：\n",
      "<sos>他们都不穷。\n",
      "预测\n",
      "<sos>他们都不穷。\n",
      "原文：\n",
      "<sos>allofyoudidgoodwork.\n",
      "正确答案：\n",
      "<sos>你們所有的人都做得很好。\n",
      "预测\n",
      "<sos>你們所有人人做做做很好。\n",
      "原文：\n",
      "<sos>amiallowedtousethis?\n",
      "正确答案：\n",
      "<sos>能让我用这个吗？\n",
      "预测\n",
      "<sos>能让我用吗吗\n",
      "原文：\n",
      "<sos>anycommentsarewelcome.\n",
      "正确答案：\n",
      "<sos>欢迎作任何评论。\n",
      "预测\n",
      "<sos>欢迎作任何评论。\n",
      "原文：\n",
      "<sos>aretheseyourdaughters?\n",
      "正确答案：\n",
      "<sos>這些是你的女兒嗎？\n",
      "预测\n",
      "<sos>這些是你女兒女兒嗎\n",
      "原文：\n",
      "<sos>areyoualsofromboston?\n",
      "正确答案：\n",
      "<sos>你也是從波士頓來的嗎？\n",
      "预测\n",
      "<sos>你從從波士波士的的？？\n",
      "原文：\n",
      "<sos>areyoucomingnextweek?\n",
      "正确答案：\n",
      "<sos>你下週來嗎？\n",
      "预测\n",
      "<sos>你下週來嗎？\n",
      "原文：\n",
      "<sos>areyouhereonbusiness?\n",
      "正确答案：\n",
      "<sos>你来这里出差的？\n",
      "预测\n",
      "<sos>你在这里出差嗎？\n",
      "原文：\n",
      "<sos>areyouhidingsomething?\n",
      "正确答案：\n",
      "<sos>你是不是瞒着我什么？\n",
      "预测\n",
      "<sos>你在瞒着什么什么？\n",
      "原文：\n",
      "<sos>areyoulookingforwork?\n",
      "正确答案：\n",
      "<sos>你是在找工作吗？\n",
      "预测\n",
      "<sos>你在在工作吗？\n",
      "原文：\n",
      "<sos>areyoulookingforwork?\n",
      "正确答案：\n",
      "<sos>你在找工作吗？\n",
      "预测\n",
      "<sos>你在找工作吗？\n",
      "原文：\n",
      "<sos>areyounotfeelingwell?\n",
      "正确答案：\n",
      "<sos>你身体不舒服吗？\n",
      "预测\n",
      "<sos>你不不吗吗？\n",
      "原文：\n",
      "<sos>areyouonthecommittee?\n",
      "正确答案：\n",
      "<sos>你是委員會中的成員嗎？\n",
      "预测\n",
      "<sos>你是委員會中的嗎？\n",
      "原文：\n",
      "<sos>areyoureadytoproceed?\n",
      "正确答案：\n",
      "<sos>准备好继续了吗？\n",
      "预测\n",
      "<sos>准备准备继续了吗\n",
      "原文：\n",
      "<sos>areyoustudyingenglish?\n",
      "正确答案：\n",
      "<sos>你在研讀英語嗎？\n",
      "预测\n",
      "<sos>你在研讀英語嗎？\n",
      "原文：\n",
      "<sos>areyouwritingaletter?\n",
      "正确答案：\n",
      "<sos>你在写信吗？\n",
      "预测\n",
      "<sos>你在寫信？\n",
      "原文：\n",
      "<sos>areyouwritingaletter?\n",
      "正确答案：\n",
      "<sos>你在寫信嗎?\n",
      "预测\n",
      "<sos>你在寫信？\n",
      "原文：\n",
      "<sos>asforme,i'msatisfied.\n",
      "正确答案：\n",
      "<sos>就我而言，我很满意。\n",
      "预测\n",
      "<sos>就而言而言而言我我很。。\n",
      "原文：\n",
      "<sos>askyourdadtohelpyou.\n",
      "正确答案：\n",
      "<sos>請你父親幫你。\n",
      "预测\n",
      "<sos>請你你你你。\n",
      "原文：\n",
      "<sos>atlast,thebusstopped.\n",
      "正确答案：\n",
      "<sos>公车最终停了下来。\n",
      "预测\n",
      "<sos>公车停停了了。\n",
      "原文：\n",
      "<sos>bigfisheatlittlefish.\n",
      "正确答案：\n",
      "<sos>大鱼吃小鱼。\n",
      "预测\n",
      "<sos>大鱼吃小鱼。\n",
      "原文：\n",
      "<sos>breadismadefromflour.\n",
      "正确答案：\n",
      "<sos>面包是面粉做的。\n",
      "预测\n",
      "<sos>面包是面粉做的。\n",
      "原文：\n",
      "<sos>breadismadefromwheat.\n",
      "正确答案：\n",
      "<sos>麵包是用小麥做成的。\n",
      "预测\n",
      "<sos>麵包是用小麥做成的。\n",
      "原文：\n",
      "<sos>callmeat9:00tomorrow.\n",
      "正确答案：\n",
      "<sos>明天九点打电话给我吧。\n",
      "预测\n",
      "<sos>明天九点给给我打电话。\n",
      "原文：\n",
      "<sos>caniaskyouaquestion?\n",
      "正确答案：\n",
      "<sos>我可以问你个问题吗？\n",
      "预测\n",
      "<sos>我可以你你问题吗？\n",
      "原文：\n",
      "<sos>caniaskyouaquestion?\n",
      "正确答案：\n",
      "<sos>我能问您一个问题吗？\n",
      "预测\n",
      "<sos>我可以问一个问题吗？\n",
      "原文：\n",
      "<sos>caniaskyouaquestion?\n",
      "正确答案：\n",
      "<sos>我可以問您一個問題嗎？\n",
      "预测\n",
      "<sos>我可以问一个问题吗？\n",
      "原文：\n",
      "<sos>canipaybycreditcard?\n",
      "正确答案：\n",
      "<sos>我可以用信用卡付帳嗎?\n",
      "预测\n",
      "<sos>我可以用付帳付帳??\n",
      "原文：\n",
      "<sos>canistayherewithyou?\n",
      "正确答案：\n",
      "<sos>我可以和你一起待在这儿吗？\n",
      "预测\n",
      "<sos>我可以和你一起一起在在吗？\n",
      "原文：\n",
      "<sos>canistayherewithyou?\n",
      "正确答案：\n",
      "<sos>我可以和你一起呆在这里吗？\n",
      "预测\n",
      "<sos>我可以和你你一起在这里吗吗\n",
      "原文：\n",
      "<sos>canitakepictureshere?\n",
      "正确答案：\n",
      "<sos>我能在这里拍照吗？\n",
      "预测\n",
      "<sos>我能在拍照拍照吗\n",
      "原文：\n",
      "<sos>canitryonthisjacket?\n",
      "正确答案：\n",
      "<sos>我可以試穿這件外套嗎？\n",
      "预测\n",
      "<sos>我可以試穿這件外套嗎？\n",
      "原文：\n",
      "<sos>canwespeakinthehall?\n",
      "正确答案：\n",
      "<sos>我們能在走廊裡說話嗎？\n",
      "预测\n",
      "<sos>我們在在走廊話話嗎？\n",
      "原文：\n",
      "<sos>canyoucopythisforme?\n",
      "正确答案：\n",
      "<sos>你能替我拷貝這個嗎？\n",
      "预测\n",
      "<sos>你能替我拷貝這個嗎？\n",
      "原文：\n",
      "<sos>canyouhelpmealittle?\n",
      "正确答案：\n",
      "<sos>你能帮我一点忙吗？\n",
      "预测\n",
      "<sos>你能帮我一点忙吗？\n",
      "原文：\n",
      "<sos>canyouholdonasecond?\n",
      "正确答案：\n",
      "<sos>你能等一下嗎？\n",
      "预测\n",
      "<sos>你能等一下嗎？\n",
      "原文：\n",
      "<sos>canyoupassmethemilk?\n",
      "正确答案：\n",
      "<sos>可以把牛奶递给我吗？\n",
      "预测\n",
      "<sos>可以把牛奶牛奶我吗？\n",
      "原文：\n",
      "<sos>canyoustayforawhile?\n",
      "正确答案：\n",
      "<sos>你能待一会吗？\n",
      "预测\n",
      "<sos>你能待一会吗？\n",
      "原文：\n",
      "<sos>canyouturnthetvdown?\n",
      "正确答案：\n",
      "<sos>您能把电视开小声点吗？\n",
      "预测\n",
      "<sos>您能把开开小声点吗？\n",
      "原文：\n",
      "<sos>certainlysheiscorrect.\n",
      "正确答案：\n",
      "<sos>當然，她是正確的。\n",
      "预测\n",
      "<sos>當然的她是正確的。\n",
      "原文：\n",
      "<sos>cheeseismadefrommilk.\n",
      "正确答案：\n",
      "<sos>奶酪是用奶做成的。\n",
      "预测\n",
      "<sos>奶酪是用奶做成的。\n",
      "原文：\n",
      "<sos>christmasissoon,right?\n",
      "正确答案：\n",
      "<sos>聖誕節很快就到了，對嗎？\n",
      "预测\n",
      "<sos>聖誕節很快到到到，對嗎？\n",
      "原文：\n",
      "<sos>clearlyyouaremistaken.\n",
      "正确答案：\n",
      "<sos>顯然的，你錯了。\n",
      "预测\n",
      "<sos>顯然的，，了了。\n",
      "原文：\n",
      "<sos>coalisnotalwaysblack.\n",
      "正确答案：\n",
      "<sos>煤并不一定都是黑的。\n",
      "预测\n",
      "<sos>煤并不一定并不一定是黑的。\n",
      "原文：\n",
      "<sos>comeandseemetomorrow.\n",
      "正确答案：\n",
      "<sos>明天来看看我。\n",
      "预测\n",
      "<sos>明天看看看看我。\n",
      "原文：\n",
      "<sos>comeassoonaspossible.\n",
      "正确答案：\n",
      "<sos>尽早来。\n",
      "预测\n",
      "<sos>尽早来。\n",
      "原文：\n",
      "<sos>comein,thedoor'sopen.\n",
      "正确答案：\n",
      "<sos>進來, 門是開的。\n",
      "预测\n",
      "<sos>進來  門是開的。\n",
      "原文：\n",
      "<sos>couldiparkmycarhere?\n",
      "正确答案：\n",
      "<sos>我能把我的车停在这儿吗？\n",
      "预测\n",
      "<sos>我能把我的的停停这儿吗？\n",
      "原文：\n",
      "<sos>couldyoudrivetomhome?\n",
      "正确答案：\n",
      "<sos>你能載湯姆回家嗎？\n",
      "预测\n",
      "<sos>你能載湯姆回家嗎？\n",
      "原文：\n",
      "<sos>didtomshowaninterest?\n",
      "正确答案：\n",
      "<sos>汤姆感兴趣吗？\n",
      "预测\n",
      "<sos>汤姆感兴趣吗？\n",
      "原文：\n",
      "<sos>didyouhaveagoodrest?\n",
      "正确答案：\n",
      "<sos>休息好嗎？\n",
      "预测\n",
      "<sos>休息好嗎？\n",
      "原文：\n",
      "<sos>didyouhearwhatisaid?\n",
      "正确答案：\n",
      "<sos>你聽見我說的了嗎？\n",
      "预测\n",
      "<sos>你聽我我的了了？？\n",
      "原文：\n",
      "<sos>didyouknowthatbefore?\n",
      "正确答案：\n",
      "<sos>你之前知道那個嗎？\n",
      "预测\n",
      "<sos>你之前之前嗎嗎？\n",
      "原文：\n",
      "<sos>didyoupayforthebook?\n",
      "正确答案：\n",
      "<sos>你付錢買這本書了嗎?\n",
      "预测\n",
      "<sos>你付這本書這本書這本書嗎？\n",
      "原文：\n",
      "<sos>didyouwatchtvtonight?\n",
      "正确答案：\n",
      "<sos>你今晚看電視了嗎？\n",
      "预测\n",
      "<sos>你今晚看電視了嗎？\n",
      "原文：\n",
      "<sos>doitwhenyouhavetime.\n",
      "正确答案：\n",
      "<sos>你有时间再做吧。\n",
      "预测\n",
      "<sos>你有时间时间吧。\n",
      "原文：\n",
      "<sos>dowehaveenoughchairs?\n",
      "正确答案：\n",
      "<sos>我們的椅子夠嗎？\n",
      "预测\n",
      "<sos>我們的夠嗎嗎？\n",
      "原文：\n",
      "<sos>dowhateverhetellsyou.\n",
      "正确答案：\n",
      "<sos>他跟你说什么，你就做什么。\n",
      "预测\n",
      "<sos>他跟跟说什么什么你你做。。\n",
      "原文：\n",
      "<sos>doyoubelieveinghosts?\n",
      "正确答案：\n",
      "<sos>你相信有幽灵吗？\n",
      "预测\n",
      "<sos>你相信有鬼魂吗？\n",
      "原文：\n",
      "<sos>doyoubelieveinghosts?\n",
      "正确答案：\n",
      "<sos>你相信鬼存在吗？\n",
      "预测\n",
      "<sos>你相信鬼吗吗\n",
      "原文：\n",
      "<sos>doyoubelieveinghosts?\n",
      "正确答案：\n",
      "<sos>你相信有鬼魂吗？\n",
      "预测\n",
      "<sos>你相信鬼吗吗\n",
      "原文：\n",
      "<sos>doyoufeellikeresting?\n",
      "正确答案：\n",
      "<sos>你感觉轻松吗？\n",
      "预测\n",
      "<sos>你感觉轻松吗？\n",
      "原文：\n",
      "<sos>doyouhaveacellphone?\n",
      "正确答案：\n",
      "<sos>你有手機嗎？\n",
      "预测\n",
      "<sos>你有手機？？\n",
      "原文：\n",
      "<sos>doyouhaveadictionary?\n",
      "正确答案：\n",
      "<sos>你有字典嗎？\n",
      "预测\n",
      "<sos>你有字典嗎？\n",
      "原文：\n",
      "<sos>doyouhaveapenonyou?\n",
      "正确答案：\n",
      "<sos>你身上有铅笔吗？\n",
      "预测\n",
      "<sos>你有铅笔吗吗\n",
      "原文：\n",
      "<sos>doyouhavearedpencil?\n",
      "正确答案：\n",
      "<sos>你有紅色的鉛筆嗎？\n",
      "预测\n",
      "<sos>你有的的鉛筆？\n",
      "原文：\n",
      "<sos>doyouhaveanextrakey?\n",
      "正确答案：\n",
      "<sos>你有多余的钥匙吗？\n",
      "预测\n",
      "<sos>你有多余钥匙吗？\n",
      "原文：\n",
      "<sos>doyouhaveanybrothers?\n",
      "正确答案：\n",
      "<sos>你有兄弟吗？\n",
      "预测\n",
      "<sos>你有兄弟吗？\n",
      "原文：\n",
      "<sos>doyouhaveanysiblings?\n",
      "正确答案：\n",
      "<sos>你有兄弟姐妹吗？\n",
      "预测\n",
      "<sos>你有兄弟姐妹吗？\n",
      "原文：\n",
      "<sos>doyouhaveenoughmoney?\n",
      "正确答案：\n",
      "<sos>你的钱够吗？\n",
      "预测\n",
      "<sos>你的钱够吗？\n",
      "原文：\n",
      "<sos>doyouhavemanyfriends?\n",
      "正确答案：\n",
      "<sos>你有很多朋友吗？\n",
      "预测\n",
      "<sos>你有很多朋友？\n",
      "原文：\n",
      "<sos>doyouhaveotherfamily?\n",
      "正确答案：\n",
      "<sos>你有其他家人吗？\n",
      "预测\n",
      "<sos>你有家人吗吗？\n",
      "原文：\n",
      "<sos>doyouknowhowtodance?\n",
      "正确答案：\n",
      "<sos>你會跳舞嗎？\n",
      "预测\n",
      "<sos>你怎麼跳舞嗎？\n",
      "原文：\n",
      "<sos>doyouknowwhathesaid?\n",
      "正确答案：\n"
     ]
    },
    {
     "name": "stdout",
     "output_type": "stream",
     "text": [
      "<sos>你知道他說了什麼嗎？\n",
      "预测\n",
      "<sos>你知道他說什麼嗎嗎？\n",
      "原文：\n",
      "<sos>doyouknowwhereilive?\n",
      "正确答案：\n",
      "<sos>你知道我住哪吗？\n",
      "预测\n",
      "<sos>你知道我住哪吗？\n",
      "原文：\n",
      "<sos>doyouknowwhotheyare?\n",
      "正确答案：\n",
      "<sos>你知道他們是誰嗎?\n",
      "预测\n",
      "<sos>你知道他們是是嗎\n",
      "原文：\n",
      "<sos>doyoulikestrawberries?\n",
      "正确答案：\n",
      "<sos>你喜歡草莓嗎？\n",
      "预测\n",
      "<sos>你喜歡草莓嗎？\n",
      "原文：\n",
      "<sos>doyouliketoeatfruit?\n",
      "正确答案：\n",
      "<sos>你喜歡吃水果嗎？\n",
      "预测\n",
      "<sos>你喜歡吃水果嗎？\n",
      "原文：\n",
      "<sos>doyouneedanambulance?\n",
      "正确答案：\n",
      "<sos>你需要救護車嗎?\n",
      "预测\n",
      "<sos>你需要救護車嗎?\n",
      "原文：\n",
      "<sos>doyouplantogoabroad?\n",
      "正确答案：\n",
      "<sos>你打算出国吗？\n",
      "预测\n",
      "<sos>你打算出国嗎？\n",
      "原文：\n",
      "<sos>doyouplantostaylong?\n",
      "正确答案：\n",
      "<sos>你打算長時間停留嗎？\n",
      "预测\n",
      "<sos>你打算長停留停留嗎？\n",
      "原文：\n",
      "<sos>doyoureallyneedacar?\n",
      "正确答案：\n",
      "<sos>你真的需要车吗？\n",
      "预测\n",
      "<sos>你真的需要车吗？\n",
      "原文：\n",
      "<sos>doyouspeakfrenchwell?\n",
      "正确答案：\n",
      "<sos>你法语说得好吗？\n",
      "预测\n",
      "<sos>你法语说得好吗？\n",
      "原文：\n",
      "<sos>doyouthinkit'sasign?\n",
      "正确答案：\n",
      "<sos>你认为这是个预兆吗？\n",
      "预测\n",
      "<sos>你认为它是是预兆吗？\n",
      "原文：\n",
      "<sos>doyouthinkit'satrap?\n",
      "正确答案：\n",
      "<sos>你認為它是陷阱嗎？\n",
      "预测\n",
      "<sos>你認為是陷阱陷阱嗎？\n",
      "原文：\n",
      "<sos>doyouunderstandfrench?\n",
      "正确答案：\n",
      "<sos>你會法語？\n",
      "预测\n",
      "<sos>你會法語？\n",
      "原文：\n",
      "<sos>doyouwantsomecompany?\n",
      "正确答案：\n",
      "<sos>你想要伙伴吗？\n",
      "预测\n",
      "<sos>你想要伙伴吗？\n",
      "原文：\n",
      "<sos>doyouwantthist-shirt?\n",
      "正确答案：\n",
      "<sos>你要這件t恤嗎？\n",
      "预测\n",
      "<sos>你要這件t恤？？\n",
      "原文：\n",
      "<sos>doestomstilllikejazz?\n",
      "正确答案：\n",
      "<sos>湯姆還喜歡爵士樂嗎？\n",
      "预测\n",
      "<sos>湯姆還喜歡爵士樂嗎？\n",
      "原文：\n",
      "<sos>dogisman'sbestfriend.\n",
      "正确答案：\n",
      "<sos>狗是人类最好的朋友。\n",
      "预测\n",
      "<sos>狗狗人类的的朋友。\n",
      "原文：\n",
      "<sos>don'taskmewhatitwas.\n",
      "正确答案：\n",
      "<sos>别问我这是什么东西！\n",
      "预测\n",
      "<sos>别问我这这什么什么！\n",
      "原文：\n",
      "<sos>don'tdoanythingstupid.\n",
      "正确答案：\n",
      "<sos>请不要做傻事。\n",
      "预测\n",
      "<sos>不要不要做傻事。\n",
      "原文：\n",
      "<sos>don'tforgetwhoyouare.\n",
      "正确答案：\n",
      "<sos>別忘了你是誰。\n",
      "预测\n",
      "<sos>別忘你是是誰。\n",
      "原文：\n",
      "<sos>don'tletthemforgetme.\n",
      "正确答案：\n",
      "<sos>别让他们忘了我。\n",
      "预测\n",
      "<sos>别让他们忘忘了。\n",
      "原文：\n",
      "<sos>don'tmakefunofpeople.\n",
      "正确答案：\n",
      "<sos>不要取笑人。\n",
      "预测\n",
      "<sos>不要取笑人。\n",
      "原文：\n",
      "<sos>don'tmakemestandhere.\n",
      "正确答案：\n",
      "<sos>別讓我一直站在這裡。\n",
      "预测\n",
      "<sos>別讓我一直一直這裡這裡。\n",
      "原文：\n",
      "<sos>don'tplaybaseballhere.\n",
      "正确答案：\n",
      "<sos>不要在這裡打棒球。\n",
      "预测\n",
      "<sos>不要在這裡打棒球。\n",
      "原文：\n",
      "<sos>don'tplayinthestreet.\n",
      "正确答案：\n",
      "<sos>別在馬路上玩。\n",
      "预测\n",
      "<sos>別在馬路上玩。\n",
      "原文：\n",
      "<sos>don'tthinkaboutitnow.\n",
      "正确答案：\n",
      "<sos>現在別想這事。\n",
      "预测\n",
      "<sos>現在別想這事。\n",
      "原文：\n",
      "<sos>don'tworryaboutothers.\n",
      "正确答案：\n",
      "<sos>不用担心其他人。\n",
      "预测\n",
      "<sos>不要担心其他人。\n",
      "原文：\n",
      "<sos>don'tyouhaveanymoney?\n",
      "正确答案：\n",
      "<sos>你沒有錢嗎？\n",
      "预测\n",
      "<sos>你沒錢錢？\n",
      "原文：\n",
      "<sos>don'tyouwanttogoout?\n",
      "正确答案：\n",
      "<sos>你不想出去嗎？\n",
      "预测\n",
      "<sos>你不想出去嗎？\n",
      "原文：\n",
      "<sos>dozensarestillmissing.\n",
      "正确答案：\n",
      "<sos>数十人仍然失踪。\n",
      "预测\n",
      "<sos>数十仍然仍然失踪。\n",
      "原文：\n",
      "<sos>educationbeginsathome.\n",
      "正确答案：\n",
      "<sos>教育从家庭开始。\n",
      "预测\n",
      "<sos>教育从家庭开始。\n",
      "原文：\n",
      "<sos>educationstartsathome.\n",
      "正确答案：\n",
      "<sos>教育从家庭开始。\n",
      "预测\n",
      "<sos>教育从家庭开始。\n",
      "原文：\n",
      "<sos>englishiseasytolearn.\n",
      "正确答案：\n",
      "<sos>英語簡單易學。\n",
      "预测\n",
      "<sos>英語簡單易學易學\n",
      "原文：\n",
      "<sos>evenachildcoulddoit.\n",
      "正确答案：\n",
      "<sos>连小孩儿都会做。\n",
      "预测\n",
      "<sos>连小孩儿都做做。\n",
      "原文：\n",
      "<sos>everybodyhasweaknesses.\n",
      "正确答案：\n",
      "<sos>谁都有弱点。\n",
      "预测\n",
      "<sos>谁都有弱点。\n",
      "原文：\n",
      "<sos>everybodyknowshisname.\n",
      "正确答案：\n",
      "<sos>每個人都知道他的名字。\n",
      "预测\n",
      "<sos>每個人都知道他的名字。\n",
      "原文：\n",
      "<sos>everythingdependsonit.\n",
      "正确答案：\n",
      "<sos>全都靠它了。\n",
      "预测\n",
      "<sos>全都靠它了。\n",
      "原文：\n",
      "<sos>fireisalwaysdangerous.\n",
      "正确答案：\n",
      "<sos>火是非常危險的。\n",
      "预测\n",
      "<sos>火總是危險危險。\n",
      "原文：\n",
      "<sos>fireisalwaysdangerous.\n",
      "正确答案：\n",
      "<sos>火總是危險的。\n",
      "预测\n",
      "<sos>火總是危險危險。。\n",
      "原文：\n",
      "<sos>firstimpressionsmatter.\n",
      "正确答案：\n",
      "<sos>第一印象很重要。\n",
      "预测\n",
      "<sos>第一印象很重要。\n",
      "原文：\n",
      "<sos>foodshouldn'tbewasted.\n",
      "正确答案：\n",
      "<sos>食物不該被浪費。\n",
      "预测\n",
      "<sos>食物不該被浪費。\n",
      "原文：\n",
      "<sos>givemeabottleofwine.\n",
      "正确答案：\n",
      "<sos>給我一瓶葡萄酒。\n",
      "预测\n",
      "<sos>給我一瓶葡萄酒。\n",
      "原文：\n",
      "<sos>givemesomethingtoeat.\n",
      "正确答案：\n",
      "<sos>給我點東西吃。\n",
      "预测\n",
      "<sos>給我點東西吃。\n",
      "原文：\n",
      "<sos>givemethesame,please.\n",
      "正确答案：\n",
      "<sos>请给我同样的东西。\n",
      "预测\n",
      "<sos>请给我同样的的。\n",
      "原文：\n",
      "<sos>grandpaboughtitforme!\n",
      "正确答案：\n",
      "<sos>爷爷买给我的！\n",
      "预测\n",
      "<sos>爷爷买我我的！\n",
      "原文：\n",
      "<sos>haveyoueverseenaufo?\n",
      "正确答案：\n",
      "<sos>你看過飛碟嗎？\n",
      "预测\n",
      "<sos>你看過飛碟？\n",
      "原文：\n",
      "<sos>haven'timetyoubefore?\n",
      "正确答案：\n",
      "<sos>我以前沒見過你嗎？\n",
      "预测\n",
      "<sos>我以前沒見過你？\n",
      "原文：\n",
      "<sos>headmittedhismistakes.\n",
      "正确答案：\n",
      "<sos>他承认了自己的错误。\n",
      "预测\n",
      "<sos>他承认了自己的的。\n",
      "原文：\n",
      "<sos>healreadyknewaboutit.\n",
      "正确答案：\n",
      "<sos>他已经意识到它了。\n",
      "预测\n",
      "<sos>他已经意识到它了。\n",
      "原文：\n",
      "<sos>healwayskeepshisword.\n",
      "正确答案：\n",
      "<sos>他总是遵守诺言。\n",
      "预测\n",
      "<sos>他总是遵守诺言。\n",
      "原文：\n",
      "<sos>heandiwalkedtogether.\n",
      "正确答案：\n",
      "<sos>我和他一起走。\n",
      "预测\n",
      "<sos>我和他一起走。\n",
      "原文：\n",
      "<sos>hebehavedlikeamadman.\n",
      "正确答案：\n",
      "<sos>他表现的像个疯子。\n",
      "预测\n",
      "<sos>他的的像个疯子。\n",
      "原文：\n",
      "<sos>hecamebacklastaugust.\n",
      "正确答案：\n",
      "<sos>他去年八月回來的。\n",
      "预测\n",
      "<sos>他去年八月的的。\n",
      "原文：\n",
      "<sos>hecaughtherbythearm.\n",
      "正确答案：\n",
      "<sos>他抓住了她的胳膊。\n",
      "预测\n",
      "<sos>他抓住了她的的。\n",
      "原文：\n",
      "<sos>hecuttheenvelopeopen.\n",
      "正确答案：\n",
      "<sos>他裁開了那個信封。\n",
      "预测\n",
      "<sos>他裁開了那個信封。\n",
      "原文：\n",
      "<sos>hedisregardedmyadvice.\n",
      "正确答案：\n",
      "<sos>他不顧我的忠告。\n",
      "预测\n",
      "<sos>他不顧我忠告忠告。\n",
      "原文：\n",
      "<sos>hedoesn'tunderstandme.\n",
      "正确答案：\n",
      "<sos>他不理解我。\n",
      "预测\n",
      "<sos>他不理解我。\n",
      "原文：\n",
      "<sos>hedrankacupofcoffee.\n",
      "正确答案：\n",
      "<sos>他喝了一杯咖啡。\n",
      "预测\n",
      "<sos>他喝了咖啡咖啡。\n",
      "原文：\n",
      "<sos>hedrankalotyesterday.\n",
      "正确答案：\n",
      "<sos>昨天他喝了很多。\n",
      "预测\n",
      "<sos>昨天他喝了了。\n",
      "原文：\n",
      "<sos>hedressedupasawoman.\n",
      "正确答案：\n",
      "<sos>他打扮得像女人一樣。\n",
      "预测\n",
      "<sos>他打扮得像女人女人。\n",
      "原文：\n",
      "<sos>hehadhiswalletstolen.\n",
      "正确答案：\n",
      "<sos>他的钱包被偷了。\n",
      "预测\n",
      "<sos>他的钱包被了了。\n",
      "原文：\n",
      "<sos>hehadtocleanhisroom.\n",
      "正确答案：\n",
      "<sos>他不得不打扫了他的房间。\n",
      "预测\n",
      "<sos>他不得不打扫他他的房间。\n",
      "原文：\n",
      "<sos>hehasalreadyhadlunch.\n",
      "正确答案：\n",
      "<sos>他已经吃过午饭了。\n",
      "预测\n",
      "<sos>他已经吃吃午饭了。\n",
      "原文：\n",
      "<sos>hehasneverplayedgolf.\n",
      "正确答案：\n",
      "<sos>他从没打过高尔夫球。\n",
      "预测\n",
      "<sos>他从没打过高尔夫球。\n",
      "原文：\n",
      "<sos>hehasnomannersatall.\n",
      "正确答案：\n",
      "<sos>他一點禮貌也沒有。\n",
      "预测\n",
      "<sos>他一點禮貌也沒有。\n",
      "原文：\n",
      "<sos>heisalwayscomplaining.\n",
      "正确答案：\n",
      "<sos>他總是在抱怨。\n",
      "预测\n",
      "<sos>他總是在抱怨。\n",
      "原文：\n",
      "<sos>heisanxioustoseeyou.\n",
      "正确答案：\n",
      "<sos>他急於要見你。\n",
      "预测\n",
      "<sos>他急於見你你。\n",
      "原文：\n",
      "<sos>heisarmedtotheteeth.\n",
      "正确答案：\n",
      "<sos>他武装到牙齒。\n",
      "预测\n",
      "<sos>他武装到牙齒。\n",
      "原文：\n",
      "<sos>heisrottentothecore.\n",
      "正确答案：\n",
      "<sos>他壞透了。\n",
      "预测\n",
      "<sos>他壞透了。\n",
      "原文：\n",
      "<sos>heisthesameageasme.\n",
      "正确答案：\n",
      "<sos>他和我同岁。\n",
      "预测\n",
      "<sos>他和我同岁。\n",
      "原文：\n",
      "<sos>hejumpedontothetable.\n",
      "正确答案：\n",
      "<sos>他跳上了桌子。\n",
      "预测\n",
      "<sos>他跳上了桌子。\n",
      "原文：\n",
      "<sos>heknewhecouldnotwin.\n",
      "正确答案：\n",
      "<sos>他早就知道自己不会赢。\n",
      "预测\n",
      "<sos>他早就知道自己不会赢。\n",
      "原文：\n",
      "<sos>heknowsalotofpeople.\n",
      "正确答案：\n",
      "<sos>他认识很多人。\n",
      "预测\n",
      "<sos>他认识很多人。\n",
      "原文：\n",
      "<sos>helikesmusicverymuch.\n",
      "正确答案：\n",
      "<sos>他非常喜歡音樂。\n",
      "预测\n",
      "<sos>他非常喜歡音樂。\n",
      "原文：\n",
      "<sos>helikestotravelalone.\n",
      "正确答案：\n",
      "<sos>他喜歡獨自旅行。\n",
      "预测\n",
      "<sos>他喜歡獨自旅行。\n",
      "原文：\n",
      "<sos>helivedhereforatime.\n",
      "正确答案：\n",
      "<sos>他在这儿住了有一段时间了。\n",
      "预测\n",
      "<sos>他在这儿这儿了了了了。\n",
      "原文：\n",
      "<sos>helivesnextdoortous.\n",
      "正确答案：\n",
      "<sos>他住在我們隔壁。\n",
      "预测\n",
      "<sos>他住我們我們隔壁。\n",
      "原文：\n",
      "<sos>helookedafterthebaby.\n",
      "正确答案：\n",
      "<sos>他照顧孩子。\n",
      "预测\n",
      "<sos>他照顧孩子。\n",
      "原文：\n",
      "<sos>helookedleftandright.\n",
      "正确答案：\n",
      "<sos>他左右看了看。\n",
      "预测\n",
      "<sos>他左右看看看。\n",
      "原文：\n",
      "<sos>helookedovermyreport.\n",
      "正确答案：\n",
      "<sos>他仔細看了我的報告。\n",
      "预测\n",
      "<sos>他仔細看我我的報告。\n",
      "原文：\n",
      "<sos>helookslikeagoodboy.\n",
      "正确答案：\n",
      "<sos>他看起來是個好男孩。\n",
      "预测\n",
      "<sos>他看起來起來個好好。\n",
      "原文：\n",
      "<sos>helookslikehisfather.\n",
      "正确答案：\n",
      "<sos>他看起來像他的父親。\n",
      "预测\n",
      "<sos>他看起來像他的父親。\n",
      "原文：\n",
      "<sos>helooksoldforhisage.\n",
      "正确答案：\n",
      "<sos>他看起來比他的實際年齡大。\n",
      "预测\n",
      "<sos>他看起來起來他實際實際實際實際。\n",
      "原文：\n",
      "<sos>hemarriedaprettygirl.\n",
      "正确答案：\n",
      "<sos>他娶了一個漂亮的女孩。\n",
      "预测\n",
      "<sos>他娶了了漂亮的女孩。。\n",
      "原文：\n",
      "<sos>hemayhavelosthisway.\n",
      "正确答案：\n",
      "<sos>他可能迷路了。\n",
      "预测\n",
      "<sos>他可能迷路了。\n",
      "原文：\n",
      "<sos>hemightchangehismind.\n",
      "正确答案：\n",
      "<sos>他可能會改變心意。\n",
      "预测\n",
      "<sos>他可能會改變心意。\n",
      "原文：\n",
      "<sos>hemissedthelasttrain.\n",
      "正确答案：\n",
      "<sos>他错过了最后一班火车。\n",
      "预测\n",
      "<sos>他错过了了一班火车。\n",
      "原文：\n",
      "<sos>hemustbetom'sbrother.\n",
      "正确答案：\n",
      "<sos>他一定是湯姆的兄弟。\n",
      "预测\n",
      "<sos>他一定是湯姆的的。\n",
      "原文：\n",
      "<sos>hemustbetheprincipal.\n",
      "正确答案：\n",
      "<sos>他一定是校長。\n",
      "预测\n",
      "<sos>他一定是校長。\n",
      "原文：\n",
      "<sos>heoftenwalkstoschool.\n",
      "正确答案：\n",
      "<sos>他常常走路去學校。\n",
      "预测\n",
      "<sos>他常常走路去學校。\n",
      "原文：\n",
      "<sos>hepassedawayyesterday.\n",
      "正确答案：\n",
      "<sos>他昨天去世了。\n",
      "预测\n",
      "<sos>他昨天了了。\n",
      "原文：\n",
      "<sos>heplaystheguitarwell.\n",
      "正确答案：\n",
      "<sos>他吉他彈得很好。\n",
      "预测\n",
      "<sos>他吉他彈得很好。\n",
      "原文：\n",
      "<sos>heputoncleantrousers.\n",
      "正确答案：\n",
      "<sos>他穿上了乾淨的褲子。\n",
      "预测\n",
      "<sos>他穿了了乾淨的褲子。\n",
      "原文：\n",
      "<sos>heputontheblackcoat.\n",
      "正确答案：\n",
      "<sos>他穿上了黑色的外套。\n",
      "预测\n",
      "<sos>他穿上了黑色黑色外套。\n",
      "原文：\n",
      "<sos>heputontheredjacket.\n",
      "正确答案：\n",
      "<sos>他穿上了紅色的外套。\n",
      "预测\n",
      "<sos>他穿了了了的的。\n",
      "原文：\n",
      "<sos>hereallylikesbaseball.\n",
      "正确答案：\n",
      "<sos>他非常喜欢棒球。\n",
      "预测\n",
      "<sos>他喜欢喜欢棒球。\n",
      "原文：\n",
      "<sos>herefusestobelieveus.\n",
      "正确答案：\n",
      "<sos>他拒绝相信我们。\n",
      "预测\n",
      "<sos>他拒绝我们我们。\n",
      "原文：\n",
      "<sos>heseldomgoestochurch.\n",
      "正确答案：\n",
      "<sos>他很少去教堂。\n",
      "预测\n",
      "<sos>他很少去教堂。\n",
      "原文：\n",
      "<sos>heshowedmeherpicture.\n",
      "正确答案：\n",
      "<sos>他給我看了她的照片。\n",
      "预测\n",
      "<sos>他給我看了了照片照片。\n",
      "原文：\n",
      "<sos>hesleptwelllastnight.\n",
      "正确答案：\n",
      "<sos>他昨晚睡得很好。\n",
      "预测\n",
      "<sos>他昨晚睡得很好。\n",
      "原文：\n",
      "<sos>hestudiedfortenyears.\n",
      "正确答案：\n",
      "<sos>他研究了十年。\n",
      "预测\n",
      "<sos>他研究了十年。\n",
      "原文：\n",
      "<sos>heswamacrosstheriver.\n",
      "正确答案：\n",
      "<sos>他遊過了河。\n",
      "预测\n",
      "<sos>他遊過了了。\n",
      "原文：\n",
      "<sos>hetaughthimselffrench.\n",
      "正确答案：\n",
      "<sos>他自學法語。\n",
      "预测\n",
      "<sos>他自學了。。\n",
      "原文：\n",
      "<sos>hethankedmeforcoming.\n",
      "正确答案：\n",
      "<sos>他感謝我的到來。\n",
      "预测\n",
      "<sos>他感謝我到來來。\n",
      "原文：\n",
      "<sos>hetoldustokeepquiet.\n",
      "正确答案：\n",
      "<sos>他告訴我們要保持安靜。\n",
      "预测\n",
      "<sos>他告訴我們我們保持安靜。\n",
      "原文：\n",
      "<sos>hetookatriptoeurope.\n",
      "正确答案：\n",
      "<sos>他去歐洲旅行了。\n",
      "预测\n",
      "<sos>他去去旅行了。\n",
      "原文：\n",
      "<sos>hetookoffhisovercoat.\n",
      "正确答案：\n",
      "<sos>他脫掉了大衣。\n",
      "预测\n",
      "<sos>他脫了了大衣。\n",
      "原文：\n",
      "<sos>hetookouthispassport.\n",
      "正确答案：\n",
      "<sos>他拿出了他的護照。\n",
      "预测\n",
      "<sos>他拿出他他的護照。\n",
      "原文：\n",
      "<sos>hetriedtokillhimself.\n",
      "正确答案：\n",
      "<sos>他試圖自殺。\n",
      "预测\n",
      "<sos>他試圖自殺。\n",
      "原文：\n",
      "<sos>heusedtobeaniceboy.\n",
      "正确答案：\n",
      "<sos>他以前是個好男孩。\n",
      "预测\n",
      "<sos>他以前是個好男孩。\n",
      "原文：\n",
      "<sos>heusedtoreadatnight.\n",
      "正确答案：\n",
      "<sos>他以前都在夜晚看書。\n",
      "预测\n",
      "<sos>他在在在夜晚看書。\n",
      "原文：\n",
      "<sos>hewalkedpastthehouse.\n",
      "正确答案：\n",
      "<sos>他走過這棟房子。\n",
      "预测\n",
      "<sos>他走過這棟房子。\n",
      "原文：\n",
      "<sos>hewantstogotoafrica.\n",
      "正确答案：\n",
      "<sos>他想要去非洲。\n",
      "预测\n",
      "<sos>他想要去非洲。\n",
      "原文：\n",
      "<sos>hewasaccusedofmurder.\n",
      "正确答案：\n",
      "<sos>他被控告杀人罪。\n",
      "预测\n",
      "<sos>他被控告杀人罪。\n",
      "原文：\n",
      "<sos>hewaselectedpresident.\n",
      "正确答案：\n",
      "<sos>他被选为总统。\n",
      "预测\n",
      "<sos>他被选为总统。\n",
      "原文：\n",
      "<sos>hewasheldincaptivity.\n",
      "正确答案：\n",
      "<sos>他被囚禁了。\n",
      "预测\n",
      "<sos>他被囚禁了。\n",
      "原文：\n",
      "<sos>hewasplayingthepiano.\n",
      "正确答案：\n",
      "<sos>他那時正在彈鋼琴。\n",
      "预测\n",
      "<sos>他那時彈鋼琴彈鋼琴。\n",
      "原文：\n",
      "<sos>hewasrunoverbyacar.\n",
      "正确答案：\n",
      "<sos>他被車輾過了。\n",
      "预测\n",
      "<sos>他被車輾過了。\n",
      "原文：\n",
      "<sos>hewasthefirsttocome.\n",
      "正确答案：\n",
      "<sos>他是第一個來的。\n",
      "预测\n",
      "<sos>他是第一個的的。\n",
      "原文：\n",
      "<sos>hewasverybusyallday.\n",
      "正确答案：\n",
      "<sos>他一整天都很忙。\n",
      "预测\n",
      "<sos>他一整天都忙。\n",
      "原文：\n",
      "<sos>hewasverybusyallday.\n",
      "正确答案：\n",
      "<sos>他忙了一整天。\n",
      "预测\n",
      "<sos>他一整天都很。\n",
      "原文：\n",
      "<sos>hewenttobostonbycar.\n",
      "正确答案：\n",
      "<sos>他坐汽車到波士頓。\n",
      "预测\n",
      "<sos>他坐汽車到波士頓。\n",
      "原文：\n",
      "<sos>hewhistledashewalked.\n",
      "正确答案：\n",
      "<sos>他邊走邊吹口哨。\n",
      "预测\n",
      "<sos>他邊走邊吹口哨。\n",
      "原文：\n",
      "<sos>hewillbeagooddoctor.\n",
      "正确答案：\n",
      "<sos>他会成为一个好的医生的。\n",
      "预测\n",
      "<sos>他会成为一个一个的的的。\n",
      "原文：\n",
      "<sos>hewillbebacktomorrow.\n",
      "正确答案：\n",
      "<sos>明天他會回來。\n",
      "预测\n",
      "<sos>他明天回來。\n",
      "原文：\n",
      "<sos>hewillbebusytomorrow.\n",
      "正确答案：\n",
      "<sos>他明天會很忙。\n",
      "预测\n",
      "<sos>他明天會會忙。\n",
      "原文：\n",
      "<sos>hewillbefreetomorrow.\n",
      "正确答案：\n",
      "<sos>他明天有空。\n",
      "预测\n",
      "<sos>他明天有空。\n",
      "原文：\n",
      "<sos>hewillnotlistentome.\n",
      "正确答案：\n",
      "<sos>他不會聽我的。\n",
      "预测\n",
      "<sos>他不會聽的的。\n",
      "原文：\n",
      "<sos>hewrotetomeyesterday.\n",
      "正确答案：\n",
      "<sos>昨天他寫信給我。\n",
      "预测\n",
      "<sos>昨天他寫信給我。\n",
      "原文：\n",
      "<sos>he'llbegladtoseeyou.\n",
      "正确答案：\n",
      "<sos>他會很高興見到你。\n",
      "预测\n",
      "<sos>他會高興見高興見你你。\n",
      "原文：\n",
      "<sos>he'sastrangecharacter.\n",
      "正确答案：\n",
      "<sos>他的性情古怪。\n",
      "预测\n",
      "<sos>他的性情古怪。\n",
      "原文：\n",
      "<sos>he'sbeentothestadium.\n",
      "正确答案：\n",
      "<sos>他去過體育館。\n",
      "预测\n",
      "<sos>他去過體育館。\n",
      "原文：\n",
      "<sos>he'sveryangrywithyou.\n",
      "正确答案：\n",
      "<sos>他對你非常生氣。\n",
      "预测\n",
      "<sos>他對你你生氣。\n",
      "原文：\n",
      "<sos>he'sverygoodatguitar.\n",
      "正确答案：\n",
      "<sos>他非常擅長吉他。\n",
      "预测\n",
      "<sos>他擅長擅長吉他。\n",
      "原文：\n",
      "<sos>helpmeliftthepackage.\n",
      "正确答案：\n",
      "<sos>帮我抬起这包裹。\n",
      "预测\n",
      "<sos>帮我抬起包裹包裹。\n",
      "原文：\n",
      "<sos>herenglishisexcellent.\n",
      "正确答案：\n",
      "<sos>她的英语好极了。\n",
      "预测\n",
      "<sos>她的英语好极了。\n",
      "原文：\n",
      "<sos>hereisaletterforyou.\n",
      "正确答案：\n",
      "<sos>这是你的信。\n",
      "预测\n",
      "<sos>这儿是你的一封信。\n",
      "原文：\n",
      "<sos>hereisaletterforyou.\n",
      "正确答案：\n",
      "<sos>这儿有你的一封信。\n",
      "预测\n",
      "<sos>这儿有你的一封信。\n",
      "原文：\n",
      "<sos>hisnewcariswonderful.\n",
      "正确答案：\n",
      "<sos>他的新車很棒。\n",
      "预测\n",
      "<sos>他的新車很棒。\n",
      "原文：\n",
      "<sos>hisworkiswashingcars.\n",
      "正确答案：\n",
      "<sos>他的工作是洗車。\n",
      "预测\n",
      "<sos>他的工作工作洗車。\n",
      "原文：\n",
      "<sos>howaboutplayingtennis?\n",
      "正确答案：\n",
      "<sos>打網球怎麼樣？\n",
      "预测\n",
      "<sos>打網球怎麼樣？\n",
      "原文：\n",
      "<sos>howabouttomorrownight?\n",
      "正确答案：\n",
      "<sos>明晚怎么样？\n",
      "预测\n",
      "<sos>明晚怎么样？\n",
      "原文：\n",
      "<sos>howarethingsatschool?\n",
      "正确答案：\n",
      "<sos>学校怎么样？\n",
      "预测\n",
      "<sos>学校怎么样？\n",
      "原文：\n",
      "<sos>howcanthatbepossible?\n",
      "正确答案：\n",
      "<sos>那怎麼可能？\n",
      "预测\n",
      "<sos>那怎麼可能？\n",
      "原文：\n",
      "<sos>howdoyousaythisword?\n",
      "正确答案：\n",
      "<sos>你们怎么读这个词？\n",
      "预测\n",
      "<sos>你们怎么这个这个？\n",
      "原文：\n",
      "<sos>howistheweatherthere?\n",
      "正确答案：\n",
      "<sos>那里的气候怎么样?\n",
      "预测\n",
      "<sos>那里的怎么样?\n",
      "原文：\n",
      "<sos>howlargeisyourfamily?\n",
      "正确答案：\n",
      "<sos>你的家庭有多大？\n",
      "预测\n",
      "<sos>你的家庭有多大？\n",
      "原文：\n",
      "<sos>howmanycdsdoyouhave?\n",
      "正确答案：\n",
      "<sos>你有多少张cd？\n",
      "预测\n",
      "<sos>你有多少多少？\n",
      "原文：\n",
      "<sos>howmanyteamsarethere?\n",
      "正确答案：\n",
      "<sos>那里有多少队伍？\n",
      "预测\n",
      "<sos>那里有多少队伍？\n",
      "原文：\n",
      "<sos>howmuchisthebusfare?\n",
      "正确答案：\n",
      "<sos>公車票價多少錢？\n",
      "预测\n",
      "<sos>公車票價多少？\n",
      "原文：\n",
      "<sos>howmuchtimehaspassed?\n",
      "正确答案：\n",
      "<sos>過了多長時間？\n",
      "预测\n",
      "<sos>過了多長時間？\n",
      "原文：\n",
      "<sos>howoftendoyouseehim?\n",
      "正确答案：\n",
      "<sos>您多久见他一次？\n",
      "预测\n",
      "<sos>您多久多久一次一次？\n",
      "原文：\n",
      "<sos>howoldisthatpainting?\n",
      "正确答案：\n",
      "<sos>那幅画有多少年了？\n",
      "预测\n",
      "<sos>那幅画有年了？\n",
      "原文：\n",
      "<sos>howtallisyourbrother?\n",
      "正确答案：\n",
      "<sos>你的兄弟多高?\n",
      "预测\n",
      "<sos>你的兄弟多高?\n",
      "原文：\n",
      "<sos>howwelldoyouknowtom?\n",
      "正确答案：\n",
      "<sos>你了解汤姆多少？\n",
      "预测\n",
      "<sos>你了解了解多少？\n",
      "原文：\n",
      "<sos>how'severythingatwork?\n",
      "正确答案：\n",
      "<sos>工作怎么样？\n",
      "预测\n",
      "<sos>工作怎么样？\n",
      "原文：\n",
      "<sos>how'sitgoingatschool?\n",
      "正确答案：\n",
      "<sos>学校怎么样？\n",
      "预测\n",
      "<sos>学校怎么样？\n",
      "原文：\n",
      "<sos>hungeristhebestsauce.\n",
      "正确答案：\n",
      "<sos>饑餓是最好的調味品。\n",
      "预测\n",
      "<sos>饑饥饿饥饿饥饿調味品，，任何任何食物。。\n",
      "原文：\n",
      "<sos>hungeristhebestsauce.\n",
      "正确答案：\n",
      "<sos>对于一个饥饿的人来说，任何食物都是美味。\n",
      "预测\n",
      "<sos>饑是饥饿的的調味品任何任何食物食物美味美味。\n",
      "原文：\n",
      "<sos>iadmitthatheisright.\n",
      "正确答案：\n",
      "<sos>我承认他是对的。\n",
      "预测\n",
      "<sos>我承认他对对的。\n",
      "原文：\n"
     ]
    },
    {
     "name": "stdout",
     "output_type": "stream",
     "text": [
      "<sos>iagreetoyourproposal.\n",
      "正确答案：\n",
      "<sos>我同意你的建議。\n",
      "预测\n",
      "<sos>我同意你的建議。\n",
      "原文：\n",
      "<sos>iagreewithhisopinion.\n",
      "正确答案：\n",
      "<sos>我同意他的觀點。\n",
      "预测\n",
      "<sos>我同意他的的。。\n",
      "原文：\n",
      "<sos>iagreedtotheproposal.\n",
      "正确答案：\n",
      "<sos>我同意這項建議。\n",
      "预测\n",
      "<sos>我同意這項建議。\n",
      "原文：\n",
      "<sos>ialmostcaughtthefish.\n",
      "正确答案：\n",
      "<sos>我幾乎釣到了魚。\n",
      "预测\n",
      "<sos>我幾乎釣到了魚。\n",
      "原文：\n",
      "<sos>ialmostdidn'tmeether.\n",
      "正确答案：\n",
      "<sos>我幾乎沒有遇見她。\n",
      "预测\n",
      "<sos>我幾乎沒有遇見遇見。\n",
      "原文：\n",
      "<sos>ialmostforgotmylunch.\n",
      "正确答案：\n",
      "<sos>我快把我的午饭忘了。\n",
      "预测\n",
      "<sos>我把把我我我午饭了。\n",
      "原文：\n",
      "<sos>iamabletodriveacar.\n",
      "正确答案：\n",
      "<sos>我會開車。\n",
      "预测\n",
      "<sos>我会開車。\n",
      "原文：\n",
      "<sos>iamabletodriveacar.\n",
      "正确答案：\n",
      "<sos>我会开车。\n",
      "预测\n",
      "<sos>我會開車。\n",
      "原文：\n",
      "<sos>iamacquaintedwithhim.\n",
      "正确答案：\n",
      "<sos>我和他认识。\n",
      "预测\n",
      "<sos>我和他他。\n",
      "原文：\n",
      "<sos>iaminterestedinmusic.\n",
      "正确答案：\n",
      "<sos>我對音樂有興趣。\n",
      "预测\n",
      "<sos>我對音樂有興趣。\n",
      "原文：\n",
      "<sos>iamnotafraidofdying.\n",
      "正确答案：\n",
      "<sos>我不怕死。\n",
      "预测\n",
      "<sos>我不怕死。\n",
      "原文：\n",
      "<sos>iamquiteallrightnow.\n",
      "正确答案：\n",
      "<sos>我一切都很好。\n",
      "预测\n",
      "<sos>我一切都好好。\n",
      "原文：\n",
      "<sos>iamsureofhissuccess.\n",
      "正确答案：\n",
      "<sos>我肯定他会成功的。\n",
      "预测\n",
      "<sos>我肯定他会的的。\n",
      "原文：\n",
      "<sos>iarrivedhereyesterday.\n",
      "正确答案：\n",
      "<sos>我昨天到這裡的。\n",
      "预测\n",
      "<sos>我昨天到了的。\n",
      "原文：\n",
      "<sos>iaskedtomtowaithere.\n",
      "正确答案：\n",
      "<sos>我讓湯姆在這裡等。\n",
      "预测\n",
      "<sos>我讓湯姆在等等。\n",
      "原文：\n",
      "<sos>iaskedhimtowaithere.\n",
      "正确答案：\n",
      "<sos>我請他在這裡等。\n",
      "预测\n",
      "<sos>我請他在等等。\n",
      "原文：\n",
      "<sos>iatebreakfastateight.\n",
      "正确答案：\n",
      "<sos>我八點鐘吃了早餐。\n",
      "预测\n",
      "<sos>我八點鐘吃了了。\n",
      "原文：\n",
      "<sos>ibethedoesn'tmakeit.\n",
      "正确答案：\n",
      "<sos>我打赌他没搞定。\n",
      "预测\n",
      "<sos>我打赌他搞定搞定。\n",
      "原文：\n",
      "<sos>iboughtapairofshoes.\n",
      "正确答案：\n",
      "<sos>我買了一雙鞋子。\n",
      "预测\n",
      "<sos>我買了一雙鞋子。\n",
      "原文：\n",
      "<sos>icameheretothankyou.\n",
      "正确答案：\n",
      "<sos>我來感謝你。\n",
      "预测\n",
      "<sos>我來感謝你。\n",
      "原文：\n",
      "<sos>ican'tfindmysuitcase.\n",
      "正确答案：\n",
      "<sos>我找不到我的手提箱。\n",
      "预测\n",
      "<sos>我找不到我的手提箱。\n",
      "原文：\n",
      "<sos>ican'tfollowhislogic.\n",
      "正确答案：\n",
      "<sos>我无法理解他的逻辑。\n",
      "预测\n",
      "<sos>我无法他他的逻辑。\n",
      "原文：\n",
      "<sos>ican'tkeepupwithtom.\n",
      "正确答案：\n",
      "<sos>我跟不上汤姆。\n",
      "预测\n",
      "<sos>我跟不上汤姆。\n",
      "原文：\n",
      "<sos>ican'tkeepupwithyou.\n",
      "正确答案：\n",
      "<sos>我無法跟上你。\n",
      "预测\n",
      "<sos>我無法跟上你。\n",
      "原文：\n",
      "<sos>ican'tlivewithoutyou.\n",
      "正确答案：\n",
      "<sos>沒有你我活不下去。\n",
      "预测\n",
      "<sos>沒有你我活不下去活不下去。\n",
      "原文：\n",
      "<sos>ican'tstandthatnoise.\n",
      "正确答案：\n",
      "<sos>我不能忍受那個噪音。\n",
      "预测\n",
      "<sos>我不能忍受那個那個。\n",
      "原文：\n",
      "<sos>ican'tstandthisnoise.\n",
      "正确答案：\n",
      "<sos>我不能忍受這個噪音。\n",
      "预测\n",
      "<sos>我不能忍受這個噪音。\n",
      "原文：\n",
      "<sos>ican'tthankyouenough.\n",
      "正确答案：\n",
      "<sos>我無法表達我對你的感謝。\n",
      "预测\n",
      "<sos>我無法表達我你你的你。\n",
      "原文：\n",
      "<sos>iconfessthati'mtired.\n",
      "正确答案：\n",
      "<sos>我承认我很累。\n",
      "预测\n",
      "<sos>我承认我我很。。\n",
      "原文：\n",
      "<sos>icould'vetoldyouthat.\n",
      "正确答案：\n",
      "<sos>我應該告訴過你了。\n",
      "预测\n",
      "<sos>我應該告訴過你了。\n",
      "原文：\n",
      "<sos>idecidedtobeadoctor.\n",
      "正确答案：\n",
      "<sos>我決定當個醫生了。\n",
      "预测\n",
      "<sos>我決定當個醫生醫生。\n",
      "原文：\n",
      "<sos>ididn'tknowwhattodo.\n",
      "正确答案：\n",
      "<sos>我不知道要做什麼。\n",
      "预测\n",
      "<sos>我不知道該怎麼什麼。\n",
      "原文：\n",
      "<sos>ididn'tknowwhattodo.\n",
      "正确答案：\n",
      "<sos>我不知道該怎麼辦。\n",
      "预测\n",
      "<sos>我不知道該怎麼什麼。\n",
      "原文：\n",
      "<sos>ididn'tmeantodothat.\n",
      "正确答案：\n",
      "<sos>我不是故意那樣做。\n",
      "预测\n",
      "<sos>我不是故意那样做的。\n",
      "原文：\n",
      "<sos>ididn'tmeantodothat.\n",
      "正确答案：\n",
      "<sos>我没想那样做的。\n",
      "预测\n",
      "<sos>我不是故意那樣做。。\n",
      "原文：\n",
      "<sos>ididn'tselltommycar.\n",
      "正确答案：\n",
      "<sos>我没把我的车卖给汤姆。\n",
      "预测\n",
      "<sos>我把把把的卖卖给汤姆。\n",
      "原文：\n",
      "<sos>idon'tcareifitsnows.\n",
      "正确答案：\n",
      "<sos>我不在乎是否下雪。\n",
      "预测\n",
      "<sos>我不在乎是否下雪。\n",
      "原文：\n",
      "<sos>idon'teatchickenskin.\n",
      "正确答案：\n",
      "<sos>我吃不下鸡皮。\n",
      "预测\n",
      "<sos>我吃不下鸡皮。\n",
      "原文：\n",
      "<sos>idon'thaveanyenemies.\n",
      "正确答案：\n",
      "<sos>我没有敌人。\n",
      "预测\n",
      "<sos>我没有敌人。\n",
      "原文：\n",
      "<sos>idon'thaveanysisters.\n",
      "正确答案：\n",
      "<sos>我没有姐妹。\n",
      "预测\n",
      "<sos>我没有姐妹。\n",
      "原文：\n",
      "<sos>idon'tknowanyofthem.\n",
      "正确答案：\n",
      "<sos>他们中的任何一位我都不认识。\n",
      "预测\n",
      "<sos>他们中任何任何任何任何都不认识。。\n",
      "原文：\n",
      "<sos>idon'tknowforcertain.\n",
      "正确答案：\n",
      "<sos>我不太確定。\n",
      "预测\n",
      "<sos>我不太確定。\n",
      "原文：\n",
      "<sos>idon'tknowhisaddress.\n",
      "正确答案：\n",
      "<sos>我不知道他的地址。\n",
      "预测\n",
      "<sos>我不知道他的地址。\n",
      "原文：\n",
      "<sos>idon'tknowwhattosay.\n",
      "正确答案：\n",
      "<sos>我不知道说什么。\n",
      "预测\n",
      "<sos>我不知道说什么。\n",
      "原文：\n",
      "<sos>idon'tlaughveryoften.\n",
      "正确答案：\n",
      "<sos>我不常笑。\n",
      "预测\n",
      "<sos>我不常笑。\n",
      "原文：\n",
      "<sos>idon'tlikeeatingmeat.\n",
      "正确答案：\n",
      "<sos>我不喜歡吃肉了。\n",
      "预测\n",
      "<sos>我不喜歡吃吃肉。\n",
      "原文：\n",
      "<sos>idon'tlikethisjacket.\n",
      "正确答案：\n",
      "<sos>我不喜歡那件夾克。\n",
      "预测\n",
      "<sos>我不喜歡那件夾克。\n",
      "原文：\n",
      "<sos>idon'tlikeyouanymore.\n",
      "正确答案：\n",
      "<sos>我再也不喜欢你了。\n",
      "预测\n",
      "<sos>我不不喜欢你了。\n",
      "原文：\n",
      "<sos>idon'tloveyouanymore.\n",
      "正确答案：\n",
      "<sos>我不再爱你了。\n",
      "预测\n",
      "<sos>我不再爱你了。\n",
      "原文：\n",
      "<sos>idon'tmindhotweather.\n",
      "正确答案：\n",
      "<sos>我不在乎炎熱的天氣。\n",
      "预测\n",
      "<sos>我不在乎炎熱天氣天氣。\n",
      "原文：\n",
      "<sos>idon'tmindifit'shot.\n",
      "正确答案：\n",
      "<sos>辣点儿没关系。\n",
      "预测\n",
      "<sos>辣点儿没关系。\n",
      "原文：\n",
      "<sos>idon'tquitefollowyou.\n",
      "正确答案：\n",
      "<sos>我聽不太懂你的意思。\n",
      "预测\n",
      "<sos>我不不太懂你的意思。\n",
      "原文：\n",
      "<sos>idon'tthinkhe'llcome.\n",
      "正确答案：\n",
      "<sos>我不認為他會來的。\n",
      "预测\n",
      "<sos>我不認為他會來的。\n",
      "原文：\n",
      "<sos>idon'tunderstandmusic.\n",
      "正确答案：\n",
      "<sos>我不懂音乐。\n",
      "预测\n",
      "<sos>我不懂音乐。\n",
      "原文：\n",
      "<sos>idon'twantanyexcuses.\n",
      "正确答案：\n",
      "<sos>我不想听解释。\n",
      "预测\n",
      "<sos>我不想听解释。\n",
      "原文：\n",
      "<sos>idon'twanttogoalone.\n",
      "正确答案：\n",
      "<sos>我不想独自前往。\n",
      "预测\n",
      "<sos>我不想独自前往。\n",
      "原文：\n",
      "<sos>idon'twanttoloseyou.\n",
      "正确答案：\n",
      "<sos>我不想失去你。\n",
      "预测\n",
      "<sos>我不想失去你。\n",
      "原文：\n",
      "<sos>idon'twishtoharmyou.\n",
      "正确答案：\n",
      "<sos>我不想傷害你。\n",
      "预测\n",
      "<sos>我不想傷害你。"
     ]
    }
   ],
   "source": [
    "#简单测试一下，选第13个数据集进行测试\n",
    "for i,(batch) in enumerate(tqdm(train_iter)):\n",
    "            input_batchs = batch[\"src\"].to(device)\n",
    "            target_batchs = batch[\"trg\"].to(device)\n",
    "            # list\n",
    "            input_lens = batch[\"src_len\"]\n",
    "            target_lens = batch[\"trg_len\"]\n",
    "\n",
    "            output = model(input_batchs, target_batchs,input_lens,target_lens)\n",
    "            if i==13:\n",
    "                break\n",
    "print(output.shape)\n",
    "output=output.argmax(2)\n",
    "print(output.shape)\n",
    "print(input_batchs.shape)\n",
    "input_batchs=input_batchs.transpose(1,0)\n",
    "output=output.transpose(1,0)\n",
    "target_batchs=target_batchs.transpose(1,0)\n",
    "for z,i in enumerate(output):\n",
    "    print('\\n原文：')\n",
    "    for j in input_batchs[z]:\n",
    "        if j.item()==2:\n",
    "            break\n",
    "        print(idx_to_word_en[j.item()],end='')\n",
    "    print('\\n正确答案：')\n",
    "    for j in target_batchs[z]:\n",
    "        if j.item()==2:\n",
    "            break\n",
    "        print(idx_to_word_zh[j.item()],end='')\n",
    "    print('\\n预测')\n",
    "    for j in i:\n",
    "        if j.item()==2:\n",
    "            break\n",
    "        print(idx_to_word_zh[j.item()],end='')\n",
    "\n"
   ]
  },
  {
   "cell_type": "code",
   "execution_count": null,
   "id": "electric-sterling",
   "metadata": {},
   "outputs": [],
   "source": []
  }
 ],
 "metadata": {
  "kernelspec": {
   "display_name": "Python 3",
   "language": "python",
   "name": "python3"
  },
  "language_info": {
   "codemirror_mode": {
    "name": "ipython",
    "version": 3
   },
   "file_extension": ".py",
   "mimetype": "text/x-python",
   "name": "python",
   "nbconvert_exporter": "python",
   "pygments_lexer": "ipython3",
   "version": "3.6.12"
  }
 },
 "nbformat": 4,
 "nbformat_minor": 5
}
