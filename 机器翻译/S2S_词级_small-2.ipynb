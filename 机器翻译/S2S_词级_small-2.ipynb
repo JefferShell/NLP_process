{
 "cells": [
  {
   "cell_type": "code",
   "execution_count": 1,
   "id": "inner-condition",
   "metadata": {},
   "outputs": [],
   "source": [
    "import torch\n",
    "import torch.utils.data as da\n",
    "import torch.nn as nn\n",
    "import torch.optim as optim\n",
    "import jieba\n",
    "import argparse\n",
    "import matplotlib.pyplot as plt\n",
    "from collections import Counter\n",
    "import random\n",
    "import time\n",
    "from tqdm import tqdm\n",
    "import torch.nn.functional as F"
   ]
  },
  {
   "cell_type": "code",
   "execution_count": 2,
   "id": "alpha-tower",
   "metadata": {},
   "outputs": [
    {
     "data": {
      "text/plain": [
       "True"
      ]
     },
     "execution_count": 2,
     "metadata": {},
     "output_type": "execute_result"
    }
   ],
   "source": [
    "torch.cuda.is_available()"
   ]
  },
  {
   "cell_type": "code",
   "execution_count": 3,
   "id": "future-restoration",
   "metadata": {},
   "outputs": [],
   "source": [
    "device = torch.device(\"cuda:5\" if torch.cuda.is_available() else \"cpu\")\n",
    "parser = argparse.ArgumentParser()\n",
    "\n",
    "parser.add_argument('--en_path', type=str, default='data/news-commentary-v13.zh-en.en',\n",
    "                   help='英文数据集路径')\n",
    "parser.add_argument('--zh_path', type=str, default='data/news-commentary-v13.zh-en.zh',\n",
    "                   help='中文数据集路径')\n",
    "parser.add_argument('--seq_len', type=int, default=20,\n",
    "                   help='句子最大的长度，多则截断，少则补<unk>')\n",
    "parser.add_argument('--pad', type=str, default='<unk>',\n",
    "                   help='填充词')\n",
    "parser.add_argument('--batch_size',type=int,default=32,\n",
    "                   help='每轮批次')\n",
    "parser.add_argument('--en_embedding_dim',type=int,default=256,\n",
    "                   help='编码器词向量的长度')\n",
    "parser.add_argument('--en_hidden_dim',type=int,default=512,\n",
    "                   help='编码器深度')\n",
    "parser.add_argument('--en_n_layers',type=int,default=2,\n",
    "                   help='编码器LSTM的层数')\n",
    "parser.add_argument('--de_embedding_dim',type=int,default=256,\n",
    "                   help='解码器词向量的长度')\n",
    "parser.add_argument('--de_hidden_dim',type=int,default=512,\n",
    "                   help='解码器深度')\n",
    "parser.add_argument('--de_n_layers',type=int,default=2,\n",
    "                   help='解码器LSTM的层数')\n",
    "parser.add_argument('--dropout',type=int,default=0.5,\n",
    "                   help='droput')\n",
    "parser.add_argument('--lr',type=int,default=0.0001,\n",
    "                   help='学习率')\n",
    "parser.add_argument('--weight_decay',type=int,default=0.1,\n",
    "                   help='权重衰减/L2范式')\n",
    "parser.add_argument('--clip',type=int,default=1,\n",
    "                   help='梯度剪切')\n",
    "parser.add_argument('--epochs',type=int,default=200,\n",
    "                   help='训练轮数')\n",
    "parser.add_argument('--attention',type=bool,default=False,\n",
    "                   help='是否启用注意力机制')\n",
    "\n",
    "#kwargs = parser.parse_args()\n",
    "kwargs = parser.parse_known_args()[0]\n"
   ]
  },
  {
   "cell_type": "code",
   "execution_count": 4,
   "id": "antique-awareness",
   "metadata": {},
   "outputs": [],
   "source": [
    "# with open(kwargs.en_path, 'r') as f_en:\n",
    "#     data_en = f_en.readlines()\n",
    "# with open(kwargs.zh_path, 'r') as f_zh:\n",
    "#     data_zh = f_zh.readlines()"
   ]
  },
  {
   "cell_type": "code",
   "execution_count": 5,
   "id": "meaning-compound",
   "metadata": {},
   "outputs": [],
   "source": [
    "#用一个小数据集合先玩玩\n",
    "with open('./cmn-eng/cmn.txt', 'r', encoding='utf-8') as f:\n",
    "    data = f.read()\n",
    "data = data.strip()\n",
    "data = data.split('\\n')\n",
    "# 分割英文数据和中文数据\n",
    "data_en = [line.split('\\t')[0] for line in data]\n",
    "data_zh = [line.split('\\t')[1] for line in data]"
   ]
  },
  {
   "cell_type": "code",
   "execution_count": 6,
   "id": "roman-queen",
   "metadata": {},
   "outputs": [],
   "source": [
    "#特殊处理\n",
    "def data_process(text):\n",
    "    text = text.lower()\n",
    "    # 特殊数据处理，该地方可以各种替换缩略词等\n",
    "    # 去除标点等\n",
    "    return text"
   ]
  },
  {
   "cell_type": "code",
   "execution_count": 7,
   "id": "facial-heaven",
   "metadata": {},
   "outputs": [],
   "source": [
    "#对单句话进行分词\n",
    "def get_token_text(text_en,text_zh):\n",
    "    #简单的句子处理\n",
    "    text_en=text_en.replace('.',' .').replace('?',' ?').replace('!',' !').replace(',',' , ')\n",
    "    text_zh=text_zh.strip('\\n')\n",
    "    #英文以空格分割\n",
    "    token_data_en = [data_process(st) for st in text_en.split()]\n",
    "    #中文一般用jieba\n",
    "    token_data_zh = [data_process(st) for st in jieba.cut(text_zh)]\n",
    "    return [token_data_en,token_data_zh]"
   ]
  },
  {
   "cell_type": "code",
   "execution_count": 8,
   "id": "vocational-superior",
   "metadata": {},
   "outputs": [],
   "source": [
    "#对两个数据集的每句话进行分词\n",
    "def get_token_data(data_en,data_zh):\n",
    "    data_token_en = []\n",
    "    data_token_zh = []\n",
    "    for en,zh in zip(data_en,data_zh):\n",
    "        en,zh=get_token_text(en,zh)\n",
    "        data_token_en.append(en)\n",
    "        data_token_zh.append(zh)\n",
    "    return data_token_en,data_token_zh"
   ]
  },
  {
   "cell_type": "code",
   "execution_count": 9,
   "id": "bigger-polish",
   "metadata": {},
   "outputs": [],
   "source": [
    "def get_vocab(data):\n",
    "    data=[j for i in data for j in i]\n",
    "    top_1000 = Counter(data).most_common(100000)\n",
    "    vocab = {x[0]:x[1] for x in top_1000}\n",
    "    word_to_idx = {word: i + 4 for i, word in enumerate(vocab)}\n",
    "    word_to_idx['<pad>'] = 0\n",
    "    word_to_idx['<sos>'] = 1\n",
    "    word_to_idx['<eos>'] = 2\n",
    "    word_to_idx['<unk>'] = 3\n",
    "    idx_to_word = {i + 4: word for i, word in enumerate(vocab)}\n",
    "    idx_to_word[0] = '<pad>'\n",
    "    idx_to_word[1] = '<sos>'\n",
    "    idx_to_word[2] = '<eos>'\n",
    "    idx_to_word[3] = '<unk>'\n",
    "    vocab_size=len(idx_to_word)\n",
    "    return vocab, vocab_size, word_to_idx, idx_to_word"
   ]
  },
  {
   "cell_type": "code",
   "execution_count": 10,
   "id": "worth-fabric",
   "metadata": {},
   "outputs": [],
   "source": [
    "# 填充和截断\n",
    "def pad_st(features, maxlen, pad=0):\n",
    "    padded_features = []\n",
    "    for feature in features:\n",
    "        feature.insert(0,'<sos>')\n",
    "        feature.append('<eos>')\n",
    "        if len(feature) > maxlen:\n",
    "            padded_feature = feature[:maxlen]\n",
    "            padded_feature[-1]='<eos>'#防止<eos>被切掉\n",
    "        else:\n",
    "            padded_feature = feature\n",
    "            while (len(padded_feature) < maxlen):\n",
    "                padded_feature.append(pad)\n",
    "        padded_features.append(padded_feature)\n",
    "    return padded_features"
   ]
  },
  {
   "cell_type": "code",
   "execution_count": 11,
   "id": "white-blood",
   "metadata": {},
   "outputs": [],
   "source": [
    "# 转化为索引\n",
    "def encode_st(token_data, word_to_idx):\n",
    "    features = []\n",
    "    for sample in token_data:\n",
    "        feature = []\n",
    "        #feature.append(1)\n",
    "        for token in sample:\n",
    "            if token in word_to_idx:\n",
    "                feature.append(word_to_idx[token])\n",
    "            else:#如果是词库中不存在的，认为是<unk>，即0\n",
    "                feature.append(0)\n",
    "        #feature.append(2)\n",
    "        features.append(feature)\n",
    "    \n",
    "    return features"
   ]
  },
  {
   "cell_type": "code",
   "execution_count": 12,
   "id": "personalized-block",
   "metadata": {},
   "outputs": [
    {
     "name": "stderr",
     "output_type": "stream",
     "text": [
      "Building prefix dict from the default dictionary ...\n",
      "Loading model from cache /tmp/jieba.cache\n",
      "Dumping model to file cache /tmp/jieba.cache\n",
      "Dump cache file failed.\n",
      "Traceback (most recent call last):\n",
      "  File \"/home/renhongjie/miniconda3/envs/rencaiji/lib/python3.6/site-packages/jieba/__init__.py\", line 154, in initialize\n",
      "    _replace_file(fpath, cache_file)\n",
      "PermissionError: [Errno 1] Operation not permitted: '/tmp/tmpgoqxx3ux' -> '/tmp/jieba.cache'\n",
      "Loading model cost 0.809 seconds.\n",
      "Prefix dict has been built successfully.\n"
     ]
    }
   ],
   "source": [
    "#此时为二维数组，每个数组是之前每句话的分词结果，词级别\n",
    "en_data,zh_data=get_token_data(data_en,data_zh)"
   ]
  },
  {
   "cell_type": "code",
   "execution_count": 13,
   "id": "leading-guard",
   "metadata": {},
   "outputs": [
    {
     "name": "stdout",
     "output_type": "stream",
     "text": [
      "[['hi', '.'], ['hi', '.']] [['嗨', '。'], ['你好', '。']]\n"
     ]
    }
   ],
   "source": [
    "print(en_data[0:2],zh_data[0:2])"
   ]
  },
  {
   "cell_type": "code",
   "execution_count": 14,
   "id": "adult-thinking",
   "metadata": {},
   "outputs": [],
   "source": [
    "vocab_en,vocab_size_en, word_to_idx_en, idx_to_word_en=get_vocab(en_data)\n",
    "vocab_zh,vocab_size_zh, word_to_idx_zh, idx_to_word_zh=get_vocab(zh_data)\n"
   ]
  },
  {
   "cell_type": "code",
   "execution_count": 15,
   "id": "swedish-serial",
   "metadata": {},
   "outputs": [
    {
     "name": "stdout",
     "output_type": "stream",
     "text": [
      "6904 14719\n"
     ]
    }
   ],
   "source": [
    "kwargs.vocab_size_en=vocab_size_en#记录vocab大小\n",
    "kwargs.vocab_size_zh=vocab_size_zh#记录vocab大小\n",
    "print(vocab_size_en,vocab_size_zh)"
   ]
  },
  {
   "cell_type": "code",
   "execution_count": 16,
   "id": "removable-cornell",
   "metadata": {},
   "outputs": [
    {
     "data": {
      "image/png": "[encoded data removed]",
      "text/plain": [
       "<Figure size 432x288 with 1 Axes>"
      ]
     },
     "metadata": {
      "needs_background": "light"
     },
     "output_type": "display_data"
    },
    {
     "data": {
      "image/png": "[encoded data removed]",
      "text/plain": [
       "<Figure size 432x288 with 1 Axes>"
      ]
     },
     "metadata": {
      "needs_background": "light"
     },
     "output_type": "display_data"
    }
   ],
   "source": [
    "#看一下预料的长度分布，然后选择一个合适的seq_len\n",
    "en_data_length=[]\n",
    "for i in en_data:\n",
    "    en_data_length.append(len(i))\n",
    "n, bins, patches = plt.hist(en_data_length, bins=10, edgecolor='None',facecolor='red') \n",
    "plt.show()\n",
    "zh_data_length=[]\n",
    "for i in zh_data:\n",
    "    zh_data_length.append(len(i))\n",
    "n, bins, patches = plt.hist(zh_data_length, bins=10, edgecolor='None',facecolor='red') \n",
    "plt.show()"
   ]
  },
  {
   "cell_type": "code",
   "execution_count": 17,
   "id": "wicked-cambodia",
   "metadata": {},
   "outputs": [
    {
     "name": "stdout",
     "output_type": "stream",
     "text": [
      "[2, 2, 5, 2, 3, 2, 2, 4, 3, 2]\n"
     ]
    }
   ],
   "source": [
    "print(zh_data_length[0:10])"
   ]
  },
  {
   "cell_type": "code",
   "execution_count": 18,
   "id": "generous-reputation",
   "metadata": {},
   "outputs": [],
   "source": [
    "en_data_id=encode_st(pad_st(en_data,kwargs.seq_len),word_to_idx_en)\n",
    "zh_data_id=encode_st(pad_st(zh_data,kwargs.seq_len),word_to_idx_zh)"
   ]
  },
  {
   "cell_type": "code",
   "execution_count": 19,
   "id": "maritime-ballet",
   "metadata": {},
   "outputs": [
    {
     "name": "stdout",
     "output_type": "stream",
     "text": [
      "[[1, 1766, 4, 2, 0, 0, 0, 0, 0, 0, 0, 0, 0, 0, 0, 0, 0, 0, 0, 0], [1, 1766, 4, 2, 0, 0, 0, 0, 0, 0, 0, 0, 0, 0, 0, 0, 0, 0, 0, 0], [1, 534, 4, 2, 0, 0, 0, 0, 0, 0, 0, 0, 0, 0, 0, 0, 0, 0, 0, 0]]\n"
     ]
    }
   ],
   "source": [
    "print(en_data_id[0:3])"
   ]
  },
  {
   "cell_type": "code",
   "execution_count": 20,
   "id": "crazy-transcription",
   "metadata": {},
   "outputs": [],
   "source": [
    "en_data_id = torch.tensor(en_data_id)\n",
    "zh_data_id = torch.tensor(zh_data_id)\n",
    "en_data_length = torch.tensor(en_data_length)\n",
    "zh_data_length = torch.tensor(zh_data_length)"
   ]
  },
  {
   "cell_type": "code",
   "execution_count": 21,
   "id": "animated-banner",
   "metadata": {},
   "outputs": [],
   "source": [
    "# 数据集\n",
    "train_set = torch.utils.data.TensorDataset(en_data_id, zh_data_id,en_data_length,zh_data_length)\n",
    "train_iter = torch.utils.data.DataLoader(train_set, batch_size=512,drop_last=True)"
   ]
  },
  {
   "cell_type": "code",
   "execution_count": 22,
   "id": "wanted-customs",
   "metadata": {},
   "outputs": [],
   "source": [
    "#开始模型部分\n",
    "class Encoder(nn.Module):\n",
    "    def __init__(self, args):\n",
    "        super().__init__()\n",
    "        self.input_dim = args.vocab_size_en\n",
    "        self.emb_dim = args.en_embedding_dim\n",
    "        self.hid_dim = args.en_hidden_dim\n",
    "        self.n_layers = args.en_n_layers\n",
    "        self.dropout = args.dropout\n",
    "        self.embedding = nn.Embedding(self.input_dim, self.emb_dim)   \n",
    "        self.rnn = nn.LSTM(input_size=self.emb_dim, hidden_size=self.hid_dim, num_layers=self.n_layers,\n",
    "                           dropout=self.dropout,bidirectional=True)\n",
    "\n",
    "        \n",
    "    def forward(self, x,input_lengths):\n",
    "        embedded = (self.embedding(x))\n",
    "        packed = torch.nn.utils.rnn.pack_padded_sequence(embedded, input_lengths, enforce_sorted=False)\n",
    "        outputs, (hidden, cell) = self.rnn(packed)\n",
    "        outputs, output_lengths = torch.nn.utils.rnn.pad_packed_sequence(sequence=outputs)\n",
    "        return outputs,hidden, cell\n",
    "class Decoder(nn.Module):\n",
    "    def __init__(self, args):\n",
    "        super().__init__()\n",
    "        self.emb_dim = args.de_embedding_dim\n",
    "        self.hid_dim = args.de_hidden_dim\n",
    "        self.output_dim = args.vocab_size_zh\n",
    "        self.n_layers = args.de_n_layers\n",
    "        self.dropout = args.dropout\n",
    "        self.embedding = nn.Embedding(self.output_dim, self.emb_dim)\n",
    "        self.rnn = nn.LSTM(input_size=self.emb_dim, hidden_size=self.hid_dim,num_layers= self.n_layers,\n",
    "                           dropout=self.dropout,bidirectional=True)\n",
    "        bidirectional=True\n",
    "        if bidirectional==True:\n",
    "            self.out = nn.Linear(self.hid_dim*2, self.output_dim)\n",
    "        else:\n",
    "            self.out = nn.Linear(self.hid_dim, self.output_dim)\n",
    "        self.dropout = nn.Dropout(self.dropout)\n",
    "        self.softmax = nn.LogSoftmax(dim=1)\n",
    "        \n",
    "    def forward(self, x, hidden, cell):\n",
    "        batch_size = x.size(0)\n",
    "        embedded = self.dropout(self.embedding(x).view(1, batch_size, -1))\n",
    "        output, (hidden, cell) = self.rnn(embedded, (hidden, cell))       \n",
    "        output = self.out(output.squeeze(0))\n",
    "        prediction = self.softmax(output)\n",
    "        return prediction, hidden, cell\n",
    "\n",
    "class Seq2Seq(nn.Module):\n",
    "    def __init__(self, args,device):\n",
    "        super().__init__()\n",
    "        self.attention=args.attention\n",
    "        self.encoder = Encoder(args)\n",
    "        if self.attention==True:\n",
    "            self.decoder = DecoderAtten(args)\n",
    "        else:\n",
    "            self.decoder = Decoder(args)\n",
    "        self.device = device\n",
    "        self.seq_len=args.seq_len\n",
    "        assert self.encoder.hid_dim == self.decoder.hid_dim, \\\n",
    "            \"Hidden dimensions of encoder and decoder must be equal!\"\n",
    "        assert self.encoder.n_layers == self.decoder.n_layers, \\\n",
    "            \"Encoder and decoder must have equal number of layers!\"\n",
    "        \n",
    "    def forward(self, src, trg, src_length,trg_length,teacher_forcing_ratio = 0.5):\n",
    "        batch_size = trg.shape[1]\n",
    "        trg_vocab_size = self.decoder.output_dim\n",
    "        max_target_length = self.seq_len\n",
    "        outputs = torch.zeros(max_target_length, batch_size, trg_vocab_size).to(self.device)\n",
    "        en_outputs,hidden, cell = self.encoder(src,src_length)   \n",
    "        #输入到Decoder网络的第一个字符是<sos>（句子开始标记）\n",
    "        de_input = trg[0]\n",
    "        \n",
    "        for t in range(max_target_length):\n",
    "            #注意前面的hidden、cell和后面的是不同的\n",
    "#             if self.attention==True:\n",
    "#                 output, hidden, cell = self.decoder(de_input, hidden, cell,en_outputs)\n",
    "#             else:\n",
    "#                 output, hidden, cell = self.decoder(de_input, hidden, cell)\n",
    "#             outputs[t] = output\n",
    "            use_teacher_forcing = True if random.random() < teacher_forcing_ratio else False\n",
    "            if use_teacher_forcing:\n",
    "                    # decoder_output = [batch, output_dim]\n",
    "                    # decoder_hidden = [n_layers*n_directions, batch, hid_dim]\n",
    "                    output, hidden, cell = self.decoder(de_input, hidden, cell)\n",
    "                    outputs[t] = output\n",
    "                    output = trg[t]  # 下一个输入来自训练数据\n",
    "            else:\n",
    "                    output, decoder_hidden, cell = self.decoder(de_input, hidden, cell)\n",
    "                    # [batch, 1]\n",
    "                    topv, topi = output.topk(1)\n",
    "                    outputs[t] = output\n",
    "                    output = topi.squeeze(1)  # \n",
    "        return outputs"
   ]
  },
  {
   "cell_type": "code",
   "execution_count": 23,
   "id": "hybrid-wilderness",
   "metadata": {},
   "outputs": [],
   "source": [
    "def train(args,device,model,train_iter):\n",
    "    moedel=model.to(device)\n",
    "    loss_function = nn.NLLLoss(ignore_index = 0)\n",
    "    #optimizer = optim.Adam(model.parameters(), lr=args.lr, weight_decay=args.weight_decay)\n",
    "    optimizer = optim.Adam(model.parameters(), lr=args.lr)\n",
    "    print(\"模型开始训练\")\n",
    "    for epoch in range(args.epochs):\n",
    "        start = time.time()\n",
    "        train_loss, train_acc = 0, 0\n",
    "        n= 0\n",
    "        model.train()\n",
    "        for i,(input_batchs,target_batchs,input_lens,target_lens) in enumerate(tqdm(train_iter)):\n",
    "            n += 1\n",
    "            input_batchs = input_batchs.to(device).transpose(1,0)\n",
    "            target_batchs = target_batchs.to(device).transpose(1,0)\n",
    "            # list\n",
    "            input_lens = input_lens.numpy()\n",
    "            target_lens = target_lens.numpy()\n",
    "            optimizer.zero_grad()\n",
    "            output = model(input_batchs, target_batchs,input_lens,target_lens)\n",
    "            loss = loss_function(output.reshape(-1,output.shape[-1] ), target_batchs.reshape(-1))\n",
    "            loss.backward()\n",
    "            \n",
    "            torch.nn.utils.clip_grad_norm_(model.parameters(), args.clip)\n",
    "            optimizer.step()\n",
    "            train_loss += loss\n",
    "        end = time.time()\n",
    "        runtime = end - start\n",
    "        print(\n",
    "            'epoch: %d, train loss: %.4f,time: %.4f \\n' % (epoch, train_loss.data / n,runtime)\n",
    "        )"
   ]
  },
  {
   "cell_type": "code",
   "execution_count": 24,
   "id": "through-atmosphere",
   "metadata": {
    "scrolled": true
   },
   "outputs": [
    {
     "name": "stdout",
     "output_type": "stream",
     "text": [
      "Seq2Seq(\n",
      "  (encoder): Encoder(\n",
      "    (embedding): Embedding(6904, 256)\n",
      "    (rnn): LSTM(256, 512, num_layers=2, dropout=0.5, bidirectional=True)\n",
      "  )\n",
      "  (decoder): Decoder(\n",
      "    (embedding): Embedding(14719, 256)\n",
      "    (rnn): LSTM(256, 512, num_layers=2, dropout=0.5, bidirectional=True)\n",
      "    (out): Linear(in_features=1024, out_features=14719, bias=True)\n",
      "    (dropout): Dropout(p=0.5, inplace=False)\n",
      "    (softmax): LogSoftmax(dim=1)\n",
      "  )\n",
      ")\n"
     ]
    }
   ],
   "source": [
    "model=Seq2Seq(kwargs,device)\n",
    "print(model)"
   ]
  },
  {
   "cell_type": "code",
   "execution_count": 25,
   "id": "intelligent-singapore",
   "metadata": {},
   "outputs": [
    {
     "name": "stderr",
     "output_type": "stream",
     "text": [
      "\r",
      "  0%|          | 0/47 [00:00<?, ?it/s]"
     ]
    },
    {
     "name": "stdout",
     "output_type": "stream",
     "text": [
      "模型开始训练\n"
     ]
    },
    {
     "name": "stderr",
     "output_type": "stream",
     "text": [
      "100%|██████████| 47/47 [00:26<00:00,  1.76it/s]\n",
      "  0%|          | 0/47 [00:00<?, ?it/s]"
     ]
    },
    {
     "name": "stdout",
     "output_type": "stream",
     "text": [
      "epoch: 0, train loss: 7.4107,time: 26.7417 \n",
      "\n"
     ]
    },
    {
     "name": "stderr",
     "output_type": "stream",
     "text": [
      "100%|██████████| 47/47 [00:26<00:00,  1.76it/s]\n",
      "  0%|          | 0/47 [00:00<?, ?it/s]"
     ]
    },
    {
     "name": "stdout",
     "output_type": "stream",
     "text": [
      "epoch: 1, train loss: 5.0399,time: 26.6395 \n",
      "\n"
     ]
    },
    {
     "name": "stderr",
     "output_type": "stream",
     "text": [
      "100%|██████████| 47/47 [00:26<00:00,  1.76it/s]\n",
      "  0%|          | 0/47 [00:00<?, ?it/s]"
     ]
    },
    {
     "name": "stdout",
     "output_type": "stream",
     "text": [
      "epoch: 2, train loss: 4.8451,time: 26.7006 \n",
      "\n"
     ]
    },
    {
     "name": "stderr",
     "output_type": "stream",
     "text": [
      "100%|██████████| 47/47 [00:26<00:00,  1.77it/s]\n",
      "  0%|          | 0/47 [00:00<?, ?it/s]"
     ]
    },
    {
     "name": "stdout",
     "output_type": "stream",
     "text": [
      "epoch: 3, train loss: 4.7461,time: 26.5513 \n",
      "\n"
     ]
    },
    {
     "name": "stderr",
     "output_type": "stream",
     "text": [
      "100%|██████████| 47/47 [00:26<00:00,  1.76it/s]\n",
      "  0%|          | 0/47 [00:00<?, ?it/s]"
     ]
    },
    {
     "name": "stdout",
     "output_type": "stream",
     "text": [
      "epoch: 4, train loss: 4.6470,time: 26.7356 \n",
      "\n"
     ]
    },
    {
     "name": "stderr",
     "output_type": "stream",
     "text": [
      "100%|██████████| 47/47 [00:26<00:00,  1.76it/s]\n",
      "  0%|          | 0/47 [00:00<?, ?it/s]"
     ]
    },
    {
     "name": "stdout",
     "output_type": "stream",
     "text": [
      "epoch: 5, train loss: 4.5632,time: 26.7696 \n",
      "\n"
     ]
    },
    {
     "name": "stderr",
     "output_type": "stream",
     "text": [
      "100%|██████████| 47/47 [00:26<00:00,  1.76it/s]\n",
      "  0%|          | 0/47 [00:00<?, ?it/s]"
     ]
    },
    {
     "name": "stdout",
     "output_type": "stream",
     "text": [
      "epoch: 6, train loss: 4.4822,time: 26.7360 \n",
      "\n"
     ]
    },
    {
     "name": "stderr",
     "output_type": "stream",
     "text": [
      "100%|██████████| 47/47 [00:26<00:00,  1.76it/s]\n",
      "  0%|          | 0/47 [00:00<?, ?it/s]"
     ]
    },
    {
     "name": "stdout",
     "output_type": "stream",
     "text": [
      "epoch: 7, train loss: 4.4139,time: 26.7123 \n",
      "\n"
     ]
    },
    {
     "name": "stderr",
     "output_type": "stream",
     "text": [
      "100%|██████████| 47/47 [00:26<00:00,  1.76it/s]\n",
      "  0%|          | 0/47 [00:00<?, ?it/s]"
     ]
    },
    {
     "name": "stdout",
     "output_type": "stream",
     "text": [
      "epoch: 8, train loss: 4.3490,time: 26.6895 \n",
      "\n"
     ]
    },
    {
     "name": "stderr",
     "output_type": "stream",
     "text": [
      "100%|██████████| 47/47 [00:26<00:00,  1.76it/s]\n",
      "  0%|          | 0/47 [00:00<?, ?it/s]"
     ]
    },
    {
     "name": "stdout",
     "output_type": "stream",
     "text": [
      "epoch: 9, train loss: 4.2938,time: 26.6866 \n",
      "\n"
     ]
    },
    {
     "name": "stderr",
     "output_type": "stream",
     "text": [
      "100%|██████████| 47/47 [00:26<00:00,  1.76it/s]\n",
      "  0%|          | 0/47 [00:00<?, ?it/s]"
     ]
    },
    {
     "name": "stdout",
     "output_type": "stream",
     "text": [
      "epoch: 10, train loss: 4.2325,time: 26.7037 \n",
      "\n"
     ]
    },
    {
     "name": "stderr",
     "output_type": "stream",
     "text": [
      "100%|██████████| 47/47 [00:26<00:00,  1.76it/s]\n",
      "  0%|          | 0/47 [00:00<?, ?it/s]"
     ]
    },
    {
     "name": "stdout",
     "output_type": "stream",
     "text": [
      "epoch: 11, train loss: 4.1683,time: 26.6412 \n",
      "\n"
     ]
    },
    {
     "name": "stderr",
     "output_type": "stream",
     "text": [
      "100%|██████████| 47/47 [00:26<00:00,  1.76it/s]\n",
      "  0%|          | 0/47 [00:00<?, ?it/s]"
     ]
    },
    {
     "name": "stdout",
     "output_type": "stream",
     "text": [
      "epoch: 12, train loss: 4.1113,time: 26.6977 \n",
      "\n"
     ]
    },
    {
     "name": "stderr",
     "output_type": "stream",
     "text": [
      "100%|██████████| 47/47 [00:26<00:00,  1.76it/s]\n",
      "  0%|          | 0/47 [00:00<?, ?it/s]"
     ]
    },
    {
     "name": "stdout",
     "output_type": "stream",
     "text": [
      "epoch: 13, train loss: 4.0551,time: 26.6662 \n",
      "\n"
     ]
    },
    {
     "name": "stderr",
     "output_type": "stream",
     "text": [
      "100%|██████████| 47/47 [00:26<00:00,  1.75it/s]\n",
      "  0%|          | 0/47 [00:00<?, ?it/s]"
     ]
    },
    {
     "name": "stdout",
     "output_type": "stream",
     "text": [
      "epoch: 14, train loss: 4.0083,time: 26.8668 \n",
      "\n"
     ]
    },
    {
     "name": "stderr",
     "output_type": "stream",
     "text": [
      "100%|██████████| 47/47 [00:26<00:00,  1.76it/s]\n",
      "  0%|          | 0/47 [00:00<?, ?it/s]"
     ]
    },
    {
     "name": "stdout",
     "output_type": "stream",
     "text": [
      "epoch: 15, train loss: 3.9483,time: 26.6996 \n",
      "\n"
     ]
    },
    {
     "name": "stderr",
     "output_type": "stream",
     "text": [
      "100%|██████████| 47/47 [00:26<00:00,  1.76it/s]\n",
      "  0%|          | 0/47 [00:00<?, ?it/s]"
     ]
    },
    {
     "name": "stdout",
     "output_type": "stream",
     "text": [
      "epoch: 16, train loss: 3.8977,time: 26.7361 \n",
      "\n"
     ]
    },
    {
     "name": "stderr",
     "output_type": "stream",
     "text": [
      "100%|██████████| 47/47 [00:26<00:00,  1.77it/s]\n",
      "  0%|          | 0/47 [00:00<?, ?it/s]"
     ]
    },
    {
     "name": "stdout",
     "output_type": "stream",
     "text": [
      "epoch: 17, train loss: 3.8418,time: 26.5601 \n",
      "\n"
     ]
    },
    {
     "name": "stderr",
     "output_type": "stream",
     "text": [
      "100%|██████████| 47/47 [00:26<00:00,  1.77it/s]\n",
      "  0%|          | 0/47 [00:00<?, ?it/s]"
     ]
    },
    {
     "name": "stdout",
     "output_type": "stream",
     "text": [
      "epoch: 18, train loss: 3.7877,time: 26.5900 \n",
      "\n"
     ]
    },
    {
     "name": "stderr",
     "output_type": "stream",
     "text": [
      "100%|██████████| 47/47 [00:26<00:00,  1.77it/s]\n",
      "  0%|          | 0/47 [00:00<?, ?it/s]"
     ]
    },
    {
     "name": "stdout",
     "output_type": "stream",
     "text": [
      "epoch: 19, train loss: 3.7352,time: 26.6291 \n",
      "\n"
     ]
    },
    {
     "name": "stderr",
     "output_type": "stream",
     "text": [
      "100%|██████████| 47/47 [00:26<00:00,  1.76it/s]\n",
      "  0%|          | 0/47 [00:00<?, ?it/s]"
     ]
    },
    {
     "name": "stdout",
     "output_type": "stream",
     "text": [
      "epoch: 20, train loss: 3.6806,time: 26.7372 \n",
      "\n"
     ]
    },
    {
     "name": "stderr",
     "output_type": "stream",
     "text": [
      "100%|██████████| 47/47 [00:26<00:00,  1.77it/s]\n",
      "  0%|          | 0/47 [00:00<?, ?it/s]"
     ]
    },
    {
     "name": "stdout",
     "output_type": "stream",
     "text": [
      "epoch: 21, train loss: 3.6298,time: 26.5236 \n",
      "\n"
     ]
    },
    {
     "name": "stderr",
     "output_type": "stream",
     "text": [
      "100%|██████████| 47/47 [00:26<00:00,  1.76it/s]\n",
      "  0%|          | 0/47 [00:00<?, ?it/s]"
     ]
    },
    {
     "name": "stdout",
     "output_type": "stream",
     "text": [
      "epoch: 22, train loss: 3.5791,time: 26.7545 \n",
      "\n"
     ]
    },
    {
     "name": "stderr",
     "output_type": "stream",
     "text": [
      "100%|██████████| 47/47 [00:26<00:00,  1.77it/s]\n",
      "  0%|          | 0/47 [00:00<?, ?it/s]"
     ]
    },
    {
     "name": "stdout",
     "output_type": "stream",
     "text": [
      "epoch: 23, train loss: 3.5376,time: 26.6352 \n",
      "\n"
     ]
    },
    {
     "name": "stderr",
     "output_type": "stream",
     "text": [
      "100%|██████████| 47/47 [00:26<00:00,  1.76it/s]\n",
      "  0%|          | 0/47 [00:00<?, ?it/s]"
     ]
    },
    {
     "name": "stdout",
     "output_type": "stream",
     "text": [
      "epoch: 24, train loss: 3.4940,time: 26.7512 \n",
      "\n"
     ]
    },
    {
     "name": "stderr",
     "output_type": "stream",
     "text": [
      "100%|██████████| 47/47 [00:26<00:00,  1.77it/s]\n",
      "  0%|          | 0/47 [00:00<?, ?it/s]"
     ]
    },
    {
     "name": "stdout",
     "output_type": "stream",
     "text": [
      "epoch: 25, train loss: 3.4565,time: 26.5155 \n",
      "\n"
     ]
    },
    {
     "name": "stderr",
     "output_type": "stream",
     "text": [
      "100%|██████████| 47/47 [00:26<00:00,  1.77it/s]\n",
      "  0%|          | 0/47 [00:00<?, ?it/s]"
     ]
    },
    {
     "name": "stdout",
     "output_type": "stream",
     "text": [
      "epoch: 26, train loss: 3.3974,time: 26.5664 \n",
      "\n"
     ]
    },
    {
     "name": "stderr",
     "output_type": "stream",
     "text": [
      "100%|██████████| 47/47 [00:26<00:00,  1.76it/s]\n",
      "  0%|          | 0/47 [00:00<?, ?it/s]"
     ]
    },
    {
     "name": "stdout",
     "output_type": "stream",
     "text": [
      "epoch: 27, train loss: 3.3626,time: 26.7395 \n",
      "\n"
     ]
    },
    {
     "name": "stderr",
     "output_type": "stream",
     "text": [
      "100%|██████████| 47/47 [00:26<00:00,  1.74it/s]\n",
      "  0%|          | 0/47 [00:00<?, ?it/s]"
     ]
    },
    {
     "name": "stdout",
     "output_type": "stream",
     "text": [
      "epoch: 28, train loss: 3.3268,time: 26.9721 \n",
      "\n"
     ]
    },
    {
     "name": "stderr",
     "output_type": "stream",
     "text": [
      "100%|██████████| 47/47 [00:26<00:00,  1.77it/s]\n",
      "  0%|          | 0/47 [00:00<?, ?it/s]"
     ]
    },
    {
     "name": "stdout",
     "output_type": "stream",
     "text": [
      "epoch: 29, train loss: 3.2693,time: 26.5962 \n",
      "\n"
     ]
    },
    {
     "name": "stderr",
     "output_type": "stream",
     "text": [
      "100%|██████████| 47/47 [00:26<00:00,  1.76it/s]\n",
      "  0%|          | 0/47 [00:00<?, ?it/s]"
     ]
    },
    {
     "name": "stdout",
     "output_type": "stream",
     "text": [
      "epoch: 30, train loss: 3.2169,time: 26.6856 \n",
      "\n"
     ]
    },
    {
     "name": "stderr",
     "output_type": "stream",
     "text": [
      "100%|██████████| 47/47 [00:26<00:00,  1.76it/s]\n",
      "  0%|          | 0/47 [00:00<?, ?it/s]"
     ]
    },
    {
     "name": "stdout",
     "output_type": "stream",
     "text": [
      "epoch: 31, train loss: 3.1752,time: 26.7351 \n",
      "\n"
     ]
    },
    {
     "name": "stderr",
     "output_type": "stream",
     "text": [
      "100%|██████████| 47/47 [00:26<00:00,  1.76it/s]\n",
      "  0%|          | 0/47 [00:00<?, ?it/s]"
     ]
    },
    {
     "name": "stdout",
     "output_type": "stream",
     "text": [
      "epoch: 32, train loss: 3.1309,time: 26.7299 \n",
      "\n"
     ]
    },
    {
     "name": "stderr",
     "output_type": "stream",
     "text": [
      "100%|██████████| 47/47 [00:26<00:00,  1.75it/s]\n",
      "  0%|          | 0/47 [00:00<?, ?it/s]"
     ]
    },
    {
     "name": "stdout",
     "output_type": "stream",
     "text": [
      "epoch: 33, train loss: 3.0905,time: 26.8274 \n",
      "\n"
     ]
    },
    {
     "name": "stderr",
     "output_type": "stream",
     "text": [
      "100%|██████████| 47/47 [00:26<00:00,  1.75it/s]\n",
      "  0%|          | 0/47 [00:00<?, ?it/s]"
     ]
    },
    {
     "name": "stdout",
     "output_type": "stream",
     "text": [
      "epoch: 34, train loss: 3.0428,time: 26.8453 \n",
      "\n"
     ]
    },
    {
     "name": "stderr",
     "output_type": "stream",
     "text": [
      "100%|██████████| 47/47 [00:26<00:00,  1.76it/s]\n",
      "  0%|          | 0/47 [00:00<?, ?it/s]"
     ]
    },
    {
     "name": "stdout",
     "output_type": "stream",
     "text": [
      "epoch: 35, train loss: 2.9843,time: 26.7131 \n",
      "\n"
     ]
    },
    {
     "name": "stderr",
     "output_type": "stream",
     "text": [
      "100%|██████████| 47/47 [00:26<00:00,  1.76it/s]\n",
      "  0%|          | 0/47 [00:00<?, ?it/s]"
     ]
    },
    {
     "name": "stdout",
     "output_type": "stream",
     "text": [
      "epoch: 36, train loss: 2.9398,time: 26.6769 \n",
      "\n"
     ]
    },
    {
     "name": "stderr",
     "output_type": "stream",
     "text": [
      "100%|██████████| 47/47 [00:26<00:00,  1.75it/s]\n",
      "  0%|          | 0/47 [00:00<?, ?it/s]"
     ]
    },
    {
     "name": "stdout",
     "output_type": "stream",
     "text": [
      "epoch: 37, train loss: 2.8948,time: 26.8471 \n",
      "\n"
     ]
    },
    {
     "name": "stderr",
     "output_type": "stream",
     "text": [
      "100%|██████████| 47/47 [00:26<00:00,  1.76it/s]\n",
      "  0%|          | 0/47 [00:00<?, ?it/s]"
     ]
    },
    {
     "name": "stdout",
     "output_type": "stream",
     "text": [
      "epoch: 38, train loss: 2.8611,time: 26.6499 \n",
      "\n"
     ]
    },
    {
     "name": "stderr",
     "output_type": "stream",
     "text": [
      "100%|██████████| 47/47 [00:26<00:00,  1.75it/s]\n",
      "  0%|          | 0/47 [00:00<?, ?it/s]"
     ]
    },
    {
     "name": "stdout",
     "output_type": "stream",
     "text": [
      "epoch: 39, train loss: 2.8160,time: 26.8070 \n",
      "\n"
     ]
    },
    {
     "name": "stderr",
     "output_type": "stream",
     "text": [
      "100%|██████████| 47/47 [00:26<00:00,  1.76it/s]\n",
      "  0%|          | 0/47 [00:00<?, ?it/s]"
     ]
    },
    {
     "name": "stdout",
     "output_type": "stream",
     "text": [
      "epoch: 40, train loss: 2.7773,time: 26.7848 \n",
      "\n"
     ]
    },
    {
     "name": "stderr",
     "output_type": "stream",
     "text": [
      "100%|██████████| 47/47 [00:26<00:00,  1.76it/s]\n",
      "  0%|          | 0/47 [00:00<?, ?it/s]"
     ]
    },
    {
     "name": "stdout",
     "output_type": "stream",
     "text": [
      "epoch: 41, train loss: 2.7358,time: 26.7172 \n",
      "\n"
     ]
    },
    {
     "name": "stderr",
     "output_type": "stream",
     "text": [
      "100%|██████████| 47/47 [00:26<00:00,  1.76it/s]\n",
      "  0%|          | 0/47 [00:00<?, ?it/s]"
     ]
    },
    {
     "name": "stdout",
     "output_type": "stream",
     "text": [
      "epoch: 42, train loss: 2.7138,time: 26.6867 \n",
      "\n"
     ]
    },
    {
     "name": "stderr",
     "output_type": "stream",
     "text": [
      "100%|██████████| 47/47 [00:26<00:00,  1.76it/s]\n",
      "  0%|          | 0/47 [00:00<?, ?it/s]"
     ]
    },
    {
     "name": "stdout",
     "output_type": "stream",
     "text": [
      "epoch: 43, train loss: 2.7044,time: 26.6496 \n",
      "\n"
     ]
    },
    {
     "name": "stderr",
     "output_type": "stream",
     "text": [
      "100%|██████████| 47/47 [00:26<00:00,  1.76it/s]\n",
      "  0%|          | 0/47 [00:00<?, ?it/s]"
     ]
    },
    {
     "name": "stdout",
     "output_type": "stream",
     "text": [
      "epoch: 44, train loss: 2.6701,time: 26.7503 \n",
      "\n"
     ]
    },
    {
     "name": "stderr",
     "output_type": "stream",
     "text": [
      "100%|██████████| 47/47 [00:26<00:00,  1.75it/s]\n",
      "  0%|          | 0/47 [00:00<?, ?it/s]"
     ]
    },
    {
     "name": "stdout",
     "output_type": "stream",
     "text": [
      "epoch: 45, train loss: 2.6430,time: 26.9141 \n",
      "\n"
     ]
    },
    {
     "name": "stderr",
     "output_type": "stream",
     "text": [
      "100%|██████████| 47/47 [00:26<00:00,  1.76it/s]\n",
      "  0%|          | 0/47 [00:00<?, ?it/s]"
     ]
    },
    {
     "name": "stdout",
     "output_type": "stream",
     "text": [
      "epoch: 46, train loss: 2.5859,time: 26.6510 \n",
      "\n"
     ]
    },
    {
     "name": "stderr",
     "output_type": "stream",
     "text": [
      "100%|██████████| 47/47 [00:26<00:00,  1.75it/s]\n",
      "  0%|          | 0/47 [00:00<?, ?it/s]"
     ]
    },
    {
     "name": "stdout",
     "output_type": "stream",
     "text": [
      "epoch: 47, train loss: 2.5391,time: 26.7954 \n",
      "\n"
     ]
    },
    {
     "name": "stderr",
     "output_type": "stream",
     "text": [
      "100%|██████████| 47/47 [00:26<00:00,  1.76it/s]\n",
      "  0%|          | 0/47 [00:00<?, ?it/s]"
     ]
    },
    {
     "name": "stdout",
     "output_type": "stream",
     "text": [
      "epoch: 48, train loss: 2.5136,time: 26.6968 \n",
      "\n"
     ]
    },
    {
     "name": "stderr",
     "output_type": "stream",
     "text": [
      "100%|██████████| 47/47 [00:26<00:00,  1.75it/s]\n",
      "  0%|          | 0/47 [00:00<?, ?it/s]"
     ]
    },
    {
     "name": "stdout",
     "output_type": "stream",
     "text": [
      "epoch: 49, train loss: 2.4833,time: 26.9372 \n",
      "\n"
     ]
    },
    {
     "name": "stderr",
     "output_type": "stream",
     "text": [
      "100%|██████████| 47/47 [00:26<00:00,  1.77it/s]\n",
      "  0%|          | 0/47 [00:00<?, ?it/s]"
     ]
    },
    {
     "name": "stdout",
     "output_type": "stream",
     "text": [
      "epoch: 50, train loss: 2.4514,time: 26.5885 \n",
      "\n"
     ]
    },
    {
     "name": "stderr",
     "output_type": "stream",
     "text": [
      "100%|██████████| 47/47 [00:26<00:00,  1.76it/s]\n",
      "  0%|          | 0/47 [00:00<?, ?it/s]"
     ]
    },
    {
     "name": "stdout",
     "output_type": "stream",
     "text": [
      "epoch: 51, train loss: 2.4360,time: 26.6984 \n",
      "\n"
     ]
    },
    {
     "name": "stderr",
     "output_type": "stream",
     "text": [
      "100%|██████████| 47/47 [00:26<00:00,  1.77it/s]\n",
      "  0%|          | 0/47 [00:00<?, ?it/s]"
     ]
    },
    {
     "name": "stdout",
     "output_type": "stream",
     "text": [
      "epoch: 52, train loss: 2.3840,time: 26.6291 \n",
      "\n"
     ]
    },
    {
     "name": "stderr",
     "output_type": "stream",
     "text": [
      "100%|██████████| 47/47 [00:26<00:00,  1.76it/s]\n",
      "  0%|          | 0/47 [00:00<?, ?it/s]"
     ]
    },
    {
     "name": "stdout",
     "output_type": "stream",
     "text": [
      "epoch: 53, train loss: 2.3428,time: 26.7682 \n",
      "\n"
     ]
    },
    {
     "name": "stderr",
     "output_type": "stream",
     "text": [
      "100%|██████████| 47/47 [00:26<00:00,  1.76it/s]\n",
      "  0%|          | 0/47 [00:00<?, ?it/s]"
     ]
    },
    {
     "name": "stdout",
     "output_type": "stream",
     "text": [
      "epoch: 54, train loss: 2.3251,time: 26.7645 \n",
      "\n"
     ]
    },
    {
     "name": "stderr",
     "output_type": "stream",
     "text": [
      "100%|██████████| 47/47 [00:26<00:00,  1.74it/s]\n",
      "  0%|          | 0/47 [00:00<?, ?it/s]"
     ]
    },
    {
     "name": "stdout",
     "output_type": "stream",
     "text": [
      "epoch: 55, train loss: 2.2826,time: 26.9509 \n",
      "\n"
     ]
    },
    {
     "name": "stderr",
     "output_type": "stream",
     "text": [
      "100%|██████████| 47/47 [00:26<00:00,  1.76it/s]\n",
      "  0%|          | 0/47 [00:00<?, ?it/s]"
     ]
    },
    {
     "name": "stdout",
     "output_type": "stream",
     "text": [
      "epoch: 56, train loss: 2.2501,time: 26.7340 \n",
      "\n"
     ]
    },
    {
     "name": "stderr",
     "output_type": "stream",
     "text": [
      "100%|██████████| 47/47 [00:26<00:00,  1.75it/s]\n",
      "  0%|          | 0/47 [00:00<?, ?it/s]"
     ]
    },
    {
     "name": "stdout",
     "output_type": "stream",
     "text": [
      "epoch: 57, train loss: 2.2181,time: 26.8314 \n",
      "\n"
     ]
    },
    {
     "name": "stderr",
     "output_type": "stream",
     "text": [
      "100%|██████████| 47/47 [00:26<00:00,  1.75it/s]\n",
      "  0%|          | 0/47 [00:00<?, ?it/s]"
     ]
    },
    {
     "name": "stdout",
     "output_type": "stream",
     "text": [
      "epoch: 58, train loss: 2.1880,time: 26.8219 \n",
      "\n"
     ]
    },
    {
     "name": "stderr",
     "output_type": "stream",
     "text": [
      "100%|██████████| 47/47 [00:26<00:00,  1.75it/s]\n",
      "  0%|          | 0/47 [00:00<?, ?it/s]"
     ]
    },
    {
     "name": "stdout",
     "output_type": "stream",
     "text": [
      "epoch: 59, train loss: 2.1625,time: 26.8972 \n",
      "\n"
     ]
    },
    {
     "name": "stderr",
     "output_type": "stream",
     "text": [
      "100%|██████████| 47/47 [00:26<00:00,  1.76it/s]\n",
      "  0%|          | 0/47 [00:00<?, ?it/s]"
     ]
    },
    {
     "name": "stdout",
     "output_type": "stream",
     "text": [
      "epoch: 60, train loss: 2.1304,time: 26.7036 \n",
      "\n"
     ]
    },
    {
     "name": "stderr",
     "output_type": "stream",
     "text": [
      "100%|██████████| 47/47 [00:26<00:00,  1.75it/s]\n",
      "  0%|          | 0/47 [00:00<?, ?it/s]"
     ]
    },
    {
     "name": "stdout",
     "output_type": "stream",
     "text": [
      "epoch: 61, train loss: 2.1782,time: 26.8000 \n",
      "\n"
     ]
    },
    {
     "name": "stderr",
     "output_type": "stream",
     "text": [
      "100%|██████████| 47/47 [00:26<00:00,  1.76it/s]\n",
      "  0%|          | 0/47 [00:00<?, ?it/s]"
     ]
    },
    {
     "name": "stdout",
     "output_type": "stream",
     "text": [
      "epoch: 62, train loss: 2.1270,time: 26.7091 \n",
      "\n"
     ]
    },
    {
     "name": "stderr",
     "output_type": "stream",
     "text": [
      "100%|██████████| 47/47 [00:26<00:00,  1.75it/s]\n",
      "  0%|          | 0/47 [00:00<?, ?it/s]"
     ]
    },
    {
     "name": "stdout",
     "output_type": "stream",
     "text": [
      "epoch: 63, train loss: 2.0616,time: 26.8317 \n",
      "\n"
     ]
    },
    {
     "name": "stderr",
     "output_type": "stream",
     "text": [
      "100%|██████████| 47/47 [00:26<00:00,  1.77it/s]\n",
      "  0%|          | 0/47 [00:00<?, ?it/s]"
     ]
    },
    {
     "name": "stdout",
     "output_type": "stream",
     "text": [
      "epoch: 64, train loss: 2.0661,time: 26.6035 \n",
      "\n"
     ]
    },
    {
     "name": "stderr",
     "output_type": "stream",
     "text": [
      "100%|██████████| 47/47 [00:26<00:00,  1.76it/s]\n",
      "  0%|          | 0/47 [00:00<?, ?it/s]"
     ]
    },
    {
     "name": "stdout",
     "output_type": "stream",
     "text": [
      "epoch: 65, train loss: 2.1101,time: 26.7504 \n",
      "\n"
     ]
    },
    {
     "name": "stderr",
     "output_type": "stream",
     "text": [
      "100%|██████████| 47/47 [00:26<00:00,  1.75it/s]\n",
      "  0%|          | 0/47 [00:00<?, ?it/s]"
     ]
    },
    {
     "name": "stdout",
     "output_type": "stream",
     "text": [
      "epoch: 66, train loss: 2.0870,time: 26.8364 \n",
      "\n"
     ]
    },
    {
     "name": "stderr",
     "output_type": "stream",
     "text": [
      "100%|██████████| 47/47 [00:26<00:00,  1.76it/s]\n",
      "  0%|          | 0/47 [00:00<?, ?it/s]"
     ]
    },
    {
     "name": "stdout",
     "output_type": "stream",
     "text": [
      "epoch: 67, train loss: 2.0606,time: 26.6881 \n",
      "\n"
     ]
    },
    {
     "name": "stderr",
     "output_type": "stream",
     "text": [
      "100%|██████████| 47/47 [00:26<00:00,  1.76it/s]\n",
      "  0%|          | 0/47 [00:00<?, ?it/s]"
     ]
    },
    {
     "name": "stdout",
     "output_type": "stream",
     "text": [
      "epoch: 68, train loss: 2.0136,time: 26.6908 \n",
      "\n"
     ]
    },
    {
     "name": "stderr",
     "output_type": "stream",
     "text": [
      "100%|██████████| 47/47 [00:26<00:00,  1.76it/s]\n",
      "  0%|          | 0/47 [00:00<?, ?it/s]"
     ]
    },
    {
     "name": "stdout",
     "output_type": "stream",
     "text": [
      "epoch: 69, train loss: 2.0009,time: 26.7798 \n",
      "\n"
     ]
    },
    {
     "name": "stderr",
     "output_type": "stream",
     "text": [
      "100%|██████████| 47/47 [00:26<00:00,  1.76it/s]\n",
      "  0%|          | 0/47 [00:00<?, ?it/s]"
     ]
    },
    {
     "name": "stdout",
     "output_type": "stream",
     "text": [
      "epoch: 70, train loss: 1.9667,time: 26.7071 \n",
      "\n"
     ]
    },
    {
     "name": "stderr",
     "output_type": "stream",
     "text": [
      "100%|██████████| 47/47 [00:26<00:00,  1.76it/s]\n",
      "  0%|          | 0/47 [00:00<?, ?it/s]"
     ]
    },
    {
     "name": "stdout",
     "output_type": "stream",
     "text": [
      "epoch: 71, train loss: 1.9876,time: 26.7267 \n",
      "\n"
     ]
    },
    {
     "name": "stderr",
     "output_type": "stream",
     "text": [
      "100%|██████████| 47/47 [00:26<00:00,  1.76it/s]\n",
      "  0%|          | 0/47 [00:00<?, ?it/s]"
     ]
    },
    {
     "name": "stdout",
     "output_type": "stream",
     "text": [
      "epoch: 72, train loss: 1.9658,time: 26.7670 \n",
      "\n"
     ]
    },
    {
     "name": "stderr",
     "output_type": "stream",
     "text": [
      "100%|██████████| 47/47 [00:26<00:00,  1.75it/s]\n",
      "  0%|          | 0/47 [00:00<?, ?it/s]"
     ]
    },
    {
     "name": "stdout",
     "output_type": "stream",
     "text": [
      "epoch: 73, train loss: 1.8876,time: 26.9246 \n",
      "\n"
     ]
    },
    {
     "name": "stderr",
     "output_type": "stream",
     "text": [
      "100%|██████████| 47/47 [00:26<00:00,  1.76it/s]\n",
      "  0%|          | 0/47 [00:00<?, ?it/s]"
     ]
    },
    {
     "name": "stdout",
     "output_type": "stream",
     "text": [
      "epoch: 74, train loss: 1.8450,time: 26.7317 \n",
      "\n"
     ]
    },
    {
     "name": "stderr",
     "output_type": "stream",
     "text": [
      "100%|██████████| 47/47 [00:26<00:00,  1.75it/s]\n",
      "  0%|          | 0/47 [00:00<?, ?it/s]"
     ]
    },
    {
     "name": "stdout",
     "output_type": "stream",
     "text": [
      "epoch: 75, train loss: 1.8099,time: 26.9109 \n",
      "\n"
     ]
    },
    {
     "name": "stderr",
     "output_type": "stream",
     "text": [
      "100%|██████████| 47/47 [00:26<00:00,  1.75it/s]\n",
      "  0%|          | 0/47 [00:00<?, ?it/s]"
     ]
    },
    {
     "name": "stdout",
     "output_type": "stream",
     "text": [
      "epoch: 76, train loss: 1.7728,time: 26.8275 \n",
      "\n"
     ]
    },
    {
     "name": "stderr",
     "output_type": "stream",
     "text": [
      "100%|██████████| 47/47 [00:26<00:00,  1.75it/s]\n",
      "  0%|          | 0/47 [00:00<?, ?it/s]"
     ]
    },
    {
     "name": "stdout",
     "output_type": "stream",
     "text": [
      "epoch: 77, train loss: 1.7408,time: 26.8232 \n",
      "\n"
     ]
    },
    {
     "name": "stderr",
     "output_type": "stream",
     "text": [
      "100%|██████████| 47/47 [00:26<00:00,  1.75it/s]\n",
      "  0%|          | 0/47 [00:00<?, ?it/s]"
     ]
    },
    {
     "name": "stdout",
     "output_type": "stream",
     "text": [
      "epoch: 78, train loss: 1.7297,time: 26.7987 \n",
      "\n"
     ]
    },
    {
     "name": "stderr",
     "output_type": "stream",
     "text": [
      "100%|██████████| 47/47 [00:26<00:00,  1.76it/s]\n",
      "  0%|          | 0/47 [00:00<?, ?it/s]"
     ]
    },
    {
     "name": "stdout",
     "output_type": "stream",
     "text": [
      "epoch: 79, train loss: 1.7177,time: 26.7677 \n",
      "\n"
     ]
    },
    {
     "name": "stderr",
     "output_type": "stream",
     "text": [
      "100%|██████████| 47/47 [00:26<00:00,  1.76it/s]\n",
      "  0%|          | 0/47 [00:00<?, ?it/s]"
     ]
    },
    {
     "name": "stdout",
     "output_type": "stream",
     "text": [
      "epoch: 80, train loss: 1.6792,time: 26.7127 \n",
      "\n"
     ]
    },
    {
     "name": "stderr",
     "output_type": "stream",
     "text": [
      "100%|██████████| 47/47 [00:26<00:00,  1.75it/s]\n",
      "  0%|          | 0/47 [00:00<?, ?it/s]"
     ]
    },
    {
     "name": "stdout",
     "output_type": "stream",
     "text": [
      "epoch: 81, train loss: 1.6808,time: 26.8199 \n",
      "\n"
     ]
    },
    {
     "name": "stderr",
     "output_type": "stream",
     "text": [
      "100%|██████████| 47/47 [00:26<00:00,  1.75it/s]\n",
      "  0%|          | 0/47 [00:00<?, ?it/s]"
     ]
    },
    {
     "name": "stdout",
     "output_type": "stream",
     "text": [
      "epoch: 82, train loss: 1.7400,time: 26.7992 \n",
      "\n"
     ]
    },
    {
     "name": "stderr",
     "output_type": "stream",
     "text": [
      "100%|██████████| 47/47 [00:26<00:00,  1.75it/s]\n",
      "  0%|          | 0/47 [00:00<?, ?it/s]"
     ]
    },
    {
     "name": "stdout",
     "output_type": "stream",
     "text": [
      "epoch: 83, train loss: 1.6901,time: 26.9309 \n",
      "\n"
     ]
    },
    {
     "name": "stderr",
     "output_type": "stream",
     "text": [
      "100%|██████████| 47/47 [00:26<00:00,  1.75it/s]\n",
      "  0%|          | 0/47 [00:00<?, ?it/s]"
     ]
    },
    {
     "name": "stdout",
     "output_type": "stream",
     "text": [
      "epoch: 84, train loss: 1.6374,time: 26.8217 \n",
      "\n"
     ]
    },
    {
     "name": "stderr",
     "output_type": "stream",
     "text": [
      "100%|██████████| 47/47 [00:26<00:00,  1.76it/s]\n",
      "  0%|          | 0/47 [00:00<?, ?it/s]"
     ]
    },
    {
     "name": "stdout",
     "output_type": "stream",
     "text": [
      "epoch: 85, train loss: 1.6257,time: 26.7182 \n",
      "\n"
     ]
    },
    {
     "name": "stderr",
     "output_type": "stream",
     "text": [
      "100%|██████████| 47/47 [00:26<00:00,  1.74it/s]\n",
      "  0%|          | 0/47 [00:00<?, ?it/s]"
     ]
    },
    {
     "name": "stdout",
     "output_type": "stream",
     "text": [
      "epoch: 86, train loss: 1.5840,time: 26.9918 \n",
      "\n"
     ]
    },
    {
     "name": "stderr",
     "output_type": "stream",
     "text": [
      "100%|██████████| 47/47 [00:26<00:00,  1.76it/s]\n",
      "  0%|          | 0/47 [00:00<?, ?it/s]"
     ]
    },
    {
     "name": "stdout",
     "output_type": "stream",
     "text": [
      "epoch: 87, train loss: 1.5626,time: 26.7686 \n",
      "\n"
     ]
    },
    {
     "name": "stderr",
     "output_type": "stream",
     "text": [
      "100%|██████████| 47/47 [00:26<00:00,  1.75it/s]\n",
      "  0%|          | 0/47 [00:00<?, ?it/s]"
     ]
    },
    {
     "name": "stdout",
     "output_type": "stream",
     "text": [
      "epoch: 88, train loss: 1.5617,time: 26.8859 \n",
      "\n"
     ]
    },
    {
     "name": "stderr",
     "output_type": "stream",
     "text": [
      "100%|██████████| 47/47 [00:27<00:00,  1.74it/s]\n",
      "  0%|          | 0/47 [00:00<?, ?it/s]"
     ]
    },
    {
     "name": "stdout",
     "output_type": "stream",
     "text": [
      "epoch: 89, train loss: 1.5370,time: 27.0562 \n",
      "\n"
     ]
    },
    {
     "name": "stderr",
     "output_type": "stream",
     "text": [
      "100%|██████████| 47/47 [00:26<00:00,  1.75it/s]\n",
      "  0%|          | 0/47 [00:00<?, ?it/s]"
     ]
    },
    {
     "name": "stdout",
     "output_type": "stream",
     "text": [
      "epoch: 90, train loss: 1.5681,time: 26.8711 \n",
      "\n"
     ]
    },
    {
     "name": "stderr",
     "output_type": "stream",
     "text": [
      "100%|██████████| 47/47 [00:26<00:00,  1.76it/s]\n",
      "  0%|          | 0/47 [00:00<?, ?it/s]"
     ]
    },
    {
     "name": "stdout",
     "output_type": "stream",
     "text": [
      "epoch: 91, train loss: 1.5156,time: 26.7302 \n",
      "\n"
     ]
    },
    {
     "name": "stderr",
     "output_type": "stream",
     "text": [
      "100%|██████████| 47/47 [00:26<00:00,  1.76it/s]\n",
      "  0%|          | 0/47 [00:00<?, ?it/s]"
     ]
    },
    {
     "name": "stdout",
     "output_type": "stream",
     "text": [
      "epoch: 92, train loss: 1.4964,time: 26.7748 \n",
      "\n"
     ]
    },
    {
     "name": "stderr",
     "output_type": "stream",
     "text": [
      "100%|██████████| 47/47 [00:26<00:00,  1.76it/s]\n",
      "  0%|          | 0/47 [00:00<?, ?it/s]"
     ]
    },
    {
     "name": "stdout",
     "output_type": "stream",
     "text": [
      "epoch: 93, train loss: 1.5703,time: 26.7230 \n",
      "\n"
     ]
    },
    {
     "name": "stderr",
     "output_type": "stream",
     "text": [
      "100%|██████████| 47/47 [00:26<00:00,  1.75it/s]\n",
      "  0%|          | 0/47 [00:00<?, ?it/s]"
     ]
    },
    {
     "name": "stdout",
     "output_type": "stream",
     "text": [
      "epoch: 94, train loss: 1.5684,time: 26.9020 \n",
      "\n"
     ]
    },
    {
     "name": "stderr",
     "output_type": "stream",
     "text": [
      "100%|██████████| 47/47 [00:26<00:00,  1.76it/s]\n",
      "  0%|          | 0/47 [00:00<?, ?it/s]"
     ]
    },
    {
     "name": "stdout",
     "output_type": "stream",
     "text": [
      "epoch: 95, train loss: 1.5300,time: 26.6488 \n",
      "\n"
     ]
    },
    {
     "name": "stderr",
     "output_type": "stream",
     "text": [
      "100%|██████████| 47/47 [00:26<00:00,  1.75it/s]\n",
      "  0%|          | 0/47 [00:00<?, ?it/s]"
     ]
    },
    {
     "name": "stdout",
     "output_type": "stream",
     "text": [
      "epoch: 96, train loss: 1.5114,time: 26.9322 \n",
      "\n"
     ]
    },
    {
     "name": "stderr",
     "output_type": "stream",
     "text": [
      "100%|██████████| 47/47 [00:26<00:00,  1.75it/s]\n",
      "  0%|          | 0/47 [00:00<?, ?it/s]"
     ]
    },
    {
     "name": "stdout",
     "output_type": "stream",
     "text": [
      "epoch: 97, train loss: 1.4521,time: 26.7986 \n",
      "\n"
     ]
    },
    {
     "name": "stderr",
     "output_type": "stream",
     "text": [
      "100%|██████████| 47/47 [00:26<00:00,  1.75it/s]\n",
      "  0%|          | 0/47 [00:00<?, ?it/s]"
     ]
    },
    {
     "name": "stdout",
     "output_type": "stream",
     "text": [
      "epoch: 98, train loss: 1.4030,time: 26.8657 \n",
      "\n"
     ]
    },
    {
     "name": "stderr",
     "output_type": "stream",
     "text": [
      "100%|██████████| 47/47 [00:26<00:00,  1.76it/s]\n",
      "  0%|          | 0/47 [00:00<?, ?it/s]"
     ]
    },
    {
     "name": "stdout",
     "output_type": "stream",
     "text": [
      "epoch: 99, train loss: 1.3972,time: 26.7747 \n",
      "\n"
     ]
    },
    {
     "name": "stderr",
     "output_type": "stream",
     "text": [
      "100%|██████████| 47/47 [00:26<00:00,  1.76it/s]\n",
      "  0%|          | 0/47 [00:00<?, ?it/s]"
     ]
    },
    {
     "name": "stdout",
     "output_type": "stream",
     "text": [
      "epoch: 100, train loss: 1.3531,time: 26.7288 \n",
      "\n"
     ]
    },
    {
     "name": "stderr",
     "output_type": "stream",
     "text": [
      "100%|██████████| 47/47 [00:26<00:00,  1.77it/s]\n",
      "  0%|          | 0/47 [00:00<?, ?it/s]"
     ]
    },
    {
     "name": "stdout",
     "output_type": "stream",
     "text": [
      "epoch: 101, train loss: 1.3554,time: 26.6291 \n",
      "\n"
     ]
    },
    {
     "name": "stderr",
     "output_type": "stream",
     "text": [
      "100%|██████████| 47/47 [00:26<00:00,  1.76it/s]\n",
      "  0%|          | 0/47 [00:00<?, ?it/s]"
     ]
    },
    {
     "name": "stdout",
     "output_type": "stream",
     "text": [
      "epoch: 102, train loss: 1.3516,time: 26.7453 \n",
      "\n"
     ]
    },
    {
     "name": "stderr",
     "output_type": "stream",
     "text": [
      "100%|██████████| 47/47 [00:26<00:00,  1.76it/s]\n",
      "  0%|          | 0/47 [00:00<?, ?it/s]"
     ]
    },
    {
     "name": "stdout",
     "output_type": "stream",
     "text": [
      "epoch: 103, train loss: 1.3995,time: 26.7908 \n",
      "\n"
     ]
    },
    {
     "name": "stderr",
     "output_type": "stream",
     "text": [
      "100%|██████████| 47/47 [00:26<00:00,  1.76it/s]\n",
      "  0%|          | 0/47 [00:00<?, ?it/s]"
     ]
    },
    {
     "name": "stdout",
     "output_type": "stream",
     "text": [
      "epoch: 104, train loss: 1.4236,time: 26.6993 \n",
      "\n"
     ]
    },
    {
     "name": "stderr",
     "output_type": "stream",
     "text": [
      "100%|██████████| 47/47 [00:26<00:00,  1.77it/s]\n",
      "  0%|          | 0/47 [00:00<?, ?it/s]"
     ]
    },
    {
     "name": "stdout",
     "output_type": "stream",
     "text": [
      "epoch: 105, train loss: 1.3442,time: 26.6253 \n",
      "\n"
     ]
    },
    {
     "name": "stderr",
     "output_type": "stream",
     "text": [
      "100%|██████████| 47/47 [00:26<00:00,  1.76it/s]\n",
      "  0%|          | 0/47 [00:00<?, ?it/s]"
     ]
    },
    {
     "name": "stdout",
     "output_type": "stream",
     "text": [
      "epoch: 106, train loss: 1.2918,time: 26.7555 \n",
      "\n"
     ]
    },
    {
     "name": "stderr",
     "output_type": "stream",
     "text": [
      "100%|██████████| 47/47 [00:26<00:00,  1.76it/s]\n",
      "  0%|          | 0/47 [00:00<?, ?it/s]"
     ]
    },
    {
     "name": "stdout",
     "output_type": "stream",
     "text": [
      "epoch: 107, train loss: 1.2521,time: 26.7009 \n",
      "\n"
     ]
    },
    {
     "name": "stderr",
     "output_type": "stream",
     "text": [
      "100%|██████████| 47/47 [00:26<00:00,  1.77it/s]\n",
      "  0%|          | 0/47 [00:00<?, ?it/s]"
     ]
    },
    {
     "name": "stdout",
     "output_type": "stream",
     "text": [
      "epoch: 108, train loss: 1.2283,time: 26.6267 \n",
      "\n"
     ]
    },
    {
     "name": "stderr",
     "output_type": "stream",
     "text": [
      "100%|██████████| 47/47 [00:26<00:00,  1.76it/s]\n",
      "  0%|          | 0/47 [00:00<?, ?it/s]"
     ]
    },
    {
     "name": "stdout",
     "output_type": "stream",
     "text": [
      "epoch: 109, train loss: 1.2199,time: 26.7193 \n",
      "\n"
     ]
    },
    {
     "name": "stderr",
     "output_type": "stream",
     "text": [
      "100%|██████████| 47/47 [00:26<00:00,  1.76it/s]\n",
      "  0%|          | 0/47 [00:00<?, ?it/s]"
     ]
    },
    {
     "name": "stdout",
     "output_type": "stream",
     "text": [
      "epoch: 110, train loss: 1.2233,time: 26.7463 \n",
      "\n"
     ]
    },
    {
     "name": "stderr",
     "output_type": "stream",
     "text": [
      "100%|██████████| 47/47 [00:26<00:00,  1.75it/s]\n",
      "  0%|          | 0/47 [00:00<?, ?it/s]"
     ]
    },
    {
     "name": "stdout",
     "output_type": "stream",
     "text": [
      "epoch: 111, train loss: 1.2022,time: 26.8660 \n",
      "\n"
     ]
    },
    {
     "name": "stderr",
     "output_type": "stream",
     "text": [
      "100%|██████████| 47/47 [00:26<00:00,  1.76it/s]\n",
      "  0%|          | 0/47 [00:00<?, ?it/s]"
     ]
    },
    {
     "name": "stdout",
     "output_type": "stream",
     "text": [
      "epoch: 112, train loss: 1.1926,time: 26.7418 \n",
      "\n"
     ]
    },
    {
     "name": "stderr",
     "output_type": "stream",
     "text": [
      "100%|██████████| 47/47 [00:26<00:00,  1.75it/s]\n",
      "  0%|          | 0/47 [00:00<?, ?it/s]"
     ]
    },
    {
     "name": "stdout",
     "output_type": "stream",
     "text": [
      "epoch: 113, train loss: 1.1641,time: 26.9156 \n",
      "\n"
     ]
    },
    {
     "name": "stderr",
     "output_type": "stream",
     "text": [
      "100%|██████████| 47/47 [00:26<00:00,  1.75it/s]\n",
      "  0%|          | 0/47 [00:00<?, ?it/s]"
     ]
    },
    {
     "name": "stdout",
     "output_type": "stream",
     "text": [
      "epoch: 114, train loss: 1.1532,time: 26.8366 \n",
      "\n"
     ]
    },
    {
     "name": "stderr",
     "output_type": "stream",
     "text": [
      "100%|██████████| 47/47 [00:26<00:00,  1.74it/s]\n",
      "  0%|          | 0/47 [00:00<?, ?it/s]"
     ]
    },
    {
     "name": "stdout",
     "output_type": "stream",
     "text": [
      "epoch: 115, train loss: 1.2196,time: 26.9482 \n",
      "\n"
     ]
    },
    {
     "name": "stderr",
     "output_type": "stream",
     "text": [
      "100%|██████████| 47/47 [00:26<00:00,  1.76it/s]\n",
      "  0%|          | 0/47 [00:00<?, ?it/s]"
     ]
    },
    {
     "name": "stdout",
     "output_type": "stream",
     "text": [
      "epoch: 116, train loss: 1.2225,time: 26.6493 \n",
      "\n"
     ]
    },
    {
     "name": "stderr",
     "output_type": "stream",
     "text": [
      "100%|██████████| 47/47 [00:26<00:00,  1.76it/s]\n",
      "  0%|          | 0/47 [00:00<?, ?it/s]"
     ]
    },
    {
     "name": "stdout",
     "output_type": "stream",
     "text": [
      "epoch: 117, train loss: 1.1578,time: 26.6791 \n",
      "\n"
     ]
    },
    {
     "name": "stderr",
     "output_type": "stream",
     "text": [
      "100%|██████████| 47/47 [00:26<00:00,  1.75it/s]\n",
      "  0%|          | 0/47 [00:00<?, ?it/s]"
     ]
    },
    {
     "name": "stdout",
     "output_type": "stream",
     "text": [
      "epoch: 118, train loss: 1.1208,time: 26.8359 \n",
      "\n"
     ]
    },
    {
     "name": "stderr",
     "output_type": "stream",
     "text": [
      "100%|██████████| 47/47 [00:26<00:00,  1.75it/s]\n",
      "  0%|          | 0/47 [00:00<?, ?it/s]"
     ]
    },
    {
     "name": "stdout",
     "output_type": "stream",
     "text": [
      "epoch: 119, train loss: 1.1245,time: 26.9133 \n",
      "\n"
     ]
    },
    {
     "name": "stderr",
     "output_type": "stream",
     "text": [
      "100%|██████████| 47/47 [00:27<00:00,  1.74it/s]\n",
      "  0%|          | 0/47 [00:00<?, ?it/s]"
     ]
    },
    {
     "name": "stdout",
     "output_type": "stream",
     "text": [
      "epoch: 120, train loss: 1.0965,time: 27.0625 \n",
      "\n"
     ]
    },
    {
     "name": "stderr",
     "output_type": "stream",
     "text": [
      "100%|██████████| 47/47 [00:27<00:00,  1.74it/s]\n",
      "  0%|          | 0/47 [00:00<?, ?it/s]"
     ]
    },
    {
     "name": "stdout",
     "output_type": "stream",
     "text": [
      "epoch: 121, train loss: 1.0978,time: 27.0321 \n",
      "\n"
     ]
    },
    {
     "name": "stderr",
     "output_type": "stream",
     "text": [
      "100%|██████████| 47/47 [00:26<00:00,  1.77it/s]\n",
      "  0%|          | 0/47 [00:00<?, ?it/s]"
     ]
    },
    {
     "name": "stdout",
     "output_type": "stream",
     "text": [
      "epoch: 122, train loss: 1.1193,time: 26.6319 \n",
      "\n"
     ]
    },
    {
     "name": "stderr",
     "output_type": "stream",
     "text": [
      "100%|██████████| 47/47 [00:26<00:00,  1.75it/s]\n",
      "  0%|          | 0/47 [00:00<?, ?it/s]"
     ]
    },
    {
     "name": "stdout",
     "output_type": "stream",
     "text": [
      "epoch: 123, train loss: 1.1502,time: 26.9436 \n",
      "\n"
     ]
    },
    {
     "name": "stderr",
     "output_type": "stream",
     "text": [
      "100%|██████████| 47/47 [00:26<00:00,  1.75it/s]\n",
      "  0%|          | 0/47 [00:00<?, ?it/s]"
     ]
    },
    {
     "name": "stdout",
     "output_type": "stream",
     "text": [
      "epoch: 124, train loss: 1.1715,time: 26.8765 \n",
      "\n"
     ]
    },
    {
     "name": "stderr",
     "output_type": "stream",
     "text": [
      "100%|██████████| 47/47 [00:26<00:00,  1.75it/s]\n",
      "  0%|          | 0/47 [00:00<?, ?it/s]"
     ]
    },
    {
     "name": "stdout",
     "output_type": "stream",
     "text": [
      "epoch: 125, train loss: 1.1952,time: 26.8794 \n",
      "\n"
     ]
    },
    {
     "name": "stderr",
     "output_type": "stream",
     "text": [
      "100%|██████████| 47/47 [00:26<00:00,  1.75it/s]\n",
      "  0%|          | 0/47 [00:00<?, ?it/s]"
     ]
    },
    {
     "name": "stdout",
     "output_type": "stream",
     "text": [
      "epoch: 126, train loss: 1.1806,time: 26.8296 \n",
      "\n"
     ]
    },
    {
     "name": "stderr",
     "output_type": "stream",
     "text": [
      "100%|██████████| 47/47 [00:26<00:00,  1.75it/s]\n",
      "  0%|          | 0/47 [00:00<?, ?it/s]"
     ]
    },
    {
     "name": "stdout",
     "output_type": "stream",
     "text": [
      "epoch: 127, train loss: 1.1655,time: 26.9095 \n",
      "\n"
     ]
    },
    {
     "name": "stderr",
     "output_type": "stream",
     "text": [
      "100%|██████████| 47/47 [00:26<00:00,  1.76it/s]\n",
      "  0%|          | 0/47 [00:00<?, ?it/s]"
     ]
    },
    {
     "name": "stdout",
     "output_type": "stream",
     "text": [
      "epoch: 128, train loss: 1.0530,time: 26.6454 \n",
      "\n"
     ]
    },
    {
     "name": "stderr",
     "output_type": "stream",
     "text": [
      "100%|██████████| 47/47 [00:26<00:00,  1.75it/s]\n",
      "  0%|          | 0/47 [00:00<?, ?it/s]"
     ]
    },
    {
     "name": "stdout",
     "output_type": "stream",
     "text": [
      "epoch: 129, train loss: 1.0346,time: 26.8590 \n",
      "\n"
     ]
    },
    {
     "name": "stderr",
     "output_type": "stream",
     "text": [
      "100%|██████████| 47/47 [00:26<00:00,  1.75it/s]\n",
      "  0%|          | 0/47 [00:00<?, ?it/s]"
     ]
    },
    {
     "name": "stdout",
     "output_type": "stream",
     "text": [
      "epoch: 130, train loss: 0.9972,time: 26.9253 \n",
      "\n"
     ]
    },
    {
     "name": "stderr",
     "output_type": "stream",
     "text": [
      "100%|██████████| 47/47 [00:26<00:00,  1.75it/s]\n",
      "  0%|          | 0/47 [00:00<?, ?it/s]"
     ]
    },
    {
     "name": "stdout",
     "output_type": "stream",
     "text": [
      "epoch: 131, train loss: 0.9941,time: 26.7930 \n",
      "\n"
     ]
    },
    {
     "name": "stderr",
     "output_type": "stream",
     "text": [
      "100%|██████████| 47/47 [00:26<00:00,  1.76it/s]\n",
      "  0%|          | 0/47 [00:00<?, ?it/s]"
     ]
    },
    {
     "name": "stdout",
     "output_type": "stream",
     "text": [
      "epoch: 132, train loss: 1.1718,time: 26.7885 \n",
      "\n"
     ]
    },
    {
     "name": "stderr",
     "output_type": "stream",
     "text": [
      "100%|██████████| 47/47 [00:26<00:00,  1.75it/s]\n",
      "  0%|          | 0/47 [00:00<?, ?it/s]"
     ]
    },
    {
     "name": "stdout",
     "output_type": "stream",
     "text": [
      "epoch: 133, train loss: 1.0762,time: 26.8657 \n",
      "\n"
     ]
    },
    {
     "name": "stderr",
     "output_type": "stream",
     "text": [
      "100%|██████████| 47/47 [00:26<00:00,  1.76it/s]\n",
      "  0%|          | 0/47 [00:00<?, ?it/s]"
     ]
    },
    {
     "name": "stdout",
     "output_type": "stream",
     "text": [
      "epoch: 134, train loss: 1.0614,time: 26.7367 \n",
      "\n"
     ]
    },
    {
     "name": "stderr",
     "output_type": "stream",
     "text": [
      "100%|██████████| 47/47 [00:26<00:00,  1.76it/s]\n",
      "  0%|          | 0/47 [00:00<?, ?it/s]"
     ]
    },
    {
     "name": "stdout",
     "output_type": "stream",
     "text": [
      "epoch: 135, train loss: 1.0658,time: 26.7644 \n",
      "\n"
     ]
    },
    {
     "name": "stderr",
     "output_type": "stream",
     "text": [
      "100%|██████████| 47/47 [00:26<00:00,  1.75it/s]\n",
      "  0%|          | 0/47 [00:00<?, ?it/s]"
     ]
    },
    {
     "name": "stdout",
     "output_type": "stream",
     "text": [
      "epoch: 136, train loss: 0.9667,time: 26.7937 \n",
      "\n"
     ]
    },
    {
     "name": "stderr",
     "output_type": "stream",
     "text": [
      "100%|██████████| 47/47 [00:26<00:00,  1.76it/s]\n",
      "  0%|          | 0/47 [00:00<?, ?it/s]"
     ]
    },
    {
     "name": "stdout",
     "output_type": "stream",
     "text": [
      "epoch: 137, train loss: 0.9493,time: 26.6957 \n",
      "\n"
     ]
    },
    {
     "name": "stderr",
     "output_type": "stream",
     "text": [
      "100%|██████████| 47/47 [00:26<00:00,  1.76it/s]\n",
      "  0%|          | 0/47 [00:00<?, ?it/s]"
     ]
    },
    {
     "name": "stdout",
     "output_type": "stream",
     "text": [
      "epoch: 138, train loss: 0.9952,time: 26.7705 \n",
      "\n"
     ]
    },
    {
     "name": "stderr",
     "output_type": "stream",
     "text": [
      "100%|██████████| 47/47 [00:26<00:00,  1.75it/s]\n",
      "  0%|          | 0/47 [00:00<?, ?it/s]"
     ]
    },
    {
     "name": "stdout",
     "output_type": "stream",
     "text": [
      "epoch: 139, train loss: 0.9117,time: 26.8050 \n",
      "\n"
     ]
    },
    {
     "name": "stderr",
     "output_type": "stream",
     "text": [
      "100%|██████████| 47/47 [00:26<00:00,  1.75it/s]\n",
      "  0%|          | 0/47 [00:00<?, ?it/s]"
     ]
    },
    {
     "name": "stdout",
     "output_type": "stream",
     "text": [
      "epoch: 140, train loss: 0.8830,time: 26.8045 \n",
      "\n"
     ]
    },
    {
     "name": "stderr",
     "output_type": "stream",
     "text": [
      "100%|██████████| 47/47 [00:26<00:00,  1.75it/s]\n",
      "  0%|          | 0/47 [00:00<?, ?it/s]"
     ]
    },
    {
     "name": "stdout",
     "output_type": "stream",
     "text": [
      "epoch: 141, train loss: 0.8983,time: 26.8869 \n",
      "\n"
     ]
    },
    {
     "name": "stderr",
     "output_type": "stream",
     "text": [
      "100%|██████████| 47/47 [00:26<00:00,  1.76it/s]\n",
      "  0%|          | 0/47 [00:00<?, ?it/s]"
     ]
    },
    {
     "name": "stdout",
     "output_type": "stream",
     "text": [
      "epoch: 142, train loss: 0.8774,time: 26.7830 \n",
      "\n"
     ]
    },
    {
     "name": "stderr",
     "output_type": "stream",
     "text": [
      "100%|██████████| 47/47 [00:26<00:00,  1.76it/s]\n",
      "  0%|          | 0/47 [00:00<?, ?it/s]"
     ]
    },
    {
     "name": "stdout",
     "output_type": "stream",
     "text": [
      "epoch: 143, train loss: 0.8524,time: 26.7826 \n",
      "\n"
     ]
    },
    {
     "name": "stderr",
     "output_type": "stream",
     "text": [
      "100%|██████████| 47/47 [00:26<00:00,  1.74it/s]\n",
      "  0%|          | 0/47 [00:00<?, ?it/s]"
     ]
    },
    {
     "name": "stdout",
     "output_type": "stream",
     "text": [
      "epoch: 144, train loss: 0.9240,time: 27.0047 \n",
      "\n"
     ]
    },
    {
     "name": "stderr",
     "output_type": "stream",
     "text": [
      "100%|██████████| 47/47 [00:26<00:00,  1.75it/s]\n",
      "  0%|          | 0/47 [00:00<?, ?it/s]"
     ]
    },
    {
     "name": "stdout",
     "output_type": "stream",
     "text": [
      "epoch: 145, train loss: 0.8847,time: 26.8575 \n",
      "\n"
     ]
    },
    {
     "name": "stderr",
     "output_type": "stream",
     "text": [
      "100%|██████████| 47/47 [00:26<00:00,  1.75it/s]\n",
      "  0%|          | 0/47 [00:00<?, ?it/s]"
     ]
    },
    {
     "name": "stdout",
     "output_type": "stream",
     "text": [
      "epoch: 146, train loss: 1.0010,time: 26.8322 \n",
      "\n"
     ]
    },
    {
     "name": "stderr",
     "output_type": "stream",
     "text": [
      "100%|██████████| 47/47 [00:26<00:00,  1.75it/s]\n",
      "  0%|          | 0/47 [00:00<?, ?it/s]"
     ]
    },
    {
     "name": "stdout",
     "output_type": "stream",
     "text": [
      "epoch: 147, train loss: 0.9516,time: 26.8091 \n",
      "\n"
     ]
    },
    {
     "name": "stderr",
     "output_type": "stream",
     "text": [
      "100%|██████████| 47/47 [00:26<00:00,  1.75it/s]\n",
      "  0%|          | 0/47 [00:00<?, ?it/s]"
     ]
    },
    {
     "name": "stdout",
     "output_type": "stream",
     "text": [
      "epoch: 148, train loss: 0.9443,time: 26.8452 \n",
      "\n"
     ]
    },
    {
     "name": "stderr",
     "output_type": "stream",
     "text": [
      "100%|██████████| 47/47 [00:26<00:00,  1.76it/s]\n",
      "  0%|          | 0/47 [00:00<?, ?it/s]"
     ]
    },
    {
     "name": "stdout",
     "output_type": "stream",
     "text": [
      "epoch: 149, train loss: 0.9392,time: 26.7056 \n",
      "\n"
     ]
    },
    {
     "name": "stderr",
     "output_type": "stream",
     "text": [
      "100%|██████████| 47/47 [00:26<00:00,  1.77it/s]\n",
      "  0%|          | 0/47 [00:00<?, ?it/s]"
     ]
    },
    {
     "name": "stdout",
     "output_type": "stream",
     "text": [
      "epoch: 150, train loss: 0.8309,time: 26.6115 \n",
      "\n"
     ]
    },
    {
     "name": "stderr",
     "output_type": "stream",
     "text": [
      "100%|██████████| 47/47 [00:26<00:00,  1.76it/s]\n",
      "  0%|          | 0/47 [00:00<?, ?it/s]"
     ]
    },
    {
     "name": "stdout",
     "output_type": "stream",
     "text": [
      "epoch: 151, train loss: 0.8948,time: 26.7770 \n",
      "\n"
     ]
    },
    {
     "name": "stderr",
     "output_type": "stream",
     "text": [
      "100%|██████████| 47/47 [00:26<00:00,  1.76it/s]\n",
      "  0%|          | 0/47 [00:00<?, ?it/s]"
     ]
    },
    {
     "name": "stdout",
     "output_type": "stream",
     "text": [
      "epoch: 152, train loss: 0.8597,time: 26.6766 \n",
      "\n"
     ]
    },
    {
     "name": "stderr",
     "output_type": "stream",
     "text": [
      "100%|██████████| 47/47 [00:26<00:00,  1.75it/s]\n",
      "  0%|          | 0/47 [00:00<?, ?it/s]"
     ]
    },
    {
     "name": "stdout",
     "output_type": "stream",
     "text": [
      "epoch: 153, train loss: 0.7749,time: 26.8160 \n",
      "\n"
     ]
    },
    {
     "name": "stderr",
     "output_type": "stream",
     "text": [
      "100%|██████████| 47/47 [00:26<00:00,  1.75it/s]\n",
      "  0%|          | 0/47 [00:00<?, ?it/s]"
     ]
    },
    {
     "name": "stdout",
     "output_type": "stream",
     "text": [
      "epoch: 154, train loss: 0.8818,time: 26.8608 \n",
      "\n"
     ]
    },
    {
     "name": "stderr",
     "output_type": "stream",
     "text": [
      "100%|██████████| 47/47 [00:26<00:00,  1.76it/s]\n",
      "  0%|          | 0/47 [00:00<?, ?it/s]"
     ]
    },
    {
     "name": "stdout",
     "output_type": "stream",
     "text": [
      "epoch: 155, train loss: 0.8940,time: 26.7648 \n",
      "\n"
     ]
    },
    {
     "name": "stderr",
     "output_type": "stream",
     "text": [
      "100%|██████████| 47/47 [00:26<00:00,  1.75it/s]\n",
      "  0%|          | 0/47 [00:00<?, ?it/s]"
     ]
    },
    {
     "name": "stdout",
     "output_type": "stream",
     "text": [
      "epoch: 156, train loss: 0.8796,time: 26.9127 \n",
      "\n"
     ]
    },
    {
     "name": "stderr",
     "output_type": "stream",
     "text": [
      "100%|██████████| 47/47 [00:26<00:00,  1.76it/s]\n",
      "  0%|          | 0/47 [00:00<?, ?it/s]"
     ]
    },
    {
     "name": "stdout",
     "output_type": "stream",
     "text": [
      "epoch: 157, train loss: 0.8169,time: 26.7471 \n",
      "\n"
     ]
    },
    {
     "name": "stderr",
     "output_type": "stream",
     "text": [
      "100%|██████████| 47/47 [00:26<00:00,  1.76it/s]\n",
      "  0%|          | 0/47 [00:00<?, ?it/s]"
     ]
    },
    {
     "name": "stdout",
     "output_type": "stream",
     "text": [
      "epoch: 158, train loss: 0.7528,time: 26.7284 \n",
      "\n"
     ]
    },
    {
     "name": "stderr",
     "output_type": "stream",
     "text": [
      "100%|██████████| 47/47 [00:26<00:00,  1.76it/s]\n",
      "  0%|          | 0/47 [00:00<?, ?it/s]"
     ]
    },
    {
     "name": "stdout",
     "output_type": "stream",
     "text": [
      "epoch: 159, train loss: 0.7342,time: 26.7329 \n",
      "\n"
     ]
    },
    {
     "name": "stderr",
     "output_type": "stream",
     "text": [
      "100%|██████████| 47/47 [00:26<00:00,  1.75it/s]\n",
      "  0%|          | 0/47 [00:00<?, ?it/s]"
     ]
    },
    {
     "name": "stdout",
     "output_type": "stream",
     "text": [
      "epoch: 160, train loss: 0.7427,time: 26.8713 \n",
      "\n"
     ]
    },
    {
     "name": "stderr",
     "output_type": "stream",
     "text": [
      "100%|██████████| 47/47 [00:26<00:00,  1.75it/s]\n",
      "  0%|          | 0/47 [00:00<?, ?it/s]"
     ]
    },
    {
     "name": "stdout",
     "output_type": "stream",
     "text": [
      "epoch: 161, train loss: 0.7017,time: 26.8775 \n",
      "\n"
     ]
    },
    {
     "name": "stderr",
     "output_type": "stream",
     "text": [
      "100%|██████████| 47/47 [00:26<00:00,  1.75it/s]\n",
      "  0%|          | 0/47 [00:00<?, ?it/s]"
     ]
    },
    {
     "name": "stdout",
     "output_type": "stream",
     "text": [
      "epoch: 162, train loss: 0.7151,time: 26.9002 \n",
      "\n"
     ]
    },
    {
     "name": "stderr",
     "output_type": "stream",
     "text": [
      "100%|██████████| 47/47 [00:26<00:00,  1.76it/s]\n",
      "  0%|          | 0/47 [00:00<?, ?it/s]"
     ]
    },
    {
     "name": "stdout",
     "output_type": "stream",
     "text": [
      "epoch: 163, train loss: 0.7642,time: 26.7617 \n",
      "\n"
     ]
    },
    {
     "name": "stderr",
     "output_type": "stream",
     "text": [
      "100%|██████████| 47/47 [00:26<00:00,  1.75it/s]\n",
      "  0%|          | 0/47 [00:00<?, ?it/s]"
     ]
    },
    {
     "name": "stdout",
     "output_type": "stream",
     "text": [
      "epoch: 164, train loss: 0.6884,time: 26.8395 \n",
      "\n"
     ]
    },
    {
     "name": "stderr",
     "output_type": "stream",
     "text": [
      "100%|██████████| 47/47 [00:26<00:00,  1.74it/s]\n",
      "  0%|          | 0/47 [00:00<?, ?it/s]"
     ]
    },
    {
     "name": "stdout",
     "output_type": "stream",
     "text": [
      "epoch: 165, train loss: 0.7237,time: 26.9763 \n",
      "\n"
     ]
    },
    {
     "name": "stderr",
     "output_type": "stream",
     "text": [
      "100%|██████████| 47/47 [00:26<00:00,  1.76it/s]\n",
      "  0%|          | 0/47 [00:00<?, ?it/s]"
     ]
    },
    {
     "name": "stdout",
     "output_type": "stream",
     "text": [
      "epoch: 166, train loss: 0.6696,time: 26.6601 \n",
      "\n"
     ]
    },
    {
     "name": "stderr",
     "output_type": "stream",
     "text": [
      "100%|██████████| 47/47 [00:26<00:00,  1.75it/s]\n",
      "  0%|          | 0/47 [00:00<?, ?it/s]"
     ]
    },
    {
     "name": "stdout",
     "output_type": "stream",
     "text": [
      "epoch: 167, train loss: 0.7066,time: 26.8333 \n",
      "\n"
     ]
    },
    {
     "name": "stderr",
     "output_type": "stream",
     "text": [
      "100%|██████████| 47/47 [00:26<00:00,  1.76it/s]\n",
      "  0%|          | 0/47 [00:00<?, ?it/s]"
     ]
    },
    {
     "name": "stdout",
     "output_type": "stream",
     "text": [
      "epoch: 168, train loss: 0.6624,time: 26.7328 \n",
      "\n"
     ]
    },
    {
     "name": "stderr",
     "output_type": "stream",
     "text": [
      "100%|██████████| 47/47 [00:26<00:00,  1.76it/s]\n",
      "  0%|          | 0/47 [00:00<?, ?it/s]"
     ]
    },
    {
     "name": "stdout",
     "output_type": "stream",
     "text": [
      "epoch: 169, train loss: 0.6251,time: 26.7908 \n",
      "\n"
     ]
    },
    {
     "name": "stderr",
     "output_type": "stream",
     "text": [
      "100%|██████████| 47/47 [00:26<00:00,  1.76it/s]\n",
      "  0%|          | 0/47 [00:00<?, ?it/s]"
     ]
    },
    {
     "name": "stdout",
     "output_type": "stream",
     "text": [
      "epoch: 170, train loss: 0.6232,time: 26.6724 \n",
      "\n"
     ]
    },
    {
     "name": "stderr",
     "output_type": "stream",
     "text": [
      "100%|██████████| 47/47 [00:26<00:00,  1.74it/s]\n",
      "  0%|          | 0/47 [00:00<?, ?it/s]"
     ]
    },
    {
     "name": "stdout",
     "output_type": "stream",
     "text": [
      "epoch: 171, train loss: 0.6149,time: 26.9662 \n",
      "\n"
     ]
    },
    {
     "name": "stderr",
     "output_type": "stream",
     "text": [
      "100%|██████████| 47/47 [00:26<00:00,  1.75it/s]\n",
      "  0%|          | 0/47 [00:00<?, ?it/s]"
     ]
    },
    {
     "name": "stdout",
     "output_type": "stream",
     "text": [
      "epoch: 172, train loss: 0.6513,time: 26.9335 \n",
      "\n"
     ]
    },
    {
     "name": "stderr",
     "output_type": "stream",
     "text": [
      "100%|██████████| 47/47 [00:26<00:00,  1.75it/s]\n",
      "  0%|          | 0/47 [00:00<?, ?it/s]"
     ]
    },
    {
     "name": "stdout",
     "output_type": "stream",
     "text": [
      "epoch: 173, train loss: 0.6067,time: 26.8935 \n",
      "\n"
     ]
    },
    {
     "name": "stderr",
     "output_type": "stream",
     "text": [
      "100%|██████████| 47/47 [00:26<00:00,  1.75it/s]\n",
      "  0%|          | 0/47 [00:00<?, ?it/s]"
     ]
    },
    {
     "name": "stdout",
     "output_type": "stream",
     "text": [
      "epoch: 174, train loss: 0.6852,time: 26.9017 \n",
      "\n"
     ]
    },
    {
     "name": "stderr",
     "output_type": "stream",
     "text": [
      "100%|██████████| 47/47 [00:26<00:00,  1.75it/s]\n",
      "  0%|          | 0/47 [00:00<?, ?it/s]"
     ]
    },
    {
     "name": "stdout",
     "output_type": "stream",
     "text": [
      "epoch: 175, train loss: 0.5845,time: 26.9319 \n",
      "\n"
     ]
    },
    {
     "name": "stderr",
     "output_type": "stream",
     "text": [
      "100%|██████████| 47/47 [00:26<00:00,  1.77it/s]\n",
      "  0%|          | 0/47 [00:00<?, ?it/s]"
     ]
    },
    {
     "name": "stdout",
     "output_type": "stream",
     "text": [
      "epoch: 176, train loss: 0.6129,time: 26.6384 \n",
      "\n"
     ]
    },
    {
     "name": "stderr",
     "output_type": "stream",
     "text": [
      "100%|██████████| 47/47 [00:26<00:00,  1.75it/s]\n",
      "  0%|          | 0/47 [00:00<?, ?it/s]"
     ]
    },
    {
     "name": "stdout",
     "output_type": "stream",
     "text": [
      "epoch: 177, train loss: 0.5689,time: 26.8291 \n",
      "\n"
     ]
    },
    {
     "name": "stderr",
     "output_type": "stream",
     "text": [
      "100%|██████████| 47/47 [00:26<00:00,  1.74it/s]\n",
      "  0%|          | 0/47 [00:00<?, ?it/s]"
     ]
    },
    {
     "name": "stdout",
     "output_type": "stream",
     "text": [
      "epoch: 178, train loss: 0.5670,time: 26.9662 \n",
      "\n"
     ]
    },
    {
     "name": "stderr",
     "output_type": "stream",
     "text": [
      "100%|██████████| 47/47 [00:26<00:00,  1.76it/s]\n",
      "  0%|          | 0/47 [00:00<?, ?it/s]"
     ]
    },
    {
     "name": "stdout",
     "output_type": "stream",
     "text": [
      "epoch: 179, train loss: 0.6335,time: 26.7016 \n",
      "\n"
     ]
    },
    {
     "name": "stderr",
     "output_type": "stream",
     "text": [
      "100%|██████████| 47/47 [00:26<00:00,  1.77it/s]\n",
      "  0%|          | 0/47 [00:00<?, ?it/s]"
     ]
    },
    {
     "name": "stdout",
     "output_type": "stream",
     "text": [
      "epoch: 180, train loss: 0.5968,time: 26.6221 \n",
      "\n"
     ]
    },
    {
     "name": "stderr",
     "output_type": "stream",
     "text": [
      "100%|██████████| 47/47 [00:26<00:00,  1.76it/s]\n",
      "  0%|          | 0/47 [00:00<?, ?it/s]"
     ]
    },
    {
     "name": "stdout",
     "output_type": "stream",
     "text": [
      "epoch: 181, train loss: 0.6596,time: 26.6873 \n",
      "\n"
     ]
    },
    {
     "name": "stderr",
     "output_type": "stream",
     "text": [
      "100%|██████████| 47/47 [00:26<00:00,  1.76it/s]\n",
      "  0%|          | 0/47 [00:00<?, ?it/s]"
     ]
    },
    {
     "name": "stdout",
     "output_type": "stream",
     "text": [
      "epoch: 182, train loss: 0.7296,time: 26.6759 \n",
      "\n"
     ]
    },
    {
     "name": "stderr",
     "output_type": "stream",
     "text": [
      "100%|██████████| 47/47 [00:26<00:00,  1.76it/s]\n",
      "  0%|          | 0/47 [00:00<?, ?it/s]"
     ]
    },
    {
     "name": "stdout",
     "output_type": "stream",
     "text": [
      "epoch: 183, train loss: 0.6591,time: 26.6878 \n",
      "\n"
     ]
    },
    {
     "name": "stderr",
     "output_type": "stream",
     "text": [
      "100%|██████████| 47/47 [00:26<00:00,  1.77it/s]\n",
      "  0%|          | 0/47 [00:00<?, ?it/s]"
     ]
    },
    {
     "name": "stdout",
     "output_type": "stream",
     "text": [
      "epoch: 184, train loss: 0.6294,time: 26.4918 \n",
      "\n"
     ]
    },
    {
     "name": "stderr",
     "output_type": "stream",
     "text": [
      "100%|██████████| 47/47 [00:26<00:00,  1.76it/s]\n",
      "  0%|          | 0/47 [00:00<?, ?it/s]"
     ]
    },
    {
     "name": "stdout",
     "output_type": "stream",
     "text": [
      "epoch: 185, train loss: 0.6387,time: 26.7681 \n",
      "\n"
     ]
    },
    {
     "name": "stderr",
     "output_type": "stream",
     "text": [
      "100%|██████████| 47/47 [00:26<00:00,  1.76it/s]\n",
      "  0%|          | 0/47 [00:00<?, ?it/s]"
     ]
    },
    {
     "name": "stdout",
     "output_type": "stream",
     "text": [
      "epoch: 186, train loss: 0.6997,time: 26.6467 \n",
      "\n"
     ]
    },
    {
     "name": "stderr",
     "output_type": "stream",
     "text": [
      "100%|██████████| 47/47 [00:26<00:00,  1.76it/s]\n",
      "  0%|          | 0/47 [00:00<?, ?it/s]"
     ]
    },
    {
     "name": "stdout",
     "output_type": "stream",
     "text": [
      "epoch: 187, train loss: 0.7271,time: 26.6524 \n",
      "\n"
     ]
    },
    {
     "name": "stderr",
     "output_type": "stream",
     "text": [
      "100%|██████████| 47/47 [00:26<00:00,  1.77it/s]\n",
      "  0%|          | 0/47 [00:00<?, ?it/s]"
     ]
    },
    {
     "name": "stdout",
     "output_type": "stream",
     "text": [
      "epoch: 188, train loss: 0.6055,time: 26.6273 \n",
      "\n"
     ]
    },
    {
     "name": "stderr",
     "output_type": "stream",
     "text": [
      "100%|██████████| 47/47 [00:26<00:00,  1.76it/s]\n",
      "  0%|          | 0/47 [00:00<?, ?it/s]"
     ]
    },
    {
     "name": "stdout",
     "output_type": "stream",
     "text": [
      "epoch: 189, train loss: 0.5412,time: 26.7151 \n",
      "\n"
     ]
    },
    {
     "name": "stderr",
     "output_type": "stream",
     "text": [
      "100%|██████████| 47/47 [00:26<00:00,  1.75it/s]\n",
      "  0%|          | 0/47 [00:00<?, ?it/s]"
     ]
    },
    {
     "name": "stdout",
     "output_type": "stream",
     "text": [
      "epoch: 190, train loss: 0.5225,time: 26.8890 \n",
      "\n"
     ]
    },
    {
     "name": "stderr",
     "output_type": "stream",
     "text": [
      "100%|██████████| 47/47 [00:26<00:00,  1.77it/s]\n",
      "  0%|          | 0/47 [00:00<?, ?it/s]"
     ]
    },
    {
     "name": "stdout",
     "output_type": "stream",
     "text": [
      "epoch: 191, train loss: 0.5353,time: 26.6009 \n",
      "\n"
     ]
    },
    {
     "name": "stderr",
     "output_type": "stream",
     "text": [
      "100%|██████████| 47/47 [00:26<00:00,  1.77it/s]\n",
      "  0%|          | 0/47 [00:00<?, ?it/s]"
     ]
    },
    {
     "name": "stdout",
     "output_type": "stream",
     "text": [
      "epoch: 192, train loss: 0.5223,time: 26.5712 \n",
      "\n"
     ]
    },
    {
     "name": "stderr",
     "output_type": "stream",
     "text": [
      "100%|██████████| 47/47 [00:26<00:00,  1.76it/s]\n",
      "  0%|          | 0/47 [00:00<?, ?it/s]"
     ]
    },
    {
     "name": "stdout",
     "output_type": "stream",
     "text": [
      "epoch: 193, train loss: 0.5378,time: 26.7258 \n",
      "\n"
     ]
    },
    {
     "name": "stderr",
     "output_type": "stream",
     "text": [
      "100%|██████████| 47/47 [00:26<00:00,  1.76it/s]\n",
      "  0%|          | 0/47 [00:00<?, ?it/s]"
     ]
    },
    {
     "name": "stdout",
     "output_type": "stream",
     "text": [
      "epoch: 194, train loss: 0.5473,time: 26.7030 \n",
      "\n"
     ]
    },
    {
     "name": "stderr",
     "output_type": "stream",
     "text": [
      "100%|██████████| 47/47 [00:26<00:00,  1.77it/s]\n",
      "  0%|          | 0/47 [00:00<?, ?it/s]"
     ]
    },
    {
     "name": "stdout",
     "output_type": "stream",
     "text": [
      "epoch: 195, train loss: 0.5506,time: 26.5954 \n",
      "\n"
     ]
    },
    {
     "name": "stderr",
     "output_type": "stream",
     "text": [
      "100%|██████████| 47/47 [00:26<00:00,  1.77it/s]\n",
      "  0%|          | 0/47 [00:00<?, ?it/s]"
     ]
    },
    {
     "name": "stdout",
     "output_type": "stream",
     "text": [
      "epoch: 196, train loss: 0.5198,time: 26.5976 \n",
      "\n"
     ]
    },
    {
     "name": "stderr",
     "output_type": "stream",
     "text": [
      "100%|██████████| 47/47 [00:26<00:00,  1.76it/s]\n",
      "  0%|          | 0/47 [00:00<?, ?it/s]"
     ]
    },
    {
     "name": "stdout",
     "output_type": "stream",
     "text": [
      "epoch: 197, train loss: 0.5351,time: 26.7059 \n",
      "\n"
     ]
    },
    {
     "name": "stderr",
     "output_type": "stream",
     "text": [
      "100%|██████████| 47/47 [00:26<00:00,  1.77it/s]\n",
      "  0%|          | 0/47 [00:00<?, ?it/s]"
     ]
    },
    {
     "name": "stdout",
     "output_type": "stream",
     "text": [
      "epoch: 198, train loss: 0.5233,time: 26.6144 \n",
      "\n"
     ]
    },
    {
     "name": "stderr",
     "output_type": "stream",
     "text": [
      "100%|██████████| 47/47 [00:26<00:00,  1.78it/s]"
     ]
    },
    {
     "name": "stdout",
     "output_type": "stream",
     "text": [
      "epoch: 199, train loss: 0.4990,time: 26.4329 \n",
      "\n"
     ]
    },
    {
     "name": "stderr",
     "output_type": "stream",
     "text": [
      "\n"
     ]
    }
   ],
   "source": [
    "train(kwargs,device,model,train_iter)"
   ]
  },
  {
   "cell_type": "code",
   "execution_count": 26,
   "id": "russian-import",
   "metadata": {},
   "outputs": [],
   "source": [
    "torch.save(model, 's2s_ci_small.pkl')"
   ]
  },
  {
   "cell_type": "code",
   "execution_count": 28,
   "id": "atmospheric-literature",
   "metadata": {},
   "outputs": [
    {
     "name": "stderr",
     "output_type": "stream",
     "text": [
      "  9%|▊         | 4/47 [00:01<00:16,  2.59it/s]\n"
     ]
    },
    {
     "name": "stdout",
     "output_type": "stream",
     "text": [
      "torch.Size([20, 512, 14719])\n",
      "torch.Size([20, 512])\n",
      "torch.Size([20, 512])\n",
      "\n",
      "原文：\n",
      "<sos> tom is my friend . \n",
      "正确答案：\n",
      "<sos>湯姆是我的朋友。\n",
      "预测\n",
      "<sos>湯姆是我朋友。\n",
      "原文：\n",
      "<sos> tom is plastered . \n",
      "正确答案：\n",
      "<sos>汤姆醉了。\n",
      "预测\n",
      "<sos>汤姆了。\n",
      "原文：\n",
      "<sos> tom is very kind . \n",
      "正确答案：\n",
      "<sos>汤姆人很好。\n",
      "预测\n",
      "<sos>汤姆非常好。\n",
      "原文：\n",
      "<sos> tom isn't a fool . \n",
      "正确答案：\n",
      "<sos>汤姆不是傻瓜。\n",
      "预测\n",
      "<sos>汤姆不是傻瓜\n",
      "原文：\n",
      "<sos> tom isn't a hero . \n",
      "正确答案：\n",
      "<sos>湯姆不是英雄。\n",
      "预测\n",
      "<sos>汤姆不是英雄\n",
      "原文：\n",
      "<sos> tom isn't stupid . \n",
      "正确答案：\n",
      "<sos>汤姆不傻。\n",
      "预测\n",
      "<sos>汤姆不傻。\n",
      "原文：\n",
      "<sos> tom likes cheese . \n",
      "正确答案：\n",
      "<sos>汤姆喜欢芝士。\n",
      "预测\n",
      "<sos>汤姆喜欢芝士\n",
      "原文：\n",
      "<sos> tom likes it hot . \n",
      "正确答案：\n",
      "<sos>汤姆喜欢热的。\n",
      "预测\n",
      "<sos>汤姆喜欢的。\n",
      "原文：\n",
      "<sos> tom lost his job . \n",
      "正确答案：\n",
      "<sos>湯姆丟了工作。\n",
      "预测\n",
      "<sos>湯姆丟了工作。\n",
      "原文：\n",
      "<sos> tom saw the file . \n",
      "正确答案：\n",
      "<sos>湯姆看了文件。\n",
      "预测\n",
      "<sos>湯姆看了。\n",
      "原文：\n",
      "<sos> tom studies hard . \n",
      "正确答案：\n",
      "<sos>汤姆努力学习。\n",
      "预测\n",
      "<sos>汤姆努力学习。\n",
      "原文：\n",
      "<sos> tom walks slowly . \n",
      "正确答案：\n",
      "<sos>汤姆走得很慢。\n",
      "预测\n",
      "<sos>汤姆走得很慢。\n",
      "原文：\n",
      "<sos> tom was captured . \n",
      "正确答案：\n",
      "<sos>汤姆被囚禁了。\n",
      "预测\n",
      "<sos>汤姆被囚禁。\n",
      "原文：\n",
      "<sos> tom was mistaken . \n",
      "正确答案：\n",
      "<sos>汤姆错了。\n",
      "预测\n",
      "<sos>汤姆错了。\n",
      "原文：\n",
      "<sos> tom will do that . \n",
      "正确答案：\n",
      "<sos>湯姆會做。\n",
      "预测\n",
      "<sos>湯姆會做。\n",
      "原文：\n",
      "<sos> tom would accept . \n",
      "正确答案：\n",
      "<sos>湯姆會接受。\n",
      "预测\n",
      "<sos>湯姆會接受。\n",
      "原文：\n",
      "<sos> try it once more . \n",
      "正确答案：\n",
      "<sos>再試一次。\n",
      "预测\n",
      "<sos>再試。\n",
      "原文：\n",
      "<sos> turn off the gas . \n",
      "正确答案：\n",
      "<sos>把煤气关了！\n",
      "预测\n",
      "<sos>把煤气了。\n",
      "原文：\n",
      "<sos> turn to the left . \n",
      "正确答案：\n",
      "<sos>向左转。\n",
      "预测\n",
      "<sos>向左转。\n",
      "原文：\n",
      "<sos> walk ahead of me . \n",
      "正确答案：\n",
      "<sos>在我前面走。\n",
      "预测\n",
      "<sos>在我走。\n",
      "原文：\n",
      "<sos> we accept checks . \n",
      "正确答案：\n",
      "<sos>我們接受支票。\n",
      "预测\n",
      "<sos>我們接受支票。\n",
      "原文：\n",
      "<sos> we depend on you . \n",
      "正确答案：\n",
      "<sos>我们可全指望你了。\n",
      "预测\n",
      "<sos>我们可全靠你了。\n",
      "原文：\n",
      "<sos> we depend on you . \n",
      "正确答案：\n",
      "<sos>我们可全靠你了。\n",
      "预测\n",
      "<sos>我们可全靠你了。\n",
      "原文：\n",
      "<sos> we expect to win . \n",
      "正确答案：\n",
      "<sos>我们打算赢。\n",
      "预测\n",
      "<sos>我们打算赢。\n",
      "原文：\n",
      "<sos> we have two ears . \n",
      "正确答案：\n",
      "<sos>我們有兩隻耳朵。\n",
      "预测\n",
      "<sos>我們有兩隻耳朵。\n",
      "原文：\n",
      "<sos> we help the poor . \n",
      "正确答案：\n",
      "<sos>我們幫助窮人。\n",
      "预测\n",
      "<sos>我們幫助窮人\n",
      "原文：\n",
      "<sos> we just moved in . \n",
      "正确答案：\n",
      "<sos>我們才剛搬進來。\n",
      "预测\n",
      "<sos>我們才剛搬。\n",
      "原文：\n",
      "<sos> we live together . \n",
      "正确答案：\n",
      "<sos>我們住在一起。\n",
      "预测\n",
      "<sos>我們住在一起。\n",
      "原文：\n",
      "<sos> we lost the game . \n",
      "正确答案：\n",
      "<sos>我们比赛输了。\n",
      "预测\n",
      "<sos>我们比赛了了。\n",
      "原文：\n",
      "<sos> we may need some . \n",
      "正确答案：\n",
      "<sos>我們可能需要一些。\n",
      "预测\n",
      "<sos>我們可能需要一些。\n",
      "原文：\n",
      "<sos> we need tom back . \n",
      "正确答案：\n",
      "<sos>我們需要湯姆回來。\n",
      "预测\n",
      "<sos>我們需要湯姆。\n",
      "原文：\n",
      "<sos> we need to leave . \n",
      "正确答案：\n",
      "<sos>我们必须走了。\n",
      "预测\n",
      "<sos>我们必须了。\n",
      "原文：\n",
      "<sos> we never gave up . \n",
      "正确答案：\n",
      "<sos>我們從不放棄。\n",
      "预测\n",
      "<sos>我們不放棄。\n",
      "原文：\n",
      "<sos> we'd better talk . \n",
      "正确答案：\n",
      "<sos>我们谈谈比较好。\n",
      "预测\n",
      "<sos>我们谈谈比较。\n",
      "原文：\n",
      "<sos> we'll meet again . \n",
      "正确答案：\n",
      "<sos>后会有期。\n",
      "预测\n",
      "<sos>后会有期。\n",
      "原文：\n",
      "<sos> we'll stay quiet . \n",
      "正确答案：\n",
      "<sos>我們會保持安靜。\n",
      "预测\n",
      "<sos>我們保持保持。\n",
      "原文：\n",
      "<sos> we'll talk later . \n",
      "正确答案：\n",
      "<sos>我们过一会再谈。\n",
      "预测\n",
      "<sos>我们一会一会再谈\n",
      "原文：\n",
      "<sos> we're all hungry . \n",
      "正确答案：\n",
      "<sos>我們都餓了。\n",
      "预测\n",
      "<sos>我們都餓了。\n",
      "原文：\n",
      "<sos> we're classmates . \n",
      "正确答案：\n",
      "<sos>我们是同学。\n",
      "预测\n",
      "<sos>我们是同学。\n",
      "原文：\n",
      "<sos> we're having fun . \n",
      "正确答案：\n",
      "<sos>我们在高兴地玩。\n",
      "预测\n",
      "<sos>我们在高兴。\n",
      "原文：\n",
      "<sos> we're in a hurry . \n",
      "正确答案：\n",
      "<sos>我們很匆忙。\n",
      "预测\n",
      "<sos>我們很。\n",
      "原文：\n",
      "<sos> we're in a hurry . \n",
      "正确答案：\n",
      "<sos>我們很急。\n",
      "预测\n",
      "<sos>我們很。\n",
      "原文：\n",
      "<sos> we're not stupid . \n",
      "正确答案：\n",
      "<sos>我們不傻。\n",
      "预测\n",
      "<sos>我们不傻\n",
      "原文：\n",
      "<sos> were you serious ? \n",
      "正确答案：\n",
      "<sos>你是认真的吗？\n",
      "预测\n",
      "<sos>你是的的吗？\n",
      "原文：\n",
      "<sos> what a good idea ! \n",
      "正确答案：\n",
      "<sos>多好的主意啊！\n",
      "预测\n",
      "<sos>多好的啊！\n",
      "原文：\n",
      "<sos> what did tom say ? \n",
      "正确答案：\n",
      "<sos>汤姆说了什么？\n",
      "预测\n",
      "<sos>汤姆说了什么？\n",
      "原文：\n",
      "<sos> what did she say ? \n",
      "正确答案：\n",
      "<sos>她说了什么？\n",
      "预测\n",
      "<sos>她说了什么？\n",
      "原文：\n",
      "<sos> what did she say ? \n",
      "正确答案：\n",
      "<sos>她說了什麼?\n",
      "预测\n",
      "<sos>她说了什么？\n",
      "原文：\n",
      "<sos> what did you buy ? \n",
      "正确答案：\n",
      "<sos>你買了什麼？\n",
      "预测\n",
      "<sos>你買了？？\n",
      "原文：\n",
      "<sos> what do you have ? \n",
      "正确答案：\n",
      "<sos>您有什么？\n",
      "预测\n",
      "<sos>您有什么？\n",
      "原文：\n",
      "<sos> what do you make ? \n",
      "正确答案：\n",
      "<sos>你做什麼？\n",
      "预测\n",
      "<sos>你做什麼？\n",
      "原文：\n",
      "<sos> what do you want ? \n",
      "正确答案：\n",
      "<sos>你想要什么？\n",
      "预测\n",
      "<sos>你想要?\n",
      "原文：\n",
      "<sos> what do you want ? \n",
      "正确答案：\n",
      "<sos>你想要什麼?\n",
      "预测\n",
      "<sos>你想要什麼\n",
      "原文：\n",
      "<sos> what is it about ? \n",
      "正确答案：\n",
      "<sos>它是關於什麼?\n",
      "预测\n",
      "<sos>它是關什麼?\n",
      "原文：\n",
      "<sos> what should i do ? \n",
      "正确答案：\n",
      "<sos>我该做什么？\n",
      "预测\n",
      "<sos>我该什么？\n",
      "原文：\n",
      "<sos> what woke you up ? \n",
      "正确答案：\n",
      "<sos>什麼吵醒你了?\n",
      "预测\n",
      "<sos>什麼吵醒了?\n",
      "原文：\n",
      "<sos> what's tom doing ? \n",
      "正确答案：\n",
      "<sos>汤姆在做什么？\n",
      "预测\n",
      "<sos>汤姆做什么什么？\n",
      "原文：\n",
      "<sos> what's she doing ? \n",
      "正确答案：\n",
      "<sos>她在做什麼？\n",
      "预测\n",
      "<sos>她在做？\n",
      "原文：\n",
      "<sos> what's your name ? \n",
      "正确答案：\n",
      "<sos>你叫什么名字？\n",
      "预测\n",
      "<sos>您叫什么？\n",
      "原文：\n",
      "<sos> what's your name ? \n",
      "正确答案：\n",
      "<sos>您叫什么名字？\n",
      "预测\n",
      "<sos>您叫什么？\n",
      "原文：\n",
      "<sos> what's your name ? \n",
      "正确答案：\n",
      "<sos>叫什麼名字?\n",
      "预测\n",
      "<sos>您叫什么？\n",
      "原文：\n",
      "<sos> where is my book ? \n",
      "正确答案：\n",
      "<sos>我的書在哪？\n",
      "预测\n",
      "<sos>我的書哪？\n",
      "原文：\n",
      "<sos> where is my seat ? \n",
      "正确答案：\n",
      "<sos>我的位子在哪儿？\n",
      "预测\n",
      "<sos>我的位子哪儿？\n",
      "原文：\n",
      "<sos> where's the boss ? \n",
      "正确答案：\n",
      "<sos>老闆在哪裡？\n",
      "预测\n",
      "<sos>闆闆哪裡哪裡\n",
      "原文：\n",
      "<sos> where's your bag ? \n",
      "正确答案：\n",
      "<sos>你的包在哪裡？\n",
      "预测\n",
      "<sos>你的在在？\n",
      "原文：\n",
      "<sos> where's your dog ? \n",
      "正确答案：\n",
      "<sos>你的狗在哪里？\n",
      "预测\n",
      "<sos>你的狗狗？\n",
      "原文：\n",
      "<sos> where's your hat ? \n",
      "正确答案：\n",
      "<sos>你帽子在哪儿？\n",
      "预测\n",
      "<sos>你帽子哪儿？\n",
      "原文：\n",
      "<sos> who decided that ? \n",
      "正确答案：\n",
      "<sos>誰決定了那件事？\n",
      "预测\n",
      "<sos>誰決定了？\n",
      "原文：\n",
      "<sos> who found my bag ? \n",
      "正确答案：\n",
      "<sos>誰找到了我的包？\n",
      "预测\n",
      "<sos>誰找到了的的包？\n",
      "原文：\n",
      "<sos> who wrote hamlet ? \n",
      "正确答案：\n",
      "<sos>哈姆雷特是誰寫的？\n",
      "预测\n",
      "<sos>哈姆雷特是是的？\n",
      "原文：\n",
      "<sos> whose turn is it ? \n",
      "正确答案：\n",
      "<sos>輪到誰了？\n",
      "预测\n",
      "<sos>輪到誰？\n",
      "原文：\n",
      "<sos> why are you here ? \n",
      "正确答案：\n",
      "<sos>你為什麼在這？\n",
      "预测\n",
      "<sos>你為什麼這？\n",
      "原文：\n",
      "<sos> why did you quit ? \n",
      "正确答案：\n",
      "<sos>你為什麼辭職？\n",
      "预测\n",
      "<sos>你為什麼？\n",
      "原文：\n",
      "<sos> why did you stay ? \n",
      "正确答案：\n",
      "<sos>你为什么留下？\n",
      "预测\n",
      "<sos>你为什么留下？\n",
      "原文：\n",
      "<sos> will you join us ? \n",
      "正确答案：\n",
      "<sos>你會參加嗎？\n",
      "预测\n",
      "<sos>你會參加嗎？\n",
      "原文：\n",
      "<sos> winter is coming . \n",
      "正确答案：\n",
      "<sos>冬季快來了。\n",
      "预测\n",
      "<sos>冬季快來。\n",
      "原文：\n",
      "<sos> you are blushing . \n",
      "正确答案：\n",
      "<sos>你脸红了。\n",
      "预测\n",
      "<sos>你脸红了\n",
      "原文：\n",
      "<sos> you can't say no . \n",
      "正确答案：\n",
      "<sos>你无法说“不”。\n",
      "预测\n",
      "<sos>你无法说不“。\n",
      "原文：\n",
      "<sos> you have to move . \n",
      "正确答案：\n",
      "<sos>你得行動了。\n",
      "预测\n",
      "<sos>你得行動了。\n",
      "原文：\n",
      "<sos> you need to know . \n",
      "正确答案：\n",
      "<sos>你有必要了解。\n",
      "预测\n",
      "<sos>你需要了解。\n",
      "原文：\n",
      "<sos> you owe me money . \n",
      "正确答案：\n",
      "<sos>你欠我钱。\n",
      "预测\n",
      "<sos>你欠我。\n",
      "原文：\n",
      "<sos> you shouldn't go . \n",
      "正确答案：\n",
      "<sos>你不應該去。\n",
      "预测\n",
      "<sos>你不應去。。\n",
      "原文：\n",
      "<sos> you're impatient . \n",
      "正确答案：\n",
      "<sos>你缺乏耐心。\n",
      "预测\n",
      "<sos>你缺乏耐心\n",
      "原文：\n",
      "<sos> you're in my way . \n",
      "正确答案：\n",
      "<sos>你擋住了我的路。\n",
      "预测\n",
      "<sos>你擋住我的路。\n",
      "原文：\n",
      "<sos> you're no singer . \n",
      "正确答案：\n",
      "<sos>你不是歌手。\n",
      "预测\n",
      "<sos>你歌手歌手\n",
      "原文：\n",
      "<sos> you've got to go . \n",
      "正确答案：\n",
      "<sos>你們得走了。\n",
      "预测\n",
      "<sos>你們得走了\n",
      "原文：\n",
      "<sos> your dog is here . \n",
      "正确答案：\n",
      "<sos>你的狗在這。\n",
      "预测\n",
      "<sos>你的狗這。。\n",
      "原文：\n",
      "<sos> am i overreacting ? \n",
      "正确答案：\n",
      "<sos>我反应过度了吗？\n",
      "预测\n",
      "<sos>我反应了吗？\n",
      "原文：\n",
      "<sos> are they students ? \n",
      "正确答案：\n",
      "<sos>他們是學生嗎？\n",
      "预测\n",
      "<sos>他們是學生嗎？\n",
      "原文：\n",
      "<sos> are you a student ? \n",
      "正确答案：\n",
      "<sos>你是學生嗎？\n",
      "预测\n",
      "<sos>你是嗎？\n",
      "原文：\n",
      "<sos> are you all ready ? \n",
      "正确答案：\n",
      "<sos>你們都準備好了嗎?\n",
      "预测\n",
      "<sos>你们都準備了嗎?\n",
      "原文：\n",
      "<sos> are you happy now ? \n",
      "正确答案：\n",
      "<sos>你现在高兴吗？\n",
      "预测\n",
      "<sos>你现在高兴？？\n",
      "原文：\n",
      "<sos> are you two ready ? \n",
      "正确答案：\n",
      "<sos>你们两个人都准备好了吗？\n",
      "预测\n",
      "<sos>你们两个人准备好了吗？\n",
      "原文：\n",
      "<sos> be kind to others . \n",
      "正确答案：\n",
      "<sos>对他人要友善。\n",
      "预测\n",
      "<sos>对他人要友善。\n",
      "原文：\n",
      "<sos> be nice to others . \n",
      "正确答案：\n",
      "<sos>对他人要友善。\n",
      "预测\n",
      "<sos>对他人友善友善。\n",
      "原文：\n",
      "<sos> behave yourselves . \n",
      "正确答案：\n",
      "<sos>规矩点。\n",
      "预测\n",
      "<sos>规矩点。\n",
      "原文：\n",
      "<sos> beware of the dog ! \n",
      "正确答案：\n",
      "<sos>小心狗！\n",
      "预测\n",
      "<sos>小心狗。\n",
      "原文：\n",
      "<sos> beware of thieves . \n",
      "正确答案：\n",
      "<sos>注意小偷。\n",
      "预测\n",
      "<sos>注意。。\n",
      "原文：\n",
      "<sos> birds build nests . \n",
      "正确答案：\n",
      "<sos>鸟儿筑巢。\n",
      "预测\n",
      "<sos>鸟儿筑巢。\n",
      "原文：\n",
      "<sos> call an ambulance . \n",
      "正确答案：\n",
      "<sos>叫救护车。\n",
      "预测\n",
      "<sos>叫救护车\n",
      "原文：\n",
      "<sos> can i have a bite ? \n",
      "正确答案：\n",
      "<sos>我可以吃一口嗎？\n",
      "预测\n",
      "<sos>我可以吃嗎？\n",
      "原文：\n",
      "<sos> can i try this on ? \n",
      "正确答案：\n",
      "<sos>我能试一下吗？\n",
      "预测\n",
      "<sos>我能试一下吗？\n",
      "原文：\n",
      "<sos> can this be eaten ? \n",
      "正确答案：\n",
      "<sos>这个能吃吗？\n",
      "预测\n",
      "<sos>这个能吃吗？\n",
      "原文：\n",
      "<sos> can we trust them ? \n",
      "正确答案：\n",
      "<sos>我们能信任他们吗？\n",
      "预测\n",
      "<sos>我们能信任吗吗\n",
      "原文：\n",
      "<sos> can you freeze it ? \n",
      "正确答案：\n",
      "<sos>你能冷冻它吗？\n",
      "预测\n",
      "<sos>你能它它？\n",
      "原文：\n",
      "<sos> can you jump rope ? \n",
      "正确答案：\n",
      "<sos>你能跳绳吗？\n",
      "预测\n",
      "<sos>你能跳绳吗\n",
      "原文：\n",
      "<sos> champagne , please . \n",
      "正确答案：\n",
      "<sos>给我香槟，谢谢。\n",
      "预测\n",
      "<sos>给我，谢谢。\n",
      "原文：\n",
      "<sos> choose one person . \n",
      "正确答案：\n",
      "<sos>從中選擇一人。\n",
      "预测\n",
      "<sos>從中一人。\n",
      "原文：\n",
      "<sos> christmas is soon . \n",
      "正确答案：\n",
      "<sos>聖誕節快到了。\n",
      "预测\n",
      "<sos>聖誕節快了。\n",
      "原文：\n",
      "<sos> clean up the room . \n",
      "正确答案：\n",
      "<sos>收拾房间。\n",
      "预测\n",
      "<sos>收拾房间。\n",
      "原文：\n",
      "<sos> come here quickly . \n",
      "正确答案：\n",
      "<sos>快來這裡。\n",
      "预测\n",
      "<sos>快來這裡。\n",
      "原文：\n",
      "<sos> come on , hurry up . \n",
      "正确答案：\n",
      "<sos>来吧，快一点。\n",
      "预测\n",
      "<sos>来，，一点。\n",
      "原文：\n",
      "<sos> come on , let's go . \n",
      "正确答案：\n",
      "<sos>来吧，我们一起去。\n",
      "预测\n",
      "<sos>来吧，我们去。\n",
      "原文：\n",
      "<sos> come on , touch it . \n",
      "正确答案：\n",
      "<sos>来吧，摸一下。\n",
      "预测\n",
      "<sos>来吧，摸。\n",
      "原文：\n",
      "<sos> come on , trust me . \n",
      "正确答案：\n",
      "<sos>来吧，相信我。\n",
      "预测\n",
      "<sos>来吧相信我。\n",
      "原文：\n",
      "<sos> could you help me ? \n",
      "正确答案：\n",
      "<sos>您能幫我嗎？\n",
      "预测\n",
      "<sos>你能幫我嗎\n",
      "原文：\n",
      "<sos> could you help me ? \n",
      "正确答案：\n",
      "<sos>你能幫我嗎？\n",
      "预测\n",
      "<sos>您能幫嗎？\n",
      "原文：\n",
      "<sos> could you tell me ? \n",
      "正确答案：\n",
      "<sos>您会告诉我吗？\n",
      "预测\n",
      "<sos>您会我吗？\n",
      "原文：\n",
      "<sos> deal us the cards . \n",
      "正确答案：\n",
      "<sos>發牌給我們。\n",
      "预测\n",
      "<sos>發牌給我們。\n",
      "原文：\n",
      "<sos> did you borrow it ? \n",
      "正确答案：\n",
      "<sos>你借它了吗？\n",
      "预测\n",
      "<sos>你借它吗？\n",
      "原文：\n",
      "<sos> did you buy juice ? \n",
      "正确答案：\n",
      "<sos>你買果汁了嗎？\n",
      "预测\n",
      "<sos>你買果汁果汁嗎\n",
      "原文：\n",
      "<sos> did you buy juice ? \n",
      "正确答案：\n",
      "<sos>你有買果汁嗎？\n",
      "预测\n",
      "<sos>你買果汁嗎嗎\n",
      "原文：\n",
      "<sos> did you phone tom ? \n",
      "正确答案：\n",
      "<sos>给汤姆打过电话了吗？\n",
      "预测\n",
      "<sos>给汤姆汤姆电话电话吗？\n",
      "原文：\n",
      "<sos> do i need surgery ? \n",
      "正确答案：\n",
      "<sos>我需要做手术吗？\n",
      "预测\n",
      "<sos>我需要做手术吗\n",
      "原文：\n",
      "<sos> do you believe me ? \n",
      "正确答案：\n",
      "<sos>你相信我吗？\n",
      "预测\n",
      "<sos>你相信我？\n",
      "原文：\n",
      "<sos> do you drink beer ? \n",
      "正确答案：\n",
      "<sos>你喝啤酒吗？\n",
      "预测\n",
      "<sos>你喝啤酒吗？\n",
      "原文：\n",
      "<sos> do you feel lucky ? \n",
      "正确答案：\n",
      "<sos>你觉得幸运吗？\n",
      "预测\n",
      "<sos>你觉得幸运？\n",
      "原文：\n",
      "<sos> do you feel tired ? \n",
      "正确答案：\n",
      "<sos>你覺得累嗎？\n",
      "预测\n",
      "<sos>你覺得累嗎？\n",
      "原文：\n",
      "<sos> do you have a car ? \n",
      "正确答案：\n",
      "<sos>你有车吗？\n",
      "预测\n",
      "<sos>你有车吗？\n",
      "原文：\n",
      "<sos> do you have a car ? \n",
      "正确答案：\n",
      "<sos>您有车吗？\n",
      "预测\n",
      "<sos>你有车吗？\n",
      "原文：\n",
      "<sos> do you have a map ? \n",
      "正确答案：\n",
      "<sos>你有地圖嗎？\n",
      "预测\n",
      "<sos>你有地圖嗎？\n",
      "原文：\n",
      "<sos> do you like juice ? \n",
      "正确答案：\n",
      "<sos>你喜歡果汁嗎？\n",
      "预测\n",
      "<sos>你喜歡果汁嗎\n",
      "原文：\n",
      "<sos> do you like music ? \n",
      "正确答案：\n",
      "<sos>你喜欢音乐吗？\n",
      "预测\n",
      "<sos>你喜欢音乐吗？\n",
      "原文：\n",
      "<sos> do you like music ? \n",
      "正确答案：\n",
      "<sos>你爱音乐吗？\n",
      "预测\n",
      "<sos>你爱音乐？？\n",
      "原文：\n",
      "<sos> do you understand ? \n",
      "正确答案：\n",
      "<sos>你明白了嗎?\n",
      "预测\n",
      "<sos>你明白??\n",
      "原文：\n",
      "<sos> do you understand ? \n",
      "正确答案：\n",
      "<sos>你们懂吗？\n",
      "预测\n",
      "<sos>你们明白??\n",
      "原文：\n",
      "<sos> don't let tom die . \n",
      "正确答案：\n",
      "<sos>別讓湯姆死了。\n",
      "预测\n",
      "<sos>別让湯姆死了。\n",
      "原文：\n",
      "<sos> don't let me down . \n",
      "正确答案：\n",
      "<sos>别让我失望。\n",
      "预测\n",
      "<sos>别让我。\n",
      "原文：\n",
      "<sos> don't pull my leg ! \n",
      "正确答案：\n",
      "<sos>不要拉我的腿！\n",
      "预测\n",
      "<sos>不要拉我的腿\n",
      "原文：\n",
      "<sos> don't shout at me . \n",
      "正确答案：\n",
      "<sos>別對著我吼。\n",
      "预测\n",
      "<sos>別對著我。\n",
      "原文：\n",
      "<sos> don't tell anyone . \n",
      "正确答案：\n",
      "<sos>对谁都别说哟。\n",
      "预测\n",
      "<sos>谁谁别说哟。\n",
      "原文：\n",
      "<sos> don't touch these . \n",
      "正确答案：\n",
      "<sos>不要碰這些。\n",
      "预测\n",
      "<sos>不要碰這些。\n",
      "原文：\n",
      "<sos> earth is a planet . \n",
      "正确答案：\n",
      "<sos>地球是一個行星。\n",
      "预测\n",
      "<sos>地球是一個。\n",
      "原文：\n",
      "<sos> everybody is fine . \n",
      "正确答案：\n",
      "<sos>每个人都好。\n",
      "预测\n",
      "<sos>每个都都。\n",
      "原文：\n",
      "<sos> everybody laughed . \n",
      "正确答案：\n",
      "<sos>大家笑了。\n",
      "预测\n",
      "<sos>大家笑了。\n",
      "原文：\n",
      "<sos> everyone knows me . \n",
      "正确答案：\n",
      "<sos>大家都認識我。\n",
      "预测\n",
      "<sos>大家都認識。\n",
      "原文：\n",
      "<sos> everyone was fine . \n",
      "正确答案：\n",
      "<sos>大家都还行。\n",
      "预测\n",
      "<sos>大家还行还行\n",
      "原文：\n",
      "<sos> everyone will die . \n",
      "正确答案：\n",
      "<sos>人固有一死。\n",
      "预测\n",
      "<sos>人固有一死。\n",
      "原文：\n",
      "<sos> everything is bad . \n",
      "正确答案：\n",
      "<sos>一切都很糟糕。\n",
      "预测\n",
      "<sos>一切很糟糕。\n",
      "原文：\n",
      "<sos> feel free to stay . \n",
      "正确答案：\n",
      "<sos>歡迎留下來。\n",
      "预测\n",
      "<sos>歡迎留下來。\n",
      "原文：\n",
      "<sos> get into your car . \n",
      "正确答案：\n",
      "<sos>进你的车里。\n",
      "预测\n",
      "<sos>进你的车里。\n",
      "原文：\n",
      "<sos> give her the book . \n",
      "正确答案：\n",
      "<sos>把这本书给她。\n",
      "预测\n",
      "<sos>把这给给。\n",
      "原文：\n",
      "<sos> give me an orange . \n",
      "正确答案：\n",
      "<sos>給我一個橙子。\n",
      "预测\n",
      "<sos>給我橙子。\n",
      "原文：\n",
      "<sos> give me that book . \n",
      "正确答案：\n",
      "<sos>把书给我。\n",
      "预测\n",
      "<sos>把给我。\n",
      "原文：\n",
      "<sos> go with these men . \n",
      "正确答案：\n",
      "<sos>跟這些人走。\n",
      "预测\n",
      "<sos>跟人人走。\n",
      "原文：\n",
      "<sos> god bless america . \n",
      "正确答案：\n",
      "<sos>上帝保佑美国。\n",
      "预测\n",
      "<sos>上帝保佑美国。\n",
      "原文：\n",
      "<sos> god is everywhere . \n",
      "正确答案：\n",
      "<sos>神無處不在。\n",
      "预测\n",
      "<sos>神無處在。\n",
      "原文：\n",
      "<sos> has the bell rung ? \n",
      "正确答案：\n",
      "<sos>钟响过了吗？\n",
      "预测\n",
      "<sos>钟响过了？\n",
      "原文：\n",
      "<sos> haste makes waste . \n",
      "正确答案：\n",
      "<sos>欲速則不達。\n",
      "预测\n",
      "<sos>欲速則不達。\n",
      "原文：\n",
      "<sos> he began to shout . \n",
      "正确答案：\n",
      "<sos>他開始喊叫。\n",
      "预测\n",
      "<sos>他開始喊叫。\n",
      "原文：\n",
      "<sos> he bought a honda . \n",
      "正确答案：\n",
      "<sos>他賣了一台豐田的車。\n",
      "预测\n",
      "<sos>他賣了豐田的車。\n",
      "原文：\n",
      "<sos> he came in person . \n",
      "正确答案：\n",
      "<sos>他亲自来了。\n",
      "预测\n",
      "<sos>他亲自了。\n",
      "原文：\n",
      "<sos> he came to see me . \n",
      "正确答案：\n",
      "<sos>他來看我了。\n",
      "预测\n",
      "<sos>他來看我。\n",
      "原文：\n",
      "<sos> he can't help you . \n",
      "正确答案：\n",
      "<sos>他不能幫你。\n",
      "预测\n",
      "<sos>他不能你。\n",
      "原文：\n",
      "<sos> he could not swim . \n",
      "正确答案：\n",
      "<sos>他不能游泳。\n",
      "预测\n",
      "<sos>他不能。\n",
      "原文：\n",
      "<sos> he died yesterday . \n",
      "正确答案：\n",
      "<sos>他昨天去世了。\n",
      "预测\n",
      "<sos>他昨天去世。\n",
      "原文：\n",
      "<sos> he has a few pens . \n",
      "正确答案：\n"
     ]
    },
    {
     "name": "stdout",
     "output_type": "stream",
     "text": [
      "<sos>他有些鋼筆。\n",
      "预测\n",
      "<sos>他有些鋼筆。\n",
      "原文：\n",
      "<sos> he has seven sons . \n",
      "正确答案：\n",
      "<sos>他有七个儿子。\n",
      "预测\n",
      "<sos>他有七个。。\n",
      "原文：\n",
      "<sos> he has three sons . \n",
      "正确答案：\n",
      "<sos>他有三个儿子。\n",
      "预测\n",
      "<sos>他有三个。。\n",
      "原文：\n",
      "<sos> he himself did it . \n",
      "正确答案：\n",
      "<sos>是他自己做的。\n",
      "预测\n",
      "<sos>是自己自己的的\n",
      "原文：\n",
      "<sos> he is a screwball . \n",
      "正确答案：\n",
      "<sos>他是一個怪人。\n",
      "预测\n",
      "<sos>他是一個。\n",
      "原文：\n",
      "<sos> he is an american . \n",
      "正确答案：\n",
      "<sos>他是美国人。\n",
      "预测\n",
      "<sos>他是美国人。\n",
      "原文：\n",
      "<sos> he is at her side . \n",
      "正确答案：\n",
      "<sos>他在她的旁邊。\n",
      "预测\n",
      "<sos>他在她旁邊。\n",
      "原文：\n",
      "<sos> he is but a child . \n",
      "正确答案：\n",
      "<sos>他不过是个孩子。\n",
      "预测\n",
      "<sos>他不过个孩子。\n",
      "原文：\n",
      "<sos> he is from france . \n",
      "正确答案：\n",
      "<sos>他是从法国来的。\n",
      "预测\n",
      "<sos>他是从法国来。\n",
      "原文：\n",
      "<sos> he is just my age . \n",
      "正确答案：\n",
      "<sos>他和我同岁。\n",
      "预测\n",
      "<sos>他和我同岁。\n",
      "原文：\n",
      "<sos> he is watching tv . \n",
      "正确答案：\n",
      "<sos>他在看电视。\n",
      "预测\n",
      "<sos>他在看电视。\n",
      "原文：\n",
      "<sos> he likes sleeping . \n",
      "正确答案：\n",
      "<sos>他喜欢睡觉。\n",
      "预测\n",
      "<sos>他喜欢。。\n",
      "原文：\n",
      "<sos> he made me a suit . \n",
      "正确答案：\n",
      "<sos>他给我做了套衣服。\n",
      "预测\n",
      "<sos>他给我了套衣服。\n",
      "原文：\n",
      "<sos> he struck a match . \n",
      "正确答案：\n",
      "<sos>他劃了一根火柴。\n",
      "预测\n",
      "<sos>他劃了一根。\n",
      "原文：\n",
      "<sos> he studied abroad . \n",
      "正确答案：\n",
      "<sos>他出国留学了。\n",
      "预测\n",
      "<sos>他出国了。\n",
      "原文：\n",
      "<sos> he talks too fast . \n",
      "正确答案：\n",
      "<sos>他说话太快了。\n",
      "预测\n",
      "<sos>他说话太快。\n",
      "原文：\n",
      "<sos> he threw the ball . \n",
      "正确答案：\n",
      "<sos>他把球扔了。\n",
      "预测\n",
      "<sos>他把了了。\n",
      "原文：\n",
      "<sos> he told the truth . \n",
      "正确答案：\n",
      "<sos>他說了實話。\n",
      "预测\n",
      "<sos>他說了實話\n",
      "原文：\n",
      "<sos> he turned the key . \n",
      "正确答案：\n",
      "<sos>他转动钥匙。\n",
      "预测\n",
      "<sos>他转动钥匙。\n",
      "原文：\n",
      "<sos> he will come back . \n",
      "正确答案：\n",
      "<sos>他会回来的。\n",
      "预测\n",
      "<sos>他会回来。\n",
      "原文：\n",
      "<sos> he won everything . \n",
      "正确答案：\n",
      "<sos>他赢得一切了。\n",
      "预测\n",
      "<sos>他赢得一切。\n",
      "原文：\n",
      "<sos> he wrote a letter . \n",
      "正确答案：\n",
      "<sos>他写了一封信。\n",
      "预测\n",
      "<sos>他写了。\n",
      "原文：\n",
      "<sos> he's a bit lively . \n",
      "正确答案：\n",
      "<sos>他有点活泼。\n",
      "预测\n",
      "<sos>他有点活泼。\n",
      "原文：\n",
      "<sos> he's my mr . right . \n",
      "正确答案：\n",
      "<sos>他是我的如意郎君。\n",
      "预测\n",
      "<sos>他是的的。\n",
      "原文：\n",
      "<sos> he's not an idiot . \n",
      "正确答案：\n",
      "<sos>他不是傻的。\n",
      "预测\n",
      "<sos>他不是傻。\n",
      "原文：\n",
      "<sos> he's not here yet . \n",
      "正确答案：\n",
      "<sos>他還沒到這裡。\n",
      "预测\n",
      "<sos>他還沒到這裡。\n",
      "原文：\n",
      "<sos> he's really angry . \n",
      "正确答案：\n",
      "<sos>他非常生气。\n",
      "预测\n",
      "<sos>他非常生气。\n",
      "原文：\n",
      "<sos> here goes nothing . \n",
      "正确答案：\n",
      "<sos>毫無希望，白費心思。\n",
      "预测\n",
      "<sos>毫無希望白費心思。\n",
      "原文：\n",
      "<sos> here is your bill . \n",
      "正确答案：\n",
      "<sos>这是账单。\n",
      "预测\n",
      "<sos>这是账单。\n",
      "原文：\n",
      "<sos> here is your book . \n",
      "正确答案：\n",
      "<sos>這是你的書。\n",
      "预测\n",
      "<sos>這是你的書。\n",
      "原文：\n",
      "<sos> here's the change . \n",
      "正确答案：\n",
      "<sos>这是找零。\n",
      "预测\n",
      "<sos>这是找零。\n",
      "原文：\n",
      "<sos> how are you doing ? \n",
      "正确答案：\n",
      "<sos>你們好嗎？\n",
      "预测\n",
      "<sos>你們好？\n",
      "原文：\n",
      "<sos> how complex is it ? \n",
      "正确答案：\n",
      "<sos>它有多複雜？\n",
      "预测\n",
      "<sos>它有複雜？\n",
      "原文：\n",
      "<sos> how did you reply ? \n",
      "正确答案：\n",
      "<sos>你回答了什么？\n",
      "预测\n",
      "<sos>你回答什么？\n",
      "原文：\n",
      "<sos> how do we find it ? \n",
      "正确答案：\n",
      "<sos>我们怎样才能找到它？\n",
      "预测\n",
      "<sos>我们怎样才能找到？\n",
      "原文：\n",
      "<sos> how should i know ? \n",
      "正确答案：\n",
      "<sos>我怎麼知道？\n",
      "预测\n",
      "<sos>我知道知道\n",
      "原文：\n",
      "<sos> how should i know ? \n",
      "正确答案：\n",
      "<sos>我怎麼知道?\n",
      "预测\n",
      "<sos>我怎麼知道\n",
      "原文：\n",
      "<sos> how was your exam ? \n",
      "正确答案：\n",
      "<sos>考得如何？\n",
      "预测\n",
      "<sos>考得如何？\n",
      "原文：\n",
      "<sos> how was your test ? \n",
      "正确答案：\n",
      "<sos>你的测验怎么样？\n",
      "预测\n",
      "<sos>你的测验怎么样\n",
      "原文：\n",
      "<sos> how was your trip ? \n",
      "正确答案：\n",
      "<sos>你的旅行怎么样?\n",
      "预测\n",
      "<sos>你旅行旅行?\n",
      "原文：\n",
      "<sos> i agree with that . \n",
      "正确答案：\n",
      "<sos>我同意。\n",
      "预测\n",
      "<sos>我同意。\n",
      "原文：\n",
      "<sos> i agreed with her . \n",
      "正确答案：\n",
      "<sos>我同意她。\n",
      "预测\n",
      "<sos>我同意她。\n",
      "原文：\n",
      "<sos> i am a vegetarian . \n",
      "正确答案：\n",
      "<sos>我是素食主义者。\n",
      "预测\n",
      "<sos>我是。\n",
      "原文：\n",
      "<sos> i am fond of cars . \n",
      "正确答案：\n",
      "<sos>我喜歡車。\n",
      "预测\n",
      "<sos>我喜歡車。\n",
      "原文：\n",
      "<sos> i am in the house . \n",
      "正确答案：\n",
      "<sos>我在家裡。\n",
      "预测\n",
      "<sos>我在家。\n",
      "原文：\n",
      "<sos> i am on the right . \n",
      "正确答案：\n",
      "<sos>我在右邊。\n",
      "预测\n",
      "<sos>我在右邊。\n",
      "原文：\n",
      "<sos> i am studying now . \n",
      "正确答案：\n",
      "<sos>我现在正在学习。\n",
      "预测\n",
      "<sos>我现在正在。。\n",
      "原文：\n",
      "<sos> i bathe every day . \n",
      "正确答案：\n",
      "<sos>我每天都洗澡。\n",
      "预测\n",
      "<sos>我每天都。\n",
      "原文：\n",
      "<sos> i believe in love . \n",
      "正确答案：\n",
      "<sos>我相信爱情。\n",
      "预测\n",
      "<sos>我相信。\n",
      "原文：\n",
      "<sos> i bought that car . \n",
      "正确答案：\n",
      "<sos>我買了那輛車。\n",
      "预测\n",
      "<sos>我買了。\n",
      "原文：\n",
      "<sos> i can comfort her . \n",
      "正确答案：\n",
      "<sos>我可以安慰她。\n",
      "预测\n",
      "<sos>我可以安慰。。\n",
      "原文：\n",
      "<sos> i can do it alone . \n",
      "正确答案：\n",
      "<sos>我可以獨自做。\n",
      "预测\n",
      "<sos>我可以獨自。\n",
      "原文：\n",
      "<sos> i can drive a car . \n",
      "正确答案：\n",
      "<sos>我会开车。\n",
      "预测\n",
      "<sos>我会开车。\n",
      "原文：\n",
      "<sos> i can hardly walk . \n",
      "正确答案：\n",
      "<sos>我幾乎不能走路。\n",
      "预测\n",
      "<sos>我幾乎不能。。\n",
      "原文：\n",
      "<sos> i can play chopin . \n",
      "正确答案：\n",
      "<sos>我會彈蕭邦。\n",
      "预测\n",
      "<sos>我會彈蕭邦。\n",
      "原文：\n",
      "<sos> i can play soccer . \n",
      "正确答案：\n",
      "<sos>我會踢足球。\n",
      "预测\n",
      "<sos>我會踢足球。\n",
      "原文：\n",
      "<sos> i can play tennis . \n",
      "正确答案：\n",
      "<sos>我會打網球。\n",
      "预测\n",
      "<sos>我會打網球\n",
      "原文：\n",
      "<sos> i can't stand him . \n",
      "正确答案：\n",
      "<sos>我受不了他。\n",
      "预测\n",
      "<sos>我受不了他。\n",
      "原文：\n",
      "<sos> i can't swim well . \n",
      "正确答案：\n",
      "<sos>我不擅长游泳。\n",
      "预测\n",
      "<sos>我不游泳。\n",
      "原文：\n",
      "<sos> i can't trust you . \n",
      "正确答案：\n",
      "<sos>我沒辦法相信你。\n",
      "预测\n",
      "<sos>我不能相信你。\n",
      "原文：\n",
      "<sos> i deleted the app . \n",
      "正确答案：\n",
      "<sos>我删除了这个应用。\n",
      "预测\n",
      "<sos>我删除了应用。\n",
      "原文：\n",
      "<sos> i didn't feel bad . \n",
      "正确答案：\n",
      "<sos>我没觉得不好。\n",
      "预测\n",
      "<sos>我没不好。\n",
      "原文：\n",
      "<sos> i don't accept it . \n",
      "正确答案：\n",
      "<sos>我不接受。\n",
      "预测\n",
      "<sos>我不接受。\n",
      "原文：\n",
      "<sos> i don't blame you . \n",
      "正确答案：\n",
      "<sos>我不怪你。\n",
      "预测\n",
      "<sos>我不怪。\n",
      "原文：\n",
      "<sos> i don't eat bread . \n",
      "正确答案：\n",
      "<sos>我不吃面包。\n",
      "预测\n",
      "<sos>我不吃面包。\n",
      "原文：\n",
      "<sos> i don't feel well . \n",
      "正确答案：\n",
      "<sos>我感觉不舒服。\n",
      "预测\n",
      "<sos>我感觉舒服。\n",
      "原文：\n",
      "<sos> i don't like dogs . \n",
      "正确答案：\n",
      "<sos>我不喜歡狗。\n",
      "预测\n",
      "<sos>我不喜欢。\n",
      "原文：\n",
      "<sos> i don't like eggs . \n",
      "正确答案：\n",
      "<sos>我不喜欢吃鸡蛋。\n",
      "预测\n",
      "<sos>我不喜欢鸡蛋。\n",
      "原文：\n",
      "<sos> i don't like eggs . \n",
      "正确答案：\n",
      "<sos>我不喜欢鸡蛋。\n",
      "预测\n",
      "<sos>我不喜欢鸡蛋。\n",
      "原文：\n",
      "<sos> i don't like kids . \n",
      "正确答案：\n",
      "<sos>我不喜欢小孩。\n",
      "预测\n",
      "<sos>我不喜欢。\n",
      "原文：\n",
      "<sos> i don't like that . \n",
      "正确答案：\n",
      "<sos>我不喜欢。\n",
      "预测\n",
      "<sos>我喜欢喜欢。\n",
      "原文：\n",
      "<sos> i don't like this . \n",
      "正确答案：\n",
      "<sos>我不喜欢。\n",
      "预测\n",
      "<sos>我喜欢這個。\n",
      "原文：\n",
      "<sos> i don't like wine . \n",
      "正确答案：\n",
      "<sos>我不喜欢红酒。\n",
      "预测\n",
      "<sos>我不喜欢。\n",
      "原文：\n",
      "<sos> i don't regret it . \n",
      "正确答案：\n",
      "<sos>我不後悔。\n",
      "预测\n",
      "<sos>我不後悔。\n",
      "原文：\n",
      "<sos> i gave you a book . \n",
      "正确答案：\n",
      "<sos>我给了你一本书。\n",
      "预测\n",
      "<sos>我给你一本书。\n",
      "原文：\n",
      "<sos> i got a bee sting . \n",
      "正确答案：\n",
      "<sos>我被蜜蜂蛰了一下。\n",
      "预测\n",
      "<sos>我被蜜蜂蛰一下。\n",
      "原文：\n",
      "<sos> i got my hair cut . \n",
      "正确答案：\n",
      "<sos>我把我的頭髮剪了。\n",
      "预测\n",
      "<sos>我把我的頭剪髮。\n",
      "原文：\n",
      "<sos> i got up at seven . \n",
      "正确答案：\n",
      "<sos>我7点起床了。\n",
      "预测\n",
      "<sos>我7起床起床。\n",
      "原文：\n",
      "<sos> i had a nightmare . \n",
      "正确答案：\n",
      "<sos>我做噩梦了。\n",
      "预测\n",
      "<sos>我做了。\n",
      "原文：\n",
      "<sos> i had lost my pen . \n",
      "正确答案：\n",
      "<sos>我弄丟了我的筆。\n",
      "预测\n",
      "<sos>我弄丟了我的筆。\n",
      "原文：\n",
      "<sos> i hate mosquitoes . \n",
      "正确答案：\n",
      "<sos>我恨蚊子。\n",
      "预测\n",
      "<sos>我恨蚊子。\n",
      "原文：\n",
      "<sos> i have a computer . \n",
      "正确答案：\n",
      "<sos>我有一台电脑。\n",
      "预测\n",
      "<sos>我有一台电脑\n",
      "原文：\n",
      "<sos> i have a daughter . \n",
      "正确答案：\n",
      "<sos>我有一个女儿。\n",
      "预测\n",
      "<sos>我有一个。。\n",
      "原文：\n",
      "<sos> i have a headache . \n",
      "正确答案：\n",
      "<sos>我头痛。\n",
      "预测\n",
      "<sos>我头痛。\n",
      "原文：\n",
      "<sos> i have a proposal . \n",
      "正确答案：\n",
      "<sos>我有個提案。\n",
      "预测\n",
      "<sos>我有個。。\n",
      "原文：\n",
      "<sos> i have an opinion . \n",
      "正确答案：\n",
      "<sos>我有一個意見。\n",
      "预测\n",
      "<sos>我有一個。。\n",
      "原文：\n",
      "<sos> i have brown hair . \n",
      "正确答案：\n",
      "<sos>我的头发是褐色的。\n",
      "预测\n",
      "<sos>我的头发是的。\n",
      "原文：\n",
      "<sos> i have many discs . \n",
      "正确答案：\n",
      "<sos>我有许多唱片。\n",
      "预测\n",
      "<sos>我有许多唱片。\n",
      "原文：\n",
      "<sos> i have no friends . \n",
      "正确答案：\n",
      "<sos>我没有朋友。\n",
      "预测\n",
      "<sos>我没有朋友\n",
      "原文：\n",
      "<sos> i have some money . \n",
      "正确答案：\n",
      "<sos>我有一些錢。\n",
      "预测\n",
      "<sos>我有一些錢。\n",
      "原文：\n",
      "<sos> i have to go home . \n",
      "正确答案：\n",
      "<sos>我该回家了。\n",
      "预测\n",
      "<sos>我该回家。。\n",
      "原文：\n",
      "<sos> i have two nieces . \n",
      "正确答案：\n",
      "<sos>我有两个外甥女。\n",
      "预测\n",
      "<sos>我有两个。\n",
      "原文：\n",
      "<sos> i haven't changed . \n",
      "正确答案：\n",
      "<sos>我没改变。\n",
      "预测\n",
      "<sos>我没改变。\n",
      "原文：\n",
      "<sos> i haven't met her . \n",
      "正确答案：\n",
      "<sos>我没有遇见她。\n",
      "预测\n",
      "<sos>我没有遇见。\n",
      "原文：\n",
      "<sos> i hope to see you . \n",
      "正确答案：\n",
      "<sos>我希望能见到你。\n",
      "预测\n",
      "<sos>我希望见到你。\n",
      "原文：\n",
      "<sos> i kept on singing . \n",
      "正确答案：\n",
      "<sos>我繼續唱歌。\n",
      "预测\n",
      "<sos>我唱歌。\n",
      "原文：\n",
      "<sos> i kept on singing . \n",
      "正确答案：\n",
      "<sos>我继续唱歌。\n",
      "预测\n",
      "<sos>我唱歌。\n",
      "原文：\n",
      "<sos> i like jazz music . \n",
      "正确答案：\n",
      "<sos>我喜歡爵士樂。\n",
      "预测\n",
      "<sos>我喜歡爵士樂。\n",
      "原文：\n",
      "<sos> i like short hair . \n",
      "正确答案：\n",
      "<sos>我喜欢短发。\n",
      "预测\n",
      "<sos>我喜欢短发。\n",
      "原文：\n",
      "<sos> i like snow a lot . \n",
      "正确答案：\n",
      "<sos>我很喜歡雪。\n",
      "预测\n",
      "<sos>我很喜歡。。\n",
      "原文：\n",
      "<sos> i like your house . \n",
      "正确答案：\n",
      "<sos>我喜欢你的房子。\n",
      "预测\n",
      "<sos>我喜欢你的。\n",
      "原文：\n",
      "<sos> i like your shoes . \n",
      "正确答案：\n",
      "<sos>我喜欢你的鞋子。\n",
      "预测\n",
      "<sos>我喜欢你的鞋子\n",
      "原文：\n",
      "<sos> i like your truck . \n",
      "正确答案：\n",
      "<sos>我喜歡你的卡車。\n",
      "预测\n",
      "<sos>我喜歡你的卡車\n",
      "原文：\n",
      "<sos> i lost my luggage . \n",
      "正确答案：\n",
      "<sos>我的行李丢了。\n",
      "预测\n",
      "<sos>我的行李丢。\n",
      "原文：\n",
      "<sos> i love that story . \n",
      "正确答案：\n",
      "<sos>我喜欢那个故事。\n",
      "预测\n",
      "<sos>我喜欢那个故事\n",
      "原文：\n",
      "<sos> i need many books . \n",
      "正确答案：\n",
      "<sos>我需要很多書。\n",
      "预测\n",
      "<sos>我需要很多。\n",
      "原文：\n",
      "<sos> i need more money . \n",
      "正确答案：\n",
      "<sos>我需要更多的錢。\n",
      "预测\n",
      "<sos>我需要更多錢。\n",
      "原文：\n",
      "<sos> i need to go home . \n",
      "正确答案：\n",
      "<sos>我该回家了。\n",
      "预测\n",
      "<sos>我该回家了\n",
      "原文：\n",
      "<sos> i opened the door . \n",
      "正确答案：\n",
      "<sos>我開了門。\n",
      "预测\n",
      "<sos>我開了門。\n",
      "原文：\n",
      "<sos> i ripped my pants . \n",
      "正确答案：\n",
      "<sos>我扯掉了自己的裤子。\n",
      "预测\n",
      "<sos>我扯掉自己的裤子。\n",
      "原文：\n",
      "<sos> i sat by his side . \n",
      "正确答案：\n",
      "<sos>我坐在他旁边。\n",
      "预测\n",
      "<sos>我坐在他。\n",
      "原文：\n",
      "<sos> i sat next to him . \n",
      "正确答案：\n",
      "<sos>我坐在他旁边。\n",
      "预测\n",
      "<sos>我坐在他。\n",
      "原文：\n",
      "<sos> i saw him running . \n",
      "正确答案：\n",
      "<sos>我看見了他跑步。\n",
      "预测\n",
      "<sos>我看見他跑步。\n",
      "原文：\n",
      "<sos> i saw the sunrise . \n",
      "正确答案：\n",
      "<sos>我看了日出。\n",
      "预测\n",
      "<sos>我看了。\n",
      "原文：\n",
      "<sos> i should be happy . \n",
      "正确答案：\n",
      "<sos>我該高興。\n",
      "预测\n",
      "<sos>我該高興。\n",
      "原文：\n",
      "<sos> i study at school . \n",
      "正确答案：\n",
      "<sos>我在学校读书。\n",
      "预测\n",
      "<sos>我在读书。\n",
      "原文：\n",
      "<sos> i talked with tom . \n",
      "正确答案：\n",
      "<sos>我和汤姆说了话。\n",
      "预测\n",
      "<sos>我和汤姆说了。\n",
      "原文：\n",
      "<sos> i think i'll stay . \n",
      "正确答案：\n",
      "<sos>我認我會留下。\n",
      "预测\n",
      "<sos>我認我會留下。\n",
      "原文：\n",
      "<sos> i think i'm right . \n",
      "正确答案：\n",
      "<sos>我想我是對的。\n",
      "预测\n",
      "<sos>我想我對的。\n",
      "原文：\n",
      "<sos> i think it's fine . \n",
      "正确答案：\n",
      "<sos>我想沒關係。\n",
      "预测\n",
      "<sos>我想沒關係。\n",
      "原文：\n",
      "<sos> i took highway 58 . \n",
      "正确答案：\n",
      "<sos>我走58號高速公路。\n",
      "预测\n",
      "<sos>我走58高速公路。\n",
      "原文：\n",
      "<sos> i tried to escape . \n",
      "正确答案：\n",
      "<sos>我试图逃跑。\n",
      "预测\n",
      "<sos>我试图逃跑\n",
      "原文：\n",
      "<sos> i usually eat out . \n",
      "正确答案：\n",
      "<sos>我通常在外面吃饭。\n",
      "预测\n",
      "<sos>我通常外面外面。\n",
      "原文：\n",
      "<sos> i want tom to win . \n",
      "正确答案：\n",
      "<sos>我想让汤姆赢。\n",
      "预测\n",
      "<sos>我想汤姆汤姆。\n",
      "原文：\n",
      "<sos> i want a lot more . \n",
      "正确答案：\n",
      "<sos>我要多很多。\n",
      "预测\n",
      "<sos>我要多。\n",
      "原文：\n",
      "<sos> i want ten plates . \n",
      "正确答案：\n",
      "<sos>我要十個盤子。\n",
      "预测\n",
      "<sos>我要十個盤子\n",
      "原文：\n",
      "<sos> i want to go home . \n",
      "正确答案：\n",
      "<sos>我要回家。\n",
      "预测\n",
      "<sos>我要回家。\n",
      "原文：\n",
      "<sos> i was so homesick . \n",
      "正确答案：\n",
      "<sos>我很想家。\n",
      "预测\n",
      "<sos>我很想家。\n",
      "原文：\n",
      "<sos> i was very hungry . \n",
      "正确答案：\n",
      "<sos>我很饿。\n",
      "预测\n",
      "<sos>我很。。\n",
      "原文：\n",
      "<sos> i washed my hands . \n",
      "正确答案：\n",
      "<sos>我洗手了。\n",
      "预测\n",
      "<sos>我洗手。。\n",
      "原文：\n",
      "<sos> i went on reading . \n",
      "正确答案：\n",
      "<sos>我继续阅读。\n",
      "预测\n",
      "<sos>我继续阅读。\n",
      "原文：\n",
      "<sos> i will do my best . \n",
      "正确答案：\n",
      "<sos>我會盡力而為。\n",
      "预测\n",
      "<sos>我會盡力而為。\n",
      "原文：\n",
      "<sos> i wish i could go . \n",
      "正确答案：\n",
      "<sos>我希望我可以去。\n",
      "预测\n",
      "<sos>我希望我去。\n",
      "原文：\n",
      "<sos> i woke up at 2:30 . \n",
      "正确答案：\n",
      "<sos>我在2:30起床。\n",
      "预测\n",
      "<sos>我在230起床。\n",
      "原文：\n",
      "<sos> i won the lottery . \n",
      "正确答案：\n",
      "<sos>我中奖了。\n",
      "预测\n",
      "<sos>我中奖了。\n",
      "原文：\n",
      "<sos> i won't be fooled . \n",
      "正确答案：\n",
      "<sos>我不会上当的。\n",
      "预测\n",
      "<sos>我不会的。\n",
      "原文：\n",
      "<sos> i work for a bank . \n",
      "正确答案：\n",
      "<sos>我為一家銀行工作。\n",
      "预测\n",
      "<sos>我為一家銀行。\n",
      "原文：\n",
      "<sos> i work long hours . \n",
      "正确答案：\n",
      "<sos>我工作數小時。\n",
      "预测\n",
      "<sos>我工作工作。\n",
      "原文：\n",
      "<sos> i worry about him . \n",
      "正确答案：\n",
      "<sos>我擔心他。\n",
      "预测\n",
      "<sos>我擔心。\n",
      "原文：\n",
      "<sos> i wrote it myself . \n",
      "正确答案：\n",
      "<sos>我自己写了它。\n",
      "预测\n",
      "<sos>我自己了了。\n",
      "原文：\n",
      "<sos> i wrote this book . \n",
      "正确答案：\n",
      "<sos>我写了这本书。\n",
      "预测\n",
      "<sos>我写了本书。\n",
      "原文：\n",
      "<sos> i'd like to dance . \n",
      "正确答案：\n",
      "<sos>我想要跳舞。\n",
      "预测\n",
      "<sos>我想要跳舞。\n",
      "原文：\n",
      "<sos> i'd wear a helmet . \n",
      "正确答案：\n",
      "<sos>我要戴頭盔。\n",
      "预测\n",
      "<sos>我要戴頭盔。\n",
      "原文：\n",
      "<sos> i'll be back late . \n",
      "正确答案：\n",
      "<sos>我會晚一點回來。\n",
      "预测\n",
      "<sos>我會晚一點回來\n",
      "原文：\n",
      "<sos> i'll feed the dog . \n",
      "正确答案：\n",
      "<sos>我要喂狗。\n",
      "预测\n",
      "<sos>我要喂狗。\n",
      "原文：\n",
      "<sos> i'll go by myself . \n",
      "正确答案：\n",
      "<sos>我會自己走。\n",
      "预测\n",
      "<sos>我會自己走。\n",
      "原文：\n",
      "<sos> i'll pay the bill . \n",
      "正确答案：\n",
      "<sos>我來付賬。\n",
      "预测\n",
      "<sos>我來付賬。\n",
      "原文：\n",
      "<sos> i'll tell my wife . \n",
      "正确答案：\n",
      "<sos>我會告訴我的妻子。\n",
      "预测\n",
      "<sos>我會告訴我的妻子。\n",
      "原文：\n",
      "<sos> i'm a new student . \n",
      "正确答案：\n",
      "<sos>我是个新生。\n",
      "预测\n",
      "<sos>我是个。。\n",
      "原文：\n",
      "<sos> i'm able to speak . \n",
      "正确答案：\n",
      "<sos>我能说。\n",
      "预测\n",
      "<sos>我能说。\n",
      "原文：\n",
      "<sos> i'm bad at sports . \n",
      "正确答案：\n",
      "<sos>我不擅長運動。\n",
      "预测\n",
      "<sos>我不運動。\n",
      "原文：\n",
      "<sos> i'm being patient . \n",
      "正确答案：\n",
      "<sos>我很有耐心。\n",
      "预测\n",
      "<sos>我有耐心耐心\n",
      "原文：\n",
      "<sos> i'm going to lose . \n",
      "正确答案：\n",
      "<sos>我要输了。\n",
      "预测\n",
      "<sos>我要输了。\n",
      "原文：\n",
      "<sos> i'm making dinner . \n",
      "正确答案：\n",
      "<sos>我准备晚餐。\n",
      "预测\n",
      "<sos>我准备晚餐。\n",
      "原文：\n",
      "<sos> i'm not a student . \n",
      "正确答案：\n",
      "<sos>我不是學生。\n",
      "预测\n",
      "<sos>我不是。\n",
      "原文：\n",
      "<sos> i'm not too smart . \n",
      "正确答案：\n",
      "<sos>我不太聰明。\n",
      "预测\n",
      "<sos>我不太聰明。\n",
      "原文：\n",
      "<sos> i'm on tom's side . \n",
      "正确答案：\n",
      "<sos>我站在湯姆一邊。\n",
      "预测\n",
      "<sos>我站湯姆一邊。\n",
      "原文：\n",
      "<sos> i'm sore all over . \n",
      "正确答案：\n",
      "<sos>我全身酸痛。\n",
      "预测\n",
      "<sos>我全身。\n",
      "原文：\n",
      "<sos> i'm still puzzled . \n",
      "正确答案：\n",
      "<sos>我還不明白。\n",
      "预测\n",
      "<sos>我還不明白。\n",
      "原文：\n",
      "<sos> i'm using twitter . \n",
      "正确答案：\n",
      "<sos>我在用twitter。\n",
      "预测\n",
      "<sos>我twitter。。\n",
      "原文：\n",
      "<sos> i'm using twitter . \n",
      "正确答案：\n",
      "<sos>我用twitter。\n",
      "预测\n",
      "<sos>我twitter。。\n",
      "原文：\n",
      "<sos> i've done my best . \n",
      "正确答案：\n",
      "<sos>我已经尽力了。\n",
      "预测\n",
      "<sos>我已经尽力了。\n",
      "原文：\n",
      "<sos> is tom a good guy ? \n",
      "正确答案：\n",
      "<sos>汤姆是好人。\n",
      "预测\n",
      "<sos>汤姆是好人？\n",
      "原文：\n",
      "<sos> is somebody there ? \n",
      "正确答案：\n",
      "<sos>那边有人吗？\n",
      "预测\n",
      "<sos>那边有人吗\n",
      "原文：\n",
      "<sos> is that pure gold ? \n",
      "正确答案：\n",
      "<sos>那是純金嗎？\n",
      "预测\n",
      "<sos>那純金純金？\n",
      "原文：\n",
      "<sos> is the bath clean ? \n",
      "正确答案：\n",
      "<sos>浴室干净吗？\n",
      "预测\n",
      "<sos>浴室干净吗？\n",
      "原文：\n",
      "<sos> is the party over ? \n",
      "正确答案：\n",
      "<sos>聚會結束了嗎？\n",
      "预测\n",
      "<sos>聚會結束嗎嗎？\n",
      "原文：\n"
     ]
    },
    {
     "name": "stdout",
     "output_type": "stream",
     "text": [
      "<sos> is this your book ? \n",
      "正确答案：\n",
      "<sos>這是你的書嗎？\n",
      "预测\n",
      "<sos>這是你的書？\n",
      "原文：\n",
      "<sos> it doesn't matter . \n",
      "正确答案：\n",
      "<sos>没关系。\n",
      "预测\n",
      "<sos>没关系。\n",
      "原文：\n",
      "<sos> it is not a watch . \n",
      "正确答案：\n",
      "<sos>這不是手錶。\n",
      "预测\n",
      "<sos>這不是手。\n",
      "原文：\n",
      "<sos> it is very simple . \n",
      "正确答案：\n",
      "<sos>这很简单。\n",
      "预测\n",
      "<sos>这很。\n",
      "原文：\n",
      "<sos> it is windy today . \n",
      "正确答案：\n",
      "<sos>今天有风。\n",
      "预测\n",
      "<sos>今天有风\n",
      "原文：\n",
      "<sos> it was our secret . \n",
      "正确答案：\n",
      "<sos>它是我們的秘密。\n",
      "预测\n",
      "<sos>它是我們的秘密\n",
      "原文：\n",
      "<sos> it's a good start . \n",
      "正确答案：\n",
      "<sos>这是一个好的开端。\n",
      "预测\n",
      "<sos>这是一个的的。\n",
      "原文：\n",
      "<sos> it's all my fault . \n",
      "正确答案：\n",
      "<sos>都是我的错。\n",
      "预测\n",
      "<sos>都是的错错。\n",
      "原文：\n",
      "<sos> it's already 7:00 . \n",
      "正确答案：\n",
      "<sos>已经是早上七点了。\n",
      "预测\n",
      "<sos>已经是七点了。\n",
      "原文：\n",
      "<sos> it's confidential . \n",
      "正确答案：\n",
      "<sos>这是机密。\n",
      "预测\n",
      "<sos>这是机密。\n",
      "原文：\n",
      "<sos> it's hot out here . \n",
      "正确答案：\n",
      "<sos>这里够热。\n",
      "预测\n",
      "<sos>这里够热。\n",
      "原文：\n",
      "<sos> it's human nature . \n",
      "正确答案：\n",
      "<sos>它是人的天性。\n",
      "预测\n",
      "<sos>它是的天性。\n",
      "原文：\n",
      "<sos> it's my brother's . \n",
      "正确答案：\n",
      "<sos>它是我兄弟的。\n",
      "预测\n",
      "<sos>它是我的。\n",
      "原文：\n",
      "<sos> it's not my fault . \n",
      "正确答案：\n",
      "<sos>不是我的错。\n",
      "预测\n",
      "<sos>不是我的错。\n",
      "原文：\n",
      "<sos> it's not that far . \n",
      "正确答案：\n",
      "<sos>不是那么远。\n",
      "预测\n",
      "<sos>不是那么远\n",
      "原文：\n",
      "<sos> it's on the house . \n",
      "正确答案：\n",
      "<sos>这是免费的。\n",
      "预测\n",
      "<sos>这是免费。\n",
      "原文：\n",
      "<sos> it's our pleasure . \n",
      "正确答案：\n",
      "<sos>这是我们的荣幸。\n",
      "预测\n",
      "<sos>这是我们的荣幸。\n",
      "原文：\n",
      "<sos> it's pretty heavy . \n",
      "正确答案：\n",
      "<sos>它真重。\n",
      "预测\n",
      "<sos>它真重。\n",
      "原文：\n",
      "<sos> it's self-evident . \n",
      "正确答案：\n",
      "<sos>這是不證自明的。\n",
      "预测\n",
      "<sos>這是不證自明。\n",
      "原文：\n",
      "<sos> it's time to talk . \n",
      "正确答案：\n",
      "<sos>到談話的時間了。\n",
      "预测\n",
      "<sos>到到的時間。\n",
      "原文：\n",
      "<sos> it's very special . \n",
      "正确答案：\n",
      "<sos>它很特別。\n",
      "预测\n",
      "<sos>它很特別。\n",
      "原文：\n",
      "<sos> it's warm in here . \n",
      "正确答案：\n",
      "<sos>這裡是溫暖的。\n",
      "预测\n",
      "<sos>這裡是的。\n",
      "原文：\n",
      "<sos> keep to the right . \n",
      "正确答案：\n",
      "<sos>靠右侧通行。\n",
      "预测\n",
      "<sos>靠右侧。\n",
      "原文：\n",
      "<sos> let me have a try . \n",
      "正确答案：\n",
      "<sos>让我试试。\n",
      "预测\n",
      "<sos>让我试试。\n",
      "原文：\n",
      "<sos> let's get started . \n",
      "正确答案：\n",
      "<sos>讓我們開始吧。\n",
      "预测\n",
      "<sos>讓我们吧。\n",
      "原文：\n",
      "<sos> let's get started . \n",
      "正确答案：\n",
      "<sos>让我们开始吧。\n",
      "预测\n",
      "<sos>讓我們吧。\n",
      "原文：\n",
      "<sos> let's get to work . \n",
      "正确答案：\n",
      "<sos>干活吧。\n",
      "预测\n",
      "<sos>干活吧。\n",
      "原文：\n",
      "<sos> let's play soccer . \n",
      "正确答案：\n",
      "<sos>去踢足球吧。\n",
      "预测\n",
      "<sos>去踢足球吧。\n",
      "原文：\n",
      "<sos> let's shake hands . \n",
      "正确答案：\n",
      "<sos>讓我們握手吧。\n",
      "预测\n",
      "<sos>讓我們握手。\n",
      "原文：\n",
      "<sos> let's take a look . \n",
      "正确答案：\n",
      "<sos>讓我們看看吧。\n",
      "预测\n",
      "<sos>讓我們吧。\n",
      "原文：\n",
      "<sos> let's take a rest . \n",
      "正确答案：\n",
      "<sos>我们休息一下吧。\n",
      "预测\n",
      "<sos>我们休息吧。\n",
      "原文：\n",
      "<sos> life is beautiful . \n",
      "正确答案：\n",
      "<sos>生活是美丽的。\n",
      "预测\n",
      "<sos>生活是美丽的\n",
      "原文：\n",
      "<sos> life is very hard . \n",
      "正确答案：\n",
      "<sos>人生良苦。\n",
      "预测\n",
      "<sos>人生良苦。\n",
      "原文：\n",
      "<sos> long time , no see . \n",
      "正确答案：\n",
      "<sos>好久不見。\n",
      "预测\n",
      "<sos>真是不見。\n",
      "原文：\n",
      "<sos> long time , no see . \n",
      "正确答案：\n",
      "<sos>真是好久不见啊\n",
      "预测\n",
      "<sos>好久不見\n",
      "原文：\n",
      "<sos> look into my eyes . \n",
      "正确答案：\n",
      "<sos>看著我的眼睛。\n",
      "预测\n",
      "<sos>看著我的眼睛。\n",
      "原文：\n",
      "<sos> mary is very cute . \n",
      "正确答案：\n",
      "<sos>玛丽非常可爱。\n",
      "预测\n",
      "<sos>玛丽非常可爱\n",
      "原文：\n",
      "<sos> may i put it here ? \n",
      "正确答案：\n",
      "<sos>我可以把它放在这儿吗？\n",
      "预测\n",
      "<sos>我可以把放在这儿吗？\n",
      "原文：\n",
      "<sos> mind your manners . \n",
      "正确答案：\n",
      "<sos>规矩点。\n",
      "预测\n",
      "<sos>规矩点。\n",
      "原文：\n",
      "<sos> my father is busy . \n",
      "正确答案：\n",
      "<sos>我爸爸很忙。\n",
      "预测\n",
      "<sos>我爸爸很忙\n",
      "原文：\n",
      "<sos> my laptop crashed . \n",
      "正确答案：\n",
      "<sos>我的笔记本电脑发生故障了。\n",
      "预测\n",
      "<sos>我的笔记本电脑故障故障。\n",
      "原文：\n",
      "<sos> my shoulder hurts . \n",
      "正确答案：\n",
      "<sos>我肩膀痛。\n",
      "预测\n",
      "<sos>我肩膀痛\n",
      "原文：\n",
      "<sos> my stomach's full . \n",
      "正确答案：\n",
      "<sos>我的胃是脹滿的。\n",
      "预测\n",
      "<sos>我的吃脹滿。。\n",
      "原文：\n",
      "<sos> my stomach's full . \n",
      "正确答案：\n",
      "<sos>我吃得很飽。\n",
      "预测\n",
      "<sos>我的胃飽的。。\n",
      "原文：\n",
      "<sos> no problem at all ! \n",
      "正确答案：\n",
      "<sos>什么问题都没有！\n",
      "预测\n",
      "<sos>一点问题问题！\n",
      "原文：\n",
      "<sos> no problem at all ! \n",
      "正确答案：\n",
      "<sos>一点问题都没有！\n",
      "预测\n",
      "<sos>没有问题问题！\n",
      "原文：\n",
      "<sos> no problem at all ! \n",
      "正确答案：\n",
      "<sos>没有任何问题!\n",
      "预测\n",
      "<sos>问题问题问题！\n",
      "原文：\n",
      "<sos> nobody's laughing . \n",
      "正确答案：\n",
      "<sos>沒人在笑。\n",
      "预测\n",
      "<sos>沒人在。。\n",
      "原文：\n",
      "<sos> pick up the phone . \n",
      "正确答案：\n",
      "<sos>接电话。\n",
      "预测\n",
      "<sos>接电话电话。\n",
      "原文：\n",
      "<sos> pick up the phone . \n",
      "正确答案：\n",
      "<sos>接一下电话。\n",
      "预测\n",
      "<sos>接电话。。\n",
      "原文：\n",
      "<sos> please contact us . \n",
      "正确答案：\n",
      "<sos>请联系我们。\n",
      "预测\n",
      "<sos>请联系我们。\n",
      "原文：\n",
      "<sos> please forgive me . \n",
      "正确答案：\n",
      "<sos>请原谅我。\n",
      "预测\n",
      "<sos>请原谅我。\n",
      "原文：\n",
      "<sos> please reconsider . \n",
      "正确答案：\n",
      "<sos>请重新考虑一下。\n",
      "预测\n",
      "<sos>请重新考虑。\n",
      "原文：\n",
      "<sos> please wrap it up . \n",
      "正确答案：\n",
      "<sos>請包起來。\n",
      "预测\n",
      "<sos>請包起。。\n",
      "原文：\n",
      "<sos> pretend you're me . \n",
      "正确答案：\n",
      "<sos>假装你是我。\n",
      "预测\n",
      "<sos>假装你我。\n",
      "原文：\n",
      "<sos> put out the light . \n",
      "正确答案：\n",
      "<sos>熄灯。\n",
      "预测\n",
      "<sos>熄灯。\n",
      "原文：\n",
      "<sos> put your hands up ! \n",
      "正确答案：\n",
      "<sos>把手举起来！\n",
      "预测\n",
      "<sos>手举起来。\n",
      "原文：\n",
      "<sos> put your hands up ! \n",
      "正确答案：\n",
      "<sos>手举起来。\n",
      "预测\n",
      "<sos>手举起来。\n",
      "原文：\n",
      "<sos> put your hands up . \n",
      "正确答案：\n",
      "<sos>手举起来。\n",
      "预测\n",
      "<sos>手举起来。\n",
      "原文：\n",
      "<sos> say it in english . \n",
      "正确答案：\n",
      "<sos>用英语说。\n",
      "预测\n",
      "<sos>用英语。\n",
      "原文：\n",
      "<sos> shame on you guys . \n",
      "正确答案：\n",
      "<sos>替你们脸红啊。\n",
      "预测\n",
      "<sos>替你们脸红。\n",
      "原文：\n",
      "<sos> she began to sing . \n",
      "正确答案：\n",
      "<sos>她开始唱歌了。\n",
      "预测\n",
      "<sos>她开始唱歌。\n",
      "原文：\n",
      "<sos> she cursed loudly . \n",
      "正确答案：\n",
      "<sos>她大声诅咒。\n",
      "预测\n",
      "<sos>她大声诅咒。\n",
      "原文：\n",
      "<sos> she didn't go far . \n",
      "正确答案：\n",
      "<sos>她没有走远。\n",
      "预测\n",
      "<sos>她没有走远。\n",
      "原文：\n",
      "<sos> she has blue eyes . \n",
      "正确答案：\n",
      "<sos>她有蓝色的眼睛。\n",
      "预测\n",
      "<sos>她有蓝色的眼睛。\n",
      "原文：\n",
      "<sos> she hates carrots . \n",
      "正确答案：\n",
      "<sos>她討厭胡蘿蔔。\n",
      "预测\n",
      "<sos>她討厭胡蘿。\n",
      "原文：\n",
      "<sos> she likes oranges . \n",
      "正确答案：\n",
      "<sos>她喜歡柳橙。\n",
      "预测\n",
      "<sos>她喜欢柳橙。\n",
      "原文：\n",
      "<sos> she likes oranges . \n",
      "正确答案：\n",
      "<sos>她喜欢橙子。\n",
      "预测\n",
      "<sos>她喜欢柳橙。\n",
      "原文：\n",
      "<sos> she looks unhappy . \n",
      "正确答案：\n",
      "<sos>她看起来不幸福。\n",
      "预测\n",
      "<sos>她看起來樂。\n",
      "原文：\n",
      "<sos> she looks unhappy . \n",
      "正确答案：\n",
      "<sos>她看起來不快樂。\n",
      "预测\n",
      "<sos>她看起來樂。\n",
      "原文：\n",
      "<sos> she sells flowers . \n",
      "正确答案：\n",
      "<sos>她卖花。\n",
      "预测\n",
      "<sos>她卖花。\n",
      "原文：\n",
      "<sos> she went upstairs . \n",
      "正确答案：\n",
      "<sos>她上樓了。\n",
      "预测\n",
      "<sos>她上樓了。\n",
      "原文：\n",
      "<sos> she wept bitterly . \n",
      "正确答案：\n",
      "<sos>她痛哭。\n",
      "预测\n",
      "<sos>她痛哭。\n",
      "原文：\n",
      "<sos> she's a bit naive . \n",
      "正确答案：\n",
      "<sos>她有点天真。\n",
      "预测\n",
      "<sos>她有点天真\n",
      "原文：\n",
      "<sos> she's in the bath . \n",
      "正确答案：\n",
      "<sos>她在浴室。\n",
      "预测\n",
      "<sos>她在浴室。\n",
      "原文：\n",
      "<sos> she's my daughter . \n",
      "正确答案：\n",
      "<sos>她是我女儿。\n",
      "预测\n",
      "<sos>她是我女儿。\n",
      "原文：\n",
      "<sos> she's not a child . \n",
      "正确答案：\n",
      "<sos>她不是小孩。\n",
      "预测\n",
      "<sos>她不是小孩\n",
      "原文：\n",
      "<sos> should i help you ? \n",
      "正确答案：\n",
      "<sos>我该帮你吗？\n",
      "预测\n",
      "<sos>我帮帮吗？\n",
      "原文：\n",
      "<sos> stop bothering me . \n",
      "正确答案：\n",
      "<sos>不要烦我。\n",
      "预测\n",
      "<sos>不要烦我\n",
      "原文：\n",
      "<sos> tell me the truth . \n",
      "正确答案：\n",
      "<sos>告訴我真相。\n",
      "预测\n",
      "<sos>告訴我真相。\n",
      "原文：\n",
      "<sos> termites eat wood . \n",
      "正确答案：\n",
      "<sos>白蚁吃木头。\n",
      "预测\n",
      "<sos>白蚁吃木头。\n",
      "原文：\n",
      "<sos> that house is big . \n",
      "正确答案：\n",
      "<sos>那棟房子很大。\n",
      "预测\n",
      "<sos>那棟房子。\n",
      "原文：\n",
      "<sos> that house is big . \n",
      "正确答案：\n",
      "<sos>那栋房子很大。\n",
      "预测\n",
      "<sos>那栋房子。\n",
      "原文：\n",
      "<sos> that is his house . \n",
      "正确答案：\n",
      "<sos>那是他家。\n",
      "预测\n",
      "<sos>那是。\n",
      "原文：\n",
      "<sos> that is your book . \n",
      "正确答案：\n",
      "<sos>那是你的書。\n",
      "预测\n",
      "<sos>那是你的。\n",
      "原文：\n",
      "<sos> that was fabulous . \n",
      "正确答案：\n",
      "<sos>那真是极好的。\n",
      "预测\n",
      "<sos>那真是极好。\n",
      "原文：\n",
      "<sos> that's a pheasant . \n",
      "正确答案：\n",
      "<sos>那是一隻野雞。\n",
      "预测\n",
      "<sos>那是一野雞。\n",
      "原文：\n",
      "<sos> that's impossible . \n",
      "正确答案：\n",
      "<sos>这不可能。\n",
      "预测\n",
      "<sos>不不。。\n",
      "原文：\n",
      "<sos> that's my problem . \n",
      "正确答案：\n",
      "<sos>這是我的問題。\n",
      "预测\n",
      "<sos>這是我的問題。\n",
      "原文：\n",
      "<sos> that's so perfect . \n",
      "正确答案：\n",
      "<sos>那是完美的。\n",
      "预测\n",
      "<sos>那是完美的。\n",
      "原文：\n",
      "<sos> that's the answer . \n",
      "正确答案：\n",
      "<sos>那就是答案。\n",
      "预测\n",
      "<sos>那就是答案。\n",
      "原文：\n",
      "<sos> that's very handy . \n",
      "正确答案：\n",
      "<sos>这很方便。\n",
      "预测\n",
      "<sos>这方便方便。\n",
      "原文：\n",
      "<sos> the bath is ready . \n",
      "正确答案：\n",
      "<sos>浴缸已經準備好了。\n",
      "预测\n",
      "<sos>浴缸已經好了。\n",
      "原文：\n",
      "<sos> the cat is eating . \n",
      "正确答案：\n",
      "<sos>这只猫在吃东西。\n",
      "预测\n",
      "<sos>这只猫吃东西。\n",
      "原文：\n",
      "<sos> the clock stopped . \n",
      "正确答案：\n",
      "<sos>鐘停了。\n",
      "预测\n",
      "<sos>鐘停了。\n",
      "原文：\n",
      "<sos> the dog went away . \n",
      "正确答案：\n",
      "<sos>這隻狗跑走了。\n",
      "预测\n",
      "<sos>這隻狗跑了。\n",
      "原文：\n",
      "<sos> the doorbell rang . \n",
      "正确答案：\n",
      "<sos>门铃儿响了。\n",
      "预测\n",
      "<sos>门铃儿响。\n",
      "原文：\n",
      "<sos> the man ate bread . \n",
      "正确答案：\n",
      "<sos>這個男人吃了麵包。\n",
      "预测\n",
      "<sos>這個男人吃了麵。\n",
      "原文：\n",
      "<sos> the man must work . \n",
      "正确答案：\n",
      "<sos>男人应该工作。\n",
      "预测\n",
      "<sos>男人应该工作。\n",
      "原文：\n",
      "<sos> the market is big . \n",
      "正确答案：\n",
      "<sos>市場很大。\n",
      "预测\n",
      "<sos>市場。\n",
      "原文：\n",
      "<sos> the meeting ended . \n",
      "正确答案：\n",
      "<sos>会议结束了。\n",
      "预测\n",
      "<sos>会议结束了。\n",
      "原文：\n",
      "<sos> the pain has gone . \n",
      "正确答案：\n",
      "<sos>疼痛消失了。\n",
      "预测\n",
      "<sos>疼痛消失了。\n",
      "原文：\n",
      "<sos> the soup is thick . \n",
      "正确答案：\n",
      "<sos>汤很稠。\n",
      "预测\n",
      "<sos>汤很。\n",
      "原文：\n",
      "<sos> the sun is rising . \n",
      "正确答案：\n",
      "<sos>太阳升起来了。\n",
      "预测\n",
      "<sos>太阳升起来。\n",
      "原文：\n",
      "<sos> the system worked . \n",
      "正确答案：\n",
      "<sos>系统运行起来了。\n",
      "预测\n",
      "<sos>系统运行了。\n",
      "原文：\n",
      "<sos> the truck is gone . \n",
      "正确答案：\n",
      "<sos>貨車走了。\n",
      "预测\n",
      "<sos>貨車走。\n",
      "原文：\n",
      "<sos> the worst is over . \n",
      "正确答案：\n",
      "<sos>最壞的已經過去了。\n",
      "预测\n",
      "<sos>最壞的已去了。\n",
      "原文：\n",
      "<sos> there is a strike . \n",
      "正确答案：\n",
      "<sos>有罢工。\n",
      "预测\n",
      "<sos>有罢工。\n",
      "原文：\n",
      "<sos> there is no water . \n",
      "正确答案：\n",
      "<sos>沒有水。\n",
      "预测\n",
      "<sos>沒有水。\n",
      "原文：\n",
      "<sos> there was a fight . \n",
      "正确答案：\n",
      "<sos>那裡有人打過架。\n",
      "预测\n",
      "<sos>那裡有人架。\n",
      "原文：\n",
      "<sos> they are at lunch . \n",
      "正确答案：\n",
      "<sos>他们在吃午饭。\n",
      "预测\n",
      "<sos>他们在午饭。\n",
      "原文：\n",
      "<sos> they are very big . \n",
      "正确答案：\n",
      "<sos>他們非常大。\n",
      "预测\n",
      "<sos>他們非常大。\n",
      "原文：\n",
      "<sos> they can't see me . \n",
      "正确答案：\n",
      "<sos>他們看不見我。\n",
      "预测\n",
      "<sos>他們看我。\n",
      "原文：\n",
      "<sos> they know nothing . \n",
      "正确答案：\n",
      "<sos>他們什麼都不知道。\n",
      "预测\n",
      "<sos>他們什麼知道知道。\n",
      "原文：\n",
      "<sos> they like to sing . \n",
      "正确答案：\n",
      "<sos>他们都喜欢唱歌。\n",
      "预测\n",
      "<sos>他们都喜欢唱歌。\n",
      "原文：\n",
      "<sos> they were worried . \n",
      "正确答案：\n",
      "<sos>他们担心。\n",
      "预测\n",
      "<sos>他们担心。\n",
      "原文：\n",
      "<sos> they're in danger . \n",
      "正确答案：\n",
      "<sos>他們有危險。\n",
      "预测\n",
      "<sos>他們有。\n",
      "原文：\n",
      "<sos> this apple is bad . \n",
      "正确答案：\n",
      "<sos>这个苹果是坏的。\n",
      "预测\n",
      "<sos>这个苹果是的。\n",
      "原文：\n",
      "<sos> this book will do . \n",
      "正确答案：\n",
      "<sos>這本書就行了。\n",
      "预测\n",
      "<sos>這本書就行了。\n",
      "原文：\n",
      "<sos> this could be fun . \n",
      "正确答案：\n",
      "<sos>這可能很好玩。\n",
      "预测\n",
      "<sos>這可能很。\n",
      "原文：\n",
      "<sos> this desk is mine . \n",
      "正确答案：\n",
      "<sos>這張書桌是我的。\n",
      "预测\n",
      "<sos>這張書桌是的的\n",
      "原文：\n",
      "<sos> this is tom's car . \n",
      "正确答案：\n",
      "<sos>這是湯姆的車。\n",
      "预测\n",
      "<sos>這是湯姆的車。\n",
      "原文：\n",
      "<sos> this is a miracle . \n",
      "正确答案：\n",
      "<sos>这是一个奇迹。\n",
      "预测\n",
      "<sos>这是一个奇迹\n",
      "原文：\n",
      "<sos> this is delicious . \n",
      "正确答案：\n",
      "<sos>很美味。\n",
      "预测\n",
      "<sos>很美味。\n",
      "原文：\n",
      "<sos> this is difficult . \n",
      "正确答案：\n",
      "<sos>这很难。\n",
      "预测\n",
      "<sos>这很难\n",
      "原文：\n",
      "<sos> this is expensive . \n",
      "正确答案：\n",
      "<sos>這很貴。\n",
      "预测\n",
      "<sos>這很貴。\n",
      "原文：\n",
      "<sos> this is gibberish . \n",
      "正确答案：\n",
      "<sos>這是胡說。\n",
      "预测\n",
      "<sos>這是胡說。\n",
      "原文：\n",
      "<sos> this is her house . \n",
      "正确答案：\n",
      "<sos>这是她的房子。\n",
      "预测\n",
      "<sos>这是她的。\n",
      "原文：\n",
      "<sos> this is my friend . \n",
      "正确答案：\n",
      "<sos>這是我的朋友。\n",
      "预测\n",
      "<sos>這個我的朋友。\n",
      "原文：\n",
      "<sos> this is my friend . \n",
      "正确答案：\n",
      "<sos>這個是我的朋友。\n",
      "预测\n",
      "<sos>這個是的朋友。\n",
      "原文：\n",
      "<sos> this is my mother . \n",
      "正确答案：\n",
      "<sos>这是我的妈妈。\n",
      "预测\n",
      "<sos>这是我母亲。\n",
      "原文：\n",
      "<sos> this is my mother . \n",
      "正确答案：\n",
      "<sos>这是我母亲。\n",
      "预测\n",
      "<sos>这是我母亲。\n",
      "原文：\n",
      "<sos> this is my sister . \n",
      "正确答案：\n",
      "<sos>这是我的妹妹。\n",
      "预测\n",
      "<sos>这是的的。\n",
      "原文：\n",
      "<sos> this is so boring . \n",
      "正确答案：\n",
      "<sos>这太无聊了。\n",
      "预测\n",
      "<sos>这太无聊。\n",
      "原文：\n",
      "<sos> this is your book . \n",
      "正确答案：\n",
      "<sos>這是你的書。\n",
      "预测\n",
      "<sos>這是你的書。\n",
      "原文：\n",
      "<sos> this isn't my car . \n",
      "正确答案：\n",
      "<sos>這不是我的車。\n",
      "预测\n",
      "<sos>這不是我的車。\n",
      "原文：\n",
      "<sos> this isn't my key . \n",
      "正确答案：\n",
      "<sos>這不是我的鑰匙。\n",
      "预测\n",
      "<sos>這不是我的。\n",
      "原文：\n",
      "<sos> this makes me sad . \n",
      "正确答案：\n",
      "<sos>這讓我難過。\n",
      "预测\n",
      "<sos>這讓我。\n",
      "原文：\n",
      "<sos> today is thursday . \n",
      "正确答案：\n",
      "<sos>今天是礼拜四。\n",
      "预测\n",
      "<sos>今天礼拜四。\n",
      "原文：\n",
      "<sos> tom became a hero . \n",
      "正确答案：\n",
      "<sos>汤姆成了英雄。\n",
      "预测\n",
      "<sos>汤姆了了。\n",
      "原文：\n",
      "<sos> tom began talking . \n",
      "正确答案：\n",
      "<sos>汤姆开始说话。\n",
      "预测\n",
      "<sos>汤姆开始。\n",
      "原文：\n",
      "<sos> tom began to talk . \n",
      "正确答案：\n",
      "<sos>汤姆开始说话。\n",
      "预测\n",
      "<sos>汤姆开始。\n",
      "原文：\n",
      "<sos> tom couldn't swim . \n",
      "正确答案：\n",
      "<sos>汤姆不会游泳。\n",
      "预测\n",
      "<sos>汤姆不会。\n",
      "原文：\n",
      "<sos> tom died recently . \n",
      "正确答案：\n",
      "<sos>汤姆最近死了。\n",
      "预测\n",
      "<sos>汤姆最近了。\n",
      "原文：\n",
      "<sos> tom drank heavily . \n",
      "正确答案：\n",
      "<sos>湯姆喝得很多。\n",
      "预测\n",
      "<sos>汤姆喝得。\n",
      "原文：\n",
      "<sos> tom drove the car . \n",
      "正确答案：\n",
      "<sos>汤姆开的车。\n",
      "预测\n",
      "<sos>汤姆开车。\n",
      "原文：\n",
      "<sos> tom dyed his hair . \n",
      "正确答案：\n",
      "<sos>汤姆染发了。\n",
      "预测\n",
      "<sos>汤姆染发。\n",
      "原文：\n",
      "<sos> tom gave me a pen . \n",
      "正确答案：\n",
      "<sos>湯姆給了我一枝筆。\n",
      "预测\n",
      "<sos>湯姆給了我筆。\n",
      "原文：\n",
      "<sos> tom had no family . \n",
      "正确答案：\n",
      "<sos>过去汤姆没有家。\n",
      "预测\n",
      "<sos>汤姆过去家。\n",
      "原文：\n",
      "<sos> tom has blue eyes . \n",
      "正确答案：\n",
      "<sos>汤姆的眼睛是蓝色的。\n",
      "预测\n",
      "<sos>汤姆的是蓝色的。\n",
      "原文：\n",
      "<sos> tom has many cats . \n",
      "正确答案：\n",
      "<sos>湯姆有很多貓。\n",
      "预测\n",
      "<sos>湯姆有很多。\n",
      "原文：\n",
      "<sos> tom hates spiders . \n",
      "正确答案：\n",
      "<sos>汤姆恨蜘蛛。\n",
      "预测\n",
      "<sos>汤姆恨蜘蛛。\n",
      "原文：\n",
      "<sos> tom heard a shout . \n",
      "正确答案：\n",
      "<sos>汤姆听到了一声喊叫。\n",
      "预测\n",
      "<sos>汤姆听到了喊叫。\n",
      "原文：\n",
      "<sos> tom heard nothing . \n",
      "正确答案：\n"
     ]
    },
    {
     "name": "stdout",
     "output_type": "stream",
     "text": [
      "<sos>汤姆什么也没听见。\n",
      "预测\n",
      "<sos>汤姆什么什么听见。\n",
      "原文：\n",
      "<sos> tom helped us all . \n",
      "正确答案：\n",
      "<sos>湯姆幫了我們。\n",
      "预测\n",
      "<sos>湯姆幫了。\n",
      "原文：\n",
      "<sos> tom is a good guy . \n",
      "正确答案：\n",
      "<sos>tom是一個好人。\n",
      "预测\n",
      "<sos>tom是好人。\n",
      "原文：\n",
      "<sos> tom is a magician . \n",
      "正确答案：\n",
      "<sos>汤姆是魔法师。\n",
      "预测\n",
      "<sos>汤姆是。\n",
      "原文：\n",
      "<sos> tom is a newcomer . \n",
      "正确答案：\n",
      "<sos>汤姆是新来的。\n",
      "预测\n",
      "<sos>汤姆是新来。\n",
      "原文：\n",
      "<sos> tom is a true man . \n",
      "正确答案：\n",
      "<sos>汤姆是个真男人。\n",
      "预测\n",
      "<sos>汤姆是个男人。\n",
      "原文：\n",
      "<sos> tom is happy here . \n",
      "正确答案：\n",
      "<sos>湯姆在這裡很高興。\n",
      "预测\n",
      "<sos>湯姆在這裡高興。\n",
      "原文：\n",
      "<sos> tom is my brother . \n",
      "正确答案：\n",
      "<sos>tom是我哥哥。\n",
      "预测\n",
      "<sos>tom是我哥哥。\n",
      "原文：\n",
      "<sos> tom is overweight . \n",
      "正确答案：\n",
      "<sos>汤姆超重了。\n",
      "预测\n",
      "<sos>汤姆超重了\n",
      "原文：\n",
      "<sos> tom is testing me . \n",
      "正确答案：\n",
      "<sos>汤姆在试探我。\n",
      "预测\n",
      "<sos>汤姆在我。\n",
      "原文：\n",
      "<sos> tom is very quiet . \n",
      "正确答案：\n",
      "<sos>湯姆很安靜。\n",
      "预测\n",
      "<sos>湯姆很安靜。\n",
      "原文：\n",
      "<sos> tom isn't foolish . \n",
      "正确答案：\n",
      "<sos>汤姆不傻。\n",
      "预测\n",
      "<sos>汤姆不。\n",
      "原文：\n",
      "<sos> tom isn't smiling . \n",
      "正确答案：\n",
      "<sos>汤姆没在笑。\n",
      "预测\n",
      "<sos>汤姆没笑。\n",
      "原文：\n",
      "<sos> tom isn't unhappy . \n",
      "正确答案：\n",
      "<sos>汤姆不是不高兴。\n",
      "预测\n",
      "<sos>汤姆不是不。\n",
      "原文：\n",
      "<sos> tom likes to knit . \n",
      "正确答案：\n",
      "<sos>湯姆喜歡編織。\n",
      "预测\n",
      "<sos>湯姆喜歡編織\n",
      "原文：\n",
      "<sos> tom lit his cigar . \n",
      "正确答案：\n",
      "<sos>湯姆點了雪茄。\n",
      "预测\n",
      "<sos>湯姆點了。\n",
      "原文：\n",
      "<sos> tom lives near me . \n",
      "正确答案：\n",
      "<sos>湯姆住在我的附近。\n",
      "预测\n",
      "<sos>湯姆住在我的。\n",
      "原文：\n",
      "<sos> tom loves flowers . \n",
      "正确答案：\n",
      "<sos>湯姆熱愛花卉。\n",
      "预测\n",
      "<sos>湯姆熱愛。\n",
      "原文：\n",
      "<sos> tom loves to sing . \n",
      "正确答案：\n",
      "<sos>湯姆愛唱歌。\n",
      "预测\n",
      "<sos>湯姆愛唱歌。\n",
      "原文：\n",
      "<sos> tom made a choice . \n",
      "正确答案：\n",
      "<sos>汤姆做出了选择。\n",
      "预测\n",
      "<sos>汤姆了了。\n",
      "原文：\n",
      "<sos> tom made me do it . \n",
      "正确答案：\n",
      "<sos>是汤姆让我做的。\n",
      "预测\n",
      "<sos>是汤姆我做的。\n",
      "原文：\n",
      "<sos> tom misses boston . \n",
      "正确答案：\n",
      "<sos>汤姆想念波士顿了。\n",
      "预测\n",
      "<sos>汤姆想念波士顿。\n",
      "原文：\n",
      "<sos> tom moves quickly . \n",
      "正确答案：\n",
      "<sos>汤姆动得好快。\n",
      "预测\n",
      "<sos>汤姆动得好。\n",
      "原文：\n",
      "<sos> tom robbed a bank . \n",
      "正确答案：\n",
      "<sos>湯姆搶了家銀行。\n",
      "预测\n",
      "<sos>湯姆搶了銀行。\n",
      "原文：\n",
      "<sos> tom sent me there . \n",
      "正确答案：\n",
      "<sos>湯姆送我去了那裡。\n",
      "预测\n",
      "<sos>湯姆送我了了。\n",
      "原文：\n",
      "<sos> tom shut his eyes . \n",
      "正确答案：\n",
      "<sos>汤姆闭上了眼睛。\n",
      "预测\n",
      "<sos>汤姆闭上了。"
     ]
    }
   ],
   "source": [
    "\n",
    "for i,(input_batchs,target_batchs,input_lens,target_lens) in enumerate(tqdm(train_iter)):\n",
    "        n += 1\n",
    "        input_batchs = input_batchs.to(device).transpose(1,0)\n",
    "        target_batchs = target_batchs.to(device).transpose(1,0)\n",
    "        output = model(input_batchs, target_batchs,input_lens,target_lens)\n",
    "        if i==4:\n",
    "            break\n",
    "print(output.shape)\n",
    "output=output.argmax(2)\n",
    "print(output.shape)\n",
    "print(input_batchs.shape)\n",
    "input_batchs=input_batchs.transpose(1,0)\n",
    "output=output.transpose(1,0)\n",
    "target_batchs=target_batchs.transpose(1,0)\n",
    "for z,i in enumerate(output):\n",
    "    print('\\n原文：')\n",
    "    for j in input_batchs[z]:\n",
    "        if j.item()==2:\n",
    "            break\n",
    "        print(idx_to_word_en[j.item()],end=' ')\n",
    "    print('\\n正确答案：')\n",
    "    for j in target_batchs[z]:\n",
    "        if j.item()==2:\n",
    "            break\n",
    "        print(idx_to_word_zh[j.item()],end='')\n",
    "    print('\\n预测')\n",
    "    for j in i:\n",
    "        if j.item()==2:\n",
    "            break\n",
    "        print(idx_to_word_zh[j.item()],end='')\n",
    "\n"
   ]
  },
  {
   "cell_type": "code",
   "execution_count": null,
   "id": "approximate-baseline",
   "metadata": {},
   "outputs": [],
   "source": []
  },
  {
   "cell_type": "code",
   "execution_count": null,
   "id": "electric-sterling",
   "metadata": {},
   "outputs": [],
   "source": []
  }
 ],
 "metadata": {
  "kernelspec": {
   "display_name": "Python 3",
   "language": "python",
   "name": "python3"
  },
  "language_info": {
   "codemirror_mode": {
    "name": "ipython",
    "version": 3
   },
   "file_extension": ".py",
   "mimetype": "text/x-python",
   "name": "python",
   "nbconvert_exporter": "python",
   "pygments_lexer": "ipython3",
   "version": "3.6.12"
  }
 },
 "nbformat": 4,
 "nbformat_minor": 5
}
